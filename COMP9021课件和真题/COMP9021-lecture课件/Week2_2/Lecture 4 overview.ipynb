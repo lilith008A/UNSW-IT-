{
 "cells": [
  {
   "cell_type": "markdown",
   "id": "e5a3bfa9-a16f-4968-84ac-1774988ec29c",
   "metadata": {
    "tags": []
   },
   "source": [
    "# Operators"
   ]
  },
  {
   "cell_type": "markdown",
   "id": "a8c82483-482d-4538-b79d-c0983fad968f",
   "metadata": {
    "jp-MarkdownHeadingCollapsed": true,
    "tags": []
   },
   "source": [
    "## // and %"
   ]
  },
  {
   "cell_type": "markdown",
   "id": "4c08294e-5184-4589-b102-6628a1bd0113",
   "metadata": {
    "tags": []
   },
   "source": [
    "# Functions"
   ]
  },
  {
   "cell_type": "markdown",
   "id": "4a1a1e7e-65c7-41e5-9482-8a5c19eed433",
   "metadata": {
    "tags": []
   },
   "source": [
    "## * before parameters"
   ]
  },
  {
   "cell_type": "markdown",
   "id": "1b68fe77-0597-45f4-8b0b-1e13f6b31a32",
   "metadata": {},
   "source": [
    "## * before arguments"
   ]
  },
  {
   "cell_type": "markdown",
   "id": "1d39f0cc-42bc-4274-89f9-8287552b935d",
   "metadata": {
    "tags": []
   },
   "source": [
    "## Specific functions:"
   ]
  },
  {
   "cell_type": "markdown",
   "id": "c0692df1-3cb7-4150-9288-4b206e6b5284",
   "metadata": {
    "jp-MarkdownHeadingCollapsed": true,
    "tags": []
   },
   "source": [
    "### divmod()"
   ]
  }
 ],
 "metadata": {
  "kernelspec": {
   "display_name": "Python 3 (ipykernel)",
   "language": "python",
   "name": "python3"
  },
  "language_info": {
   "codemirror_mode": {
    "name": "ipython",
    "version": 3
   },
   "file_extension": ".py",
   "mimetype": "text/x-python",
   "name": "python",
   "nbconvert_exporter": "python",
   "pygments_lexer": "ipython3",
   "version": "3.12.6"
  }
 },
 "nbformat": 4,
 "nbformat_minor": 5
}
