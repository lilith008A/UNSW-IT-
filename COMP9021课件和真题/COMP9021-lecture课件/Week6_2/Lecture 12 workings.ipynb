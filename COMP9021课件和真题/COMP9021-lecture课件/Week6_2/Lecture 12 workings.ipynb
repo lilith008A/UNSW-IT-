{
 "cells": [
  {
   "cell_type": "code",
   "execution_count": 2,
   "id": "07477a3b-570e-4e6d-bf1c-3e467456bde0",
   "metadata": {},
   "outputs": [],
   "source": [
    "def f():\n",
    "    f()"
   ]
  },
  {
   "cell_type": "code",
   "execution_count": 3,
   "id": "382091cb-c81f-433b-8e37-0904085ecaab",
   "metadata": {},
   "outputs": [
    {
     "ename": "RecursionError",
     "evalue": "maximum recursion depth exceeded",
     "output_type": "error",
     "traceback": [
      "\u001b[0;31m---------------------------------------------------------------------------\u001b[0m",
      "\u001b[0;31mRecursionError\u001b[0m                            Traceback (most recent call last)",
      "Cell \u001b[0;32mIn[3], line 1\u001b[0m\n\u001b[0;32m----> 1\u001b[0m \u001b[43mf\u001b[49m\u001b[43m(\u001b[49m\u001b[43m)\u001b[49m\n",
      "Cell \u001b[0;32mIn[2], line 2\u001b[0m, in \u001b[0;36mf\u001b[0;34m()\u001b[0m\n\u001b[1;32m      1\u001b[0m \u001b[38;5;28;01mdef\u001b[39;00m \u001b[38;5;21mf\u001b[39m():\n\u001b[0;32m----> 2\u001b[0m     \u001b[43mf\u001b[49m\u001b[43m(\u001b[49m\u001b[43m)\u001b[49m\n",
      "Cell \u001b[0;32mIn[2], line 2\u001b[0m, in \u001b[0;36mf\u001b[0;34m()\u001b[0m\n\u001b[1;32m      1\u001b[0m \u001b[38;5;28;01mdef\u001b[39;00m \u001b[38;5;21mf\u001b[39m():\n\u001b[0;32m----> 2\u001b[0m     \u001b[43mf\u001b[49m\u001b[43m(\u001b[49m\u001b[43m)\u001b[49m\n",
      "    \u001b[0;31m[... skipping similar frames: f at line 2 (2974 times)]\u001b[0m\n",
      "Cell \u001b[0;32mIn[2], line 2\u001b[0m, in \u001b[0;36mf\u001b[0;34m()\u001b[0m\n\u001b[1;32m      1\u001b[0m \u001b[38;5;28;01mdef\u001b[39;00m \u001b[38;5;21mf\u001b[39m():\n\u001b[0;32m----> 2\u001b[0m     \u001b[43mf\u001b[49m\u001b[43m(\u001b[49m\u001b[43m)\u001b[49m\n",
      "\u001b[0;31mRecursionError\u001b[0m: maximum recursion depth exceeded"
     ]
    }
   ],
   "source": [
    "f()"
   ]
  },
  {
   "cell_type": "code",
   "execution_count": 4,
   "id": "9b42ea92-8d16-4542-9697-d8e0c55d2021",
   "metadata": {},
   "outputs": [],
   "source": [
    "def f(x):\n",
    "    if x:\n",
    "        f(0)"
   ]
  },
  {
   "cell_type": "code",
   "execution_count": 6,
   "id": "70ba8c32-0bf4-456e-9b57-a756939e44d6",
   "metadata": {},
   "outputs": [],
   "source": [
    "f(3)\n",
    "f(0)"
   ]
  },
  {
   "cell_type": "code",
   "execution_count": 7,
   "id": "c1aa9dfb-1bd3-4730-ab62-34be81d9a66b",
   "metadata": {},
   "outputs": [],
   "source": [
    "a = 4\n",
    "\n",
    "def f():\n",
    "    global a\n",
    "    if a > 0:\n",
    "        a -= 1\n",
    "        f()"
   ]
  },
  {
   "cell_type": "code",
   "execution_count": 8,
   "id": "bf9622b2-4b2d-49a0-b94b-b89491baf229",
   "metadata": {},
   "outputs": [],
   "source": [
    "f()"
   ]
  },
  {
   "cell_type": "code",
   "execution_count": 9,
   "id": "10f22e60-1837-4cd6-88a4-9128ead373e7",
   "metadata": {},
   "outputs": [
    {
     "data": {
      "text/plain": [
       "0"
      ]
     },
     "execution_count": 9,
     "metadata": {},
     "output_type": "execute_result"
    }
   ],
   "source": [
    "a"
   ]
  },
  {
   "cell_type": "code",
   "execution_count": 10,
   "id": "9a1c04b0-017c-4818-b153-6d11be7ea437",
   "metadata": {},
   "outputs": [],
   "source": [
    "def f(n):\n",
    "    if n > 0:\n",
    "        print(n)\n",
    "        f(n - 1)\n",
    "        print(n)"
   ]
  },
  {
   "cell_type": "code",
   "execution_count": 11,
   "id": "36114fd3-14cb-45da-a95a-d0cc275ea757",
   "metadata": {},
   "outputs": [
    {
     "name": "stdout",
     "output_type": "stream",
     "text": [
      "4\n",
      "3\n",
      "2\n",
      "1\n",
      "1\n",
      "2\n",
      "3\n",
      "4\n"
     ]
    }
   ],
   "source": [
    "f(4)"
   ]
  },
  {
   "cell_type": "code",
   "execution_count": 12,
   "id": "d522ee92-1f13-44de-97b8-0ee2f12c9a63",
   "metadata": {},
   "outputs": [],
   "source": [
    "def f(n):\n",
    "    if n > 0:\n",
    "        print(n)\n",
    "        f(n - 1)\n",
    "        print(n)\n",
    "        f(n - 1)\n",
    "        print(n)"
   ]
  },
  {
   "cell_type": "code",
   "execution_count": 13,
   "id": "21248a50-bfb6-4bad-a972-c29d18fa7693",
   "metadata": {},
   "outputs": [
    {
     "name": "stdout",
     "output_type": "stream",
     "text": [
      "3\n",
      "2\n",
      "1\n",
      "1\n",
      "1\n",
      "2\n",
      "1\n",
      "1\n",
      "1\n",
      "2\n",
      "3\n",
      "2\n",
      "1\n",
      "1\n",
      "1\n",
      "2\n",
      "1\n",
      "1\n",
      "1\n",
      "2\n",
      "3\n"
     ]
    }
   ],
   "source": [
    "f(3)"
   ]
  },
  {
   "cell_type": "code",
   "execution_count": 14,
   "id": "6f4cbee2-09f5-4be4-9d8c-480537f712d9",
   "metadata": {},
   "outputs": [],
   "source": [
    "L = [2, 1, 4, 6, 8, 4]"
   ]
  },
  {
   "cell_type": "code",
   "execution_count": 15,
   "id": "2cbe5908-02b6-4338-bdba-f9dc4987d947",
   "metadata": {},
   "outputs": [
    {
     "data": {
      "text/plain": [
       "25"
      ]
     },
     "execution_count": 15,
     "metadata": {},
     "output_type": "execute_result"
    }
   ],
   "source": [
    "sum(L)"
   ]
  },
  {
   "cell_type": "code",
   "execution_count": 16,
   "id": "36a6c2cb-7fbe-4bf7-8c19-4a8246a56f46",
   "metadata": {},
   "outputs": [
    {
     "data": {
      "text/plain": [
       "25"
      ]
     },
     "execution_count": 16,
     "metadata": {},
     "output_type": "execute_result"
    }
   ],
   "source": [
    "the_sum = 0\n",
    "for e in L:\n",
    "    the_sum += e\n",
    "the_sum"
   ]
  },
  {
   "cell_type": "code",
   "execution_count": 17,
   "id": "995ce49e-e4ad-4cf8-8d4a-dd099b0d5576",
   "metadata": {},
   "outputs": [],
   "source": [
    "def sum_1(L):\n",
    "    if not L:\n",
    "        return 0\n",
    "    return sum_1(L[1 :]) + L[0]"
   ]
  },
  {
   "cell_type": "code",
   "execution_count": 18,
   "id": "019afd6f-b1b8-4d09-b7a2-95f9d217638b",
   "metadata": {},
   "outputs": [
    {
     "data": {
      "text/plain": [
       "25"
      ]
     },
     "execution_count": 18,
     "metadata": {},
     "output_type": "execute_result"
    }
   ],
   "source": [
    "sum_1(L)"
   ]
  },
  {
   "cell_type": "code",
   "execution_count": 19,
   "id": "e56273f8-d758-4232-9770-059dd28f633e",
   "metadata": {},
   "outputs": [],
   "source": [
    "def sum_2(L):\n",
    "    if not L:\n",
    "        return 0\n",
    "    return sum_2(L[: -1]) + L[-1]"
   ]
  },
  {
   "cell_type": "code",
   "execution_count": 20,
   "id": "989bfbb8-b274-404a-8ee8-b0bac2ad1051",
   "metadata": {},
   "outputs": [
    {
     "data": {
      "text/plain": [
       "25"
      ]
     },
     "execution_count": 20,
     "metadata": {},
     "output_type": "execute_result"
    }
   ],
   "source": [
    "sum_2(L)"
   ]
  },
  {
   "cell_type": "code",
   "execution_count": 21,
   "id": "1dc95895-a111-4dd2-8013-10217ea49a38",
   "metadata": {},
   "outputs": [],
   "source": [
    "def sum_3(L):\n",
    "    if not L:\n",
    "        return 0\n",
    "    return sum_3(L[: len(L) // 2]) + sum_3(L[len(L) // 2 :])"
   ]
  },
  {
   "cell_type": "code",
   "execution_count": 22,
   "id": "aeb7c8e6-c889-49c0-a5ee-f1df00ce3354",
   "metadata": {},
   "outputs": [
    {
     "ename": "RecursionError",
     "evalue": "maximum recursion depth exceeded",
     "output_type": "error",
     "traceback": [
      "\u001b[0;31m---------------------------------------------------------------------------\u001b[0m",
      "\u001b[0;31mRecursionError\u001b[0m                            Traceback (most recent call last)",
      "Cell \u001b[0;32mIn[22], line 1\u001b[0m\n\u001b[0;32m----> 1\u001b[0m \u001b[43msum_3\u001b[49m\u001b[43m(\u001b[49m\u001b[43mL\u001b[49m\u001b[43m)\u001b[49m\n",
      "Cell \u001b[0;32mIn[21], line 4\u001b[0m, in \u001b[0;36msum_3\u001b[0;34m(L)\u001b[0m\n\u001b[1;32m      2\u001b[0m \u001b[38;5;28;01mif\u001b[39;00m \u001b[38;5;129;01mnot\u001b[39;00m L:\n\u001b[1;32m      3\u001b[0m     \u001b[38;5;28;01mreturn\u001b[39;00m \u001b[38;5;241m0\u001b[39m\n\u001b[0;32m----> 4\u001b[0m \u001b[38;5;28;01mreturn\u001b[39;00m \u001b[43msum_3\u001b[49m\u001b[43m(\u001b[49m\u001b[43mL\u001b[49m\u001b[43m[\u001b[49m\u001b[43m:\u001b[49m\u001b[43m \u001b[49m\u001b[38;5;28;43mlen\u001b[39;49m\u001b[43m(\u001b[49m\u001b[43mL\u001b[49m\u001b[43m)\u001b[49m\u001b[43m \u001b[49m\u001b[38;5;241;43m/\u001b[39;49m\u001b[38;5;241;43m/\u001b[39;49m\u001b[43m \u001b[49m\u001b[38;5;241;43m2\u001b[39;49m\u001b[43m]\u001b[49m\u001b[43m)\u001b[49m \u001b[38;5;241m+\u001b[39m sum_3(L[\u001b[38;5;28mlen\u001b[39m(L) \u001b[38;5;241m/\u001b[39m\u001b[38;5;241m/\u001b[39m \u001b[38;5;241m2\u001b[39m :])\n",
      "Cell \u001b[0;32mIn[21], line 4\u001b[0m, in \u001b[0;36msum_3\u001b[0;34m(L)\u001b[0m\n\u001b[1;32m      2\u001b[0m \u001b[38;5;28;01mif\u001b[39;00m \u001b[38;5;129;01mnot\u001b[39;00m L:\n\u001b[1;32m      3\u001b[0m     \u001b[38;5;28;01mreturn\u001b[39;00m \u001b[38;5;241m0\u001b[39m\n\u001b[0;32m----> 4\u001b[0m \u001b[38;5;28;01mreturn\u001b[39;00m \u001b[43msum_3\u001b[49m\u001b[43m(\u001b[49m\u001b[43mL\u001b[49m\u001b[43m[\u001b[49m\u001b[43m:\u001b[49m\u001b[43m \u001b[49m\u001b[38;5;28;43mlen\u001b[39;49m\u001b[43m(\u001b[49m\u001b[43mL\u001b[49m\u001b[43m)\u001b[49m\u001b[43m \u001b[49m\u001b[38;5;241;43m/\u001b[39;49m\u001b[38;5;241;43m/\u001b[39;49m\u001b[43m \u001b[49m\u001b[38;5;241;43m2\u001b[39;49m\u001b[43m]\u001b[49m\u001b[43m)\u001b[49m \u001b[38;5;241m+\u001b[39m sum_3(L[\u001b[38;5;28mlen\u001b[39m(L) \u001b[38;5;241m/\u001b[39m\u001b[38;5;241m/\u001b[39m \u001b[38;5;241m2\u001b[39m :])\n",
      "    \u001b[0;31m[... skipping similar frames: sum_3 at line 4 (2974 times)]\u001b[0m\n",
      "Cell \u001b[0;32mIn[21], line 4\u001b[0m, in \u001b[0;36msum_3\u001b[0;34m(L)\u001b[0m\n\u001b[1;32m      2\u001b[0m \u001b[38;5;28;01mif\u001b[39;00m \u001b[38;5;129;01mnot\u001b[39;00m L:\n\u001b[1;32m      3\u001b[0m     \u001b[38;5;28;01mreturn\u001b[39;00m \u001b[38;5;241m0\u001b[39m\n\u001b[0;32m----> 4\u001b[0m \u001b[38;5;28;01mreturn\u001b[39;00m \u001b[43msum_3\u001b[49m\u001b[43m(\u001b[49m\u001b[43mL\u001b[49m\u001b[43m[\u001b[49m\u001b[43m:\u001b[49m\u001b[43m \u001b[49m\u001b[38;5;28;43mlen\u001b[39;49m\u001b[43m(\u001b[49m\u001b[43mL\u001b[49m\u001b[43m)\u001b[49m\u001b[43m \u001b[49m\u001b[38;5;241;43m/\u001b[39;49m\u001b[38;5;241;43m/\u001b[39;49m\u001b[43m \u001b[49m\u001b[38;5;241;43m2\u001b[39;49m\u001b[43m]\u001b[49m\u001b[43m)\u001b[49m \u001b[38;5;241m+\u001b[39m sum_3(L[\u001b[38;5;28mlen\u001b[39m(L) \u001b[38;5;241m/\u001b[39m\u001b[38;5;241m/\u001b[39m \u001b[38;5;241m2\u001b[39m :])\n",
      "\u001b[0;31mRecursionError\u001b[0m: maximum recursion depth exceeded"
     ]
    }
   ],
   "source": [
    "sum_3(L)"
   ]
  },
  {
   "cell_type": "code",
   "execution_count": 24,
   "id": "85ee5690-c8bb-469c-88c0-e36d24a21270",
   "metadata": {},
   "outputs": [],
   "source": [
    "def sum_3(L):\n",
    "    if not L:\n",
    "        return 0\n",
    "    if len(L) == 1:\n",
    "        return L[0]\n",
    "    return sum_3(L[: len(L) // 2]) + sum_3(L[len(L) // 2 :])"
   ]
  },
  {
   "cell_type": "code",
   "execution_count": 25,
   "id": "84dc801e-28c0-4f46-8c81-333c12ce24e5",
   "metadata": {},
   "outputs": [
    {
     "data": {
      "text/plain": [
       "25"
      ]
     },
     "execution_count": 25,
     "metadata": {},
     "output_type": "execute_result"
    }
   ],
   "source": [
    "sum_3(L)"
   ]
  },
  {
   "cell_type": "code",
   "execution_count": 39,
   "id": "9b5c3876-4c44-4ebc-9a14-37b640e9e9c5",
   "metadata": {},
   "outputs": [],
   "source": [
    "def fibo(n):\n",
    "    if n <= 1:\n",
    "        return n\n",
    "    return fibo(n - 1) + fibo(n - 2)"
   ]
  },
  {
   "cell_type": "code",
   "execution_count": 30,
   "id": "76ebc66f-e80e-4353-823e-8a461ed8cf5e",
   "metadata": {},
   "outputs": [],
   "source": [
    "def fibo_0():\n",
    "    yield 0\n",
    "    yield 1\n",
    "    previous, current = 0, 1\n",
    "    while True:\n",
    "        previous, current = current, previous + current\n",
    "        yield current"
   ]
  },
  {
   "cell_type": "code",
   "execution_count": 31,
   "id": "48e0cc7f-680d-49a4-ad60-eefc75004837",
   "metadata": {},
   "outputs": [
    {
     "data": {
      "text/plain": [
       "<generator object fibo_0 at 0x111c04ba0>"
      ]
     },
     "execution_count": 31,
     "metadata": {},
     "output_type": "execute_result"
    }
   ],
   "source": [
    "fibo_0()"
   ]
  },
  {
   "cell_type": "code",
   "execution_count": 32,
   "id": "b6defd2b-f9af-48c5-b79e-4e3ab18fcb2d",
   "metadata": {},
   "outputs": [],
   "source": [
    "I =fibo_0()"
   ]
  },
  {
   "cell_type": "code",
   "execution_count": 33,
   "id": "c9c6ed05-52b0-44fb-8b91-3c3aba357bfb",
   "metadata": {},
   "outputs": [
    {
     "data": {
      "text/plain": [
       "[0, 1, 1, 2, 3, 5, 8, 13, 21, 34]"
      ]
     },
     "execution_count": 33,
     "metadata": {},
     "output_type": "execute_result"
    }
   ],
   "source": [
    "[next(I) for _ in range(10)]"
   ]
  },
  {
   "cell_type": "code",
   "execution_count": 34,
   "id": "7e28beb1-fc3f-4802-ae53-babb0aab7340",
   "metadata": {},
   "outputs": [],
   "source": [
    "n = 10"
   ]
  },
  {
   "cell_type": "code",
   "execution_count": 36,
   "id": "30876201-1955-4975-bf8e-2f84c1903b6f",
   "metadata": {},
   "outputs": [
    {
     "data": {
      "text/plain": [
       "55"
      ]
     },
     "execution_count": 36,
     "metadata": {},
     "output_type": "execute_result"
    }
   ],
   "source": [
    "I =fibo_0()\n",
    "for _ in range(n):\n",
    "    _ = next(I)\n",
    "next(I)"
   ]
  },
  {
   "cell_type": "code",
   "execution_count": 37,
   "id": "6a5897a5-0ceb-4d81-a362-f6f09c32e8aa",
   "metadata": {},
   "outputs": [],
   "source": [
    "def fibo_1(n):\n",
    "    if n < 2:\n",
    "        return n\n",
    "    previous, current = 0, 1\n",
    "    for _ in range(n - 1):\n",
    "        previous, current = current, previous + current\n",
    "    return current"
   ]
  },
  {
   "cell_type": "code",
   "execution_count": 38,
   "id": "074adb12-c5c3-4748-bae3-71c8358bab06",
   "metadata": {},
   "outputs": [
    {
     "data": {
      "text/plain": [
       "55"
      ]
     },
     "execution_count": 38,
     "metadata": {},
     "output_type": "execute_result"
    }
   ],
   "source": [
    "fibo_1(10)"
   ]
  },
  {
   "cell_type": "code",
   "execution_count": 40,
   "id": "ca698c0d-80e1-4318-8468-1c8899f4f9fa",
   "metadata": {},
   "outputs": [
    {
     "data": {
      "text/plain": [
       "55"
      ]
     },
     "execution_count": 40,
     "metadata": {},
     "output_type": "execute_result"
    }
   ],
   "source": [
    "fibo(10)"
   ]
  },
  {
   "cell_type": "code",
   "execution_count": 41,
   "id": "9cda940f-f8ab-4546-9a4e-1378665dc2c5",
   "metadata": {},
   "outputs": [
    {
     "ename": "KeyboardInterrupt",
     "evalue": "",
     "output_type": "error",
     "traceback": [
      "\u001b[0;31m---------------------------------------------------------------------------\u001b[0m",
      "\u001b[0;31mKeyboardInterrupt\u001b[0m                         Traceback (most recent call last)",
      "Cell \u001b[0;32mIn[41], line 1\u001b[0m\n\u001b[0;32m----> 1\u001b[0m \u001b[43mfibo\u001b[49m\u001b[43m(\u001b[49m\u001b[38;5;241;43m50\u001b[39;49m\u001b[43m)\u001b[49m\n",
      "Cell \u001b[0;32mIn[39], line 4\u001b[0m, in \u001b[0;36mfibo\u001b[0;34m(n)\u001b[0m\n\u001b[1;32m      2\u001b[0m \u001b[38;5;28;01mif\u001b[39;00m n \u001b[38;5;241m<\u001b[39m\u001b[38;5;241m=\u001b[39m \u001b[38;5;241m1\u001b[39m:\n\u001b[1;32m      3\u001b[0m     \u001b[38;5;28;01mreturn\u001b[39;00m n\n\u001b[0;32m----> 4\u001b[0m \u001b[38;5;28;01mreturn\u001b[39;00m \u001b[43mfibo\u001b[49m\u001b[43m(\u001b[49m\u001b[43mn\u001b[49m\u001b[43m \u001b[49m\u001b[38;5;241;43m-\u001b[39;49m\u001b[43m \u001b[49m\u001b[38;5;241;43m1\u001b[39;49m\u001b[43m)\u001b[49m \u001b[38;5;241m+\u001b[39m fibo(n \u001b[38;5;241m-\u001b[39m \u001b[38;5;241m2\u001b[39m)\n",
      "Cell \u001b[0;32mIn[39], line 4\u001b[0m, in \u001b[0;36mfibo\u001b[0;34m(n)\u001b[0m\n\u001b[1;32m      2\u001b[0m \u001b[38;5;28;01mif\u001b[39;00m n \u001b[38;5;241m<\u001b[39m\u001b[38;5;241m=\u001b[39m \u001b[38;5;241m1\u001b[39m:\n\u001b[1;32m      3\u001b[0m     \u001b[38;5;28;01mreturn\u001b[39;00m n\n\u001b[0;32m----> 4\u001b[0m \u001b[38;5;28;01mreturn\u001b[39;00m \u001b[43mfibo\u001b[49m\u001b[43m(\u001b[49m\u001b[43mn\u001b[49m\u001b[43m \u001b[49m\u001b[38;5;241;43m-\u001b[39;49m\u001b[43m \u001b[49m\u001b[38;5;241;43m1\u001b[39;49m\u001b[43m)\u001b[49m \u001b[38;5;241m+\u001b[39m fibo(n \u001b[38;5;241m-\u001b[39m \u001b[38;5;241m2\u001b[39m)\n",
      "    \u001b[0;31m[... skipping similar frames: fibo at line 4 (34 times)]\u001b[0m\n",
      "Cell \u001b[0;32mIn[39], line 4\u001b[0m, in \u001b[0;36mfibo\u001b[0;34m(n)\u001b[0m\n\u001b[1;32m      2\u001b[0m \u001b[38;5;28;01mif\u001b[39;00m n \u001b[38;5;241m<\u001b[39m\u001b[38;5;241m=\u001b[39m \u001b[38;5;241m1\u001b[39m:\n\u001b[1;32m      3\u001b[0m     \u001b[38;5;28;01mreturn\u001b[39;00m n\n\u001b[0;32m----> 4\u001b[0m \u001b[38;5;28;01mreturn\u001b[39;00m \u001b[43mfibo\u001b[49m\u001b[43m(\u001b[49m\u001b[43mn\u001b[49m\u001b[43m \u001b[49m\u001b[38;5;241;43m-\u001b[39;49m\u001b[43m \u001b[49m\u001b[38;5;241;43m1\u001b[39;49m\u001b[43m)\u001b[49m \u001b[38;5;241m+\u001b[39m fibo(n \u001b[38;5;241m-\u001b[39m \u001b[38;5;241m2\u001b[39m)\n",
      "Cell \u001b[0;32mIn[39], line 1\u001b[0m, in \u001b[0;36mfibo\u001b[0;34m(n)\u001b[0m\n\u001b[0;32m----> 1\u001b[0m \u001b[38;5;28;01mdef\u001b[39;00m \u001b[38;5;21mfibo\u001b[39m(n):\n\u001b[1;32m      2\u001b[0m     \u001b[38;5;28;01mif\u001b[39;00m n \u001b[38;5;241m<\u001b[39m\u001b[38;5;241m=\u001b[39m \u001b[38;5;241m1\u001b[39m:\n\u001b[1;32m      3\u001b[0m         \u001b[38;5;28;01mreturn\u001b[39;00m n\n",
      "\u001b[0;31mKeyboardInterrupt\u001b[0m: "
     ]
    }
   ],
   "source": [
    "fibo(50)"
   ]
  },
  {
   "cell_type": "code",
   "execution_count": 42,
   "id": "ceecb080-4fcb-4c11-a699-5c88964c2594",
   "metadata": {},
   "outputs": [
    {
     "ename": "KeyboardInterrupt",
     "evalue": "",
     "output_type": "error",
     "traceback": [
      "\u001b[0;31m---------------------------------------------------------------------------\u001b[0m",
      "\u001b[0;31mKeyboardInterrupt\u001b[0m                         Traceback (most recent call last)",
      "Cell \u001b[0;32mIn[42], line 1\u001b[0m\n\u001b[0;32m----> 1\u001b[0m \u001b[43mfibo\u001b[49m\u001b[43m(\u001b[49m\u001b[38;5;241;43m45\u001b[39;49m\u001b[43m)\u001b[49m\n",
      "Cell \u001b[0;32mIn[39], line 4\u001b[0m, in \u001b[0;36mfibo\u001b[0;34m(n)\u001b[0m\n\u001b[1;32m      2\u001b[0m \u001b[38;5;28;01mif\u001b[39;00m n \u001b[38;5;241m<\u001b[39m\u001b[38;5;241m=\u001b[39m \u001b[38;5;241m1\u001b[39m:\n\u001b[1;32m      3\u001b[0m     \u001b[38;5;28;01mreturn\u001b[39;00m n\n\u001b[0;32m----> 4\u001b[0m \u001b[38;5;28;01mreturn\u001b[39;00m \u001b[43mfibo\u001b[49m\u001b[43m(\u001b[49m\u001b[43mn\u001b[49m\u001b[43m \u001b[49m\u001b[38;5;241;43m-\u001b[39;49m\u001b[43m \u001b[49m\u001b[38;5;241;43m1\u001b[39;49m\u001b[43m)\u001b[49m \u001b[38;5;241m+\u001b[39m fibo(n \u001b[38;5;241m-\u001b[39m \u001b[38;5;241m2\u001b[39m)\n",
      "Cell \u001b[0;32mIn[39], line 4\u001b[0m, in \u001b[0;36mfibo\u001b[0;34m(n)\u001b[0m\n\u001b[1;32m      2\u001b[0m \u001b[38;5;28;01mif\u001b[39;00m n \u001b[38;5;241m<\u001b[39m\u001b[38;5;241m=\u001b[39m \u001b[38;5;241m1\u001b[39m:\n\u001b[1;32m      3\u001b[0m     \u001b[38;5;28;01mreturn\u001b[39;00m n\n\u001b[0;32m----> 4\u001b[0m \u001b[38;5;28;01mreturn\u001b[39;00m \u001b[43mfibo\u001b[49m\u001b[43m(\u001b[49m\u001b[43mn\u001b[49m\u001b[43m \u001b[49m\u001b[38;5;241;43m-\u001b[39;49m\u001b[43m \u001b[49m\u001b[38;5;241;43m1\u001b[39;49m\u001b[43m)\u001b[49m \u001b[38;5;241m+\u001b[39m fibo(n \u001b[38;5;241m-\u001b[39m \u001b[38;5;241m2\u001b[39m)\n",
      "    \u001b[0;31m[... skipping similar frames: fibo at line 4 (31 times)]\u001b[0m\n",
      "Cell \u001b[0;32mIn[39], line 4\u001b[0m, in \u001b[0;36mfibo\u001b[0;34m(n)\u001b[0m\n\u001b[1;32m      2\u001b[0m \u001b[38;5;28;01mif\u001b[39;00m n \u001b[38;5;241m<\u001b[39m\u001b[38;5;241m=\u001b[39m \u001b[38;5;241m1\u001b[39m:\n\u001b[1;32m      3\u001b[0m     \u001b[38;5;28;01mreturn\u001b[39;00m n\n\u001b[0;32m----> 4\u001b[0m \u001b[38;5;28;01mreturn\u001b[39;00m \u001b[43mfibo\u001b[49m\u001b[43m(\u001b[49m\u001b[43mn\u001b[49m\u001b[43m \u001b[49m\u001b[38;5;241;43m-\u001b[39;49m\u001b[43m \u001b[49m\u001b[38;5;241;43m1\u001b[39;49m\u001b[43m)\u001b[49m \u001b[38;5;241m+\u001b[39m fibo(n \u001b[38;5;241m-\u001b[39m \u001b[38;5;241m2\u001b[39m)\n",
      "Cell \u001b[0;32mIn[39], line 1\u001b[0m, in \u001b[0;36mfibo\u001b[0;34m(n)\u001b[0m\n\u001b[0;32m----> 1\u001b[0m \u001b[38;5;28;01mdef\u001b[39;00m \u001b[38;5;21mfibo\u001b[39m(n):\n\u001b[1;32m      2\u001b[0m     \u001b[38;5;28;01mif\u001b[39;00m n \u001b[38;5;241m<\u001b[39m\u001b[38;5;241m=\u001b[39m \u001b[38;5;241m1\u001b[39m:\n\u001b[1;32m      3\u001b[0m         \u001b[38;5;28;01mreturn\u001b[39;00m n\n",
      "\u001b[0;31mKeyboardInterrupt\u001b[0m: "
     ]
    }
   ],
   "source": [
    "fibo(45)"
   ]
  },
  {
   "cell_type": "code",
   "execution_count": 43,
   "id": "d904e88e-6927-4096-a138-55a63a69caf1",
   "metadata": {},
   "outputs": [
    {
     "ename": "KeyboardInterrupt",
     "evalue": "",
     "output_type": "error",
     "traceback": [
      "\u001b[0;31m---------------------------------------------------------------------------\u001b[0m",
      "\u001b[0;31mKeyboardInterrupt\u001b[0m                         Traceback (most recent call last)",
      "Cell \u001b[0;32mIn[43], line 1\u001b[0m\n\u001b[0;32m----> 1\u001b[0m \u001b[43mfibo\u001b[49m\u001b[43m(\u001b[49m\u001b[38;5;241;43m40\u001b[39;49m\u001b[43m)\u001b[49m\n",
      "Cell \u001b[0;32mIn[39], line 4\u001b[0m, in \u001b[0;36mfibo\u001b[0;34m(n)\u001b[0m\n\u001b[1;32m      2\u001b[0m \u001b[38;5;28;01mif\u001b[39;00m n \u001b[38;5;241m<\u001b[39m\u001b[38;5;241m=\u001b[39m \u001b[38;5;241m1\u001b[39m:\n\u001b[1;32m      3\u001b[0m     \u001b[38;5;28;01mreturn\u001b[39;00m n\n\u001b[0;32m----> 4\u001b[0m \u001b[38;5;28;01mreturn\u001b[39;00m \u001b[43mfibo\u001b[49m\u001b[43m(\u001b[49m\u001b[43mn\u001b[49m\u001b[43m \u001b[49m\u001b[38;5;241;43m-\u001b[39;49m\u001b[43m \u001b[49m\u001b[38;5;241;43m1\u001b[39;49m\u001b[43m)\u001b[49m \u001b[38;5;241m+\u001b[39m fibo(n \u001b[38;5;241m-\u001b[39m \u001b[38;5;241m2\u001b[39m)\n",
      "Cell \u001b[0;32mIn[39], line 4\u001b[0m, in \u001b[0;36mfibo\u001b[0;34m(n)\u001b[0m\n\u001b[1;32m      2\u001b[0m \u001b[38;5;28;01mif\u001b[39;00m n \u001b[38;5;241m<\u001b[39m\u001b[38;5;241m=\u001b[39m \u001b[38;5;241m1\u001b[39m:\n\u001b[1;32m      3\u001b[0m     \u001b[38;5;28;01mreturn\u001b[39;00m n\n\u001b[0;32m----> 4\u001b[0m \u001b[38;5;28;01mreturn\u001b[39;00m \u001b[43mfibo\u001b[49m\u001b[43m(\u001b[49m\u001b[43mn\u001b[49m\u001b[43m \u001b[49m\u001b[38;5;241;43m-\u001b[39;49m\u001b[43m \u001b[49m\u001b[38;5;241;43m1\u001b[39;49m\u001b[43m)\u001b[49m \u001b[38;5;241m+\u001b[39m fibo(n \u001b[38;5;241m-\u001b[39m \u001b[38;5;241m2\u001b[39m)\n",
      "    \u001b[0;31m[... skipping similar frames: fibo at line 4 (25 times)]\u001b[0m\n",
      "Cell \u001b[0;32mIn[39], line 4\u001b[0m, in \u001b[0;36mfibo\u001b[0;34m(n)\u001b[0m\n\u001b[1;32m      2\u001b[0m \u001b[38;5;28;01mif\u001b[39;00m n \u001b[38;5;241m<\u001b[39m\u001b[38;5;241m=\u001b[39m \u001b[38;5;241m1\u001b[39m:\n\u001b[1;32m      3\u001b[0m     \u001b[38;5;28;01mreturn\u001b[39;00m n\n\u001b[0;32m----> 4\u001b[0m \u001b[38;5;28;01mreturn\u001b[39;00m fibo(n \u001b[38;5;241m-\u001b[39m \u001b[38;5;241m1\u001b[39m) \u001b[38;5;241m+\u001b[39m \u001b[43mfibo\u001b[49m\u001b[43m(\u001b[49m\u001b[43mn\u001b[49m\u001b[43m \u001b[49m\u001b[38;5;241;43m-\u001b[39;49m\u001b[43m \u001b[49m\u001b[38;5;241;43m2\u001b[39;49m\u001b[43m)\u001b[49m\n",
      "Cell \u001b[0;32mIn[39], line 1\u001b[0m, in \u001b[0;36mfibo\u001b[0;34m(n)\u001b[0m\n\u001b[0;32m----> 1\u001b[0m \u001b[38;5;28;01mdef\u001b[39;00m \u001b[38;5;21mfibo\u001b[39m(n):\n\u001b[1;32m      2\u001b[0m     \u001b[38;5;28;01mif\u001b[39;00m n \u001b[38;5;241m<\u001b[39m\u001b[38;5;241m=\u001b[39m \u001b[38;5;241m1\u001b[39m:\n\u001b[1;32m      3\u001b[0m         \u001b[38;5;28;01mreturn\u001b[39;00m n\n",
      "\u001b[0;31mKeyboardInterrupt\u001b[0m: "
     ]
    }
   ],
   "source": [
    "fibo(40)"
   ]
  },
  {
   "cell_type": "code",
   "execution_count": 44,
   "id": "4f80995f-979d-4a0e-b3b1-4e94841f11dc",
   "metadata": {},
   "outputs": [
    {
     "data": {
      "text/plain": [
       "832040"
      ]
     },
     "execution_count": 44,
     "metadata": {},
     "output_type": "execute_result"
    }
   ],
   "source": [
    "fibo(30)"
   ]
  },
  {
   "cell_type": "code",
   "execution_count": 46,
   "id": "26df9479-f4d3-48fe-8f3c-eb4e51e404d6",
   "metadata": {},
   "outputs": [
    {
     "data": {
      "text/plain": [
       "43466557686937456435688527675040625802564660517371780402481729089536555417949051890403879840079255169295922593080322634775209689623239873322471161642996440906533187938298969649928516003704476137795166849228875"
      ]
     },
     "execution_count": 46,
     "metadata": {},
     "output_type": "execute_result"
    }
   ],
   "source": [
    "fibo_1(1000)"
   ]
  },
  {
   "cell_type": "code",
   "execution_count": 47,
   "id": "1c7ba603-057f-4599-b65c-89fb021ce6cd",
   "metadata": {},
   "outputs": [],
   "source": [
    "def f(n=0):\n",
    "    n += 1\n",
    "    return n"
   ]
  },
  {
   "cell_type": "code",
   "execution_count": 48,
   "id": "03b8def3-e476-4291-ae69-0653b3515505",
   "metadata": {},
   "outputs": [
    {
     "data": {
      "text/plain": [
       "1"
      ]
     },
     "execution_count": 48,
     "metadata": {},
     "output_type": "execute_result"
    },
    {
     "data": {
      "text/plain": [
       "1"
      ]
     },
     "execution_count": 48,
     "metadata": {},
     "output_type": "execute_result"
    }
   ],
   "source": [
    "f()\n",
    "f()"
   ]
  },
  {
   "cell_type": "code",
   "execution_count": 49,
   "id": "ecd868e3-9e17-4e01-bc1f-db4a308a407f",
   "metadata": {},
   "outputs": [
    {
     "data": {
      "text/plain": [
       "11"
      ]
     },
     "execution_count": 49,
     "metadata": {},
     "output_type": "execute_result"
    }
   ],
   "source": [
    "f(10)"
   ]
  },
  {
   "cell_type": "code",
   "execution_count": 50,
   "id": "760ef3de-8976-42ad-b4ca-654f196a0758",
   "metadata": {},
   "outputs": [],
   "source": [
    "def f(n=[]):\n",
    "    n.append(1)\n",
    "    return n"
   ]
  },
  {
   "cell_type": "code",
   "execution_count": 51,
   "id": "e279cbc7-422c-49fd-b1de-24c8a1a4c965",
   "metadata": {},
   "outputs": [
    {
     "data": {
      "text/plain": [
       "[1]"
      ]
     },
     "execution_count": 51,
     "metadata": {},
     "output_type": "execute_result"
    }
   ],
   "source": [
    "f()"
   ]
  },
  {
   "cell_type": "code",
   "execution_count": 52,
   "id": "b3c61d0d-baa0-41e2-9857-ecc005aad522",
   "metadata": {},
   "outputs": [
    {
     "data": {
      "text/plain": [
       "[1, 1]"
      ]
     },
     "execution_count": 52,
     "metadata": {},
     "output_type": "execute_result"
    }
   ],
   "source": [
    "f()"
   ]
  },
  {
   "cell_type": "code",
   "execution_count": 53,
   "id": "87f6281c-ad7e-42a4-bec8-d7e4f8568d45",
   "metadata": {},
   "outputs": [
    {
     "data": {
      "text/plain": [
       "[1, 1, 1]"
      ]
     },
     "execution_count": 53,
     "metadata": {},
     "output_type": "execute_result"
    }
   ],
   "source": [
    "f()"
   ]
  },
  {
   "cell_type": "code",
   "execution_count": 54,
   "id": "72c4d4b4-ca64-4a57-b97f-0f42f320f6d5",
   "metadata": {},
   "outputs": [
    {
     "data": {
      "text/plain": [
       "[2, 3, 1]"
      ]
     },
     "execution_count": 54,
     "metadata": {},
     "output_type": "execute_result"
    }
   ],
   "source": [
    "f([2, 3])"
   ]
  },
  {
   "cell_type": "code",
   "execution_count": 55,
   "id": "ff5ef227-0fa1-4d03-860b-aae864c01552",
   "metadata": {},
   "outputs": [
    {
     "data": {
      "text/plain": [
       "[1, 1, 1, 1]"
      ]
     },
     "execution_count": 55,
     "metadata": {},
     "output_type": "execute_result"
    }
   ],
   "source": [
    "f()"
   ]
  },
  {
   "cell_type": "code",
   "execution_count": 63,
   "id": "d3975eda-4297-4bb1-b4e8-5b5698141318",
   "metadata": {},
   "outputs": [],
   "source": [
    "def good_fibo(n, fibo={0: 0, 1: 1}):\n",
    "    if n not in fibo:\n",
    "        fibo[n] = good_fibo(n - 1) + good_fibo(n - 2)\n",
    "    return fibo[n]\n"
   ]
  },
  {
   "cell_type": "code",
   "execution_count": 64,
   "id": "79093006-7845-4f10-9d04-5e6c6009d574",
   "metadata": {},
   "outputs": [
    {
     "data": {
      "text/plain": [
       "({0: 0, 1: 1},)"
      ]
     },
     "execution_count": 64,
     "metadata": {},
     "output_type": "execute_result"
    }
   ],
   "source": [
    "good_fibo.__defaults__"
   ]
  },
  {
   "cell_type": "code",
   "execution_count": 65,
   "id": "248266b0-0149-4c0e-bb69-2821e900de07",
   "metadata": {},
   "outputs": [
    {
     "data": {
      "text/plain": [
       "0"
      ]
     },
     "execution_count": 65,
     "metadata": {},
     "output_type": "execute_result"
    }
   ],
   "source": [
    "good_fibo(0)"
   ]
  },
  {
   "cell_type": "code",
   "execution_count": 66,
   "id": "e2916a0e-4761-4178-b8d2-8c853f204ce6",
   "metadata": {},
   "outputs": [
    {
     "data": {
      "text/plain": [
       "({0: 0, 1: 1},)"
      ]
     },
     "execution_count": 66,
     "metadata": {},
     "output_type": "execute_result"
    }
   ],
   "source": [
    "good_fibo.__defaults__"
   ]
  },
  {
   "cell_type": "code",
   "execution_count": 67,
   "id": "b5d3168e-2fc2-4640-9920-1f3fbd6ab850",
   "metadata": {},
   "outputs": [
    {
     "data": {
      "text/plain": [
       "1"
      ]
     },
     "execution_count": 67,
     "metadata": {},
     "output_type": "execute_result"
    },
    {
     "data": {
      "text/plain": [
       "({0: 0, 1: 1},)"
      ]
     },
     "execution_count": 67,
     "metadata": {},
     "output_type": "execute_result"
    }
   ],
   "source": [
    "good_fibo(1)\n",
    "good_fibo.__defaults__"
   ]
  },
  {
   "cell_type": "code",
   "execution_count": 68,
   "id": "f2922919-9dd9-485b-b19d-62baf279a244",
   "metadata": {},
   "outputs": [
    {
     "data": {
      "text/plain": [
       "1"
      ]
     },
     "execution_count": 68,
     "metadata": {},
     "output_type": "execute_result"
    },
    {
     "data": {
      "text/plain": [
       "({0: 0, 1: 1, 2: 1},)"
      ]
     },
     "execution_count": 68,
     "metadata": {},
     "output_type": "execute_result"
    }
   ],
   "source": [
    "good_fibo(2)\n",
    "good_fibo.__defaults__"
   ]
  },
  {
   "cell_type": "code",
   "execution_count": 69,
   "id": "7aa84429-8cdf-487d-806b-2233c36d0a86",
   "metadata": {},
   "outputs": [
    {
     "data": {
      "text/plain": [
       "12586269025"
      ]
     },
     "execution_count": 69,
     "metadata": {},
     "output_type": "execute_result"
    },
    {
     "data": {
      "text/plain": [
       "({0: 0,\n",
       "  1: 1,\n",
       "  2: 1,\n",
       "  3: 2,\n",
       "  4: 3,\n",
       "  5: 5,\n",
       "  6: 8,\n",
       "  7: 13,\n",
       "  8: 21,\n",
       "  9: 34,\n",
       "  10: 55,\n",
       "  11: 89,\n",
       "  12: 144,\n",
       "  13: 233,\n",
       "  14: 377,\n",
       "  15: 610,\n",
       "  16: 987,\n",
       "  17: 1597,\n",
       "  18: 2584,\n",
       "  19: 4181,\n",
       "  20: 6765,\n",
       "  21: 10946,\n",
       "  22: 17711,\n",
       "  23: 28657,\n",
       "  24: 46368,\n",
       "  25: 75025,\n",
       "  26: 121393,\n",
       "  27: 196418,\n",
       "  28: 317811,\n",
       "  29: 514229,\n",
       "  30: 832040,\n",
       "  31: 1346269,\n",
       "  32: 2178309,\n",
       "  33: 3524578,\n",
       "  34: 5702887,\n",
       "  35: 9227465,\n",
       "  36: 14930352,\n",
       "  37: 24157817,\n",
       "  38: 39088169,\n",
       "  39: 63245986,\n",
       "  40: 102334155,\n",
       "  41: 165580141,\n",
       "  42: 267914296,\n",
       "  43: 433494437,\n",
       "  44: 701408733,\n",
       "  45: 1134903170,\n",
       "  46: 1836311903,\n",
       "  47: 2971215073,\n",
       "  48: 4807526976,\n",
       "  49: 7778742049,\n",
       "  50: 12586269025},)"
      ]
     },
     "execution_count": 69,
     "metadata": {},
     "output_type": "execute_result"
    }
   ],
   "source": [
    "good_fibo(50)\n",
    "good_fibo.__defaults__"
   ]
  },
  {
   "cell_type": "code",
   "execution_count": 70,
   "id": "8d808f42-f32a-4fbd-b726-7c023f6495ab",
   "metadata": {},
   "outputs": [],
   "source": [
    "def f(n):\n",
    "    return 2 * n"
   ]
  },
  {
   "cell_type": "code",
   "execution_count": 71,
   "id": "4ffddde8-015d-4425-9086-661624ddb9e4",
   "metadata": {},
   "outputs": [
    {
     "data": {
      "text/plain": [
       "20"
      ]
     },
     "execution_count": 71,
     "metadata": {},
     "output_type": "execute_result"
    }
   ],
   "source": [
    "f(10)"
   ]
  },
  {
   "cell_type": "code",
   "execution_count": 72,
   "id": "4491076c-e285-4939-84a7-5dccf3e0b3a9",
   "metadata": {},
   "outputs": [],
   "source": [
    "def f(n):\n",
    "    print('Time to work!')\n",
    "    return 2 * n"
   ]
  },
  {
   "cell_type": "code",
   "execution_count": 73,
   "id": "f120fc19-27ea-4c6f-ac6d-e3529027809e",
   "metadata": {},
   "outputs": [
    {
     "name": "stdout",
     "output_type": "stream",
     "text": [
      "Time to work!\n"
     ]
    },
    {
     "data": {
      "text/plain": [
       "20"
      ]
     },
     "execution_count": 73,
     "metadata": {},
     "output_type": "execute_result"
    }
   ],
   "source": [
    "f(10)"
   ]
  },
  {
   "cell_type": "code",
   "execution_count": 74,
   "id": "c2266c43-d45f-4b22-878a-8e8d0b3d44bd",
   "metadata": {},
   "outputs": [],
   "source": [
    "def f(n):\n",
    "    return 2 * n"
   ]
  },
  {
   "cell_type": "code",
   "execution_count": 76,
   "id": "21e8e56a-6509-460b-90b1-d5ec17369e4b",
   "metadata": {},
   "outputs": [],
   "source": [
    "def announce(g):\n",
    "    def improved_g(n):\n",
    "        print('Time to work!')\n",
    "        return g(n)\n",
    "    return improved_g"
   ]
  },
  {
   "cell_type": "code",
   "execution_count": 77,
   "id": "4c01a5f6-ba61-423a-b969-1a52c8fe73e9",
   "metadata": {},
   "outputs": [
    {
     "data": {
      "text/plain": [
       "<function __main__.announce.<locals>.improved_g(n)>"
      ]
     },
     "execution_count": 77,
     "metadata": {},
     "output_type": "execute_result"
    }
   ],
   "source": [
    "announce(f)"
   ]
  },
  {
   "cell_type": "code",
   "execution_count": 78,
   "id": "04ca4919-c92a-4153-ba09-cf8637e5d2cb",
   "metadata": {},
   "outputs": [
    {
     "name": "stdout",
     "output_type": "stream",
     "text": [
      "Time to work!\n"
     ]
    },
    {
     "data": {
      "text/plain": [
       "20"
      ]
     },
     "execution_count": 78,
     "metadata": {},
     "output_type": "execute_result"
    }
   ],
   "source": [
    "announce(f)(10)"
   ]
  },
  {
   "cell_type": "code",
   "execution_count": 79,
   "id": "9d2d5f08-b8bd-41be-ac9a-1d3315071078",
   "metadata": {},
   "outputs": [
    {
     "data": {
      "text/plain": [
       "<function __main__.announce.<locals>.improved_g(n)>"
      ]
     },
     "execution_count": 79,
     "metadata": {},
     "output_type": "execute_result"
    }
   ],
   "source": [
    "announce(f(10))"
   ]
  },
  {
   "cell_type": "code",
   "execution_count": 80,
   "id": "f7222e1c-f753-4d47-aad5-f3b882e1e945",
   "metadata": {},
   "outputs": [
    {
     "ename": "TypeError",
     "evalue": "announce.<locals>.improved_g() missing 1 required positional argument: 'n'",
     "output_type": "error",
     "traceback": [
      "\u001b[0;31m---------------------------------------------------------------------------\u001b[0m",
      "\u001b[0;31mTypeError\u001b[0m                                 Traceback (most recent call last)",
      "Cell \u001b[0;32mIn[80], line 1\u001b[0m\n\u001b[0;32m----> 1\u001b[0m \u001b[43mannounce\u001b[49m\u001b[43m(\u001b[49m\u001b[43mf\u001b[49m\u001b[43m(\u001b[49m\u001b[38;5;241;43m10\u001b[39;49m\u001b[43m)\u001b[49m\u001b[43m)\u001b[49m\u001b[43m(\u001b[49m\u001b[43m)\u001b[49m\n",
      "\u001b[0;31mTypeError\u001b[0m: announce.<locals>.improved_g() missing 1 required positional argument: 'n'"
     ]
    }
   ],
   "source": [
    "announce(f(10))()"
   ]
  },
  {
   "cell_type": "code",
   "execution_count": 81,
   "id": "94f9f770-813f-4bb1-b4ee-c20bf7237581",
   "metadata": {},
   "outputs": [],
   "source": [
    "f = announce(f)\n",
    "@announce\n",
    "def f(n):\n",
    "    return 2 * n"
   ]
  },
  {
   "cell_type": "code",
   "execution_count": 82,
   "id": "dce934b2-8a46-4ec6-9ab1-2d8c85f1ebf6",
   "metadata": {},
   "outputs": [
    {
     "name": "stdout",
     "output_type": "stream",
     "text": [
      "Time to work!\n"
     ]
    },
    {
     "data": {
      "text/plain": [
       "40"
      ]
     },
     "execution_count": 82,
     "metadata": {},
     "output_type": "execute_result"
    }
   ],
   "source": [
    "f(20)"
   ]
  },
  {
   "cell_type": "code",
   "execution_count": 83,
   "id": "e87cb2ce-876f-4fc3-b678-e17a1b048025",
   "metadata": {},
   "outputs": [],
   "source": [
    "@announce\n",
    "def g(n):\n",
    "    return 3 * n"
   ]
  },
  {
   "cell_type": "code",
   "execution_count": 84,
   "id": "868b9cca-0c36-41b9-aa4a-40d022dda9f5",
   "metadata": {},
   "outputs": [
    {
     "name": "stdout",
     "output_type": "stream",
     "text": [
      "Time to work!\n"
     ]
    },
    {
     "data": {
      "text/plain": [
       "30"
      ]
     },
     "execution_count": 84,
     "metadata": {},
     "output_type": "execute_result"
    }
   ],
   "source": [
    "g(10)"
   ]
  },
  {
   "cell_type": "code",
   "execution_count": 86,
   "id": "b39e328f-c8ff-4a8b-876a-635194e81413",
   "metadata": {},
   "outputs": [],
   "source": [
    "def hanoi(n, _from='A', _to='C', _thanks_to='B'):\n",
    "    if n == 1:\n",
    "        print(f'Move disk from {_from} to {_to}')"
   ]
  },
  {
   "cell_type": "code",
   "execution_count": 87,
   "id": "a6e03088-7826-44d0-8f76-b26d2ef14b62",
   "metadata": {},
   "outputs": [
    {
     "name": "stdout",
     "output_type": "stream",
     "text": [
      "Move disk from A to C\n"
     ]
    }
   ],
   "source": [
    "hanoi(1)"
   ]
  },
  {
   "cell_type": "code",
   "execution_count": 88,
   "id": "1f5a6087-4c09-4b44-8a50-67bd81b353d5",
   "metadata": {},
   "outputs": [],
   "source": [
    "hanoi(2)"
   ]
  },
  {
   "cell_type": "code",
   "execution_count": null,
   "id": "93460c66-e734-4099-8d91-a63a4a9603f7",
   "metadata": {},
   "outputs": [],
   "source": []
  }
 ],
 "metadata": {
  "kernelspec": {
   "display_name": "Python 3 (ipykernel)",
   "language": "python",
   "name": "python3"
  },
  "language_info": {
   "codemirror_mode": {
    "name": "ipython",
    "version": 3
   },
   "file_extension": ".py",
   "mimetype": "text/x-python",
   "name": "python",
   "nbconvert_exporter": "python",
   "pygments_lexer": "ipython3",
   "version": "3.13.0"
  }
 },
 "nbformat": 4,
 "nbformat_minor": 5
}
