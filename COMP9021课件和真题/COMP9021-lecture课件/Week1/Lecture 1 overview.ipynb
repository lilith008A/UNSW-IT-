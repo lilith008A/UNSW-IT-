{
 "cells": [
  {
   "cell_type": "markdown",
   "id": "ff450f29-7a8f-47c2-8160-60b5568bf62a",
   "metadata": {},
   "source": [
    "# Course aims and philosophy"
   ]
  },
  {
   "cell_type": "markdown",
   "id": "72894682-31d8-4061-a432-aed53a0a5e20",
   "metadata": {
    "jp-MarkdownHeadingCollapsed": true
   },
   "source": [
    "## Learn programming:\n",
    "* Learn a programming language versus learn programming languages (Python, C)\n",
    "* Know a programming language versus \"speak it well\"\n",
    "* Make use of a programming language to solve problems (\"given this input, give me that output\")"
   ]
  },
  {
   "cell_type": "markdown",
   "id": "685ef33a-789c-47ff-99d5-0de1ed70f06c",
   "metadata": {
    "jp-MarkdownHeadingCollapsed": true
   },
   "source": [
    "## Philosophy:\n",
    "* Solve a problem and introduce syntax, concepts and programming techniques needed in this context (nothing is assumed, everything is fully explained)\n",
    "* Always write the best possible code, from the very beginning\n",
    "\n",
    "Differences with \"standard\" approaches"
   ]
  },
  {
   "cell_type": "markdown",
   "id": "afc0a43d-d80c-448a-bcd8-2b7fc2b01051",
   "metadata": {},
   "source": [
    "# Administrative matters"
   ]
  },
  {
   "cell_type": "markdown",
   "id": "56d36ed4-596f-4623-8533-03d84986483c",
   "metadata": {},
   "source": [
    "## Ed\n",
    "* Invitation to join\n",
    "* Resources\n",
    "  * MessageBoard\n",
    "  * Document on software requirements\n",
    "  * Notes and videos\n",
    "  * Labs\n",
    "  * Practice exercises"
   ]
  },
  {
   "cell_type": "markdown",
   "id": "4f5ff2ab-25d3-48cd-a947-1b49ce3d1fb4",
   "metadata": {},
   "source": [
    "## Moodle\n",
    "\n",
    "Used for\n",
    "* Lecture recordings\n",
    "* Online labs for those enrolled in such a lab"
   ]
  },
  {
   "cell_type": "markdown",
   "id": "459542a6-e252-4d80-b0fd-c34779219a39",
   "metadata": {},
   "source": [
    "## Assessments\n",
    "\n",
    "* Quizzes\n",
    "* Assignments\n",
    "* Final exam, with hurdle"
   ]
  },
  {
   "cell_type": "markdown",
   "id": "1798685d-cf5f-4cc1-8b6e-e490aed60b40",
   "metadata": {},
   "source": [
    "# How to study this course"
   ]
  },
  {
   "cell_type": "markdown",
   "id": "18a212f6-2c94-4d31-b1f7-48a699cf6d1c",
   "metadata": {},
   "source": [
    "* Read and practice, whether being a total beginner or having some programming background\n",
    "* Consultations\n",
    "* Tools\n",
    "    * Ed\n",
    "    * Idle\n",
    "    * Jupyter lab, jupyter notebooks\n",
    "    * Integrated Development Environments (Spyder, VisualStudio, Pycharm...)\n",
    "    * Vlab https://vlabgateway.cse.unsw.edu.au"
   ]
  },
  {
   "cell_type": "markdown",
   "id": "e027f8a8-b880-44d4-94a9-63fb4ef4df86",
   "metadata": {},
   "source": [
    "# Interacting with the Python interpreter"
   ]
  },
  {
   "cell_type": "markdown",
   "id": "390b4d01-bb30-492f-ab49-f8d803a564ea",
   "metadata": {},
   "source": [
    "## Evaluating expressions\n",
    "* At the Python prompt\n",
    "    * In Idle\n",
    "    * Having started Python from Terminal\n",
    "* In a Jupyter notebook cell"
   ]
  },
  {
   "cell_type": "markdown",
   "id": "e857a51a-d7a3-4b72-a423-ade4fbcf9d31",
   "metadata": {},
   "source": [
    "## Defining a function and calling it\n",
    "* At the Python prompt\n",
    "    * In Idle\n",
    "    * Having started Python from Terminal\n",
    "* In a Jupyter notebook cell"
   ]
  },
  {
   "cell_type": "markdown",
   "id": "b3ce675a-7793-4d75-a579-ba878415e11e",
   "metadata": {},
   "source": [
    "## Writing code to a file and using it\n",
    "* In Idle\n",
    "* In a Jupyter notebook cell: the the `%load` line magic, the `%%writefile` cell magic"
   ]
  },
  {
   "cell_type": "markdown",
   "id": "d3d2a5bc-80d6-446c-a332-bf0be2611083",
   "metadata": {},
   "source": [
    "## Importing modules and parts thereof\n",
    "* In a Jupyter notebook cell\n",
    "* At the Python prompt\n",
    "\n",
    "The `import ...` and `from ... import ...` statements"
   ]
  },
  {
   "cell_type": "markdown",
   "id": "7dc0d033-a089-4eee-bfcc-a3a232a1b1d1",
   "metadata": {},
   "source": [
    "# For labs and practice exercises"
   ]
  },
  {
   "cell_type": "markdown",
   "id": "1fbdf77f-712d-4b28-9178-16d83f28a632",
   "metadata": {},
   "source": [
    "The \"home made\" `%%run_and_test` cell magic"
   ]
  }
 ],
 "metadata": {
  "kernelspec": {
   "display_name": "Python 3 (ipykernel)",
   "language": "python",
   "name": "python3"
  },
  "language_info": {
   "codemirror_mode": {
    "name": "ipython",
    "version": 3
   },
   "file_extension": ".py",
   "mimetype": "text/x-python",
   "name": "python",
   "nbconvert_exporter": "python",
   "pygments_lexer": "ipython3",
   "version": "3.12.6"
  }
 },
 "nbformat": 4,
 "nbformat_minor": 5
}
