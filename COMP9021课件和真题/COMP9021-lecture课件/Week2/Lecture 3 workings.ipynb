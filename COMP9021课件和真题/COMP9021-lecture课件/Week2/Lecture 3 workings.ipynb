{
    "metadata": {
        "kernelspec": {
            "name": "python3",
            "display_name": "Python 3 (ipykernel)",
            "language": "python"
        }
    },
    "nbformat": 4,
    "nbformat_minor": 5,
    "cells": [
        {
            "cell_type": "code",
            "execution_count": 2,
            "metadata": {},
            "outputs": [
                {
                    "ename": "KeyboardInterrupt",
                    "evalue": "Interrupted by user",
                    "output_type": "error",
                    "traceback": [
                        "\u001b[0;31m---------------------------------------------------------------------------\u001b[0m",
                        "\u001b[0;31mKeyboardInterrupt\u001b[0m                         Traceback (most recent call last)",
                        "Cell \u001b[0;32mIn[2], line 1\u001b[0m\n\u001b[0;32m----\u003e 1\u001b[0m \u001b[38;5;28;43minput\u001b[39;49m\u001b[43m(\u001b[49m\u001b[38;5;124;43m'\u001b[39;49m\u001b[38;5;124;43mHow many times do you want to play? \u001b[39;49m\u001b[38;5;124;43m'\u001b[39;49m\u001b[43m)\u001b[49m\n",
                        "File \u001b[0;32m/Library/Frameworks/Python.framework/Versions/3.12/lib/python3.12/site-packages/ipykernel/kernelbase.py:1282\u001b[0m, in \u001b[0;36mKernel.raw_input\u001b[0;34m(self, prompt)\u001b[0m\n\u001b[1;32m   1280\u001b[0m     msg \u001b[38;5;241m=\u001b[39m \u001b[38;5;124m\"\u001b[39m\u001b[38;5;124mraw_input was called, but this frontend does not support input requests.\u001b[39m\u001b[38;5;124m\"\u001b[39m\n\u001b[1;32m   1281\u001b[0m     \u001b[38;5;28;01mraise\u001b[39;00m StdinNotImplementedError(msg)\n\u001b[0;32m-\u003e 1282\u001b[0m \u001b[38;5;28;01mreturn\u001b[39;00m \u001b[38;5;28;43mself\u001b[39;49m\u001b[38;5;241;43m.\u001b[39;49m\u001b[43m_input_request\u001b[49m\u001b[43m(\u001b[49m\n\u001b[1;32m   1283\u001b[0m \u001b[43m    \u001b[49m\u001b[38;5;28;43mstr\u001b[39;49m\u001b[43m(\u001b[49m\u001b[43mprompt\u001b[49m\u001b[43m)\u001b[49m\u001b[43m,\u001b[49m\n\u001b[1;32m   1284\u001b[0m \u001b[43m    \u001b[49m\u001b[38;5;28;43mself\u001b[39;49m\u001b[38;5;241;43m.\u001b[39;49m\u001b[43m_parent_ident\u001b[49m\u001b[43m[\u001b[49m\u001b[38;5;124;43m\"\u001b[39;49m\u001b[38;5;124;43mshell\u001b[39;49m\u001b[38;5;124;43m\"\u001b[39;49m\u001b[43m]\u001b[49m\u001b[43m,\u001b[49m\n\u001b[1;32m   1285\u001b[0m \u001b[43m    \u001b[49m\u001b[38;5;28;43mself\u001b[39;49m\u001b[38;5;241;43m.\u001b[39;49m\u001b[43mget_parent\u001b[49m\u001b[43m(\u001b[49m\u001b[38;5;124;43m\"\u001b[39;49m\u001b[38;5;124;43mshell\u001b[39;49m\u001b[38;5;124;43m\"\u001b[39;49m\u001b[43m)\u001b[49m\u001b[43m,\u001b[49m\n\u001b[1;32m   1286\u001b[0m \u001b[43m    \u001b[49m\u001b[43mpassword\u001b[49m\u001b[38;5;241;43m=\u001b[39;49m\u001b[38;5;28;43;01mFalse\u001b[39;49;00m\u001b[43m,\u001b[49m\n\u001b[1;32m   1287\u001b[0m \u001b[43m\u001b[49m\u001b[43m)\u001b[49m\n",
                        "File \u001b[0;32m/Library/Frameworks/Python.framework/Versions/3.12/lib/python3.12/site-packages/ipykernel/kernelbase.py:1325\u001b[0m, in \u001b[0;36mKernel._input_request\u001b[0;34m(self, prompt, ident, parent, password)\u001b[0m\n\u001b[1;32m   1322\u001b[0m \u001b[38;5;28;01mexcept\u001b[39;00m \u001b[38;5;167;01mKeyboardInterrupt\u001b[39;00m:\n\u001b[1;32m   1323\u001b[0m     \u001b[38;5;66;03m# re-raise KeyboardInterrupt, to truncate traceback\u001b[39;00m\n\u001b[1;32m   1324\u001b[0m     msg \u001b[38;5;241m=\u001b[39m \u001b[38;5;124m\"\u001b[39m\u001b[38;5;124mInterrupted by user\u001b[39m\u001b[38;5;124m\"\u001b[39m\n\u001b[0;32m-\u003e 1325\u001b[0m     \u001b[38;5;28;01mraise\u001b[39;00m \u001b[38;5;167;01mKeyboardInterrupt\u001b[39;00m(msg) \u001b[38;5;28;01mfrom\u001b[39;00m \u001b[38;5;28;01mNone\u001b[39;00m\n\u001b[1;32m   1326\u001b[0m \u001b[38;5;28;01mexcept\u001b[39;00m \u001b[38;5;167;01mException\u001b[39;00m:\n\u001b[1;32m   1327\u001b[0m     \u001b[38;5;28mself\u001b[39m\u001b[38;5;241m.\u001b[39mlog\u001b[38;5;241m.\u001b[39mwarning(\u001b[38;5;124m\"\u001b[39m\u001b[38;5;124mInvalid Message:\u001b[39m\u001b[38;5;124m\"\u001b[39m, exc_info\u001b[38;5;241m=\u001b[39m\u001b[38;5;28;01mTrue\u001b[39;00m)\n",
                        "\u001b[0;31mKeyboardInterrupt\u001b[0m: Interrupted by user"
                    ]
                }
            ],
            "source": [
                "input('How many times do you want to play? ')"
            ]
        },
        {
            "cell_type": "code",
            "execution_count": 4,
            "metadata": {},
            "outputs": [
                {
                    "name": "stdin",
                    "output_type": "stream",
                    "text": "How many times do you want to play?  10_000\n"
                },
                {
                    "data": {
                        "text/plain": [
                            "'10_000'"
                        ]
                    },
                    "execution_count": 4,
                    "metadata": {},
                    "output_type": "execute_result"
                }
            ],
            "source": [
                "nb_of_games = input('How many times do you want to play? ')\n",
                "nb_of_games"
            ]
        },
        {
            "cell_type": "code",
            "execution_count": 5,
            "metadata": {},
            "outputs": [
                {
                    "name": "stdin",
                    "output_type": "stream",
                    "text": "How many times do you want to play?  10_000\n"
                },
                {
                    "data": {
                        "text/plain": [
                            "10000"
                        ]
                    },
                    "execution_count": 5,
                    "metadata": {},
                    "output_type": "execute_result"
                }
            ],
            "source": [
                "nb_of_games = input('How many times do you want to play? ')\n",
                "nb_of_games = int(nb_of_games)\n",
                "nb_of_games"
            ]
        },
        {
            "cell_type": "code",
            "execution_count": 6,
            "metadata": {},
            "outputs": [
                {
                    "name": "stdin",
                    "output_type": "stream",
                    "text": "How many times do you want to play?  3\n"
                },
                {
                    "data": {
                        "text/plain": [
                            "3"
                        ]
                    },
                    "execution_count": 6,
                    "metadata": {},
                    "output_type": "execute_result"
                }
            ],
            "source": [
                "nb_of_games = int(input('How many times do you want to play? '))\n",
                "nb_of_games"
            ]
        },
        {
            "cell_type": "code",
            "execution_count": 7,
            "metadata": {},
            "outputs": [
                {
                    "name": "stdin",
                    "output_type": "stream",
                    "text": "How many times do you want to play?  12A\n"
                },
                {
                    "ename": "ValueError",
                    "evalue": "invalid literal for int() with base 10: '12A'",
                    "output_type": "error",
                    "traceback": [
                        "\u001b[0;31m---------------------------------------------------------------------------\u001b[0m",
                        "\u001b[0;31mValueError\u001b[0m                                Traceback (most recent call last)",
                        "Cell \u001b[0;32mIn[7], line 1\u001b[0m\n\u001b[0;32m----\u003e 1\u001b[0m nb_of_games \u001b[38;5;241m=\u001b[39m \u001b[38;5;28;43mint\u001b[39;49m\u001b[43m(\u001b[49m\u001b[38;5;28;43minput\u001b[39;49m\u001b[43m(\u001b[49m\u001b[38;5;124;43m'\u001b[39;49m\u001b[38;5;124;43mHow many times do you want to play? \u001b[39;49m\u001b[38;5;124;43m'\u001b[39;49m\u001b[43m)\u001b[49m\u001b[43m)\u001b[49m\n\u001b[1;32m      2\u001b[0m nb_of_games\n",
                        "\u001b[0;31mValueError\u001b[0m: invalid literal for int() with base 10: '12A'"
                    ]
                }
            ],
            "source": [
                "nb_of_games = int(input('How many times do you want to play? '))\n",
                "nb_of_games"
            ]
        },
        {
            "cell_type": "code",
            "execution_count": 8,
            "metadata": {},
            "outputs": [
                {
                    "ename": "ValueError",
                    "evalue": "invalid literal for int() with base 10: '12A'",
                    "output_type": "error",
                    "traceback": [
                        "\u001b[0;31m---------------------------------------------------------------------------\u001b[0m",
                        "\u001b[0;31mValueError\u001b[0m                                Traceback (most recent call last)",
                        "Cell \u001b[0;32mIn[8], line 1\u001b[0m\n\u001b[0;32m----\u003e 1\u001b[0m \u001b[38;5;28;43mint\u001b[39;49m\u001b[43m(\u001b[49m\u001b[38;5;124;43m'\u001b[39;49m\u001b[38;5;124;43m12A\u001b[39;49m\u001b[38;5;124;43m'\u001b[39;49m\u001b[43m)\u001b[49m\n",
                        "\u001b[0;31mValueError\u001b[0m: invalid literal for int() with base 10: '12A'"
                    ]
                }
            ],
            "source": [
                "int('12A')"
            ]
        },
        {
            "cell_type": "code",
            "execution_count": 9,
            "metadata": {},
            "outputs": [
                {
                    "name": "stdin",
                    "output_type": "stream",
                    "text": "How many times do you want to play?  q\n"
                },
                {
                    "name": "stdout",
                    "output_type": "stream",
                    "text": "Input incorrect, try again!\n"
                },
                {
                    "name": "stdin",
                    "output_type": "stream",
                    "text": "How many times do you want to play?  weqw\n"
                },
                {
                    "name": "stdout",
                    "output_type": "stream",
                    "text": "Input incorrect, try again!\n"
                },
                {
                    "name": "stdin",
                    "output_type": "stream",
                    "text": "How many times do you want to play?  qwe\n"
                },
                {
                    "name": "stdout",
                    "output_type": "stream",
                    "text": "Input incorrect, try again!\n"
                },
                {
                    "name": "stdin",
                    "output_type": "stream",
                    "text": "How many times do you want to play?  2\n"
                },
                {
                    "ename": "KeyboardInterrupt",
                    "evalue": "Interrupted by user",
                    "output_type": "error",
                    "traceback": [
                        "\u001b[0;31m---------------------------------------------------------------------------\u001b[0m",
                        "\u001b[0;31mKeyboardInterrupt\u001b[0m                         Traceback (most recent call last)",
                        "Cell \u001b[0;32mIn[9], line 3\u001b[0m\n\u001b[1;32m      1\u001b[0m \u001b[38;5;28;01mwhile\u001b[39;00m \u001b[38;5;28;01mTrue\u001b[39;00m:\n\u001b[1;32m      2\u001b[0m     \u001b[38;5;28;01mtry\u001b[39;00m:\n\u001b[0;32m----\u003e 3\u001b[0m         nb_of_games \u001b[38;5;241m=\u001b[39m \u001b[38;5;28mint\u001b[39m(\u001b[38;5;28;43minput\u001b[39;49m\u001b[43m(\u001b[49m\u001b[38;5;124;43m'\u001b[39;49m\u001b[38;5;124;43mHow many times do you want to play? \u001b[39;49m\u001b[38;5;124;43m'\u001b[39;49m\u001b[43m)\u001b[49m)\n\u001b[1;32m      4\u001b[0m     \u001b[38;5;28;01mexcept\u001b[39;00m \u001b[38;5;167;01mValueError\u001b[39;00m:\n\u001b[1;32m      5\u001b[0m         \u001b[38;5;28mprint\u001b[39m(\u001b[38;5;124m'\u001b[39m\u001b[38;5;124mInput incorrect, try again!\u001b[39m\u001b[38;5;124m'\u001b[39m)\n",
                        "File \u001b[0;32m/Library/Frameworks/Python.framework/Versions/3.12/lib/python3.12/site-packages/ipykernel/kernelbase.py:1282\u001b[0m, in \u001b[0;36mKernel.raw_input\u001b[0;34m(self, prompt)\u001b[0m\n\u001b[1;32m   1280\u001b[0m     msg \u001b[38;5;241m=\u001b[39m \u001b[38;5;124m\"\u001b[39m\u001b[38;5;124mraw_input was called, but this frontend does not support input requests.\u001b[39m\u001b[38;5;124m\"\u001b[39m\n\u001b[1;32m   1281\u001b[0m     \u001b[38;5;28;01mraise\u001b[39;00m StdinNotImplementedError(msg)\n\u001b[0;32m-\u003e 1282\u001b[0m \u001b[38;5;28;01mreturn\u001b[39;00m \u001b[38;5;28;43mself\u001b[39;49m\u001b[38;5;241;43m.\u001b[39;49m\u001b[43m_input_request\u001b[49m\u001b[43m(\u001b[49m\n\u001b[1;32m   1283\u001b[0m \u001b[43m    \u001b[49m\u001b[38;5;28;43mstr\u001b[39;49m\u001b[43m(\u001b[49m\u001b[43mprompt\u001b[49m\u001b[43m)\u001b[49m\u001b[43m,\u001b[49m\n\u001b[1;32m   1284\u001b[0m \u001b[43m    \u001b[49m\u001b[38;5;28;43mself\u001b[39;49m\u001b[38;5;241;43m.\u001b[39;49m\u001b[43m_parent_ident\u001b[49m\u001b[43m[\u001b[49m\u001b[38;5;124;43m\"\u001b[39;49m\u001b[38;5;124;43mshell\u001b[39;49m\u001b[38;5;124;43m\"\u001b[39;49m\u001b[43m]\u001b[49m\u001b[43m,\u001b[49m\n\u001b[1;32m   1285\u001b[0m \u001b[43m    \u001b[49m\u001b[38;5;28;43mself\u001b[39;49m\u001b[38;5;241;43m.\u001b[39;49m\u001b[43mget_parent\u001b[49m\u001b[43m(\u001b[49m\u001b[38;5;124;43m\"\u001b[39;49m\u001b[38;5;124;43mshell\u001b[39;49m\u001b[38;5;124;43m\"\u001b[39;49m\u001b[43m)\u001b[49m\u001b[43m,\u001b[49m\n\u001b[1;32m   1286\u001b[0m \u001b[43m    \u001b[49m\u001b[43mpassword\u001b[49m\u001b[38;5;241;43m=\u001b[39;49m\u001b[38;5;28;43;01mFalse\u001b[39;49;00m\u001b[43m,\u001b[49m\n\u001b[1;32m   1287\u001b[0m \u001b[43m\u001b[49m\u001b[43m)\u001b[49m\n",
                        "File \u001b[0;32m/Library/Frameworks/Python.framework/Versions/3.12/lib/python3.12/site-packages/ipykernel/kernelbase.py:1325\u001b[0m, in \u001b[0;36mKernel._input_request\u001b[0;34m(self, prompt, ident, parent, password)\u001b[0m\n\u001b[1;32m   1322\u001b[0m \u001b[38;5;28;01mexcept\u001b[39;00m \u001b[38;5;167;01mKeyboardInterrupt\u001b[39;00m:\n\u001b[1;32m   1323\u001b[0m     \u001b[38;5;66;03m# re-raise KeyboardInterrupt, to truncate traceback\u001b[39;00m\n\u001b[1;32m   1324\u001b[0m     msg \u001b[38;5;241m=\u001b[39m \u001b[38;5;124m\"\u001b[39m\u001b[38;5;124mInterrupted by user\u001b[39m\u001b[38;5;124m\"\u001b[39m\n\u001b[0;32m-\u003e 1325\u001b[0m     \u001b[38;5;28;01mraise\u001b[39;00m \u001b[38;5;167;01mKeyboardInterrupt\u001b[39;00m(msg) \u001b[38;5;28;01mfrom\u001b[39;00m \u001b[38;5;28;01mNone\u001b[39;00m\n\u001b[1;32m   1326\u001b[0m \u001b[38;5;28;01mexcept\u001b[39;00m \u001b[38;5;167;01mException\u001b[39;00m:\n\u001b[1;32m   1327\u001b[0m     \u001b[38;5;28mself\u001b[39m\u001b[38;5;241m.\u001b[39mlog\u001b[38;5;241m.\u001b[39mwarning(\u001b[38;5;124m\"\u001b[39m\u001b[38;5;124mInvalid Message:\u001b[39m\u001b[38;5;124m\"\u001b[39m, exc_info\u001b[38;5;241m=\u001b[39m\u001b[38;5;28;01mTrue\u001b[39;00m)\n",
                        "\u001b[0;31mKeyboardInterrupt\u001b[0m: Interrupted by user"
                    ]
                }
            ],
            "source": [
                "while True:\n",
                "    try:\n",
                "        nb_of_games = int(input('How many times do you want to play? '))\n",
                "    except ValueError:\n",
                "        print('Input incorrect, try again!')"
            ]
        },
        {
            "cell_type": "code",
            "execution_count": 11,
            "metadata": {},
            "outputs": [
                {
                    "name": "stdin",
                    "output_type": "stream",
                    "text": "How many times do you want to play?  asda\n"
                },
                {
                    "name": "stdout",
                    "output_type": "stream",
                    "text": "Input incorrect, try again!\n"
                },
                {
                    "name": "stdin",
                    "output_type": "stream",
                    "text": "How many times do you want to play?  asd\n"
                },
                {
                    "name": "stdout",
                    "output_type": "stream",
                    "text": "Input incorrect, try again!\n"
                },
                {
                    "name": "stdin",
                    "output_type": "stream",
                    "text": "How many times do you want to play?  2\n"
                },
                {
                    "data": {
                        "text/plain": [
                            "2"
                        ]
                    },
                    "execution_count": 11,
                    "metadata": {},
                    "output_type": "execute_result"
                }
            ],
            "source": [
                "while True:\n",
                "    try:\n",
                "        nb_of_games = int(input('How many times do you want to play? '))\n",
                "        break\n",
                "    except ValueError:\n",
                "        print('Input incorrect, try again!')\n",
                "nb_of_games"
            ]
        },
        {
            "cell_type": "code",
            "execution_count": 12,
            "metadata": {},
            "outputs": [
                {
                    "name": "stdin",
                    "output_type": "stream",
                    "text": "How many times do you want to play?  sas\n"
                },
                {
                    "name": "stdout",
                    "output_type": "stream",
                    "text": "Input incorrect, try again!\n"
                },
                {
                    "name": "stdin",
                    "output_type": "stream",
                    "text": "How many times do you want to play?  as\n"
                },
                {
                    "name": "stdout",
                    "output_type": "stream",
                    "text": "Input incorrect, try again!\n"
                },
                {
                    "name": "stdin",
                    "output_type": "stream",
                    "text": "How many times do you want to play?  -2\n"
                },
                {
                    "data": {
                        "text/plain": [
                            "-2"
                        ]
                    },
                    "execution_count": 12,
                    "metadata": {},
                    "output_type": "execute_result"
                }
            ],
            "source": [
                "while True:\n",
                "    try:\n",
                "        nb_of_games = int(input('How many times do you want to play? '))\n",
                "        break\n",
                "    except ValueError:\n",
                "        print('Input incorrect, try again!')\n",
                "nb_of_games"
            ]
        },
        {
            "cell_type": "code",
            "execution_count": 14,
            "metadata": {},
            "outputs": [
                {
                    "name": "stdin",
                    "output_type": "stream",
                    "text": "How many times do you want to play?  das\n"
                },
                {
                    "name": "stdout",
                    "output_type": "stream",
                    "text": "Input incorrect, try again!\n"
                },
                {
                    "name": "stdin",
                    "output_type": "stream",
                    "text": "How many times do you want to play?  asd\n"
                },
                {
                    "name": "stdout",
                    "output_type": "stream",
                    "text": "Input incorrect, try again!\n"
                },
                {
                    "name": "stdin",
                    "output_type": "stream",
                    "text": "How many times do you want to play?  -2\n"
                },
                {
                    "name": "stdout",
                    "output_type": "stream",
                    "text": "Input incorrect, try again!\n"
                },
                {
                    "name": "stdin",
                    "output_type": "stream",
                    "text": "How many times do you want to play?  3\n"
                },
                {
                    "data": {
                        "text/plain": [
                            "3"
                        ]
                    },
                    "execution_count": 14,
                    "metadata": {},
                    "output_type": "execute_result"
                }
            ],
            "source": [
                "while True:\n",
                "    try:\n",
                "        nb_of_games = int(input('How many times do you want to play? '))\n",
                "        if nb_of_games \u003c= 0:\n",
                "            raise ValueError\n",
                "        break\n",
                "    except ValueError:\n",
                "        print('Input incorrect, try again!')\n",
                "nb_of_games"
            ]
        },
        {
            "cell_type": "code",
            "execution_count": 15,
            "metadata": {},
            "outputs": [
                {
                    "name": "stdin",
                    "output_type": "stream",
                    "text": "Would you like to switch?  Yes\n"
                },
                {
                    "data": {
                        "text/plain": [
                            "'Yes'"
                        ]
                    },
                    "execution_count": 15,
                    "metadata": {},
                    "output_type": "execute_result"
                }
            ],
            "source": [
                "input('Would you like to switch? ')"
            ]
        },
        {
            "cell_type": "code",
            "execution_count": 16,
            "metadata": {
                "scrolled": true
            },
            "outputs": [
                {
                    "data": {
                        "text/plain": [
                            "['__add__',\n",
                            " '__class__',\n",
                            " '__contains__',\n",
                            " '__delattr__',\n",
                            " '__dir__',\n",
                            " '__doc__',\n",
                            " '__eq__',\n",
                            " '__format__',\n",
                            " '__ge__',\n",
                            " '__getattribute__',\n",
                            " '__getitem__',\n",
                            " '__getnewargs__',\n",
                            " '__getstate__',\n",
                            " '__gt__',\n",
                            " '__hash__',\n",
                            " '__init__',\n",
                            " '__init_subclass__',\n",
                            " '__iter__',\n",
                            " '__le__',\n",
                            " '__len__',\n",
                            " '__lt__',\n",
                            " '__mod__',\n",
                            " '__mul__',\n",
                            " '__ne__',\n",
                            " '__new__',\n",
                            " '__reduce__',\n",
                            " '__reduce_ex__',\n",
                            " '__repr__',\n",
                            " '__rmod__',\n",
                            " '__rmul__',\n",
                            " '__setattr__',\n",
                            " '__sizeof__',\n",
                            " '__str__',\n",
                            " '__subclasshook__',\n",
                            " 'capitalize',\n",
                            " 'casefold',\n",
                            " 'center',\n",
                            " 'count',\n",
                            " 'encode',\n",
                            " 'endswith',\n",
                            " 'expandtabs',\n",
                            " 'find',\n",
                            " 'format',\n",
                            " 'format_map',\n",
                            " 'index',\n",
                            " 'isalnum',\n",
                            " 'isalpha',\n",
                            " 'isascii',\n",
                            " 'isdecimal',\n",
                            " 'isdigit',\n",
                            " 'isidentifier',\n",
                            " 'islower',\n",
                            " 'isnumeric',\n",
                            " 'isprintable',\n",
                            " 'isspace',\n",
                            " 'istitle',\n",
                            " 'isupper',\n",
                            " 'join',\n",
                            " 'ljust',\n",
                            " 'lower',\n",
                            " 'lstrip',\n",
                            " 'maketrans',\n",
                            " 'partition',\n",
                            " 'removeprefix',\n",
                            " 'removesuffix',\n",
                            " 'replace',\n",
                            " 'rfind',\n",
                            " 'rindex',\n",
                            " 'rjust',\n",
                            " 'rpartition',\n",
                            " 'rsplit',\n",
                            " 'rstrip',\n",
                            " 'split',\n",
                            " 'splitlines',\n",
                            " 'startswith',\n",
                            " 'strip',\n",
                            " 'swapcase',\n",
                            " 'title',\n",
                            " 'translate',\n",
                            " 'upper',\n",
                            " 'zfill']"
                        ]
                    },
                    "execution_count": 16,
                    "metadata": {},
                    "output_type": "execute_result"
                }
            ],
            "source": [
                "dir(str)"
            ]
        },
        {
            "cell_type": "code",
            "execution_count": 19,
            "metadata": {},
            "outputs": [
                {
                    "data": {
                        "text/plain": [
                            "False"
                        ]
                    },
                    "execution_count": 19,
                    "metadata": {},
                    "output_type": "execute_result"
                },
                {
                    "data": {
                        "text/plain": [
                            "False"
                        ]
                    },
                    "execution_count": 19,
                    "metadata": {},
                    "output_type": "execute_result"
                },
                {
                    "data": {
                        "text/plain": [
                            "True"
                        ]
                    },
                    "execution_count": 19,
                    "metadata": {},
                    "output_type": "execute_result"
                }
            ],
            "source": [
                "'hello'.istitle()\n",
                "'HELLO'.istitle()\n",
                "'Hello'.istitle()"
            ]
        },
        {
            "cell_type": "code",
            "execution_count": 20,
            "metadata": {},
            "outputs": [
                {
                    "data": {
                        "text/plain": [
                            "'hello'"
                        ]
                    },
                    "execution_count": 20,
                    "metadata": {},
                    "output_type": "execute_result"
                },
                {
                    "data": {
                        "text/plain": [
                            "'hello'"
                        ]
                    },
                    "execution_count": 20,
                    "metadata": {},
                    "output_type": "execute_result"
                },
                {
                    "data": {
                        "text/plain": [
                            "'hello'"
                        ]
                    },
                    "execution_count": 20,
                    "metadata": {},
                    "output_type": "execute_result"
                }
            ],
            "source": [
                "'Hello'.lower()\n",
                "'HELLO'.lower()\n",
                "'hello'.lower()"
            ]
        },
        {
            "cell_type": "code",
            "execution_count": 25,
            "metadata": {},
            "outputs": [
                {
                    "name": "stdin",
                    "output_type": "stream",
                    "text": "Would you like to switch?  n\n"
                },
                {
                    "data": {
                        "text/plain": [
                            "'n'"
                        ]
                    },
                    "execution_count": 25,
                    "metadata": {},
                    "output_type": "execute_result"
                }
            ],
            "source": [
                "switch = input('Would you like to switch? ')\n",
                "if switch.istitle():\n",
                "    switch = switch.lower()\n",
                "switch"
            ]
        },
        {
            "cell_type": "code",
            "execution_count": 26,
            "metadata": {},
            "outputs": [
                {
                    "name": "stdin",
                    "output_type": "stream",
                    "text": "Would you like to switch?  yes\n"
                },
                {
                    "data": {
                        "text/plain": [
                            "'yes'"
                        ]
                    },
                    "execution_count": 26,
                    "metadata": {},
                    "output_type": "execute_result"
                }
            ],
            "source": [
                "switch = input('Would you like to switch? ')\n",
                "if switch.istitle():\n",
                "    switch = switch.lower()\n",
                "    if switch == 'yes' or 'y':\n",
                "        switch = True\n",
                "switch"
            ]
        },
        {
            "cell_type": "code",
            "execution_count": 32,
            "metadata": {},
            "outputs": [
                {
                    "name": "stdin",
                    "output_type": "stream",
                    "text": "Would you like to switch?  3\n"
                },
                {
                    "data": {
                        "text/plain": [
                            "True"
                        ]
                    },
                    "execution_count": 32,
                    "metadata": {},
                    "output_type": "execute_result"
                }
            ],
            "source": [
                "switch = input('Would you like to switch? ')\n",
                "if switch.istitle():\n",
                "    switch = switch.lower()\n",
                "if switch == 'yes' or 'y':\n",
                "    switch = True\n",
                "switch"
            ]
        },
        {
            "cell_type": "code",
            "execution_count": 36,
            "metadata": {},
            "outputs": [
                {
                    "data": {
                        "text/plain": [
                            "True"
                        ]
                    },
                    "execution_count": 36,
                    "metadata": {},
                    "output_type": "execute_result"
                },
                {
                    "data": {
                        "text/plain": [
                            "True"
                        ]
                    },
                    "execution_count": 36,
                    "metadata": {},
                    "output_type": "execute_result"
                },
                {
                    "data": {
                        "text/plain": [
                            "False"
                        ]
                    },
                    "execution_count": 36,
                    "metadata": {},
                    "output_type": "execute_result"
                }
            ],
            "source": [
                "bool('yes')\n",
                "bool('y')\n",
                "bool('')"
            ]
        },
        {
            "cell_type": "code",
            "execution_count": 38,
            "metadata": {},
            "outputs": [
                {
                    "name": "stdin",
                    "output_type": "stream",
                    "text": "Would you like to switch?  2\n"
                },
                {
                    "data": {
                        "text/plain": [
                            "'2'"
                        ]
                    },
                    "execution_count": 38,
                    "metadata": {},
                    "output_type": "execute_result"
                }
            ],
            "source": [
                "switch = input('Would you like to switch? ')\n",
                "if switch.istitle():\n",
                "    switch = switch.lower()\n",
                "if switch == 'yes' or switch == 'y':\n",
                "    switch = True\n",
                "switch"
            ]
        },
        {
            "cell_type": "code",
            "execution_count": 39,
            "metadata": {},
            "outputs": [
                {
                    "name": "stdin",
                    "output_type": "stream",
                    "text": "Would you like to switch?  yes\n"
                },
                {
                    "data": {
                        "text/plain": [
                            "True"
                        ]
                    },
                    "execution_count": 39,
                    "metadata": {},
                    "output_type": "execute_result"
                }
            ],
            "source": [
                "switch = input('Would you like to switch? ')\n",
                "if switch.istitle():\n",
                "    switch = switch.lower()\n",
                "if switch in {'yes', 'y'}:\n",
                "    switch = True\n",
                "switch"
            ]
        },
        {
            "cell_type": "code",
            "execution_count": 40,
            "metadata": {},
            "outputs": [],
            "source": [
                "D = {'yes' : 10, 'y': -4}"
            ]
        },
        {
            "cell_type": "code",
            "execution_count": 41,
            "metadata": {},
            "outputs": [
                {
                    "data": {
                        "text/plain": [
                            "10"
                        ]
                    },
                    "execution_count": 41,
                    "metadata": {},
                    "output_type": "execute_result"
                }
            ],
            "source": [
                "D['yes']"
            ]
        },
        {
            "cell_type": "code",
            "execution_count": 42,
            "metadata": {},
            "outputs": [
                {
                    "data": {
                        "text/plain": [
                            "dict"
                        ]
                    },
                    "execution_count": 42,
                    "metadata": {},
                    "output_type": "execute_result"
                }
            ],
            "source": [
                "type(D)"
            ]
        },
        {
            "cell_type": "code",
            "execution_count": 43,
            "metadata": {},
            "outputs": [],
            "source": [
                "D = {'yes', 'y'}"
            ]
        },
        {
            "cell_type": "code",
            "execution_count": 44,
            "metadata": {},
            "outputs": [
                {
                    "data": {
                        "text/plain": [
                            "{'y', 'yes'}"
                        ]
                    },
                    "execution_count": 44,
                    "metadata": {},
                    "output_type": "execute_result"
                }
            ],
            "source": [
                "set(D)"
            ]
        },
        {
            "cell_type": "code",
            "execution_count": 45,
            "metadata": {},
            "outputs": [
                {
                    "data": {
                        "text/plain": [
                            "True"
                        ]
                    },
                    "execution_count": 45,
                    "metadata": {},
                    "output_type": "execute_result"
                }
            ],
            "source": [
                "'yes' in D"
            ]
        },
        {
            "cell_type": "code",
            "execution_count": 46,
            "metadata": {},
            "outputs": [
                {
                    "data": {
                        "text/plain": [
                            "False"
                        ]
                    },
                    "execution_count": 46,
                    "metadata": {},
                    "output_type": "execute_result"
                }
            ],
            "source": [
                "'Yes' in D"
            ]
        },
        {
            "cell_type": "code",
            "execution_count": 47,
            "metadata": {},
            "outputs": [
                {
                    "data": {
                        "text/plain": [
                            "dict"
                        ]
                    },
                    "execution_count": 47,
                    "metadata": {},
                    "output_type": "execute_result"
                }
            ],
            "source": [
                "type({})"
            ]
        },
        {
            "cell_type": "code",
            "execution_count": 48,
            "metadata": {},
            "outputs": [
                {
                    "data": {
                        "text/plain": [
                            "set()"
                        ]
                    },
                    "execution_count": 48,
                    "metadata": {},
                    "output_type": "execute_result"
                }
            ],
            "source": [
                "set()"
            ]
        },
        {
            "cell_type": "code",
            "execution_count": 49,
            "metadata": {},
            "outputs": [
                {
                    "data": {
                        "text/plain": [
                            "set"
                        ]
                    },
                    "execution_count": 49,
                    "metadata": {},
                    "output_type": "execute_result"
                }
            ],
            "source": [
                "type(set())"
            ]
        },
        {
            "cell_type": "code",
            "execution_count": 50,
            "metadata": {},
            "outputs": [
                {
                    "data": {
                        "text/plain": [
                            "{}"
                        ]
                    },
                    "execution_count": 50,
                    "metadata": {},
                    "output_type": "execute_result"
                }
            ],
            "source": [
                "dict()"
            ]
        },
        {
            "cell_type": "code",
            "execution_count": 51,
            "metadata": {},
            "outputs": [
                {
                    "data": {
                        "text/plain": [
                            "dict"
                        ]
                    },
                    "execution_count": 51,
                    "metadata": {},
                    "output_type": "execute_result"
                }
            ],
            "source": [
                "type(dict())"
            ]
        },
        {
            "cell_type": "code",
            "execution_count": 52,
            "metadata": {},
            "outputs": [
                {
                    "data": {
                        "text/plain": [
                            "True"
                        ]
                    },
                    "execution_count": 52,
                    "metadata": {},
                    "output_type": "execute_result"
                },
                {
                    "data": {
                        "text/plain": [
                            "False"
                        ]
                    },
                    "execution_count": 52,
                    "metadata": {},
                    "output_type": "execute_result"
                }
            ],
            "source": [
                "9 in [1, 9, 10]\n",
                "99 in [1, 9, 10]"
            ]
        },
        {
            "cell_type": "code",
            "execution_count": 57,
            "metadata": {},
            "outputs": [
                {
                    "data": {
                        "text/plain": [
                            "True"
                        ]
                    },
                    "execution_count": 57,
                    "metadata": {},
                    "output_type": "execute_result"
                },
                {
                    "data": {
                        "text/plain": [
                            "True"
                        ]
                    },
                    "execution_count": 57,
                    "metadata": {},
                    "output_type": "execute_result"
                },
                {
                    "data": {
                        "text/plain": [
                            "False"
                        ]
                    },
                    "execution_count": 57,
                    "metadata": {},
                    "output_type": "execute_result"
                },
                {
                    "data": {
                        "text/plain": [
                            "True"
                        ]
                    },
                    "execution_count": 57,
                    "metadata": {},
                    "output_type": "execute_result"
                }
            ],
            "source": [
                "'b' in 'abcd'\n",
                "'bc' in 'abcd'\n",
                "'bd' in 'abcd'\n",
                "'' in 'abcd'"
            ]
        },
        {
            "cell_type": "code",
            "execution_count": 60,
            "metadata": {},
            "outputs": [
                {
                    "name": "stdin",
                    "output_type": "stream",
                    "text": "Would you like to switch?  NO\n"
                },
                {
                    "data": {
                        "text/plain": [
                            "'NO'"
                        ]
                    },
                    "execution_count": 60,
                    "metadata": {},
                    "output_type": "execute_result"
                }
            ],
            "source": [
                "switch = input('Would you like to switch? ')\n",
                "if switch.istitle():\n",
                "    switch = switch.lower()\n",
                "if switch in {'yes', 'y'}:\n",
                "    switch = True\n",
                "if switch in {'no', 'n'}:\n",
                "    switch = False\n",
                "switch"
            ]
        },
        {
            "cell_type": "code",
            "execution_count": 62,
            "metadata": {},
            "outputs": [
                {
                    "name": "stdin",
                    "output_type": "stream",
                    "text": "Would you like to switch?  sdfs\n"
                },
                {
                    "name": "stdout",
                    "output_type": "stream",
                    "text": "Input incorrect, try again!\n"
                },
                {
                    "name": "stdin",
                    "output_type": "stream",
                    "text": "Would you like to switch?  sdf\n"
                },
                {
                    "name": "stdout",
                    "output_type": "stream",
                    "text": "Input incorrect, try again!\n"
                },
                {
                    "name": "stdin",
                    "output_type": "stream",
                    "text": "Would you like to switch?  sdf\n"
                },
                {
                    "name": "stdout",
                    "output_type": "stream",
                    "text": "Input incorrect, try again!\n"
                },
                {
                    "name": "stdin",
                    "output_type": "stream",
                    "text": "Would you like to switch?  NO\n"
                },
                {
                    "name": "stdout",
                    "output_type": "stream",
                    "text": "Input incorrect, try again!\n"
                },
                {
                    "name": "stdin",
                    "output_type": "stream",
                    "text": "Would you like to switch?  YES\n"
                },
                {
                    "name": "stdout",
                    "output_type": "stream",
                    "text": "Input incorrect, try again!\n"
                },
                {
                    "name": "stdin",
                    "output_type": "stream",
                    "text": "Would you like to switch?  Yes\n"
                },
                {
                    "data": {
                        "text/plain": [
                            "True"
                        ]
                    },
                    "execution_count": 62,
                    "metadata": {},
                    "output_type": "execute_result"
                }
            ],
            "source": [
                "while True:\n",
                "    switch = input('Would you like to switch? ')\n",
                "    if switch.istitle():\n",
                "        switch = switch.lower()\n",
                "    if switch in {'yes', 'y'}:\n",
                "        switch = True\n",
                "        break\n",
                "    if switch in {'no', 'n'}:\n",
                "        switch = False\n",
                "        break\n",
                "    print('Input incorrect, try again!')\n",
                "switch"
            ]
        },
        {
            "cell_type": "code",
            "execution_count": 65,
            "metadata": {},
            "outputs": [],
            "source": [
                "def set_simulation():\n",
                "    while True:\n",
                "        try:\n",
                "            nb_of_games = int(input('How many times do you want to play? '))\n",
                "            if nb_of_games \u003c= 0:\n",
                "                raise ValueError\n",
                "            break\n",
                "        except ValueError:\n",
                "            print('Input incorrect, try again!')\n",
                "    while True:\n",
                "        switch = input('Would you like to switch? ')\n",
                "        if switch.istitle():\n",
                "            switch = switch.lower()\n",
                "        if switch in {'yes', 'y'}:\n",
                "            switch = True\n",
                "            break\n",
                "        if switch in {'no', 'n'}:\n",
                "            switch = False\n",
                "            break\n",
                "        print('Input incorrect, try again!')\n",
                "    "
            ]
        },
        {
            "cell_type": "code",
            "execution_count": 66,
            "metadata": {},
            "outputs": [
                {
                    "name": "stdin",
                    "output_type": "stream",
                    "text": "How many times do you want to play?  1000\nWould you like to switch?  no\n"
                }
            ],
            "source": [
                "set_simulation()"
            ]
        },
        {
            "cell_type": "code",
            "execution_count": 67,
            "metadata": {},
            "outputs": [
                {
                    "data": {
                        "text/plain": [
                            "True"
                        ]
                    },
                    "execution_count": 67,
                    "metadata": {},
                    "output_type": "execute_result"
                }
            ],
            "source": [
                "switch"
            ]
        },
        {
            "cell_type": "code",
            "execution_count": 68,
            "metadata": {},
            "outputs": [],
            "source": [
                "def f():\n",
                "    return 2"
            ]
        },
        {
            "cell_type": "code",
            "execution_count": 69,
            "metadata": {},
            "outputs": [
                {
                    "data": {
                        "text/plain": [
                            "2"
                        ]
                    },
                    "execution_count": 69,
                    "metadata": {},
                    "output_type": "execute_result"
                }
            ],
            "source": [
                "f()"
            ]
        },
        {
            "cell_type": "code",
            "execution_count": 70,
            "metadata": {},
            "outputs": [],
            "source": [
                "def f():\n",
                "    return (2, 3)"
            ]
        },
        {
            "cell_type": "code",
            "execution_count": 71,
            "metadata": {},
            "outputs": [
                {
                    "data": {
                        "text/plain": [
                            "(2, 3)"
                        ]
                    },
                    "execution_count": 71,
                    "metadata": {},
                    "output_type": "execute_result"
                }
            ],
            "source": [
                "f()"
            ]
        },
        {
            "cell_type": "code",
            "execution_count": 72,
            "metadata": {},
            "outputs": [],
            "source": [
                "def f():\n",
                "    return 2, 3"
            ]
        },
        {
            "cell_type": "code",
            "execution_count": 73,
            "metadata": {},
            "outputs": [
                {
                    "data": {
                        "text/plain": [
                            "(2, 3)"
                        ]
                    },
                    "execution_count": 73,
                    "metadata": {},
                    "output_type": "execute_result"
                }
            ],
            "source": [
                "f()"
            ]
        },
        {
            "cell_type": "code",
            "execution_count": 74,
            "metadata": {},
            "outputs": [],
            "source": [
                "def set_simulation():\n",
                "    while True:\n",
                "        try:\n",
                "            nb_of_games = int(input('How many times do you want to play? '))\n",
                "            if nb_of_games \u003c= 0:\n",
                "                raise ValueError\n",
                "            break\n",
                "        except ValueError:\n",
                "            print('Input incorrect, try again!')\n",
                "    while True:\n",
                "        switch = input('Would you like to switch? ')\n",
                "        if switch.istitle():\n",
                "            switch = switch.lower()\n",
                "        if switch in {'yes', 'y'}:\n",
                "            switch = True\n",
                "            break\n",
                "        if switch in {'no', 'n'}:\n",
                "            switch = False\n",
                "            break\n",
                "        print('Input incorrect, try again!')\n",
                "    return nb_of_games, switch"
            ]
        },
        {
            "cell_type": "code",
            "execution_count": 75,
            "metadata": {},
            "outputs": [
                {
                    "name": "stdin",
                    "output_type": "stream",
                    "text": "How many times do you want to play?  das\n"
                },
                {
                    "name": "stdout",
                    "output_type": "stream",
                    "text": "Input incorrect, try again!\n"
                },
                {
                    "name": "stdin",
                    "output_type": "stream",
                    "text": "How many times do you want to play?  30\nWould you like to switch?  asdas\n"
                },
                {
                    "name": "stdout",
                    "output_type": "stream",
                    "text": "Input incorrect, try again!\n"
                },
                {
                    "name": "stdin",
                    "output_type": "stream",
                    "text": "Would you like to switch?  Yes\n"
                },
                {
                    "data": {
                        "text/plain": [
                            "(30, True)"
                        ]
                    },
                    "execution_count": 75,
                    "metadata": {},
                    "output_type": "execute_result"
                }
            ],
            "source": [
                "set_simulation()"
            ]
        },
        {
            "cell_type": "code",
            "execution_count": 76,
            "metadata": {},
            "outputs": [],
            "source": [
                "doors = ['A', 'B', 'C']"
            ]
        },
        {
            "cell_type": "code",
            "execution_count": 77,
            "metadata": {},
            "outputs": [],
            "source": [
                "from random import randrange"
            ]
        },
        {
            "cell_type": "code",
            "execution_count": 78,
            "metadata": {},
            "outputs": [
                {
                    "data": {
                        "text/plain": [
                            "1"
                        ]
                    },
                    "execution_count": 78,
                    "metadata": {},
                    "output_type": "execute_result"
                },
                {
                    "data": {
                        "text/plain": [
                            "2"
                        ]
                    },
                    "execution_count": 78,
                    "metadata": {},
                    "output_type": "execute_result"
                },
                {
                    "data": {
                        "text/plain": [
                            "1"
                        ]
                    },
                    "execution_count": 78,
                    "metadata": {},
                    "output_type": "execute_result"
                },
                {
                    "data": {
                        "text/plain": [
                            "0"
                        ]
                    },
                    "execution_count": 78,
                    "metadata": {},
                    "output_type": "execute_result"
                },
                {
                    "data": {
                        "text/plain": [
                            "1"
                        ]
                    },
                    "execution_count": 78,
                    "metadata": {},
                    "output_type": "execute_result"
                },
                {
                    "data": {
                        "text/plain": [
                            "2"
                        ]
                    },
                    "execution_count": 78,
                    "metadata": {},
                    "output_type": "execute_result"
                },
                {
                    "data": {
                        "text/plain": [
                            "0"
                        ]
                    },
                    "execution_count": 78,
                    "metadata": {},
                    "output_type": "execute_result"
                },
                {
                    "data": {
                        "text/plain": [
                            "1"
                        ]
                    },
                    "execution_count": 78,
                    "metadata": {},
                    "output_type": "execute_result"
                },
                {
                    "data": {
                        "text/plain": [
                            "2"
                        ]
                    },
                    "execution_count": 78,
                    "metadata": {},
                    "output_type": "execute_result"
                },
                {
                    "data": {
                        "text/plain": [
                            "0"
                        ]
                    },
                    "execution_count": 78,
                    "metadata": {},
                    "output_type": "execute_result"
                }
            ],
            "source": [
                "for i in range(10):\n",
                "    randrange(3)"
            ]
        },
        {
            "cell_type": "code",
            "execution_count": 79,
            "metadata": {},
            "outputs": [
                {
                    "data": {
                        "text/plain": [
                            "1"
                        ]
                    },
                    "execution_count": 79,
                    "metadata": {},
                    "output_type": "execute_result"
                },
                {
                    "data": {
                        "text/plain": [
                            "0"
                        ]
                    },
                    "execution_count": 79,
                    "metadata": {},
                    "output_type": "execute_result"
                },
                {
                    "data": {
                        "text/plain": [
                            "0"
                        ]
                    },
                    "execution_count": 79,
                    "metadata": {},
                    "output_type": "execute_result"
                },
                {
                    "data": {
                        "text/plain": [
                            "1"
                        ]
                    },
                    "execution_count": 79,
                    "metadata": {},
                    "output_type": "execute_result"
                },
                {
                    "data": {
                        "text/plain": [
                            "0"
                        ]
                    },
                    "execution_count": 79,
                    "metadata": {},
                    "output_type": "execute_result"
                },
                {
                    "data": {
                        "text/plain": [
                            "1"
                        ]
                    },
                    "execution_count": 79,
                    "metadata": {},
                    "output_type": "execute_result"
                },
                {
                    "data": {
                        "text/plain": [
                            "1"
                        ]
                    },
                    "execution_count": 79,
                    "metadata": {},
                    "output_type": "execute_result"
                },
                {
                    "data": {
                        "text/plain": [
                            "1"
                        ]
                    },
                    "execution_count": 79,
                    "metadata": {},
                    "output_type": "execute_result"
                },
                {
                    "data": {
                        "text/plain": [
                            "0"
                        ]
                    },
                    "execution_count": 79,
                    "metadata": {},
                    "output_type": "execute_result"
                },
                {
                    "data": {
                        "text/plain": [
                            "1"
                        ]
                    },
                    "execution_count": 79,
                    "metadata": {},
                    "output_type": "execute_result"
                }
            ],
            "source": [
                "for _ in range(10):\n",
                "    randrange(3)"
            ]
        },
        {
            "cell_type": "code",
            "execution_count": 80,
            "metadata": {},
            "outputs": [],
            "source": [
                "from random import choice"
            ]
        },
        {
            "cell_type": "code",
            "execution_count": 82,
            "metadata": {},
            "outputs": [
                {
                    "data": {
                        "text/plain": [
                            "'C'"
                        ]
                    },
                    "execution_count": 82,
                    "metadata": {},
                    "output_type": "execute_result"
                },
                {
                    "data": {
                        "text/plain": [
                            "'B'"
                        ]
                    },
                    "execution_count": 82,
                    "metadata": {},
                    "output_type": "execute_result"
                },
                {
                    "data": {
                        "text/plain": [
                            "'A'"
                        ]
                    },
                    "execution_count": 82,
                    "metadata": {},
                    "output_type": "execute_result"
                },
                {
                    "data": {
                        "text/plain": [
                            "'C'"
                        ]
                    },
                    "execution_count": 82,
                    "metadata": {},
                    "output_type": "execute_result"
                },
                {
                    "data": {
                        "text/plain": [
                            "'A'"
                        ]
                    },
                    "execution_count": 82,
                    "metadata": {},
                    "output_type": "execute_result"
                },
                {
                    "data": {
                        "text/plain": [
                            "'B'"
                        ]
                    },
                    "execution_count": 82,
                    "metadata": {},
                    "output_type": "execute_result"
                },
                {
                    "data": {
                        "text/plain": [
                            "'B'"
                        ]
                    },
                    "execution_count": 82,
                    "metadata": {},
                    "output_type": "execute_result"
                },
                {
                    "data": {
                        "text/plain": [
                            "'C'"
                        ]
                    },
                    "execution_count": 82,
                    "metadata": {},
                    "output_type": "execute_result"
                },
                {
                    "data": {
                        "text/plain": [
                            "'A'"
                        ]
                    },
                    "execution_count": 82,
                    "metadata": {},
                    "output_type": "execute_result"
                },
                {
                    "data": {
                        "text/plain": [
                            "'C'"
                        ]
                    },
                    "execution_count": 82,
                    "metadata": {},
                    "output_type": "execute_result"
                }
            ],
            "source": [
                "doors = ['A', 'B', 'C']\n",
                "for _ in range(10):\n",
                "    choice(doors)"
            ]
        },
        {
            "cell_type": "code",
            "execution_count": 83,
            "metadata": {},
            "outputs": [
                {
                    "ename": "TypeError",
                    "evalue": "'set' object is not subscriptable",
                    "output_type": "error",
                    "traceback": [
                        "\u001b[0;31m---------------------------------------------------------------------------\u001b[0m",
                        "\u001b[0;31mTypeError\u001b[0m                                 Traceback (most recent call last)",
                        "Cell \u001b[0;32mIn[83], line 3\u001b[0m\n\u001b[1;32m      1\u001b[0m doors \u001b[38;5;241m=\u001b[39m {\u001b[38;5;124m'\u001b[39m\u001b[38;5;124mA\u001b[39m\u001b[38;5;124m'\u001b[39m, \u001b[38;5;124m'\u001b[39m\u001b[38;5;124mB\u001b[39m\u001b[38;5;124m'\u001b[39m, \u001b[38;5;124m'\u001b[39m\u001b[38;5;124mC\u001b[39m\u001b[38;5;124m'\u001b[39m}\n\u001b[1;32m      2\u001b[0m \u001b[38;5;28;01mfor\u001b[39;00m _ \u001b[38;5;129;01min\u001b[39;00m \u001b[38;5;28mrange\u001b[39m(\u001b[38;5;241m10\u001b[39m):\n\u001b[0;32m----\u003e 3\u001b[0m     \u001b[43mchoice\u001b[49m\u001b[43m(\u001b[49m\u001b[43mdoors\u001b[49m\u001b[43m)\u001b[49m\n",
                        "File \u001b[0;32m/Library/Frameworks/Python.framework/Versions/3.12/lib/python3.12/random.py:348\u001b[0m, in \u001b[0;36mRandom.choice\u001b[0;34m(self, seq)\u001b[0m\n\u001b[1;32m    346\u001b[0m \u001b[38;5;28;01mif\u001b[39;00m \u001b[38;5;129;01mnot\u001b[39;00m \u001b[38;5;28mlen\u001b[39m(seq):\n\u001b[1;32m    347\u001b[0m     \u001b[38;5;28;01mraise\u001b[39;00m \u001b[38;5;167;01mIndexError\u001b[39;00m(\u001b[38;5;124m'\u001b[39m\u001b[38;5;124mCannot choose from an empty sequence\u001b[39m\u001b[38;5;124m'\u001b[39m)\n\u001b[0;32m--\u003e 348\u001b[0m \u001b[38;5;28;01mreturn\u001b[39;00m \u001b[43mseq\u001b[49m\u001b[43m[\u001b[49m\u001b[38;5;28;43mself\u001b[39;49m\u001b[38;5;241;43m.\u001b[39;49m\u001b[43m_randbelow\u001b[49m\u001b[43m(\u001b[49m\u001b[38;5;28;43mlen\u001b[39;49m\u001b[43m(\u001b[49m\u001b[43mseq\u001b[49m\u001b[43m)\u001b[49m\u001b[43m)\u001b[49m\u001b[43m]\u001b[49m\n",
                        "\u001b[0;31mTypeError\u001b[0m: 'set' object is not subscriptable"
                    ]
                }
            ],
            "source": [
                "doors = {'A', 'B', 'C'}\n",
                "for _ in range(10):\n",
                "    choice(doors)"
            ]
        },
        {
            "cell_type": "code",
            "execution_count": 92,
            "metadata": {},
            "outputs": [
                {
                    "data": {
                        "text/plain": [
                            "'B'"
                        ]
                    },
                    "execution_count": 92,
                    "metadata": {},
                    "output_type": "execute_result"
                },
                {
                    "data": {
                        "text/plain": [
                            "'C'"
                        ]
                    },
                    "execution_count": 92,
                    "metadata": {},
                    "output_type": "execute_result"
                },
                {
                    "data": {
                        "text/plain": [
                            "['A', 'B']"
                        ]
                    },
                    "execution_count": 92,
                    "metadata": {},
                    "output_type": "execute_result"
                }
            ],
            "source": [
                "doors = ['A', 'B', 'C']\n",
                "winning_door = choice(doors)\n",
                "winning_door\n",
                "first_choice = choice(doors)\n",
                "first_choice\n",
                "doors.remove(first_choice)\n",
                "doors"
            ]
        },
        {
            "cell_type": "code",
            "execution_count": 95,
            "metadata": {},
            "outputs": [
                {
                    "data": {
                        "text/plain": [
                            "'B'"
                        ]
                    },
                    "execution_count": 95,
                    "metadata": {},
                    "output_type": "execute_result"
                },
                {
                    "data": {
                        "text/plain": [
                            "'C'"
                        ]
                    },
                    "execution_count": 95,
                    "metadata": {},
                    "output_type": "execute_result"
                },
                {
                    "data": {
                        "text/plain": [
                            "['A', 'B']"
                        ]
                    },
                    "execution_count": 95,
                    "metadata": {},
                    "output_type": "execute_result"
                }
            ],
            "source": [
                "doors = ['A', 'B', 'C']\n",
                "winning_door = choice(doors)\n",
                "winning_door\n",
                "first_choice = doors.pop(randrange(3))\n",
                "first_choice\n",
                "doors"
            ]
        },
        {
            "cell_type": "code",
            "execution_count": 100,
            "metadata": {},
            "outputs": [
                {
                    "data": {
                        "text/plain": [
                            "'A'"
                        ]
                    },
                    "execution_count": 100,
                    "metadata": {},
                    "output_type": "execute_result"
                },
                {
                    "data": {
                        "text/plain": [
                            "'B'"
                        ]
                    },
                    "execution_count": 100,
                    "metadata": {},
                    "output_type": "execute_result"
                },
                {
                    "data": {
                        "text/plain": [
                            "'C'"
                        ]
                    },
                    "execution_count": 100,
                    "metadata": {},
                    "output_type": "execute_result"
                },
                {
                    "data": {
                        "text/plain": [
                            "['C']"
                        ]
                    },
                    "execution_count": 100,
                    "metadata": {},
                    "output_type": "execute_result"
                }
            ],
            "source": [
                "doors = ['A', 'B', 'C']\n",
                "winning_door = choice(doors)\n",
                "winning_door\n",
                "first_choice = doors.pop(randrange(3))\n",
                "first_choice\n",
                "if first_choice == winning_door:\n",
                "    opened_by_host = doors.pop(randrange(2))\n",
                "else:\n",
                "    doors.remove(winning_door)\n",
                "    opened_by_host = doors[0] \n",
                "opened_by_host\n",
                "doors"
            ]
        },
        {
            "cell_type": "code",
            "execution_count": 120,
            "metadata": {},
            "outputs": [
                {
                    "data": {
                        "text/plain": [
                            "'C'"
                        ]
                    },
                    "execution_count": 120,
                    "metadata": {},
                    "output_type": "execute_result"
                },
                {
                    "data": {
                        "text/plain": [
                            "'B'"
                        ]
                    },
                    "execution_count": 120,
                    "metadata": {},
                    "output_type": "execute_result"
                },
                {
                    "data": {
                        "text/plain": [
                            "'A'"
                        ]
                    },
                    "execution_count": 120,
                    "metadata": {},
                    "output_type": "execute_result"
                },
                {
                    "data": {
                        "text/plain": [
                            "'B'"
                        ]
                    },
                    "execution_count": 120,
                    "metadata": {},
                    "output_type": "execute_result"
                }
            ],
            "source": [
                "switch = False\n",
                "doors = ['A', 'B', 'C']\n",
                "winning_door = choice(doors)\n",
                "first_choice = doors.pop(randrange(3))\n",
                "if first_choice == winning_door:\n",
                "    opened_by_host = doors.pop(randrange(2))\n",
                "    if switch:\n",
                "        second_choice = doors[0]\n",
                "    else:\n",
                "        second_choice = first_choice\n",
                "else:\n",
                "    doors.remove(winning_door)\n",
                "    opened_by_host = doors[0]\n",
                "    if switch:\n",
                "        second_choice = winning_door\n",
                "    else:\n",
                "        second_choice = first_choice\n",
                "winning_door\n",
                "first_choice\n",
                "opened_by_host\n",
                "\n",
                "second_choice"
            ]
        },
        {
            "cell_type": "code",
            "execution_count": 103,
            "metadata": {},
            "outputs": [
                {
                    "data": {
                        "text/plain": [
                            "True"
                        ]
                    },
                    "execution_count": 103,
                    "metadata": {},
                    "output_type": "execute_result"
                }
            ],
            "source": [
                "switch"
            ]
        },
        {
            "cell_type": "code",
            "execution_count": 127,
            "metadata": {},
            "outputs": [
                {
                    "data": {
                        "text/plain": [
                            "'A'"
                        ]
                    },
                    "execution_count": 127,
                    "metadata": {},
                    "output_type": "execute_result"
                },
                {
                    "data": {
                        "text/plain": [
                            "'A'"
                        ]
                    },
                    "execution_count": 127,
                    "metadata": {},
                    "output_type": "execute_result"
                },
                {
                    "data": {
                        "text/plain": [
                            "'C'"
                        ]
                    },
                    "execution_count": 127,
                    "metadata": {},
                    "output_type": "execute_result"
                },
                {
                    "data": {
                        "text/plain": [
                            "'B'"
                        ]
                    },
                    "execution_count": 127,
                    "metadata": {},
                    "output_type": "execute_result"
                }
            ],
            "source": [
                "switch = True\n",
                "doors = ['A', 'B', 'C']\n",
                "winning_door = choice(doors)\n",
                "first_choice = doors.pop(randrange(3))\n",
                "if not switch:\n",
                "    second_choice = first_choice\n",
                "if first_choice == winning_door:\n",
                "    opened_by_host = doors.pop(randrange(2))\n",
                "    if switch:\n",
                "        second_choice = doors[0]\n",
                "else:\n",
                "    doors.remove(winning_door)\n",
                "    opened_by_host = doors[0]\n",
                "    if switch:\n",
                "        second_choice = winning_door\n",
                "winning_door\n",
                "first_choice\n",
                "opened_by_host\n",
                "second_choice"
            ]
        },
        {
            "cell_type": "code",
            "execution_count": 130,
            "metadata": {},
            "outputs": [
                {
                    "data": {
                        "text/plain": [
                            "'A'"
                        ]
                    },
                    "execution_count": 130,
                    "metadata": {},
                    "output_type": "execute_result"
                },
                {
                    "data": {
                        "text/plain": [
                            "'C'"
                        ]
                    },
                    "execution_count": 130,
                    "metadata": {},
                    "output_type": "execute_result"
                },
                {
                    "data": {
                        "text/plain": [
                            "'B'"
                        ]
                    },
                    "execution_count": 130,
                    "metadata": {},
                    "output_type": "execute_result"
                },
                {
                    "data": {
                        "text/plain": [
                            "'A'"
                        ]
                    },
                    "execution_count": 130,
                    "metadata": {},
                    "output_type": "execute_result"
                }
            ],
            "source": [
                "switch = True\n",
                "doors = ['A', 'B', 'C']\n",
                "winning_door = choice(doors)\n",
                "first_choice = doors.pop(randrange(3))\n",
                "second_choice = first_choice\n",
                "if first_choice == winning_door:\n",
                "    opened_by_host = doors.pop(randrange(2))\n",
                "    if switch:\n",
                "        second_choice = doors[0]\n",
                "else:\n",
                "    doors.remove(winning_door)\n",
                "    opened_by_host = doors[0]\n",
                "    if switch:\n",
                "        second_choice = winning_door\n",
                "winning_door\n",
                "first_choice\n",
                "opened_by_host\n",
                "second_choice"
            ]
        },
        {
            "cell_type": "code",
            "execution_count": 131,
            "metadata": {},
            "outputs": [
                {
                    "name": "stdin",
                    "output_type": "stream",
                    "text": "How many times do you want to play?  10_000\nWould you like to switch?  No\n"
                }
            ],
            "source": [
                "nb_of_games, switch = set_simulation()"
            ]
        },
        {
            "cell_type": "code",
            "execution_count": 132,
            "metadata": {},
            "outputs": [
                {
                    "data": {
                        "text/plain": [
                            "(10000, False)"
                        ]
                    },
                    "execution_count": 132,
                    "metadata": {},
                    "output_type": "execute_result"
                }
            ],
            "source": [
                "nb_of_games, switch"
            ]
        },
        {
            "cell_type": "code",
            "execution_count": 154,
            "metadata": {},
            "outputs": [
                {
                    "name": "stdout",
                    "output_type": "stream",
                    "text": "66.60%\n"
                }
            ],
            "source": [
                "nb_of_wins = 0\n",
                "for _ in range(nb_of_games):\n",
                "    doors = ['A', 'B', 'C']\n",
                "    winning_door = choice(doors)\n",
                "    first_choice = doors.pop(randrange(3))\n",
                "    second_choice = first_choice\n",
                "    if first_choice == winning_door:\n",
                "        opened_by_host = doors.pop(randrange(2))\n",
                "        if switch:\n",
                "            second_choice = doors[0]\n",
                "        else:\n",
                "            nb_of_wins += 1\n",
                "    else:\n",
                "        doors.remove(winning_door)\n",
                "        opened_by_host = doors[0]\n",
                "        if switch:\n",
                "            second_choice = winning_door\n",
                "            nb_of_wins += 1\n",
                "print(f'{nb_of_wins / nb_of_games * 100:.2f}%')"
            ]
        },
        {
            "cell_type": "code",
            "execution_count": 156,
            "metadata": {},
            "outputs": [],
            "source": [
                "nb_of_games, switch = 10, True"
            ]
        },
        {
            "cell_type": "code",
            "execution_count": 157,
            "metadata": {},
            "outputs": [
                {
                    "name": "stdout",
                    "output_type": "stream",
                    "text": "Unknown to contestant, winning door is C\nContestant would like to open C\n\nUnknown to contestant, winning door is B\nContestant would like to open A\n\nUnknown to contestant, winning door is A\nContestant would like to open A\n\nUnknown to contestant, winning door is B\nContestant would like to open C\n\nUnknown to contestant, winning door is A\nContestant would like to open A\n\nUnknown to contestant, winning door is A\nContestant would like to open C\n\nUnknown to contestant, winning door is B\nContestant would like to open B\n\nUnknown to contestant, winning door is C\nContestant would like to open B\n\nUnknown to contestant, winning door is B\nContestant would like to open B\n\nUnknown to contestant, winning door is B\nContestant would like to open B\n\n40.00%\n"
                }
            ],
            "source": [
                "nb_of_wins = 0\n",
                "for _ in range(nb_of_games):\n",
                "    doors = ['A', 'B', 'C']\n",
                "    winning_door = choice(doors)\n",
                "    print('Unknown to contestant, winning door is', winning_door)\n",
                "    first_choice = doors.pop(randrange(3))\n",
                "    print('Contestant would like to open', first_choice)\n",
                "    second_choice = first_choice\n",
                "    if first_choice == winning_door:\n",
                "        opened_by_host = doors.pop(randrange(2))\n",
                "        if switch:\n",
                "            second_choice = doors[0]\n",
                "        else:\n",
                "            nb_of_wins += 1\n",
                "    else:\n",
                "        doors.remove(winning_door)\n",
                "        opened_by_host = doors[0]\n",
                "        if switch:\n",
                "            second_choice = winning_door\n",
                "            nb_of_wins += 1\n",
                "    print()\n",
                "print(f'{nb_of_wins / nb_of_games * 100:.2f}%')"
            ]
        },
        {
            "cell_type": "code",
            "execution_count": 158,
            "metadata": {},
            "outputs": [],
            "source": [
                "def f(a, b, c, d):\n",
                "    print(a, b, c, d)"
            ]
        },
        {
            "cell_type": "code",
            "execution_count": 159,
            "metadata": {},
            "outputs": [
                {
                    "name": "stdout",
                    "output_type": "stream",
                    "text": "1 3 5 7\n"
                }
            ],
            "source": [
                "f(1, 3, 5, 7)"
            ]
        },
        {
            "cell_type": "code",
            "execution_count": 162,
            "metadata": {},
            "outputs": [],
            "source": [
                "def f(a, b, c, d=10):\n",
                "    print(a, b, c, d)"
            ]
        },
        {
            "cell_type": "code",
            "execution_count": 161,
            "metadata": {},
            "outputs": [
                {
                    "name": "stdout",
                    "output_type": "stream",
                    "text": "1 3 5 7\n"
                }
            ],
            "source": [
                "f(1, 3, 5, 7)"
            ]
        },
        {
            "cell_type": "code",
            "execution_count": 163,
            "metadata": {},
            "outputs": [
                {
                    "name": "stdout",
                    "output_type": "stream",
                    "text": "1 3 5 10\n"
                }
            ],
            "source": [
                "f(1, 3, 5)"
            ]
        },
        {
            "cell_type": "code",
            "execution_count": 164,
            "metadata": {},
            "outputs": [],
            "source": [
                "def f(a, b, c=100, d=10):\n",
                "    print(a, b, c, d)"
            ]
        },
        {
            "cell_type": "code",
            "execution_count": 165,
            "metadata": {},
            "outputs": [
                {
                    "name": "stdout",
                    "output_type": "stream",
                    "text": "1 3 5 7\n"
                }
            ],
            "source": [
                "f(1, 3, 5, 7)"
            ]
        },
        {
            "cell_type": "code",
            "execution_count": 166,
            "metadata": {},
            "outputs": [
                {
                    "name": "stdout",
                    "output_type": "stream",
                    "text": "1 3 5 10\n"
                }
            ],
            "source": [
                "f(1, 3, 5)"
            ]
        },
        {
            "cell_type": "code",
            "execution_count": 167,
            "metadata": {},
            "outputs": [
                {
                    "name": "stdout",
                    "output_type": "stream",
                    "text": "1 3 100 10\n"
                }
            ],
            "source": [
                "f(1, 3)"
            ]
        },
        {
            "cell_type": "code",
            "execution_count": 168,
            "metadata": {},
            "outputs": [
                {
                    "ename": "TypeError",
                    "evalue": "f() missing 1 required positional argument: 'b'",
                    "output_type": "error",
                    "traceback": [
                        "\u001b[0;31m---------------------------------------------------------------------------\u001b[0m",
                        "\u001b[0;31mTypeError\u001b[0m                                 Traceback (most recent call last)",
                        "Cell \u001b[0;32mIn[168], line 1\u001b[0m\n\u001b[0;32m----\u003e 1\u001b[0m \u001b[43mf\u001b[49m\u001b[43m(\u001b[49m\u001b[38;5;241;43m1\u001b[39;49m\u001b[43m)\u001b[49m\n",
                        "\u001b[0;31mTypeError\u001b[0m: f() missing 1 required positional argument: 'b'"
                    ]
                }
            ],
            "source": [
                "f(1)"
            ]
        },
        {
            "cell_type": "code",
            "execution_count": 169,
            "metadata": {},
            "outputs": [
                {
                    "name": "stdout",
                    "output_type": "stream",
                    "text": "1 2000 100 10\n"
                }
            ],
            "source": [
                "f(1, b=2000)"
            ]
        },
        {
            "cell_type": "code",
            "execution_count": 170,
            "metadata": {},
            "outputs": [
                {
                    "name": "stdout",
                    "output_type": "stream",
                    "text": "1 2000 100 10\n"
                }
            ],
            "source": [
                "f(1, 2000)"
            ]
        },
        {
            "cell_type": "code",
            "execution_count": 171,
            "metadata": {},
            "outputs": [
                {
                    "ename": "TypeError",
                    "evalue": "f() missing 1 required positional argument: 'b'",
                    "output_type": "error",
                    "traceback": [
                        "\u001b[0;31m---------------------------------------------------------------------------\u001b[0m",
                        "\u001b[0;31mTypeError\u001b[0m                                 Traceback (most recent call last)",
                        "Cell \u001b[0;32mIn[171], line 1\u001b[0m\n\u001b[0;32m----\u003e 1\u001b[0m \u001b[43mf\u001b[49m\u001b[43m(\u001b[49m\u001b[38;5;241;43m1\u001b[39;49m\u001b[43m,\u001b[49m\u001b[43m \u001b[49m\u001b[43md\u001b[49m\u001b[38;5;241;43m=\u001b[39;49m\u001b[38;5;241;43m2000\u001b[39;49m\u001b[43m)\u001b[49m\n",
                        "\u001b[0;31mTypeError\u001b[0m: f() missing 1 required positional argument: 'b'"
                    ]
                }
            ],
            "source": [
                "f(1, d=2000)"
            ]
        },
        {
            "cell_type": "code",
            "execution_count": 172,
            "metadata": {},
            "outputs": [
                {
                    "name": "stdout",
                    "output_type": "stream",
                    "text": "1 7000 100 2000\n"
                }
            ],
            "source": [
                "f(1, d=2000, b=7000)"
            ]
        },
        {
            "cell_type": "code",
            "execution_count": 173,
            "metadata": {},
            "outputs": [
                {
                    "name": "stdout",
                    "output_type": "stream",
                    "text": "-5 7000 100 10\n"
                }
            ],
            "source": [
                "f(b=7000, a=-5)"
            ]
        },
        {
            "cell_type": "code",
            "execution_count": 0,
            "metadata": {},
            "outputs": [],
            "source": [
                ""
            ]
        }
    ]
}
