{
 "cells": [
  {
   "cell_type": "markdown",
   "id": "841253c6-5e03-4530-9e5a-57d2c31ad4eb",
   "metadata": {
    "tags": []
   },
   "source": [
    "# Data types"
   ]
  },
  {
   "cell_type": "markdown",
   "id": "1c99b760-1817-4954-a2ba-7fed21ca33fa",
   "metadata": {
    "tags": []
   },
   "source": [
    "## str"
   ]
  },
  {
   "cell_type": "markdown",
   "id": "0c93c37f-a4a7-4c36-bd56-f5ca47dbfb8c",
   "metadata": {},
   "source": [
    "### Formated strings"
   ]
  },
  {
   "cell_type": "markdown",
   "id": "ecd8cb92-6175-41a8-9bf5-6c4107e79829",
   "metadata": {},
   "source": [
    "### Float formatting"
   ]
  },
  {
   "cell_type": "markdown",
   "id": "422dc8fe-8187-4d5a-9cfd-e21a331ec9b0",
   "metadata": {},
   "source": [
    "### methods: istitle(), lower()"
   ]
  },
  {
   "cell_type": "markdown",
   "id": "bbbb5fb0-3562-4e6b-b0db-b22b7197f3df",
   "metadata": {
    "tags": []
   },
   "source": [
    "## list"
   ]
  },
  {
   "cell_type": "markdown",
   "id": "ee4b9433-f317-46a8-9c5f-fd7603f5b747",
   "metadata": {},
   "source": [
    "### methods: pop(), remove()"
   ]
  },
  {
   "cell_type": "markdown",
   "id": "cc618dbd-231d-4377-81a0-470d3e747cf7",
   "metadata": {
    "tags": []
   },
   "source": [
    "## set"
   ]
  },
  {
   "cell_type": "markdown",
   "id": "e5a3bfa9-a16f-4968-84ac-1774988ec29c",
   "metadata": {
    "tags": []
   },
   "source": [
    "# Operators"
   ]
  },
  {
   "cell_type": "markdown",
   "id": "a8c82483-482d-4538-b79d-c0983fad968f",
   "metadata": {
    "jp-MarkdownHeadingCollapsed": true,
    "tags": []
   },
   "source": [
    "## in"
   ]
  },
  {
   "cell_type": "markdown",
   "id": "21046edc-104e-490f-b68c-1dfdcf4716a8",
   "metadata": {
    "tags": []
   },
   "source": [
    "# Statements"
   ]
  },
  {
   "cell_type": "markdown",
   "id": "2d2c01fb-6de9-4e63-8acb-ea43263ebd2e",
   "metadata": {
    "jp-MarkdownHeadingCollapsed": true
   },
   "source": [
    "## break (within a loop)"
   ]
  },
  {
   "cell_type": "markdown",
   "id": "a406b98b-ef3f-4da1-b05d-106bd1a76433",
   "metadata": {},
   "source": [
    "## if ... [elif ...]* else ..."
   ]
  },
  {
   "cell_type": "markdown",
   "id": "0b56db2a-f9f2-4024-b208-ed6d2ff087eb",
   "metadata": {},
   "source": [
    "## try ... except ..."
   ]
  },
  {
   "cell_type": "markdown",
   "id": "4c08294e-5184-4589-b102-6628a1bd0113",
   "metadata": {
    "tags": []
   },
   "source": [
    "# Functions"
   ]
  },
  {
   "cell_type": "markdown",
   "id": "4a1a1e7e-65c7-41e5-9482-8a5c19eed433",
   "metadata": {
    "jp-MarkdownHeadingCollapsed": true,
    "tags": []
   },
   "source": [
    "## Arguments with default values"
   ]
  },
  {
   "cell_type": "markdown",
   "id": "1d39f0cc-42bc-4274-89f9-8287552b935d",
   "metadata": {
    "jp-MarkdownHeadingCollapsed": true,
    "tags": []
   },
   "source": [
    "## Specific functions:"
   ]
  },
  {
   "cell_type": "markdown",
   "id": "c0692df1-3cb7-4150-9288-4b206e6b5284",
   "metadata": {
    "jp-MarkdownHeadingCollapsed": true,
    "tags": []
   },
   "source": [
    "### input()"
   ]
  },
  {
   "cell_type": "markdown",
   "id": "99b81a72-0dff-4c5f-aea4-a9c3c137a0e9",
   "metadata": {},
   "source": [
    "### range(), with one argument"
   ]
  },
  {
   "cell_type": "markdown",
   "id": "f5075ac2-7f35-4e71-afb9-54bcd8e0f677",
   "metadata": {},
   "source": [
    "### randrange() from random module"
   ]
  },
  {
   "cell_type": "markdown",
   "id": "62ad4dfe-d42f-4600-99bf-cebb91129014",
   "metadata": {},
   "source": [
    "### choice() from random module"
   ]
  }
 ],
 "metadata": {
  "kernelspec": {
   "display_name": "Python 3 (ipykernel)",
   "language": "python",
   "name": "python3"
  },
  "language_info": {
   "codemirror_mode": {
    "name": "ipython",
    "version": 3
   },
   "file_extension": ".py",
   "mimetype": "text/x-python",
   "name": "python",
   "nbconvert_exporter": "python",
   "pygments_lexer": "ipython3",
   "version": "3.12.6"
  }
 },
 "nbformat": 4,
 "nbformat_minor": 5
}
