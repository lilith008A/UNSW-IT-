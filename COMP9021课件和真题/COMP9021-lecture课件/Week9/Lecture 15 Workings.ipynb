{
 "cells": [
  {
   "cell_type": "code",
   "execution_count": 2,
   "id": "71014f14-19f8-4fb5-9fd7-f0be9040d862",
   "metadata": {},
   "outputs": [],
   "source": [
    "class Account:\n",
    "    def __init__(self, name):\n",
    "        self.first_name, self.last_name = name.split()\n",
    "        self.amount = 0\n",
    "\n",
    "    def credit(self, money):\n",
    "        self.amount += money\n",
    "\n",
    "    def debit(self, money):\n",
    "        self.amount -= money\n",
    "    "
   ]
  },
  {
   "cell_type": "code",
   "execution_count": 3,
   "id": "7cf1ecd5-36a8-4ccf-9f4e-9c5321ca44ee",
   "metadata": {},
   "outputs": [],
   "source": [
    "I = Account('Julius Caesar')"
   ]
  },
  {
   "cell_type": "code",
   "execution_count": 4,
   "id": "14a763b2-54c8-4656-b41b-866e2f6fdc55",
   "metadata": {},
   "outputs": [
    {
     "data": {
      "text/plain": [
       "{'first_name': 'Julius', 'last_name': 'Caesar', 'amount': 0}"
      ]
     },
     "execution_count": 4,
     "metadata": {},
     "output_type": "execute_result"
    }
   ],
   "source": [
    "I.__dict__"
   ]
  },
  {
   "cell_type": "code",
   "execution_count": 5,
   "id": "75fc1949-f456-4a6b-9ea4-931d054f7d79",
   "metadata": {},
   "outputs": [
    {
     "data": {
      "text/plain": [
       "'Caesar'"
      ]
     },
     "execution_count": 5,
     "metadata": {},
     "output_type": "execute_result"
    }
   ],
   "source": [
    "I.last_name"
   ]
  },
  {
   "cell_type": "code",
   "execution_count": 6,
   "id": "3c2314bc-8098-4607-b0bc-1238f6ccfcc6",
   "metadata": {},
   "outputs": [],
   "source": [
    "I.credit(100)"
   ]
  },
  {
   "cell_type": "code",
   "execution_count": 8,
   "id": "a989e8d5-27ef-4949-b3b2-7d0e6f95dd56",
   "metadata": {},
   "outputs": [
    {
     "data": {
      "text/plain": [
       "100"
      ]
     },
     "execution_count": 8,
     "metadata": {},
     "output_type": "execute_result"
    }
   ],
   "source": [
    "I.amount"
   ]
  },
  {
   "cell_type": "code",
   "execution_count": 9,
   "id": "398060a6-4c14-4f2f-9842-9d99f51e944d",
   "metadata": {},
   "outputs": [],
   "source": [
    "Account.credit(I, 200)"
   ]
  },
  {
   "cell_type": "code",
   "execution_count": 10,
   "id": "0119df23-b975-46ef-afeb-f69c9c5bd3dd",
   "metadata": {},
   "outputs": [
    {
     "data": {
      "text/plain": [
       "300"
      ]
     },
     "execution_count": 10,
     "metadata": {},
     "output_type": "execute_result"
    }
   ],
   "source": [
    "I.amount"
   ]
  },
  {
   "cell_type": "code",
   "execution_count": 11,
   "id": "b396c5be-ac14-4eae-931c-2337e6570ca8",
   "metadata": {},
   "outputs": [
    {
     "data": {
      "text/plain": [
       "mappingproxy({'__module__': '__main__',\n",
       "              '__firstlineno__': 1,\n",
       "              '__init__': <function __main__.Account.__init__(self, name)>,\n",
       "              'credit': <function __main__.Account.credit(self, money)>,\n",
       "              'debit': <function __main__.Account.debit(self, money)>,\n",
       "              '__static_attributes__': ('amount', 'first_name', 'last_name'),\n",
       "              '__dict__': <attribute '__dict__' of 'Account' objects>,\n",
       "              '__weakref__': <attribute '__weakref__' of 'Account' objects>,\n",
       "              '__doc__': None})"
      ]
     },
     "execution_count": 11,
     "metadata": {},
     "output_type": "execute_result"
    }
   ],
   "source": [
    "Account.__dict__"
   ]
  },
  {
   "cell_type": "code",
   "execution_count": 12,
   "id": "94659652-0344-4b88-b603-b7a980c2b2db",
   "metadata": {},
   "outputs": [],
   "source": [
    "Account.__dict__['credit'](I, 50)"
   ]
  },
  {
   "cell_type": "code",
   "execution_count": 13,
   "id": "7c9b0257-c2ed-4e4d-a9d6-13eb1b269ba2",
   "metadata": {},
   "outputs": [
    {
     "data": {
      "text/plain": [
       "350"
      ]
     },
     "execution_count": 13,
     "metadata": {},
     "output_type": "execute_result"
    }
   ],
   "source": [
    "I.amount"
   ]
  },
  {
   "cell_type": "code",
   "execution_count": 14,
   "id": "309a94a5-aed7-4d49-b859-c88bf58a2762",
   "metadata": {},
   "outputs": [
    {
     "ename": "ValueError",
     "evalue": "not enough values to unpack (expected 2, got 1)",
     "output_type": "error",
     "traceback": [
      "\u001b[0;31m---------------------------------------------------------------------------\u001b[0m",
      "\u001b[0;31mValueError\u001b[0m                                Traceback (most recent call last)",
      "Cell \u001b[0;32mIn[14], line 1\u001b[0m\n\u001b[0;32m----> 1\u001b[0m J \u001b[38;5;241m=\u001b[39m \u001b[43mAccount\u001b[49m\u001b[43m(\u001b[49m\u001b[38;5;124;43m'\u001b[39;49m\u001b[38;5;124;43mAristotle\u001b[39;49m\u001b[38;5;124;43m'\u001b[39;49m\u001b[43m)\u001b[49m\n",
      "Cell \u001b[0;32mIn[2], line 3\u001b[0m, in \u001b[0;36mAccount.__init__\u001b[0;34m(self, name)\u001b[0m\n\u001b[1;32m      2\u001b[0m \u001b[38;5;28;01mdef\u001b[39;00m \u001b[38;5;21m__init__\u001b[39m(\u001b[38;5;28mself\u001b[39m, name):\n\u001b[0;32m----> 3\u001b[0m     \u001b[38;5;28mself\u001b[39m\u001b[38;5;241m.\u001b[39mfirst_name, \u001b[38;5;28mself\u001b[39m\u001b[38;5;241m.\u001b[39mlast_name \u001b[38;5;241m=\u001b[39m name\u001b[38;5;241m.\u001b[39msplit()\n\u001b[1;32m      4\u001b[0m     \u001b[38;5;28mself\u001b[39m\u001b[38;5;241m.\u001b[39mamount \u001b[38;5;241m=\u001b[39m \u001b[38;5;241m0\u001b[39m\n",
      "\u001b[0;31mValueError\u001b[0m: not enough values to unpack (expected 2, got 1)"
     ]
    }
   ],
   "source": [
    "J = Account('Aristotle')"
   ]
  },
  {
   "cell_type": "code",
   "execution_count": 15,
   "id": "8e57c739-2817-474b-a9c3-4bd1cfc8810a",
   "metadata": {},
   "outputs": [],
   "source": [
    "class AccountError(Exception):\n",
    "    pass"
   ]
  },
  {
   "cell_type": "code",
   "execution_count": 16,
   "id": "6505ab37-9294-4cf7-bf23-8ed680086f23",
   "metadata": {},
   "outputs": [],
   "source": [
    "class Account:\n",
    "    def __init__(self, name):\n",
    "        try:\n",
    "            self.first_name, self.last_name = name.split()\n",
    "        except ValueError:\n",
    "            raise AccountError('I need first and last name')\n",
    "        self.amount = 0\n",
    "\n",
    "    def credit(self, money):\n",
    "        self.amount += money\n",
    "\n",
    "    def debit(self, money):\n",
    "        self.amount -= money\n",
    "    "
   ]
  },
  {
   "cell_type": "code",
   "execution_count": 17,
   "id": "7862d845-660f-4bb8-bb9f-9b69bc7a0a6e",
   "metadata": {},
   "outputs": [
    {
     "ename": "AccountError",
     "evalue": "I need first and last name",
     "output_type": "error",
     "traceback": [
      "\u001b[0;31m---------------------------------------------------------------------------\u001b[0m",
      "\u001b[0;31mValueError\u001b[0m                                Traceback (most recent call last)",
      "Cell \u001b[0;32mIn[16], line 4\u001b[0m, in \u001b[0;36mAccount.__init__\u001b[0;34m(self, name)\u001b[0m\n\u001b[1;32m      3\u001b[0m \u001b[38;5;28;01mtry\u001b[39;00m:\n\u001b[0;32m----> 4\u001b[0m     \u001b[38;5;28mself\u001b[39m\u001b[38;5;241m.\u001b[39mfirst_name, \u001b[38;5;28mself\u001b[39m\u001b[38;5;241m.\u001b[39mlast_name \u001b[38;5;241m=\u001b[39m name\u001b[38;5;241m.\u001b[39msplit()\n\u001b[1;32m      5\u001b[0m \u001b[38;5;28;01mexcept\u001b[39;00m \u001b[38;5;167;01mValueError\u001b[39;00m:\n",
      "\u001b[0;31mValueError\u001b[0m: not enough values to unpack (expected 2, got 1)",
      "\nDuring handling of the above exception, another exception occurred:\n",
      "\u001b[0;31mAccountError\u001b[0m                              Traceback (most recent call last)",
      "Cell \u001b[0;32mIn[17], line 1\u001b[0m\n\u001b[0;32m----> 1\u001b[0m J \u001b[38;5;241m=\u001b[39m \u001b[43mAccount\u001b[49m\u001b[43m(\u001b[49m\u001b[38;5;124;43m'\u001b[39;49m\u001b[38;5;124;43mAristotle\u001b[39;49m\u001b[38;5;124;43m'\u001b[39;49m\u001b[43m)\u001b[49m\n",
      "Cell \u001b[0;32mIn[16], line 6\u001b[0m, in \u001b[0;36mAccount.__init__\u001b[0;34m(self, name)\u001b[0m\n\u001b[1;32m      4\u001b[0m     \u001b[38;5;28mself\u001b[39m\u001b[38;5;241m.\u001b[39mfirst_name, \u001b[38;5;28mself\u001b[39m\u001b[38;5;241m.\u001b[39mlast_name \u001b[38;5;241m=\u001b[39m name\u001b[38;5;241m.\u001b[39msplit()\n\u001b[1;32m      5\u001b[0m \u001b[38;5;28;01mexcept\u001b[39;00m \u001b[38;5;167;01mValueError\u001b[39;00m:\n\u001b[0;32m----> 6\u001b[0m     \u001b[38;5;28;01mraise\u001b[39;00m AccountError(\u001b[38;5;124m'\u001b[39m\u001b[38;5;124mI need first and last name\u001b[39m\u001b[38;5;124m'\u001b[39m)\n\u001b[1;32m      7\u001b[0m \u001b[38;5;28mself\u001b[39m\u001b[38;5;241m.\u001b[39mamount \u001b[38;5;241m=\u001b[39m \u001b[38;5;241m0\u001b[39m\n",
      "\u001b[0;31mAccountError\u001b[0m: I need first and last name"
     ]
    }
   ],
   "source": [
    "J = Account('Aristotle')"
   ]
  },
  {
   "cell_type": "code",
   "execution_count": 18,
   "id": "b2aeee81-78a9-4c24-a231-c6685ecbf415",
   "metadata": {},
   "outputs": [
    {
     "name": "stdout",
     "output_type": "stream",
     "text": [
      "Does not work!\n"
     ]
    }
   ],
   "source": [
    "try:\n",
    "    J = Account('Aristotle')\n",
    "except AccountError:\n",
    "    print('Does not work!')"
   ]
  },
  {
   "cell_type": "code",
   "execution_count": 19,
   "id": "69651cc2-4538-49a1-b53b-0c619bf14c5c",
   "metadata": {},
   "outputs": [
    {
     "name": "stdout",
     "output_type": "stream",
     "text": [
      "I need first and last name\n"
     ]
    }
   ],
   "source": [
    "try:\n",
    "    J = Account('Aristotle')\n",
    "except AccountError as e:\n",
    "    print(e)"
   ]
  },
  {
   "cell_type": "code",
   "execution_count": 22,
   "id": "cd6fed96-4071-4823-ac33-8b82ebc98406",
   "metadata": {},
   "outputs": [],
   "source": [
    "class Account:\n",
    "    def __init__(self, name):\n",
    "        try:\n",
    "            self.first_name, self.last_name = name.split()\n",
    "        except ValueError:\n",
    "            raise AccountError('I need first and last name')\n",
    "        self.amount = 0\n",
    "\n",
    "    def credit(self, money):\n",
    "        self.amount += money\n",
    "\n",
    "    def debit(self, money):\n",
    "        self.amount -= money\n",
    "\n",
    "    def __repr__(self):\n",
    "        return f'Account({\" \".join((self.first_name, self.last_name))})'"
   ]
  },
  {
   "cell_type": "code",
   "execution_count": 23,
   "id": "0a871454-f92d-49cd-a873-79d78e000175",
   "metadata": {},
   "outputs": [],
   "source": [
    "I = Account('Julius Caesar')"
   ]
  },
  {
   "cell_type": "code",
   "execution_count": 24,
   "id": "f20e8d0d-f4c7-4f8d-8126-0de3253fb523",
   "metadata": {},
   "outputs": [
    {
     "data": {
      "text/plain": [
       "Account(Julius Caesar)"
      ]
     },
     "execution_count": 24,
     "metadata": {},
     "output_type": "execute_result"
    }
   ],
   "source": [
    "I"
   ]
  },
  {
   "cell_type": "code",
   "execution_count": 25,
   "id": "d1b9215b-34eb-4494-8851-bcd1c7ec6552",
   "metadata": {},
   "outputs": [
    {
     "ename": "SyntaxError",
     "evalue": "invalid syntax. Perhaps you forgot a comma? (143099282.py, line 1)",
     "output_type": "error",
     "traceback": [
      "\u001b[0;36m  Cell \u001b[0;32mIn[25], line 1\u001b[0;36m\u001b[0m\n\u001b[0;31m    Account(Julius Caesar)\u001b[0m\n\u001b[0m            ^\u001b[0m\n\u001b[0;31mSyntaxError\u001b[0m\u001b[0;31m:\u001b[0m invalid syntax. Perhaps you forgot a comma?\n"
     ]
    }
   ],
   "source": [
    "Account(Julius Caesar)"
   ]
  },
  {
   "cell_type": "code",
   "execution_count": 27,
   "id": "30424c2e-a286-4817-9b53-0093a7139fa5",
   "metadata": {},
   "outputs": [],
   "source": [
    "class Account:\n",
    "    def __init__(self, name):\n",
    "        try:\n",
    "            self.first_name, self.last_name = name.split()\n",
    "        except ValueError:\n",
    "            raise AccountError('I need first and last name')\n",
    "        self.amount = 0\n",
    "\n",
    "    def credit(self, money):\n",
    "        self.amount += money\n",
    "\n",
    "    def debit(self, money):\n",
    "        self.amount -= money\n",
    "\n",
    "    def __repr__(self):\n",
    "        return f\"Account('{\" \".join((self.first_name, self.last_name))}')\""
   ]
  },
  {
   "cell_type": "code",
   "execution_count": 29,
   "id": "6be1c2eb-b455-4b89-8128-ece8e7000c75",
   "metadata": {},
   "outputs": [],
   "source": [
    "I = Account('Julius Caesar')"
   ]
  },
  {
   "cell_type": "code",
   "execution_count": 30,
   "id": "90f305d0-2efd-451b-bb13-cc2413723f6e",
   "metadata": {},
   "outputs": [
    {
     "data": {
      "text/plain": [
       "Account('Julius Caesar')"
      ]
     },
     "execution_count": 30,
     "metadata": {},
     "output_type": "execute_result"
    }
   ],
   "source": [
    "I"
   ]
  },
  {
   "cell_type": "code",
   "execution_count": 31,
   "id": "0771b135-0f9f-42ff-9d74-6582b021912b",
   "metadata": {},
   "outputs": [
    {
     "data": {
      "text/plain": [
       "Account('Julius Caesar')"
      ]
     },
     "execution_count": 31,
     "metadata": {},
     "output_type": "execute_result"
    }
   ],
   "source": [
    "Account('Julius Caesar')"
   ]
  },
  {
   "cell_type": "code",
   "execution_count": 32,
   "id": "b8bf50a4-e229-4f61-b657-cdecaabd9ce5",
   "metadata": {},
   "outputs": [
    {
     "data": {
      "text/plain": [
       "\"Account('Julius Caesar')\""
      ]
     },
     "execution_count": 32,
     "metadata": {},
     "output_type": "execute_result"
    }
   ],
   "source": [
    "repr(I)"
   ]
  },
  {
   "cell_type": "code",
   "execution_count": 33,
   "id": "d1512cfb-45b8-4414-9d43-cae3ec159401",
   "metadata": {},
   "outputs": [
    {
     "name": "stdout",
     "output_type": "stream",
     "text": [
      "Account('Julius Caesar')\n"
     ]
    }
   ],
   "source": [
    "print(I)"
   ]
  },
  {
   "cell_type": "code",
   "execution_count": 34,
   "id": "49aad71b-5618-4cdd-8666-bf3a10c9d2da",
   "metadata": {},
   "outputs": [],
   "source": [
    "class Account:\n",
    "    def __init__(self, name):\n",
    "        try:\n",
    "            self.first_name, self.last_name = name.split()\n",
    "        except ValueError:\n",
    "            raise AccountError('I need first and last name')\n",
    "        self.amount = 0\n",
    "\n",
    "    def credit(self, money):\n",
    "        self.amount += money\n",
    "\n",
    "    def debit(self, money):\n",
    "        self.amount -= money\n",
    "\n",
    "    def __repr__(self):\n",
    "        return f\"Account('{\" \".join((self.first_name, self.last_name))}')\"\n",
    "\n",
    "    def __str__(self):\n",
    "        return f'Acccount for {self.first_name} {self.last_name} with ${self.amount} in the bank'"
   ]
  },
  {
   "cell_type": "code",
   "execution_count": 35,
   "id": "9b244895-a752-47f3-a914-d82b41679991",
   "metadata": {},
   "outputs": [],
   "source": [
    "I = Account('Julius Caesar')"
   ]
  },
  {
   "cell_type": "code",
   "execution_count": 36,
   "id": "04ca9456-668f-446c-8760-afa301b20e0c",
   "metadata": {},
   "outputs": [
    {
     "data": {
      "text/plain": [
       "Account('Julius Caesar')"
      ]
     },
     "execution_count": 36,
     "metadata": {},
     "output_type": "execute_result"
    }
   ],
   "source": [
    "I"
   ]
  },
  {
   "cell_type": "code",
   "execution_count": 37,
   "id": "e66afcab-bd7c-48c3-967e-6ea6b21b064d",
   "metadata": {},
   "outputs": [
    {
     "name": "stdout",
     "output_type": "stream",
     "text": [
      "Acccount for Julius Caesar with $0 in the bank\n"
     ]
    }
   ],
   "source": [
    "print(I)"
   ]
  },
  {
   "cell_type": "code",
   "execution_count": 39,
   "id": "dbf513c0-1497-472b-b0ed-dee7ff5db1b6",
   "metadata": {},
   "outputs": [],
   "source": [
    "class Account:\n",
    "    def __init__(self, name):\n",
    "        try:\n",
    "            self.first_name, self.last_name = name.split()\n",
    "        except ValueError:\n",
    "            raise AccountError('I need first and last name')\n",
    "        self.amount = 0\n",
    "\n",
    "    def credit(self, money):\n",
    "        self.amount += money\n",
    "\n",
    "    def debit(self, money):\n",
    "        self.amount -= money\n",
    "\n",
    "    def __str__(self):\n",
    "        return f'Acccount for {self.first_name} {self.last_name} with ${self.amount} in the bank'"
   ]
  },
  {
   "cell_type": "code",
   "execution_count": 40,
   "id": "dba67d42-ad33-4f5d-b2d9-979a873c3c3c",
   "metadata": {},
   "outputs": [],
   "source": [
    "I = Account('Julius Caesar')"
   ]
  },
  {
   "cell_type": "code",
   "execution_count": 41,
   "id": "c307ea55-1126-4437-86dc-543bbc9f731e",
   "metadata": {},
   "outputs": [
    {
     "name": "stdout",
     "output_type": "stream",
     "text": [
      "Acccount for Julius Caesar with $0 in the bank\n"
     ]
    }
   ],
   "source": [
    "print(I)"
   ]
  },
  {
   "cell_type": "code",
   "execution_count": 42,
   "id": "29b49a03-1b86-4c5b-a62c-37c3d946fd81",
   "metadata": {},
   "outputs": [
    {
     "data": {
      "text/plain": [
       "<__main__.Account at 0x107c1f620>"
      ]
     },
     "execution_count": 42,
     "metadata": {},
     "output_type": "execute_result"
    }
   ],
   "source": [
    "I"
   ]
  },
  {
   "cell_type": "code",
   "execution_count": 44,
   "id": "2f2b0d56-93fd-4f24-ac9f-089b4997d6fc",
   "metadata": {},
   "outputs": [],
   "source": [
    "class CircularList:\n",
    "    def __init__(self, sequence):\n",
    "        self.sequence = sequence"
   ]
  },
  {
   "cell_type": "code",
   "execution_count": 45,
   "id": "97fc36e8-fc50-4558-b085-9cea8b3d4fc3",
   "metadata": {},
   "outputs": [
    {
     "data": {
      "text/plain": [
       "<__main__.CircularList at 0x107c1f8c0>"
      ]
     },
     "execution_count": 45,
     "metadata": {},
     "output_type": "execute_result"
    }
   ],
   "source": [
    "CircularList([2, 5, 7])"
   ]
  },
  {
   "cell_type": "code",
   "execution_count": 46,
   "id": "03da2441-dfb5-478d-a3a4-25811348ed83",
   "metadata": {},
   "outputs": [],
   "source": [
    "class CircularList:\n",
    "    def __init__(self, sequence):\n",
    "        self.sequence = sequence\n",
    "\n",
    "    def __len__(self):\n",
    "        return self.sequence"
   ]
  },
  {
   "cell_type": "code",
   "execution_count": 47,
   "id": "eb3e87d8-2a65-437b-b9bd-5e8ab5b07db7",
   "metadata": {},
   "outputs": [],
   "source": [
    "I = CircularList([2, 5, 7])"
   ]
  },
  {
   "cell_type": "code",
   "execution_count": 48,
   "id": "3928091d-b238-47a4-9428-1d8bee4e25b6",
   "metadata": {},
   "outputs": [
    {
     "ename": "TypeError",
     "evalue": "'list' object cannot be interpreted as an integer",
     "output_type": "error",
     "traceback": [
      "\u001b[0;31m---------------------------------------------------------------------------\u001b[0m",
      "\u001b[0;31mTypeError\u001b[0m                                 Traceback (most recent call last)",
      "Cell \u001b[0;32mIn[48], line 1\u001b[0m\n\u001b[0;32m----> 1\u001b[0m \u001b[38;5;28;43mlen\u001b[39;49m\u001b[43m(\u001b[49m\u001b[43mI\u001b[49m\u001b[43m)\u001b[49m\n",
      "\u001b[0;31mTypeError\u001b[0m: 'list' object cannot be interpreted as an integer"
     ]
    }
   ],
   "source": [
    "len(I)"
   ]
  },
  {
   "cell_type": "code",
   "execution_count": 49,
   "id": "d51afd15-2a23-4297-beda-4fe47734c611",
   "metadata": {},
   "outputs": [],
   "source": [
    "class CircularList:\n",
    "    def __init__(self, sequence):\n",
    "        self.sequence = sequence\n",
    "\n",
    "    def __len__(self):\n",
    "        return len(self.sequence)"
   ]
  },
  {
   "cell_type": "code",
   "execution_count": 50,
   "id": "cde40271-46a9-42da-8ba0-cdb5524c9d0e",
   "metadata": {},
   "outputs": [],
   "source": [
    "I = CircularList([2, 5, 7])"
   ]
  },
  {
   "cell_type": "code",
   "execution_count": 51,
   "id": "0ad2a29a-f206-4259-979e-196d88809765",
   "metadata": {},
   "outputs": [
    {
     "data": {
      "text/plain": [
       "3"
      ]
     },
     "execution_count": 51,
     "metadata": {},
     "output_type": "execute_result"
    }
   ],
   "source": [
    "len(I)"
   ]
  },
  {
   "cell_type": "code",
   "execution_count": 52,
   "id": "e626971c-25cc-4660-bce8-72eb29191e78",
   "metadata": {},
   "outputs": [],
   "source": [
    "class CircularList:\n",
    "    def __init__(self, sequence):\n",
    "        self.sequence = sequence\n",
    "\n",
    "    def __len__(self):\n",
    "        return len(self.sequence)\n",
    "\n",
    "    def __getitem__(self, i):\n",
    "        return self.sequence[i % len(self)]"
   ]
  },
  {
   "cell_type": "code",
   "execution_count": 53,
   "id": "694dfdb0-5615-4459-9591-2dbaa4912f6f",
   "metadata": {},
   "outputs": [],
   "source": [
    "I = CircularList([2, 5, 7])"
   ]
  },
  {
   "cell_type": "code",
   "execution_count": 54,
   "id": "d3ae6b14-f138-4c2f-bc7a-a079b2934e6c",
   "metadata": {},
   "outputs": [
    {
     "data": {
      "text/plain": [
       "5"
      ]
     },
     "execution_count": 54,
     "metadata": {},
     "output_type": "execute_result"
    }
   ],
   "source": [
    "I[10]"
   ]
  },
  {
   "cell_type": "code",
   "execution_count": 55,
   "id": "85e73ec7-9581-4775-b520-f69b0827ce18",
   "metadata": {},
   "outputs": [
    {
     "ename": "TypeError",
     "evalue": "'CircularList' object does not support item assignment",
     "output_type": "error",
     "traceback": [
      "\u001b[0;31m---------------------------------------------------------------------------\u001b[0m",
      "\u001b[0;31mTypeError\u001b[0m                                 Traceback (most recent call last)",
      "Cell \u001b[0;32mIn[55], line 1\u001b[0m\n\u001b[0;32m----> 1\u001b[0m \u001b[43mI\u001b[49m\u001b[43m[\u001b[49m\u001b[38;5;241;43m1\u001b[39;49m\u001b[43m]\u001b[49m \u001b[38;5;241m=\u001b[39m \u001b[38;5;241m20\u001b[39m\n",
      "\u001b[0;31mTypeError\u001b[0m: 'CircularList' object does not support item assignment"
     ]
    }
   ],
   "source": [
    "I[1] = 20"
   ]
  },
  {
   "cell_type": "code",
   "execution_count": 57,
   "id": "368be016-03fc-446a-a746-49879ff58509",
   "metadata": {},
   "outputs": [],
   "source": [
    "class CircularList:\n",
    "    def __init__(self, sequence):\n",
    "        self.sequence = sequence\n",
    "\n",
    "    def __len__(self):\n",
    "        return len(self.sequence)\n",
    "\n",
    "    def __getitem__(self, i):\n",
    "        return self.sequence[i % len(self)]\n",
    "\n",
    "    def __setitem__(self, i, x):\n",
    "        self.sequence[i % len(self)] = x\n",
    "        "
   ]
  },
  {
   "cell_type": "code",
   "execution_count": 58,
   "id": "72577795-4635-466d-8575-0d39d5121889",
   "metadata": {},
   "outputs": [],
   "source": [
    "I = CircularList([2, 5, 7])"
   ]
  },
  {
   "cell_type": "code",
   "execution_count": 59,
   "id": "fe0b865c-5bb9-43bd-b2fe-829878e6d9e8",
   "metadata": {},
   "outputs": [
    {
     "data": {
      "text/plain": [
       "5"
      ]
     },
     "execution_count": 59,
     "metadata": {},
     "output_type": "execute_result"
    }
   ],
   "source": [
    "I[10]"
   ]
  },
  {
   "cell_type": "code",
   "execution_count": 60,
   "id": "2b08b7a6-c42c-4a32-826e-413c43560bd3",
   "metadata": {},
   "outputs": [],
   "source": [
    "I[10] = 100"
   ]
  },
  {
   "cell_type": "code",
   "execution_count": 61,
   "id": "c74fdb29-ca44-4cb5-804e-17ed669567ed",
   "metadata": {},
   "outputs": [
    {
     "data": {
      "text/plain": [
       "[2, 100, 7]"
      ]
     },
     "execution_count": 61,
     "metadata": {},
     "output_type": "execute_result"
    }
   ],
   "source": [
    "I.sequence"
   ]
  },
  {
   "cell_type": "code",
   "execution_count": 62,
   "id": "993a7b77-770f-467b-9146-a6cca1fd32be",
   "metadata": {},
   "outputs": [],
   "source": [
    "class CircularList:\n",
    "    def __init__(self, sequence):\n",
    "        self.sequence = sequence\n",
    "\n",
    "    def __len__(self):\n",
    "        return len(self.sequence)\n",
    "\n",
    "    def __getitem__(self, i):\n",
    "        return self.sequence[i % len(self)]\n",
    "\n",
    "    def __setitem__(self, i, x):\n",
    "        self.sequence[i % len(self)] = x\n",
    "\n",
    "    def __add__(self, L):\n",
    "        if isinstance(L, list):\n",
    "            return CircularList(self.sequence + L)\n",
    "        elif isinstance(L, CircularList):\n",
    "            return CircularList(self.sequence + L.sequence)\n"
   ]
  },
  {
   "cell_type": "code",
   "execution_count": 63,
   "id": "4da5cab9-2f1f-4e72-a221-827fb562f558",
   "metadata": {},
   "outputs": [],
   "source": [
    "I = CircularList([2, 5, 7])"
   ]
  },
  {
   "cell_type": "code",
   "execution_count": 64,
   "id": "61d38558-46b0-4fc7-b564-ea7890fb5590",
   "metadata": {},
   "outputs": [],
   "source": [
    "J = CircularList([2, 5, 7]) + [10, 11]"
   ]
  },
  {
   "cell_type": "code",
   "execution_count": 65,
   "id": "05fc5975-fdf6-4ee9-bf30-91d16ea8f0a7",
   "metadata": {},
   "outputs": [
    {
     "data": {
      "text/plain": [
       "5"
      ]
     },
     "execution_count": 65,
     "metadata": {},
     "output_type": "execute_result"
    }
   ],
   "source": [
    "len(J)"
   ]
  },
  {
   "cell_type": "code",
   "execution_count": 66,
   "id": "521b08c6-7bff-4826-b5d5-18a8242c5af3",
   "metadata": {},
   "outputs": [
    {
     "data": {
      "text/plain": [
       "[2, 5, 7, 10, 11]"
      ]
     },
     "execution_count": 66,
     "metadata": {},
     "output_type": "execute_result"
    }
   ],
   "source": [
    "J.sequence"
   ]
  },
  {
   "cell_type": "code",
   "execution_count": 67,
   "id": "aa8e6fc5-787f-4535-918a-405eab82c82b",
   "metadata": {},
   "outputs": [
    {
     "data": {
      "text/plain": [
       "[2, 5, 7]"
      ]
     },
     "execution_count": 67,
     "metadata": {},
     "output_type": "execute_result"
    }
   ],
   "source": [
    "I.sequence"
   ]
  },
  {
   "cell_type": "code",
   "execution_count": 68,
   "id": "97864109-2ee5-4790-a622-59062c6744b1",
   "metadata": {},
   "outputs": [
    {
     "data": {
      "text/plain": [
       "[1, 2, 3, 4, 5]"
      ]
     },
     "execution_count": 68,
     "metadata": {},
     "output_type": "execute_result"
    }
   ],
   "source": [
    "L = [1, 2, 3]\n",
    "L + [4, 5]"
   ]
  },
  {
   "cell_type": "code",
   "execution_count": 69,
   "id": "6782f849-fb97-444b-8a9c-dfd35c38a0c8",
   "metadata": {},
   "outputs": [
    {
     "data": {
      "text/plain": [
       "[1, 2, 3]"
      ]
     },
     "execution_count": 69,
     "metadata": {},
     "output_type": "execute_result"
    }
   ],
   "source": [
    "L"
   ]
  },
  {
   "cell_type": "code",
   "execution_count": 70,
   "id": "7adfd3b6-8831-4eda-8887-60ec93c8c83c",
   "metadata": {},
   "outputs": [],
   "source": [
    "K = CircularList([10, 11])"
   ]
  },
  {
   "cell_type": "code",
   "execution_count": 71,
   "id": "03995421-5529-4a6a-9187-1349bd4cfffc",
   "metadata": {},
   "outputs": [
    {
     "data": {
      "text/plain": [
       "[2, 5, 7, 10, 11]"
      ]
     },
     "execution_count": 71,
     "metadata": {},
     "output_type": "execute_result"
    }
   ],
   "source": [
    "(I + K).sequence"
   ]
  },
  {
   "cell_type": "code",
   "execution_count": 72,
   "id": "a24dabde-0309-4ee5-b64f-61b7896b7fba",
   "metadata": {},
   "outputs": [
    {
     "data": {
      "text/plain": [
       "[1, 2, 3, 4, 5]"
      ]
     },
     "execution_count": 72,
     "metadata": {},
     "output_type": "execute_result"
    }
   ],
   "source": [
    "L = [1, 2, 3]\n",
    "L += [4, 5]\n",
    "L"
   ]
  },
  {
   "cell_type": "code",
   "execution_count": 73,
   "id": "d2c83a4e-aba5-4dd4-87c7-b61c51af9aba",
   "metadata": {},
   "outputs": [],
   "source": [
    "class CircularList:\n",
    "    def __init__(self, sequence):\n",
    "        self.sequence = sequence\n",
    "\n",
    "    def __len__(self):\n",
    "        return len(self.sequence)\n",
    "\n",
    "    def __getitem__(self, i):\n",
    "        return self.sequence[i % len(self)]\n",
    "\n",
    "    def __setitem__(self, i, x):\n",
    "        self.sequence[i % len(self)] = x\n",
    "\n",
    "    def __add__(self, L):\n",
    "        if isinstance(L, list):\n",
    "            return CircularList(self.sequence + L)\n",
    "        elif isinstance(L, CircularList):\n",
    "            return CircularList(self.sequence + L.sequence)\n",
    "\n",
    "    def __iadd__(self, L):\n",
    "        if isinstance(L, list):\n",
    "            self.sequence += L\n",
    "        elif isinstance(L, CircularList):\n",
    "            self.sequence += L.sequence\n"
   ]
  },
  {
   "cell_type": "code",
   "execution_count": 74,
   "id": "b1a33d0d-2362-4542-af3c-b7273c614ecb",
   "metadata": {},
   "outputs": [
    {
     "ename": "AttributeError",
     "evalue": "'NoneType' object has no attribute 'sequence'",
     "output_type": "error",
     "traceback": [
      "\u001b[0;31m---------------------------------------------------------------------------\u001b[0m",
      "\u001b[0;31mAttributeError\u001b[0m                            Traceback (most recent call last)",
      "Cell \u001b[0;32mIn[74], line 3\u001b[0m\n\u001b[1;32m      1\u001b[0m I \u001b[38;5;241m=\u001b[39m CircularList([\u001b[38;5;241m2\u001b[39m, \u001b[38;5;241m5\u001b[39m, \u001b[38;5;241m7\u001b[39m])\n\u001b[1;32m      2\u001b[0m I \u001b[38;5;241m+\u001b[39m\u001b[38;5;241m=\u001b[39m [\u001b[38;5;241m10\u001b[39m, \u001b[38;5;241m11\u001b[39m]\n\u001b[0;32m----> 3\u001b[0m \u001b[43mI\u001b[49m\u001b[38;5;241;43m.\u001b[39;49m\u001b[43msequence\u001b[49m\n",
      "\u001b[0;31mAttributeError\u001b[0m: 'NoneType' object has no attribute 'sequence'"
     ]
    }
   ],
   "source": [
    "I = CircularList([2, 5, 7])\n",
    "I += [10, 11]\n",
    "I.sequence"
   ]
  },
  {
   "cell_type": "code",
   "execution_count": 75,
   "id": "5d1bf77b-8291-4002-a6b5-283bec4c474d",
   "metadata": {},
   "outputs": [],
   "source": [
    "class CircularList:\n",
    "    def __init__(self, sequence):\n",
    "        self.sequence = sequence\n",
    "\n",
    "    def __len__(self):\n",
    "        return len(self.sequence)\n",
    "\n",
    "    def __getitem__(self, i):\n",
    "        return self.sequence[i % len(self)]\n",
    "\n",
    "    def __setitem__(self, i, x):\n",
    "        self.sequence[i % len(self)] = x\n",
    "\n",
    "    def __add__(self, L):\n",
    "        if isinstance(L, list):\n",
    "            return CircularList(self.sequence + L)\n",
    "        elif isinstance(L, CircularList):\n",
    "            return CircularList(self.sequence + L.sequence)\n",
    "\n",
    "    def __iadd__(self, L):\n",
    "        if isinstance(L, list):\n",
    "            self.sequence += L\n",
    "        elif isinstance(L, CircularList):\n",
    "            self.sequence += L.sequence\n",
    "        return self\n"
   ]
  },
  {
   "cell_type": "code",
   "execution_count": 76,
   "id": "716f9a88-c0a8-42b7-b16d-b47dcbca7bd1",
   "metadata": {},
   "outputs": [
    {
     "data": {
      "text/plain": [
       "[2, 5, 7, 10, 11]"
      ]
     },
     "execution_count": 76,
     "metadata": {},
     "output_type": "execute_result"
    }
   ],
   "source": [
    "I = CircularList([2, 5, 7])\n",
    "I += [10, 11]\n",
    "I.sequence"
   ]
  },
  {
   "cell_type": "code",
   "execution_count": 77,
   "id": "fc382022-6a3e-4f58-bc2e-ab9dde6497e7",
   "metadata": {},
   "outputs": [],
   "source": [
    "I += CircularList([20, 0, 2000])"
   ]
  },
  {
   "cell_type": "code",
   "execution_count": 78,
   "id": "1f78b46e-5f2f-43ae-a28e-40761f328f6a",
   "metadata": {},
   "outputs": [
    {
     "data": {
      "text/plain": [
       "[2, 5, 7, 10, 11, 20, 0, 2000]"
      ]
     },
     "execution_count": 78,
     "metadata": {},
     "output_type": "execute_result"
    }
   ],
   "source": [
    "I.sequence"
   ]
  },
  {
   "cell_type": "code",
   "execution_count": 79,
   "id": "c63b0212-5ec6-45f3-948f-b33504d2c99b",
   "metadata": {},
   "outputs": [],
   "source": [
    "from collections.abc import Set"
   ]
  },
  {
   "cell_type": "code",
   "execution_count": 81,
   "id": "7cc72e03-7717-44c4-aa42-a0dcd04daac2",
   "metadata": {},
   "outputs": [],
   "source": [
    "class TwoElementSetError(Exception):\n",
    "    pass\n",
    "\n",
    "class TwoElementSet(Set):\n",
    "    def __init__(self, a, b):\n",
    "        if a == b:\n",
    "            raise TwoElementSetError('I need two distinct elements')\n",
    "        self.a, self.b = a, b"
   ]
  },
  {
   "cell_type": "code",
   "execution_count": 82,
   "id": "deb24f24-d400-4227-9f8e-572e6a5e5a19",
   "metadata": {},
   "outputs": [
    {
     "ename": "TypeError",
     "evalue": "Can't instantiate abstract class TwoElementSet without an implementation for abstract methods '__contains__', '__iter__', '__len__'",
     "output_type": "error",
     "traceback": [
      "\u001b[0;31m---------------------------------------------------------------------------\u001b[0m",
      "\u001b[0;31mTypeError\u001b[0m                                 Traceback (most recent call last)",
      "Cell \u001b[0;32mIn[82], line 1\u001b[0m\n\u001b[0;32m----> 1\u001b[0m \u001b[43mTwoElementSet\u001b[49m\u001b[43m(\u001b[49m\u001b[38;5;241;43m10\u001b[39;49m\u001b[43m,\u001b[49m\u001b[43m \u001b[49m\u001b[38;5;241;43m10\u001b[39;49m\u001b[43m)\u001b[49m\n",
      "\u001b[0;31mTypeError\u001b[0m: Can't instantiate abstract class TwoElementSet without an implementation for abstract methods '__contains__', '__iter__', '__len__'"
     ]
    }
   ],
   "source": [
    "TwoElementSet(10, 10)"
   ]
  },
  {
   "cell_type": "code",
   "execution_count": 85,
   "id": "fd782f95-a9f8-433d-b842-43b062e7a544",
   "metadata": {},
   "outputs": [],
   "source": [
    "class TwoElementSetError(Exception):\n",
    "    pass\n",
    "\n",
    "class TwoElementSet(Set):\n",
    "    def __init__(self, a, b):\n",
    "        if a == b:\n",
    "            raise TwoElementSetError('I need two distinct elements')\n",
    "        self.a, self.b = a, b\n",
    "\n",
    "    def __len__(self):\n",
    "        return 2\n",
    "\n",
    "    def __contains__(self, x):\n",
    "        return x in {self.a, self.b}\n",
    "    "
   ]
  },
  {
   "cell_type": "code",
   "execution_count": 86,
   "id": "c57c7cd7-6e24-47a4-90ab-15c411e1666f",
   "metadata": {},
   "outputs": [
    {
     "ename": "TypeError",
     "evalue": "Can't instantiate abstract class TwoElementSet without an implementation for abstract method '__iter__'",
     "output_type": "error",
     "traceback": [
      "\u001b[0;31m---------------------------------------------------------------------------\u001b[0m",
      "\u001b[0;31mTypeError\u001b[0m                                 Traceback (most recent call last)",
      "Cell \u001b[0;32mIn[86], line 1\u001b[0m\n\u001b[0;32m----> 1\u001b[0m \u001b[43mTwoElementSet\u001b[49m\u001b[43m(\u001b[49m\u001b[38;5;241;43m10\u001b[39;49m\u001b[43m,\u001b[49m\u001b[43m \u001b[49m\u001b[38;5;241;43m10\u001b[39;49m\u001b[43m)\u001b[49m\n",
      "\u001b[0;31mTypeError\u001b[0m: Can't instantiate abstract class TwoElementSet without an implementation for abstract method '__iter__'"
     ]
    }
   ],
   "source": [
    "TwoElementSet(10, 10)"
   ]
  },
  {
   "cell_type": "code",
   "execution_count": 87,
   "id": "6a3df76e-0cf2-422c-8271-a3075796029c",
   "metadata": {},
   "outputs": [],
   "source": [
    "class TwoElementSetError(Exception):\n",
    "    pass\n",
    "\n",
    "class TwoElementSet(Set):\n",
    "    def __init__(self, a, b):\n",
    "        if a == b:\n",
    "            raise TwoElementSetError('I need two distinct elements')\n",
    "        self.a, self.b = a, b\n",
    "\n",
    "    def __len__(self):\n",
    "        return 2\n",
    "\n",
    "    def __contains__(self, x):\n",
    "        return x in {self.a, self.b}\n",
    "\n",
    "    def __iter__(self):\n",
    "        yield self.a\n",
    "        yield self.b"
   ]
  },
  {
   "cell_type": "code",
   "execution_count": 88,
   "id": "6891583c-192f-45ca-9ba1-20e1a383e51d",
   "metadata": {},
   "outputs": [
    {
     "ename": "TwoElementSetError",
     "evalue": "I need two distinct elements",
     "output_type": "error",
     "traceback": [
      "\u001b[0;31m---------------------------------------------------------------------------\u001b[0m",
      "\u001b[0;31mTwoElementSetError\u001b[0m                        Traceback (most recent call last)",
      "Cell \u001b[0;32mIn[88], line 1\u001b[0m\n\u001b[0;32m----> 1\u001b[0m \u001b[43mTwoElementSet\u001b[49m\u001b[43m(\u001b[49m\u001b[38;5;241;43m10\u001b[39;49m\u001b[43m,\u001b[49m\u001b[43m \u001b[49m\u001b[38;5;241;43m10\u001b[39;49m\u001b[43m)\u001b[49m\n",
      "Cell \u001b[0;32mIn[87], line 7\u001b[0m, in \u001b[0;36mTwoElementSet.__init__\u001b[0;34m(self, a, b)\u001b[0m\n\u001b[1;32m      5\u001b[0m \u001b[38;5;28;01mdef\u001b[39;00m \u001b[38;5;21m__init__\u001b[39m(\u001b[38;5;28mself\u001b[39m, a, b):\n\u001b[1;32m      6\u001b[0m     \u001b[38;5;28;01mif\u001b[39;00m a \u001b[38;5;241m==\u001b[39m b:\n\u001b[0;32m----> 7\u001b[0m         \u001b[38;5;28;01mraise\u001b[39;00m TwoElementSetError(\u001b[38;5;124m'\u001b[39m\u001b[38;5;124mI need two distinct elements\u001b[39m\u001b[38;5;124m'\u001b[39m)\n\u001b[1;32m      8\u001b[0m     \u001b[38;5;28mself\u001b[39m\u001b[38;5;241m.\u001b[39ma, \u001b[38;5;28mself\u001b[39m\u001b[38;5;241m.\u001b[39mb \u001b[38;5;241m=\u001b[39m a, b\n",
      "\u001b[0;31mTwoElementSetError\u001b[0m: I need two distinct elements"
     ]
    }
   ],
   "source": [
    "TwoElementSet(10, 10)"
   ]
  },
  {
   "cell_type": "code",
   "execution_count": 89,
   "id": "71a1bbde-3215-4ac5-904a-c877af5ecb0f",
   "metadata": {},
   "outputs": [],
   "source": [
    "I = TwoElementSet(10, 20)"
   ]
  },
  {
   "cell_type": "code",
   "execution_count": 90,
   "id": "901c8466-ae7b-4679-8cf2-72e8aad92f84",
   "metadata": {},
   "outputs": [
    {
     "data": {
      "text/plain": [
       "2"
      ]
     },
     "execution_count": 90,
     "metadata": {},
     "output_type": "execute_result"
    }
   ],
   "source": [
    "len(I)"
   ]
  },
  {
   "cell_type": "code",
   "execution_count": 91,
   "id": "1d7fe51c-e6c7-41be-8803-b6328ab4347b",
   "metadata": {},
   "outputs": [
    {
     "data": {
      "text/plain": [
       "(True, False)"
      ]
     },
     "execution_count": 91,
     "metadata": {},
     "output_type": "execute_result"
    }
   ],
   "source": [
    "10 in I, 15 in I"
   ]
  },
  {
   "cell_type": "code",
   "execution_count": 92,
   "id": "b9a02eff-142a-4a01-bbdf-fff1a7277d5e",
   "metadata": {},
   "outputs": [
    {
     "data": {
      "text/plain": [
       "[10, 20]"
      ]
     },
     "execution_count": 92,
     "metadata": {},
     "output_type": "execute_result"
    }
   ],
   "source": [
    "list(I)"
   ]
  },
  {
   "cell_type": "code",
   "execution_count": 93,
   "id": "c7e7e5ed-c320-4e93-bb22-74f5b0e96c71",
   "metadata": {},
   "outputs": [
    {
     "data": {
      "text/plain": [
       "True"
      ]
     },
     "execution_count": 93,
     "metadata": {},
     "output_type": "execute_result"
    }
   ],
   "source": [
    "isinstance({1, 5}, set)"
   ]
  },
  {
   "cell_type": "code",
   "execution_count": 94,
   "id": "5d1ed9da-4218-45d6-b8fd-44de5e9d4af9",
   "metadata": {},
   "outputs": [
    {
     "data": {
      "text/plain": [
       "True"
      ]
     },
     "execution_count": 94,
     "metadata": {},
     "output_type": "execute_result"
    }
   ],
   "source": [
    "isinstance({1, 5}, Set)"
   ]
  },
  {
   "cell_type": "code",
   "execution_count": 95,
   "id": "51831756-a963-4295-bb1a-4beb48033110",
   "metadata": {},
   "outputs": [
    {
     "data": {
      "text/plain": [
       "True"
      ]
     },
     "execution_count": 95,
     "metadata": {},
     "output_type": "execute_result"
    }
   ],
   "source": [
    "isinstance(I, Set)"
   ]
  },
  {
   "cell_type": "code",
   "execution_count": 96,
   "id": "58a1c198-9e4b-4b96-9cfe-d403f95d1df0",
   "metadata": {},
   "outputs": [
    {
     "data": {
      "text/plain": [
       "False"
      ]
     },
     "execution_count": 96,
     "metadata": {},
     "output_type": "execute_result"
    }
   ],
   "source": [
    "isinstance(I, set)"
   ]
  },
  {
   "cell_type": "code",
   "execution_count": 97,
   "id": "ac2d1e69-3431-47f3-a178-67f017dd16fa",
   "metadata": {},
   "outputs": [
    {
     "data": {
      "text/plain": [
       "{1, 2, 4, 5}"
      ]
     },
     "execution_count": 97,
     "metadata": {},
     "output_type": "execute_result"
    }
   ],
   "source": [
    "{1, 2} | {4, 5}"
   ]
  },
  {
   "cell_type": "code",
   "execution_count": 101,
   "id": "3702f03e-760c-4dee-a640-28ce80db90d0",
   "metadata": {},
   "outputs": [],
   "source": [
    "def change(coins, target):\n",
    "    if not coins:\n",
    "        return\n",
    "    if coins[-1] > target:\n",
    "        return change(coins[: -1], target)\n",
    "    if coins[-1] == target:\n",
    "        return [[target]]\n",
    "    solutions = 0\n",
    "    min_nb_of_coins = float('inf')\n",
    "    for i in range(len(coins)):\n",
    "        partial_solutions = change(coins[: i + 1], target - coins[i])\n",
    "        if partial_solutions:\n",
    "            if len(partial_solutions[0]) < min_nb_of_coins:\n",
    "                min_nb_of_coins = len(partial_solutions[0])\n",
    "                solutions = [solution + [coins[i]] for solution in partial_solutions]\n",
    "            elif len(partial_solutions[0]) == min_nb_of_coins:\n",
    "                solutions.extend(solution + [coins[i]] for solution in partial_solutions)\n",
    "    return solutions\n",
    "    \n",
    "    "
   ]
  },
  {
   "cell_type": "code",
   "execution_count": 110,
   "id": "c207363d-6565-4424-9b0a-6a6d893205b4",
   "metadata": {},
   "outputs": [
    {
     "data": {
      "text/plain": [
       "[[3, 3, 5], [1, 5, 5]]"
      ]
     },
     "execution_count": 110,
     "metadata": {},
     "output_type": "execute_result"
    }
   ],
   "source": [
    "change([1, 3, 5], 11)"
   ]
  },
  {
   "cell_type": "code",
   "execution_count": null,
   "id": "b1f50652-0fb7-4632-9ada-eba10d06a7b2",
   "metadata": {},
   "outputs": [],
   "source": []
  }
 ],
 "metadata": {
  "kernelspec": {
   "display_name": "Python 3 (ipykernel)",
   "language": "python",
   "name": "python3"
  },
  "language_info": {
   "codemirror_mode": {
    "name": "ipython",
    "version": 3
   },
   "file_extension": ".py",
   "mimetype": "text/x-python",
   "name": "python",
   "nbconvert_exporter": "python",
   "pygments_lexer": "ipython3",
   "version": "3.13.0"
  }
 },
 "nbformat": 4,
 "nbformat_minor": 5
}
