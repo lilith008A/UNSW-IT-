{
 "cells": [
  {
   "cell_type": "markdown",
   "id": "d05fcb14-80c6-4ad5-a686-557507ac9496",
   "metadata": {},
   "source": [
    "# Computing with floating point numbers and approximations"
   ]
  },
  {
   "cell_type": "markdown",
   "id": "467a6b13-6be1-4f0d-945c-44f2348056b6",
   "metadata": {
    "tags": []
   },
   "source": [
    "# Functions"
   ]
  },
  {
   "cell_type": "markdown",
   "id": "2f9ef381-eb82-415f-9608-65e7615cf2d8",
   "metadata": {},
   "source": [
    "## range() with up to 3 arguments"
   ]
  },
  {
   "cell_type": "markdown",
   "id": "fbfcc809-86e2-4cf2-b888-2da0fd656b08",
   "metadata": {},
   "source": [
    "## round()"
   ]
  },
  {
   "cell_type": "markdown",
   "id": "4580fe28-62a2-4928-8b4b-b8d89d875b7a",
   "metadata": {},
   "source": [
    "## iter()"
   ]
  },
  {
   "cell_type": "markdown",
   "id": "cf308d4c-c4c9-4e68-a578-ccb07570aaf3",
   "metadata": {},
   "source": [
    "## globals()"
   ]
  },
  {
   "cell_type": "markdown",
   "id": "3ff2fa58-a677-491e-8900-02963f984cd2",
   "metadata": {},
   "source": [
    "## chain(), from the itertools module"
   ]
  },
  {
   "cell_type": "markdown",
   "id": "dcbec63a-a42e-4ad6-9c45-05ca20e21d9c",
   "metadata": {
    "tags": []
   },
   "source": [
    "## timeit(), from the timeit module, with the globals and number keyword arguments"
   ]
  }
 ],
 "metadata": {
  "kernelspec": {
   "display_name": "Python 3 (ipykernel)",
   "language": "python",
   "name": "python3"
  },
  "language_info": {
   "codemirror_mode": {
    "name": "ipython",
    "version": 3
   },
   "file_extension": ".py",
   "mimetype": "text/x-python",
   "name": "python",
   "nbconvert_exporter": "python",
   "pygments_lexer": "ipython3",
   "version": "3.12.6"
  },
  "widgets": {
   "application/vnd.jupyter.widget-state+json": {
    "state": {},
    "version_major": 2,
    "version_minor": 0
   }
  }
 },
 "nbformat": 4,
 "nbformat_minor": 5
}
