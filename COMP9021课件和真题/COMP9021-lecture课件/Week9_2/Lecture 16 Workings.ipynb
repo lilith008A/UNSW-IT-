{
 "cells": [
  {
   "cell_type": "code",
   "execution_count": 7,
   "id": "8c3115f8-b5a3-4197-9ced-6b317f912633",
   "metadata": {},
   "outputs": [
    {
     "name": "stdout",
     "output_type": "stream",
     "text": [
      "Overwriting doctest_1.py\n"
     ]
    }
   ],
   "source": [
    "%%writefile doctest_1.py\n",
    "from random import seed, randint\n",
    "import sys\n",
    "\n",
    "\n",
    "def f(arg_for_seed, nb_of_elements, max_element):\n",
    "    '''\n",
    "    >>> f(0, 0, 10)\n",
    "    Here is L: []\n",
    "    The decomposition of L into increasing sequences,\n",
    "        with consecutive duplicates removed, is:\n",
    "        []\n",
    "    >>> f(0, 1, 10)\n",
    "    Here is L: [6]\n",
    "    The decomposition of L into increasing sequences,\n",
    "        with consecutive duplicates removed, is:\n",
    "        [[6]]\n",
    "    >>> f(0, 2, 10)\n",
    "    Here is L: [6, 6]\n",
    "    The decomposition of L into increasing sequences,\n",
    "        with consecutive duplicates removed, is:\n",
    "        [[6]]\n",
    "    >>> f(0, 3, 10)\n",
    "    Here is L: [6, 6, 0]\n",
    "    The decomposition of L into increasing sequences,\n",
    "        with consecutive duplicates removed, is:\n",
    "        [[6], [0]]\n",
    "    >>> f(0, 4, 10)\n",
    "    Here is L: [6, 6, 0, 4]\n",
    "    The decomposition of L into increasing sequences,\n",
    "        with consecutive duplicates removed, is:\n",
    "        [[6], [0, 4]]\n",
    "    >>> f(0, 5, 10)\n",
    "    Here is L: [6, 6, 0, 4, 8]\n",
    "    The decomposition of L into increasing sequences,\n",
    "        with consecutive duplicates removed, is:\n",
    "        [[6], [0, 4, 8]]\n",
    "    >>> f(0, 6, 10)\n",
    "    Here is L: [6, 6, 0, 4, 8, 7]\n",
    "    The decomposition of L into increasing sequences,\n",
    "        with consecutive duplicates removed, is:\n",
    "        [[6], [0, 4, 8], [7]]\n",
    "    >>> f(0, 7, 10)\n",
    "    Here is L: [6, 6, 0, 4, 8, 7, 6]\n",
    "    The decomposition of L into increasing sequences,\n",
    "        with consecutive duplicates removed, is:\n",
    "        [[6], [0, 4, 8], [7], [6]]\n",
    "    >>> f(3, 10, 6)\n",
    "    Here is L: [1, 4, 4, 1, 2, 4, 3, 5, 4, 0]\n",
    "    The decomposition of L into increasing sequences,\n",
    "        with consecutive duplicates removed, is:\n",
    "        [[1, 4], [1, 2, 4], [3, 5], [4], [0]]\n",
    "    >>> f(3, 15, 8)\n",
    "    Here is L: [3, 8, 2, 5, 7, 1, 0, 7, 4, 8, 3, 3, 7, 8, 8]\n",
    "    The decomposition of L into increasing sequences,\n",
    "        with consecutive duplicates removed, is:\n",
    "        [[3, 8], [2, 5, 7], [1], [0, 7], [4, 8], [3, 7, 8]]\n",
    "    '''\n",
    "    if nb_of_elements < 0:\n",
    "        sys.exit()\n",
    "    seed(arg_for_seed)\n",
    "    L = [randint(0, max_element) for _ in range(nb_of_elements)]\n",
    "    print('Here is L:', L)\n",
    "    R = []\n",
    "    # INSERT YOUR CODE HERE\n",
    "    if L:\n",
    "        S = [L[0]]\n",
    "        for e in L[1 :]:\n",
    "            if e == S[-1]:\n",
    "                continue\n",
    "            if e > S[-1]:\n",
    "                S.append(e)\n",
    "            else:\n",
    "                R.append(S)\n",
    "                S = [e]\n",
    "        R.append(S)\n",
    "    print('The decomposition of L into increasing sequences,')\n",
    "    print('    with consecutive duplicates removed, is:\\n   ', R)\n",
    "\n",
    "\n",
    "if __name__ == '__main__':\n",
    "    import doctest\n",
    "    doctest.testmod()\n"
   ]
  },
  {
   "cell_type": "code",
   "execution_count": 8,
   "id": "b7c01640-b867-47f2-bb44-a9ba3515880f",
   "metadata": {},
   "outputs": [],
   "source": [
    "run doctest_1.py"
   ]
  },
  {
   "cell_type": "code",
   "execution_count": null,
   "id": "1178a1f5-ecbb-4893-8023-441125d25399",
   "metadata": {},
   "outputs": [],
   "source": [
    "[3, 8, 2, 5, 7, 1, 0, 7, 4, 8, 3, 3, 7, 8, 8]\n",
    "\n",
    "R = [[3, 8], [2, 5, 7] ]\n",
    "S = [3], [3, 8]\n",
    "S = [2], [2, 5], [2, 5, 7] \n",
    "S = [1]"
   ]
  },
  {
   "cell_type": "code",
   "execution_count": 24,
   "id": "c5c826e3-a52f-419d-bcdc-c779f259b4ea",
   "metadata": {},
   "outputs": [
    {
     "name": "stdout",
     "output_type": "stream",
     "text": [
      "Overwriting doctest_2.py\n"
     ]
    }
   ],
   "source": [
    "%%writefile doctest_2.py\n",
    "# Will be tested with height a strictly positive integer.\n",
    "\n",
    "from itertools import cycle\n",
    "\n",
    "def f(height):\n",
    "    '''\n",
    "    >>> f(1)\n",
    "    0\n",
    "    >>> f(2)\n",
    "     0\n",
    "    123\n",
    "    >>> f(3)\n",
    "      0\n",
    "     123\n",
    "    45678\n",
    "    >>> f(4)\n",
    "       0\n",
    "      123\n",
    "     45678\n",
    "    9012345\n",
    "    >>> f(5)\n",
    "        0\n",
    "       123\n",
    "      45678\n",
    "     9012345\n",
    "    678901234\n",
    "    >>> f(6)\n",
    "         0\n",
    "        123\n",
    "       45678\n",
    "      9012345\n",
    "     678901234\n",
    "    56789012345\n",
    "    >>> f(20)\n",
    "                       0\n",
    "                      123\n",
    "                     45678\n",
    "                    9012345\n",
    "                   678901234\n",
    "                  56789012345\n",
    "                 6789012345678\n",
    "                901234567890123\n",
    "               45678901234567890\n",
    "              1234567890123456789\n",
    "             012345678901234567890\n",
    "            12345678901234567890123\n",
    "           4567890123456789012345678\n",
    "          901234567890123456789012345\n",
    "         67890123456789012345678901234\n",
    "        5678901234567890123456789012345\n",
    "       678901234567890123456789012345678\n",
    "      90123456789012345678901234567890123\n",
    "     4567890123456789012345678901234567890\n",
    "    123456789012345678901234567890123456789\n",
    "    '''\n",
    "    C = cycle(str(e) for e in range(10))\n",
    "    for i in range(height):\n",
    "        print(' ' * (height - i - 1),\n",
    "              ''.join(next(C) for _ in range(2 * i + 1)), sep=''\n",
    "             )\n",
    "\n",
    "\n",
    "if __name__ == '__main__':\n",
    "    import doctest\n",
    "    doctest.testmod()\n"
   ]
  },
  {
   "cell_type": "code",
   "execution_count": 10,
   "id": "b22904ae-b6f7-4396-ac47-60eb5df8043a",
   "metadata": {},
   "outputs": [],
   "source": [
    "from itertools import cycle"
   ]
  },
  {
   "cell_type": "code",
   "execution_count": 11,
   "id": "063c090d-dbb2-4fdc-a6bf-e75215a1d1d0",
   "metadata": {},
   "outputs": [
    {
     "name": "stdout",
     "output_type": "stream",
     "text": [
      "Help on class cycle in module itertools:\n",
      "\n",
      "class cycle(builtins.object)\n",
      " |  cycle(iterable, /)\n",
      " |\n",
      " |  Return elements from the iterable until it is exhausted. Then repeat the sequence indefinitely.\n",
      " |\n",
      " |  Methods defined here:\n",
      " |\n",
      " |  __getattribute__(self, name, /)\n",
      " |      Return getattr(self, name).\n",
      " |\n",
      " |  __iter__(self, /)\n",
      " |      Implement iter(self).\n",
      " |\n",
      " |  __next__(self, /)\n",
      " |      Implement next(self).\n",
      " |\n",
      " |  __reduce__(self, /)\n",
      " |      Return state information for pickling.\n",
      " |\n",
      " |  __setstate__(self, object, /)\n",
      " |      Set state information for unpickling.\n",
      " |\n",
      " |  ----------------------------------------------------------------------\n",
      " |  Static methods defined here:\n",
      " |\n",
      " |  __new__(*args, **kwargs)\n",
      " |      Create and return a new object.  See help(type) for accurate signature.\n",
      "\n"
     ]
    }
   ],
   "source": [
    "help(cycle)"
   ]
  },
  {
   "cell_type": "code",
   "execution_count": 12,
   "id": "219ec2c9-9422-42bb-971c-e9775da38166",
   "metadata": {},
   "outputs": [
    {
     "ename": "TypeError",
     "evalue": "'int' object is not iterable",
     "output_type": "error",
     "traceback": [
      "\u001b[0;31m---------------------------------------------------------------------------\u001b[0m",
      "\u001b[0;31mTypeError\u001b[0m                                 Traceback (most recent call last)",
      "Cell \u001b[0;32mIn[12], line 1\u001b[0m\n\u001b[0;32m----> 1\u001b[0m C \u001b[38;5;241m=\u001b[39m \u001b[43mcycle\u001b[49m\u001b[43m(\u001b[49m\u001b[38;5;241;43m4\u001b[39;49m\u001b[43m)\u001b[49m\n",
      "\u001b[0;31mTypeError\u001b[0m: 'int' object is not iterable"
     ]
    }
   ],
   "source": [
    "C = cycle(4)"
   ]
  },
  {
   "cell_type": "code",
   "execution_count": 13,
   "id": "49dfebdf-1acb-45b5-9a33-f3223a173d36",
   "metadata": {},
   "outputs": [],
   "source": [
    "C = cycle(range(4))"
   ]
  },
  {
   "cell_type": "code",
   "execution_count": 14,
   "id": "60747180-eff0-4ffa-85e3-1ee3f41a1586",
   "metadata": {},
   "outputs": [
    {
     "data": {
      "text/plain": [
       "[0, 1, 2, 3, 0, 1, 2, 3, 0, 1]"
      ]
     },
     "execution_count": 14,
     "metadata": {},
     "output_type": "execute_result"
    }
   ],
   "source": [
    "[next(C) for _ in range(10)]"
   ]
  },
  {
   "cell_type": "code",
   "execution_count": 15,
   "id": "6756636f-c587-497c-af5f-45005c5d62ec",
   "metadata": {},
   "outputs": [],
   "source": [
    "C = cycle('abcd')"
   ]
  },
  {
   "cell_type": "code",
   "execution_count": 16,
   "id": "b18c524f-a902-4317-afb6-42c1a28fbfef",
   "metadata": {},
   "outputs": [
    {
     "data": {
      "text/plain": [
       "['a', 'b', 'c', 'd', 'a', 'b', 'c', 'd', 'a', 'b']"
      ]
     },
     "execution_count": 16,
     "metadata": {},
     "output_type": "execute_result"
    }
   ],
   "source": [
    "[next(C) for _ in range(10)]"
   ]
  },
  {
   "cell_type": "code",
   "execution_count": 19,
   "id": "04d145ba-de6b-47de-ab07-665ae89cebb8",
   "metadata": {},
   "outputs": [
    {
     "data": {
      "text/plain": [
       "'range(0, 10)'"
      ]
     },
     "execution_count": 19,
     "metadata": {},
     "output_type": "execute_result"
    }
   ],
   "source": [
    "str(range(10))"
   ]
  },
  {
   "cell_type": "code",
   "execution_count": 25,
   "id": "72305085-59f0-421f-812d-e781934bc30f",
   "metadata": {},
   "outputs": [],
   "source": [
    "run doctest_2.py"
   ]
  },
  {
   "cell_type": "code",
   "execution_count": null,
   "id": "45f759e7-a898-4e05-8b87-271bfc0bc054",
   "metadata": {},
   "outputs": [],
   "source": [
    "1 2 3 5"
   ]
  },
  {
   "cell_type": "raw",
   "id": "ba9fcfdd-e1ab-48f9-8c4f-b4be3c683f86",
   "metadata": {},
   "source": [
    "1 : [[1]]\n",
    "2 : [[2]]\n",
    "3 : [[3]]\n",
    "4 : add 1 to all solutions for 3 [[1, 3]]\n",
    "    add 2 to all solutions for 2 [[2, 2]]\n",
    "    add 3 to all solutions for 1 [[3, 1]]\n",
    "  : [[1, 3], [2, 2]]\n",
    "5 : [[5]]\n",
    "6 : add 1 to all solutions for 5 [[1, 5]]\n",
    "    add 2 to all solutions for 4 [[2, 1, 3], [2, 2, 2]]\n",
    "    add 3 to all solutions for 3 [[3, 3]]\n",
    "    add 5 to all solutions for 1 [[5, 1]]\n",
    "  : [[1, 5], [3, 3]]\n",
    "7 : add 1 to all solutions for 6 [[7, 1, 5], [7, 3, 3]]\n",
    "    add 2 to all solutions for 5 [[2, 5]]\n",
    "    add 3 to all solutions for 4 [[3, 1, 3], [3, 2, 2]]\n",
    "    add 5 to all solutions for 2 [[5, 2]]\n",
    "  : [[2, 5]]\n"
   ]
  },
  {
   "cell_type": "code",
   "execution_count": 1,
   "id": "4c165d6f-e259-4afb-8eec-6d425082ac48",
   "metadata": {},
   "outputs": [],
   "source": [
    "class A:\n",
    "    def __call__(self, x, y):\n",
    "        return x + y"
   ]
  },
  {
   "cell_type": "code",
   "execution_count": 2,
   "id": "efa01a6c-ab28-4a6c-9bcf-a4305881c872",
   "metadata": {},
   "outputs": [
    {
     "data": {
      "text/plain": [
       "<__main__.A at 0x1049c81a0>"
      ]
     },
     "execution_count": 2,
     "metadata": {},
     "output_type": "execute_result"
    }
   ],
   "source": [
    "A()"
   ]
  },
  {
   "cell_type": "code",
   "execution_count": 3,
   "id": "4d2f2548-5600-4817-baec-fc350cf4bf3f",
   "metadata": {},
   "outputs": [],
   "source": [
    "I = A()"
   ]
  },
  {
   "cell_type": "code",
   "execution_count": 4,
   "id": "8de9b957-5906-41ad-9ae8-f7008dce0958",
   "metadata": {},
   "outputs": [
    {
     "data": {
      "text/plain": [
       "8"
      ]
     },
     "execution_count": 4,
     "metadata": {},
     "output_type": "execute_result"
    },
    {
     "data": {
      "text/plain": [
       "8"
      ]
     },
     "execution_count": 4,
     "metadata": {},
     "output_type": "execute_result"
    }
   ],
   "source": [
    "I(3, 5)\n",
    "A.__call__(I, 3, 5)"
   ]
  },
  {
   "cell_type": "code",
   "execution_count": 5,
   "id": "b1022486-22ed-4da9-a8cf-13677b240523",
   "metadata": {},
   "outputs": [],
   "source": [
    "def f():\n",
    "    a = 10\n",
    "    def g():\n",
    "        a = 20\n",
    "        def h():\n",
    "            a = 30\n",
    "            print('Within h', a)\n",
    "        h()\n",
    "        print('Within g', a)\n",
    "    g()\n",
    "    print('Within f', a)\n",
    "        "
   ]
  },
  {
   "cell_type": "code",
   "execution_count": 6,
   "id": "82a63918-9a23-48ab-9d5a-e6c5e3ffee8d",
   "metadata": {},
   "outputs": [
    {
     "name": "stdout",
     "output_type": "stream",
     "text": [
      "Within h 30\n",
      "Within g 20\n",
      "Within f 10\n"
     ]
    }
   ],
   "source": [
    "f()"
   ]
  },
  {
   "cell_type": "code",
   "execution_count": 7,
   "id": "fd7ef14f-4993-40a5-a0b9-ef90faf2df57",
   "metadata": {},
   "outputs": [],
   "source": [
    "def f():\n",
    "    a = 10\n",
    "    def g():\n",
    "        a = 20\n",
    "        def h():\n",
    "            nonlocal a\n",
    "            a = 30\n",
    "            print('Within h', a)\n",
    "        h()\n",
    "        print('Within g', a)\n",
    "    g()\n",
    "    print('Within f', a)"
   ]
  },
  {
   "cell_type": "code",
   "execution_count": 8,
   "id": "d5be4f8d-8fc6-42bd-9275-4c097f4ab0f6",
   "metadata": {},
   "outputs": [
    {
     "name": "stdout",
     "output_type": "stream",
     "text": [
      "Within h 30\n",
      "Within g 30\n",
      "Within f 10\n"
     ]
    }
   ],
   "source": [
    "f()"
   ]
  },
  {
   "cell_type": "code",
   "execution_count": 9,
   "id": "9ac8f29d-2ac0-4fa2-ad04-0ff658ecad8d",
   "metadata": {},
   "outputs": [],
   "source": [
    "def f():\n",
    "    a = 10\n",
    "    def g():\n",
    "        nonlocal a\n",
    "        a = 20\n",
    "        def h():\n",
    "            a = 30\n",
    "            print('Within h', a)\n",
    "        h()\n",
    "        print('Within g', a)\n",
    "    g()\n",
    "    print('Within f', a)"
   ]
  },
  {
   "cell_type": "code",
   "execution_count": 10,
   "id": "9068b390-1a55-4677-9997-1e76a301ddb4",
   "metadata": {},
   "outputs": [
    {
     "name": "stdout",
     "output_type": "stream",
     "text": [
      "Within h 30\n",
      "Within g 20\n",
      "Within f 20\n"
     ]
    }
   ],
   "source": [
    "f()"
   ]
  },
  {
   "cell_type": "code",
   "execution_count": 11,
   "id": "1c058a24-4861-4513-882c-bac7c23bb451",
   "metadata": {},
   "outputs": [],
   "source": [
    "def f():\n",
    "    b = 10\n",
    "    def g():\n",
    "        a = 20\n",
    "        def h():\n",
    "            nonlocal b\n",
    "            b = 30\n",
    "            print('Within h', b)\n",
    "        h()\n",
    "        print('Within g', a)\n",
    "    g()\n",
    "    print('Within f', b)"
   ]
  },
  {
   "cell_type": "code",
   "execution_count": 12,
   "id": "5950a0ed-4548-4724-b026-d7f27dcedcd3",
   "metadata": {},
   "outputs": [
    {
     "name": "stdout",
     "output_type": "stream",
     "text": [
      "Within h 30\n",
      "Within g 20\n",
      "Within f 30\n"
     ]
    }
   ],
   "source": [
    "f()"
   ]
  },
  {
   "cell_type": "code",
   "execution_count": 13,
   "id": "5da2093a-f206-4ca3-af45-ec5e961631b2",
   "metadata": {},
   "outputs": [],
   "source": [
    "def f():\n",
    "    a = 10\n",
    "    def g():\n",
    "        a = 20\n",
    "        def h():\n",
    "            global a\n",
    "            a = 30\n",
    "            print('Within h', a)\n",
    "        h()\n",
    "        print('Within g', a)\n",
    "    g()\n",
    "    print('Within f', a)"
   ]
  },
  {
   "cell_type": "code",
   "execution_count": 14,
   "id": "b0593893-1aef-40cd-a5bf-423c506e55e3",
   "metadata": {},
   "outputs": [
    {
     "name": "stdout",
     "output_type": "stream",
     "text": [
      "Within h 30\n",
      "Within g 20\n",
      "Within f 10\n"
     ]
    }
   ],
   "source": [
    "f()"
   ]
  },
  {
   "cell_type": "code",
   "execution_count": 15,
   "id": "ea49dfa4-3134-4b3a-b800-3f6360302f4e",
   "metadata": {},
   "outputs": [
    {
     "data": {
      "text/plain": [
       "30"
      ]
     },
     "execution_count": 15,
     "metadata": {},
     "output_type": "execute_result"
    }
   ],
   "source": [
    "a"
   ]
  },
  {
   "cell_type": "code",
   "execution_count": 16,
   "id": "3b46f529-02eb-466f-aabe-ff459c14ae50",
   "metadata": {},
   "outputs": [
    {
     "ename": "SyntaxError",
     "evalue": "no binding for nonlocal 'c' found (693158306.py, line 6)",
     "output_type": "error",
     "traceback": [
      "\u001b[0;36m  Cell \u001b[0;32mIn[16], line 6\u001b[0;36m\u001b[0m\n\u001b[0;31m    nonlocal c\u001b[0m\n\u001b[0m    ^\u001b[0m\n\u001b[0;31mSyntaxError\u001b[0m\u001b[0;31m:\u001b[0m no binding for nonlocal 'c' found\n"
     ]
    }
   ],
   "source": [
    "def f():\n",
    "    b = 10\n",
    "    def g():\n",
    "        a = 20\n",
    "        def h():\n",
    "            nonlocal c\n",
    "            c = 30\n",
    "            print('Within h', c)\n",
    "        h()\n",
    "        print('Within g', a)\n",
    "    g()\n",
    "    print('Within f', b)"
   ]
  },
  {
   "cell_type": "code",
   "execution_count": 17,
   "id": "6f3bc470-a774-4334-bda4-ae6c8e16c793",
   "metadata": {},
   "outputs": [],
   "source": [
    "def f():\n",
    "    f.count += 1\n",
    "    print(f.count)"
   ]
  },
  {
   "cell_type": "code",
   "execution_count": 18,
   "id": "d90c07ba-ee82-47b1-8263-fd5ac17b07cb",
   "metadata": {},
   "outputs": [
    {
     "ename": "AttributeError",
     "evalue": "'function' object has no attribute 'count'",
     "output_type": "error",
     "traceback": [
      "\u001b[0;31m---------------------------------------------------------------------------\u001b[0m",
      "\u001b[0;31mAttributeError\u001b[0m                            Traceback (most recent call last)",
      "Cell \u001b[0;32mIn[18], line 1\u001b[0m\n\u001b[0;32m----> 1\u001b[0m \u001b[43mf\u001b[49m\u001b[43m(\u001b[49m\u001b[43m)\u001b[49m\n",
      "Cell \u001b[0;32mIn[17], line 2\u001b[0m, in \u001b[0;36mf\u001b[0;34m()\u001b[0m\n\u001b[1;32m      1\u001b[0m \u001b[38;5;28;01mdef\u001b[39;00m \u001b[38;5;21mf\u001b[39m():\n\u001b[0;32m----> 2\u001b[0m     \u001b[43mf\u001b[49m\u001b[38;5;241;43m.\u001b[39;49m\u001b[43mcount\u001b[49m \u001b[38;5;241m+\u001b[39m\u001b[38;5;241m=\u001b[39m \u001b[38;5;241m1\u001b[39m\n\u001b[1;32m      3\u001b[0m     \u001b[38;5;28mprint\u001b[39m(f\u001b[38;5;241m.\u001b[39mcount)\n",
      "\u001b[0;31mAttributeError\u001b[0m: 'function' object has no attribute 'count'"
     ]
    }
   ],
   "source": [
    "f()"
   ]
  },
  {
   "cell_type": "code",
   "execution_count": 19,
   "id": "43e0d16a-45e3-44ef-8145-21619f60e231",
   "metadata": {},
   "outputs": [],
   "source": [
    "f.count = 0"
   ]
  },
  {
   "cell_type": "code",
   "execution_count": 20,
   "id": "5a0789e7-658a-4e21-9c72-b95990309832",
   "metadata": {},
   "outputs": [
    {
     "name": "stdout",
     "output_type": "stream",
     "text": [
      "1\n",
      "2\n",
      "3\n"
     ]
    }
   ],
   "source": [
    "f()\n",
    "f()\n",
    "f()"
   ]
  }
 ],
 "metadata": {
  "kernelspec": {
   "display_name": "Python 3 (ipykernel)",
   "language": "python",
   "name": "python3"
  },
  "language_info": {
   "codemirror_mode": {
    "name": "ipython",
    "version": 3
   },
   "file_extension": ".py",
   "mimetype": "text/x-python",
   "name": "python",
   "nbconvert_exporter": "python",
   "pygments_lexer": "ipython3",
   "version": "3.13.0"
  }
 },
 "nbformat": 4,
 "nbformat_minor": 5
}
