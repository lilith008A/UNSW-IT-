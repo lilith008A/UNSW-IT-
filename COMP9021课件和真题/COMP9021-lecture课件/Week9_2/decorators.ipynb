{
 "cells": [
  {
   "cell_type": "code",
   "execution_count": null,
   "metadata": {
    "tags": []
   },
   "outputs": [],
   "source": [
    "# Does not need to be executed if\n",
    "# ~/.ipython/profile_default/ipython_config.py\n",
    "# exists and contains:\n",
    "# get_config().InteractiveShell.ast_node_interactivity = 'all'\n",
    "\n",
    "from IPython.core.interactiveshell import InteractiveShell\n",
    "InteractiveShell.ast_node_interactivity = 'all'"
   ]
  },
  {
   "cell_type": "markdown",
   "metadata": {},
   "source": [
    "<h1 align=\"center\">Decorators</h1> "
   ]
  },
  {
   "cell_type": "code",
   "execution_count": 1,
   "metadata": {
    "run_control": {
     "marked": false
    }
   },
   "outputs": [
    {
     "name": "stdout",
     "output_type": "stream",
     "text": [
      "Count nb 1 to add_up()\n"
     ]
    },
    {
     "data": {
      "text/plain": [
       "8"
      ]
     },
     "execution_count": 1,
     "metadata": {},
     "output_type": "execute_result"
    },
    {
     "name": "stdout",
     "output_type": "stream",
     "text": [
      "Count nb 2 to add_up()\n"
     ]
    },
    {
     "data": {
      "text/plain": [
       "22"
      ]
     },
     "execution_count": 1,
     "metadata": {},
     "output_type": "execute_result"
    },
    {
     "name": "stdout",
     "output_type": "stream",
     "text": [
      "Count nb 3 to add_up()\n"
     ]
    },
    {
     "data": {
      "text/plain": [
       "38"
      ]
     },
     "execution_count": 1,
     "metadata": {},
     "output_type": "execute_result"
    }
   ],
   "source": [
    "class count_calls:\n",
    "    def __init__(self, f):\n",
    "        self.count = 0\n",
    "        self.f = f\n",
    "    def __call__(self, *args, **kwargs):\n",
    "        self.count += 1\n",
    "        print(f'Count nb {self.count} to {self.f.__name__}()')\n",
    "        return self.f(*args, **kwargs)\n",
    "\n",
    "# Equivalent to:\n",
    "# add_up = count_calls(add_up)\n",
    "@count_calls\n",
    "def add_up(x, y, *, a, b):\n",
    "    return x + y + a + b\n",
    "\n",
    "add_up(1, 2, a=2, b=3)\n",
    "add_up(4, 5, a=6, b=7)\n",
    "add_up(8, 9, a=10, b=11)"
   ]
  },
  {
   "cell_type": "code",
   "execution_count": 2,
   "metadata": {
    "run_control": {
     "marked": false
    }
   },
   "outputs": [
    {
     "name": "stdout",
     "output_type": "stream",
     "text": [
      "Call nb 1 to add_up()\n"
     ]
    },
    {
     "data": {
      "text/plain": [
       "8"
      ]
     },
     "execution_count": 2,
     "metadata": {},
     "output_type": "execute_result"
    },
    {
     "name": "stdout",
     "output_type": "stream",
     "text": [
      "Call nb 2 to add_up()\n"
     ]
    },
    {
     "data": {
      "text/plain": [
       "22"
      ]
     },
     "execution_count": 2,
     "metadata": {},
     "output_type": "execute_result"
    },
    {
     "name": "stdout",
     "output_type": "stream",
     "text": [
      "Call nb 3 to add_up()\n"
     ]
    },
    {
     "data": {
      "text/plain": [
       "38"
      ]
     },
     "execution_count": 2,
     "metadata": {},
     "output_type": "execute_result"
    }
   ],
   "source": [
    "def count_calls(f):\n",
    "    count = 0\n",
    "    def wrap(*args, **kwargs):\n",
    "        nonlocal count\n",
    "        count += 1\n",
    "        print(f'Call nb {count} to {f.__name__}()')\n",
    "        return f(*args, **kwargs)\n",
    "    return wrap\n",
    "\n",
    "# Equivalent to:\n",
    "# add_up = count_calls(add_up)\n",
    "@count_calls\n",
    "def add_up(x, y, *, a, b):\n",
    "    return x + y + a + b\n",
    "\n",
    "add_up(1, 2, a=2, b=3)\n",
    "add_up(4, 5, a=6, b=7)\n",
    "add_up(8, 9, a=10, b=11)"
   ]
  },
  {
   "cell_type": "code",
   "execution_count": 3,
   "metadata": {
    "run_control": {
     "marked": false
    }
   },
   "outputs": [
    {
     "name": "stdout",
     "output_type": "stream",
     "text": [
      "Call nb 11 to add_up()\n"
     ]
    },
    {
     "data": {
      "text/plain": [
       "8"
      ]
     },
     "execution_count": 3,
     "metadata": {},
     "output_type": "execute_result"
    },
    {
     "name": "stdout",
     "output_type": "stream",
     "text": [
      "Call nb 12 to add_up()\n"
     ]
    },
    {
     "data": {
      "text/plain": [
       "22"
      ]
     },
     "execution_count": 3,
     "metadata": {},
     "output_type": "execute_result"
    },
    {
     "name": "stdout",
     "output_type": "stream",
     "text": [
      "Call nb 13 to add_up()\n"
     ]
    },
    {
     "data": {
      "text/plain": [
       "38"
      ]
     },
     "execution_count": 3,
     "metadata": {},
     "output_type": "execute_result"
    }
   ],
   "source": [
    "def count_calls_starting_from(start=0):\n",
    "    def count_calls(f):\n",
    "        count = start\n",
    "        def wrap(*args, **kwargs):\n",
    "            nonlocal count\n",
    "            count += 1\n",
    "            print(f'Call nb {count} to {f.__name__}()')\n",
    "            return f(*args, **kwargs)\n",
    "        return wrap\n",
    "    return count_calls\n",
    "\n",
    "# Equivalent to:\n",
    "# add_up = count_calls_starting_from(10)(add_up)\n",
    "@count_calls_starting_from(10)\n",
    "def add_up(x, y, *, a, b):\n",
    "    return x + y + a + b\n",
    "\n",
    "add_up(1, 2, a=2, b=3)\n",
    "add_up(4, 5, a=6, b=7)\n",
    "add_up(8, 9, a=10, b=11)"
   ]
  },
  {
   "cell_type": "code",
   "execution_count": 4,
   "metadata": {
    "run_control": {
     "marked": false
    }
   },
   "outputs": [
    {
     "name": "stdout",
     "output_type": "stream",
     "text": [
      "Object nb 1 of type C\n",
      "Object nb 2 of type C\n",
      "Object nb 3 of type C\n"
     ]
    },
    {
     "data": {
      "text/plain": [
       "(11, 12, 13)"
      ]
     },
     "execution_count": 4,
     "metadata": {},
     "output_type": "execute_result"
    }
   ],
   "source": [
    "def count_calls(cls):\n",
    "    def wrap(datum):\n",
    "        wrap.count += 1\n",
    "        print(f'Object nb {wrap.count} of type {cls.__name__}')\n",
    "        return cls(datum)\n",
    "    wrap.count = 0\n",
    "    return wrap\n",
    "\n",
    "# Equivalent to:\n",
    "# C = count_calls(C)\n",
    "@count_calls\n",
    "class C:\n",
    "    def __init__(self, datum):\n",
    "        self.datum = datum\n",
    "\n",
    "I1, I2, I3 = C(11), C(12), C(13)\n",
    "I1.datum, I2.datum, I3.datum"
   ]
  },
  {
   "cell_type": "code",
   "execution_count": null,
   "metadata": {
    "tags": []
   },
   "outputs": [],
   "source": [
    "class D:\n",
    "    def __init__(self):\n",
    "        self.datum = 'Descriptor datum'\n",
    "    def __get__(self, instance, owner):\n",
    "        print(self.datum)\n",
    "        print(owner._datum)\n",
    "        return instance._datum     \n",
    "    def __set__(self, instance, value):\n",
    "         self.datum = 'New descriptor datum'\n",
    "         instance._datum = value   \n",
    "\n",
    "class C:\n",
    "    _datum = 'Owner datum'\n",
    "    def __init__(self):\n",
    "        self._datum = 'Instance datum'\n",
    "    datum = D()\n",
    "\n",
    "I = C()\n",
    "I.datum\n",
    "print('--------')\n",
    "I.datum = 'New instance value'\n",
    "I.datum\n",
    "I.__dict__"
   ]
  },
  {
   "cell_type": "code",
   "execution_count": null,
   "metadata": {
    "tags": []
   },
   "outputs": [],
   "source": [
    "class B:\n",
    "    def __init__(self, datum):\n",
    "        self._datum = datum\n",
    "    @property\n",
    "    def datum(self):\n",
    "        print('You asked for the value of datum')\n",
    "        return self._datum\n",
    "    @datum.setter\n",
    "    def datum(self, value):\n",
    "        print('You want to modify the value of datum')\n",
    "        self._datum = value\n",
    "\n",
    "I = B(3)\n",
    "I.datum\n",
    "I.datum = 4\n",
    "print('--------')\n",
    "I.datum"
   ]
  },
  {
   "cell_type": "code",
   "execution_count": null,
   "metadata": {},
   "outputs": [],
   "source": [
    "class A:\n",
    "    def __init__(self, datum):\n",
    "        self._datum = datum\n",
    "    @property\n",
    "    def datum(self):\n",
    "        print('You asked for the value of datum')\n",
    "        return self._datum\n",
    "\n",
    "I = A(3)\n",
    "I.datum\n",
    "print('--------')\n",
    "I.datum = 4"
   ]
  }
 ],
 "metadata": {
  "kernelspec": {
   "display_name": "Python 3 (ipykernel)",
   "language": "python",
   "name": "python3"
  },
  "language_info": {
   "codemirror_mode": {
    "name": "ipython",
    "version": 3
   },
   "file_extension": ".py",
   "mimetype": "text/x-python",
   "name": "python",
   "nbconvert_exporter": "python",
   "pygments_lexer": "ipython3",
   "version": "3.13.0"
  },
  "latex_envs": {
   "LaTeX_envs_menu_present": true,
   "autoclose": false,
   "autocomplete": true,
   "bibliofile": "biblio.bib",
   "cite_by": "apalike",
   "current_citInitial": 1,
   "eqLabelWithNumbers": true,
   "eqNumInitial": 1,
   "hotkeys": {
    "equation": "Ctrl-E",
    "itemize": "Ctrl-I"
   },
   "labels_anchors": false,
   "latex_user_defs": false,
   "report_style_numbering": false,
   "user_envs_cfg": false
  },
  "toc": {
   "base_numbering": 1,
   "nav_menu": {},
   "number_sections": false,
   "sideBar": true,
   "skip_h1_title": false,
   "title_cell": "Table of Contents",
   "title_sidebar": "Contents",
   "toc_cell": false,
   "toc_position": {},
   "toc_section_display": true,
   "toc_window_display": false
  },
  "widgets": {
   "application/vnd.jupyter.widget-state+json": {
    "state": {},
    "version_major": 2,
    "version_minor": 0
   }
  }
 },
 "nbformat": 4,
 "nbformat_minor": 4
}
