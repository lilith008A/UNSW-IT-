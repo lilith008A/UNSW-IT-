{
 "cells": [
  {
   "cell_type": "markdown",
   "id": "8175cf8f-bfbe-4c64-a0e2-ff130eac4b98",
   "metadata": {
    "tags": []
   },
   "source": [
    "# Lists versus sets"
   ]
  },
  {
   "cell_type": "markdown",
   "id": "c0d0668d-6b08-48fa-a8f8-54831d20cf74",
   "metadata": {
    "jp-MarkdownHeadingCollapsed": true
   },
   "source": [
    "##  Introduction to hashing applied to set creation"
   ]
  },
  {
   "cell_type": "markdown",
   "id": "7fd980c8-086a-465a-a869-2996b2802a9b",
   "metadata": {},
   "source": [
    "##  Complexity of list versus set methods"
   ]
  },
  {
   "cell_type": "markdown",
   "id": "6ba4b746-ba97-4112-a96b-939e24e0a371",
   "metadata": {},
   "source": [
    "# global, local and nonlocal variables"
   ]
  },
  {
   "cell_type": "markdown",
   "id": "dfac9d95-9833-4899-95f6-ffa3a42d151a",
   "metadata": {
    "tags": []
   },
   "source": [
    "# Functions"
   ]
  },
  {
   "cell_type": "markdown",
   "id": "098637f7-b986-43ed-8dfd-a243947469c4",
   "metadata": {},
   "source": [
    "## zip()"
   ]
  },
  {
   "cell_type": "markdown",
   "id": "bbb046ed-a3dd-45fe-acd8-7e9872fd1856",
   "metadata": {},
   "source": [
    "## timeit(): the setup keyword argument"
   ]
  },
  {
   "cell_type": "markdown",
   "id": "b5e4e039-74f2-496c-b6e3-c4dcb457b9b3",
   "metadata": {
    "tags": []
   },
   "source": [
    "# Plotting with matplolib()"
   ]
  }
 ],
 "metadata": {
  "kernelspec": {
   "display_name": "Python 3 (ipykernel)",
   "language": "python",
   "name": "python3"
  },
  "language_info": {
   "codemirror_mode": {
    "name": "ipython",
    "version": 3
   },
   "file_extension": ".py",
   "mimetype": "text/x-python",
   "name": "python",
   "nbconvert_exporter": "python",
   "pygments_lexer": "ipython3",
   "version": "3.12.6"
  },
  "widgets": {
   "application/vnd.jupyter.widget-state+json": {
    "state": {},
    "version_major": 2,
    "version_minor": 0
   }
  }
 },
 "nbformat": 4,
 "nbformat_minor": 5
}
