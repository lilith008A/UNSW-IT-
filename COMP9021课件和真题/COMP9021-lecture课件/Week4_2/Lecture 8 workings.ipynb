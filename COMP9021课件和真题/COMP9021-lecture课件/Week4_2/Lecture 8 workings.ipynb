{
    "metadata": {
        "kernelspec": {
            "name": "python3",
            "display_name": "Python 3 (ipykernel)",
            "language": "python"
        }
    },
    "nbformat": 4,
    "nbformat_minor": 5,
    "cells": [
        {
            "cell_type": "code",
            "execution_count": 2,
            "metadata": {},
            "outputs": [],
            "source": [
                "from math import sqrt\n",
                "\n",
                "for i in range(1, round(sqrt(997)) + 1):\n",
                "    i_square = i * i\n",
                "    for j in range(i + 1, round(sqrt(9998)) + 1):\n",
                "        j_square = j * j\n",
                "        for k in range(j + 1, round(sqrt(9876532)) + 1):\n",
                "            k_square = k * k\n",
                "        "
            ]
        },
        {
            "cell_type": "code",
            "execution_count": 3,
            "metadata": {},
            "outputs": [
                {
                    "data": {
                        "text/plain": [
                            "8242480"
                        ]
                    },
                    "execution_count": 3,
                    "metadata": {},
                    "output_type": "execute_result"
                }
            ],
            "source": [
                "sum(1 for i in range(1, round(sqrt(997)) + 1)\n",
                "          for j in range(i + 1, round(sqrt(9998)) + 1)\n",
                "              for k in range(j + 1, round(sqrt(9876532)) + 1)\n",
                "   )"
            ]
        },
        {
            "cell_type": "code",
            "execution_count": 0,
            "metadata": {},
            "outputs": [],
            "source": [
                "from math import sqrt\n",
                "\n",
                "for i in range(1, round(sqrt(997)) + 1):\n",
                "    i_square = i * i\n",
                "    if not ok(i_square):\n",
                "        continue\n",
                "    for j in range(i + 1, round(sqrt(9998)) + 1):\n",
                "        j_square = j * j\n",
                "        if not ok(j_square, digits_in_i_square):\n",
                "            continue\n",
                "        for k in range(j + 1, round(sqrt(9876532)) + 1):\n",
                "            k_square = k * k\n",
                "            if not ok(k_square, digits_in_i_and_j_square):\n",
                "                continue\n",
                "        "
            ]
        },
        {
            "cell_type": "code",
            "execution_count": 0,
            "metadata": {},
            "outputs": [],
            "source": [
                "from math import sqrt\n",
                "\n",
                "for i in range(1, round(sqrt(997)) + 1):\n",
                "    i_square = i * i\n",
                "    digits_in_i_square = ok(i_square, {'0'}):\n",
                "    if not digits_in_i_square:\n",
                "        continue\n",
                "    for j in range(i + 1, round(sqrt(9998)) + 1):\n",
                "        j_square = j * j\n",
                "        digits_in_i_and_j_square = ok(j_square, digits_in_i_square):\n",
                "        if not digits_in_i_and_j_square:\n",
                "            continue\n",
                "        for k in range(j + 1, round(sqrt(9876532)) + 1):\n",
                "            k_square = k * k\n",
                "            digits_in_i_and_j_and_k_square = ok(k_square, digits_in_i_and_j_square)\n",
                "            if not digits_in_i_and_j_and_k_square:\n",
                "                continue\n",
                ""
            ]
        },
        {
            "cell_type": "code",
            "execution_count": 0,
            "metadata": {},
            "outputs": [],
            "source": [
                "def ok(n, seen_before):\n",
                "    "
            ]
        },
        {
            "cell_type": "code",
            "execution_count": 4,
            "metadata": {},
            "outputs": [
                {
                    "data": {
                        "text/plain": [
                            "{'2', '5'}"
                        ]
                    },
                    "execution_count": 4,
                    "metadata": {},
                    "output_type": "execute_result"
                }
            ],
            "source": [
                "seen_before = {'0', '1', '6'}\n",
                "i_square = 16\n",
                "j_square = 25\n",
                "set(str(j_square))"
            ]
        },
        {
            "cell_type": "code",
            "execution_count": 5,
            "metadata": {
                "scrolled": true
            },
            "outputs": [
                {
                    "data": {
                        "text/plain": [
                            "['__and__',\n",
                            " '__class__',\n",
                            " '__class_getitem__',\n",
                            " '__contains__',\n",
                            " '__delattr__',\n",
                            " '__dir__',\n",
                            " '__doc__',\n",
                            " '__eq__',\n",
                            " '__format__',\n",
                            " '__ge__',\n",
                            " '__getattribute__',\n",
                            " '__getstate__',\n",
                            " '__gt__',\n",
                            " '__hash__',\n",
                            " '__iand__',\n",
                            " '__init__',\n",
                            " '__init_subclass__',\n",
                            " '__ior__',\n",
                            " '__isub__',\n",
                            " '__iter__',\n",
                            " '__ixor__',\n",
                            " '__le__',\n",
                            " '__len__',\n",
                            " '__lt__',\n",
                            " '__ne__',\n",
                            " '__new__',\n",
                            " '__or__',\n",
                            " '__rand__',\n",
                            " '__reduce__',\n",
                            " '__reduce_ex__',\n",
                            " '__repr__',\n",
                            " '__ror__',\n",
                            " '__rsub__',\n",
                            " '__rxor__',\n",
                            " '__setattr__',\n",
                            " '__sizeof__',\n",
                            " '__str__',\n",
                            " '__sub__',\n",
                            " '__subclasshook__',\n",
                            " '__xor__',\n",
                            " 'add',\n",
                            " 'clear',\n",
                            " 'copy',\n",
                            " 'difference',\n",
                            " 'difference_update',\n",
                            " 'discard',\n",
                            " 'intersection',\n",
                            " 'intersection_update',\n",
                            " 'isdisjoint',\n",
                            " 'issubset',\n",
                            " 'issuperset',\n",
                            " 'pop',\n",
                            " 'remove',\n",
                            " 'symmetric_difference',\n",
                            " 'symmetric_difference_update',\n",
                            " 'union',\n",
                            " 'update']"
                        ]
                    },
                    "execution_count": 5,
                    "metadata": {},
                    "output_type": "execute_result"
                }
            ],
            "source": [
                "dir(set)"
            ]
        },
        {
            "cell_type": "code",
            "execution_count": 6,
            "metadata": {},
            "outputs": [
                {
                    "ename": "TypeError",
                    "evalue": "'int' object is not iterable",
                    "output_type": "error",
                    "traceback": [
                        "\u001b[0;31m---------------------------------------------------------------------------\u001b[0m",
                        "\u001b[0;31mTypeError\u001b[0m                                 Traceback (most recent call last)",
                        "Cell \u001b[0;32mIn[6], line 2\u001b[0m\n\u001b[1;32m      1\u001b[0m S \u001b[38;5;241m=\u001b[39m {\u001b[38;5;241m1\u001b[39m, \u001b[38;5;241m2\u001b[39m, \u001b[38;5;241m3\u001b[39m}\n\u001b[0;32m----\u003e 2\u001b[0m \u001b[43mS\u001b[49m\u001b[38;5;241;43m.\u001b[39;49m\u001b[43munion\u001b[49m\u001b[43m(\u001b[49m\u001b[38;5;241;43m4\u001b[39;49m\u001b[43m,\u001b[49m\u001b[43m \u001b[49m\u001b[38;5;241;43m5\u001b[39;49m\u001b[43m)\u001b[49m\n",
                        "\u001b[0;31mTypeError\u001b[0m: 'int' object is not iterable"
                    ]
                }
            ],
            "source": [
                "S = {1, 2, 3}\n",
                "S.union(4, 5)"
            ]
        },
        {
            "cell_type": "code",
            "execution_count": 8,
            "metadata": {},
            "outputs": [
                {
                    "data": {
                        "text/plain": [
                            "{1, 2, 3, 4, 5}"
                        ]
                    },
                    "execution_count": 8,
                    "metadata": {},
                    "output_type": "execute_result"
                },
                {
                    "data": {
                        "text/plain": [
                            "{1, 2, 3}"
                        ]
                    },
                    "execution_count": 8,
                    "metadata": {},
                    "output_type": "execute_result"
                }
            ],
            "source": [
                "S = {1, 2, 3}\n",
                "S.union([4, 5])\n",
                "S"
            ]
        },
        {
            "cell_type": "code",
            "execution_count": 10,
            "metadata": {},
            "outputs": [
                {
                    "data": {
                        "text/plain": [
                            "{1, 2, 3, 4, 5}"
                        ]
                    },
                    "execution_count": 10,
                    "metadata": {},
                    "output_type": "execute_result"
                }
            ],
            "source": [
                "S = {1, 2, 3}\n",
                "S.update([4, 5])\n",
                "S"
            ]
        },
        {
            "cell_type": "code",
            "execution_count": 14,
            "metadata": {},
            "outputs": [
                {
                    "data": {
                        "text/plain": [
                            "{1, 2, 3, 4, 5}"
                        ]
                    },
                    "execution_count": 14,
                    "metadata": {},
                    "output_type": "execute_result"
                },
                {
                    "data": {
                        "text/plain": [
                            "{1, 2, 3}"
                        ]
                    },
                    "execution_count": 14,
                    "metadata": {},
                    "output_type": "execute_result"
                }
            ],
            "source": [
                "S = {1, 2, 3}\n",
                "S | {4, 5}\n",
                "S"
            ]
        },
        {
            "cell_type": "code",
            "execution_count": 15,
            "metadata": {},
            "outputs": [
                {
                    "data": {
                        "text/plain": [
                            "{2, 3}"
                        ]
                    },
                    "execution_count": 15,
                    "metadata": {},
                    "output_type": "execute_result"
                },
                {
                    "data": {
                        "text/plain": [
                            "{1, 2, 3}"
                        ]
                    },
                    "execution_count": 15,
                    "metadata": {},
                    "output_type": "execute_result"
                }
            ],
            "source": [
                "S = {1, 2, 3}\n",
                "S \u0026 {2, 3, 4, 5}\n",
                "S"
            ]
        },
        {
            "cell_type": "code",
            "execution_count": 16,
            "metadata": {},
            "outputs": [
                {
                    "data": {
                        "text/plain": [
                            "{1, 4, 5}"
                        ]
                    },
                    "execution_count": 16,
                    "metadata": {},
                    "output_type": "execute_result"
                },
                {
                    "data": {
                        "text/plain": [
                            "{1, 2, 3}"
                        ]
                    },
                    "execution_count": 16,
                    "metadata": {},
                    "output_type": "execute_result"
                }
            ],
            "source": [
                "S = {1, 2, 3}\n",
                "S ^ {2, 3, 4, 5}\n",
                "S"
            ]
        },
        {
            "cell_type": "code",
            "execution_count": 19,
            "metadata": {},
            "outputs": [
                {
                    "data": {
                        "text/plain": [
                            "{'2', '5'}"
                        ]
                    },
                    "execution_count": 19,
                    "metadata": {},
                    "output_type": "execute_result"
                },
                {
                    "data": {
                        "text/plain": [
                            "{'0', '1', '2', '5', '6'}"
                        ]
                    },
                    "execution_count": 19,
                    "metadata": {},
                    "output_type": "execute_result"
                },
                {
                    "data": {
                        "text/plain": [
                            "True"
                        ]
                    },
                    "execution_count": 19,
                    "metadata": {},
                    "output_type": "execute_result"
                }
            ],
            "source": [
                "seen_before = {'0', '1', '6'}\n",
                "i_square = 16\n",
                "j_square = 25\n",
                "set(str(j_square))\n",
                "seen_before | set(str(j_square))\n",
                "len(seen_before | set(str(j_square))) == len(seen_before) + len(set(str(j_square)))"
            ]
        },
        {
            "cell_type": "code",
            "execution_count": 20,
            "metadata": {},
            "outputs": [
                {
                    "data": {
                        "text/plain": [
                            "{'4'}"
                        ]
                    },
                    "execution_count": 20,
                    "metadata": {},
                    "output_type": "execute_result"
                },
                {
                    "data": {
                        "text/plain": [
                            "{'0', '1', '4', '6'}"
                        ]
                    },
                    "execution_count": 20,
                    "metadata": {},
                    "output_type": "execute_result"
                },
                {
                    "data": {
                        "text/plain": [
                            "True"
                        ]
                    },
                    "execution_count": 20,
                    "metadata": {},
                    "output_type": "execute_result"
                }
            ],
            "source": [
                "seen_before = {'0', '1', '6'}\n",
                "i_square = 16\n",
                "j_square = 44\n",
                "set(str(j_square))\n",
                "seen_before | set(str(j_square))\n",
                "len(seen_before | set(str(j_square))) == len(seen_before) + len(set(str(j_square)))"
            ]
        },
        {
            "cell_type": "code",
            "execution_count": 21,
            "metadata": {},
            "outputs": [
                {
                    "data": {
                        "text/plain": [
                            "{'4'}"
                        ]
                    },
                    "execution_count": 21,
                    "metadata": {},
                    "output_type": "execute_result"
                },
                {
                    "data": {
                        "text/plain": [
                            "{'0', '1', '4', '6'}"
                        ]
                    },
                    "execution_count": 21,
                    "metadata": {},
                    "output_type": "execute_result"
                },
                {
                    "data": {
                        "text/plain": [
                            "False"
                        ]
                    },
                    "execution_count": 21,
                    "metadata": {},
                    "output_type": "execute_result"
                }
            ],
            "source": [
                "seen_before = {'0', '1', '6'}\n",
                "i_square = 16\n",
                "j_square = 44\n",
                "set(str(j_square))\n",
                "seen_before | set(str(j_square))\n",
                "len(seen_before | set(str(j_square))) == len(seen_before) + len(str(j_square))"
            ]
        },
        {
            "cell_type": "code",
            "execution_count": 25,
            "metadata": {},
            "outputs": [],
            "source": [
                "def ok(n, seen_before):\n",
                "    n_as_str = str(n)\n",
                "    seen_now = seen_before | set(n_as_str)\n",
                "    if len(seen_now) == len(seen_before) + len(n_as_str):\n",
                "        return seen_now"
            ]
        },
        {
            "cell_type": "code",
            "execution_count": 31,
            "metadata": {},
            "outputs": [
                {
                    "data": {
                        "text/plain": [
                            "{'0', '1', '6'}"
                        ]
                    },
                    "execution_count": 31,
                    "metadata": {},
                    "output_type": "execute_result"
                },
                {
                    "name": "stdout",
                    "output_type": "stream",
                    "text": "A\n"
                },
                {
                    "data": {
                        "text/plain": [
                            "{'0', '1', '2', '5', '6'}"
                        ]
                    },
                    "execution_count": 31,
                    "metadata": {},
                    "output_type": "execute_result"
                }
            ],
            "source": [
                "ok(16, {'0'})\n",
                "ok(44, {'0'})\n",
                "ok(10, {'0'})\n",
                "print('A')\n",
                "ok(25, {'0', '1', '6'})\n",
                "ok(15, {'0', '1', '6'})"
            ]
        },
        {
            "cell_type": "code",
            "execution_count": 34,
            "metadata": {},
            "outputs": [
                {
                    "name": "stdout",
                    "output_type": "stream",
                    "text": "1 4 3297856\n1 4 3857296\n1 4 5827396\n1 4 6385729\n1 4 8567329\n1 4 9572836\n1 49 872356\n1 64 537289\n1 256 73984\n1 625 73984\n4 16 537289\n4 25 139876\n4 25 391876\n4 289 15376\n9 324 15876\n16 25 73984\n16 784 5329\n25 784 1369\n25 784 1936\n25 841 7396\n36 81 74529\n36 81 79524\n36 729 5184\n81 324 7569\n81 576 3249\n81 729 4356\n361 529 784\n"
                }
            ],
            "source": [
                "for i in range(1, round(sqrt(997)) + 1):\n",
                "    i_square = i * i\n",
                "    digits_in_i_square = ok(i_square, {'0'})\n",
                "    if not digits_in_i_square:\n",
                "        continue\n",
                "    for j in range(i + 1, round(sqrt(9998)) + 1):\n",
                "        j_square = j * j\n",
                "        digits_in_i_and_j_square = ok(j_square, digits_in_i_square)\n",
                "        if not digits_in_i_and_j_square:\n",
                "            continue\n",
                "        for k in range(j + 1, round(sqrt(9876532)) + 1):\n",
                "            k_square = k * k\n",
                "            digits_in_i_and_j_and_k_square = ok(k_square, digits_in_i_and_j_square)\n",
                "            if not digits_in_i_and_j_and_k_square:\n",
                "                continue\n",
                "            if len(digits_in_i_and_j_and_k_square) == 10:\n",
                "                print(i_square, j_square, k_square)"
            ]
        },
        {
            "cell_type": "code",
            "execution_count": 0,
            "metadata": {},
            "outputs": [],
            "source": [
                "for i in range(1, round(sqrt(997)) + 1):\n",
                "    i_square = i * i\n",
                "    digits_in_i_square = ok1(i_square, {0})\n",
                "    if not digits_in_i_square:\n",
                "        continue\n",
                "    for j in range(i + 1, round(sqrt(9998)) + 1):\n",
                "        j_square = j * j\n",
                "        digits_in_i_and_j_square = ok1(j_square, digits_in_i_square)\n",
                "        if not digits_in_i_and_j_square:\n",
                "            continue\n",
                "        for k in range(j + 1, round(sqrt(9876532)) + 1):\n",
                "            k_square = k * k\n",
                "            digits_in_i_and_j_and_k_square = ok1(k_square, digits_in_i_and_j_square)\n",
                "            if not digits_in_i_and_j_and_k_square:\n",
                "                continue\n",
                "            if len(digits_in_i_and_j_and_k_square) == 10:\n",
                "                print(i_square, j_square, k_square)"
            ]
        },
        {
            "cell_type": "code",
            "execution_count": 36,
            "metadata": {},
            "outputs": [],
            "source": [
                "def ok1(n, seen_before):\n",
                "    while n:\n",
                "        n, d = divmod(n, 10)\n",
                "        if d not in seen_before:\n",
                "            seen_before.add(d)\n",
                "        else:\n",
                "            return\n",
                "    return seen_before"
            ]
        },
        {
            "cell_type": "code",
            "execution_count": 35,
            "metadata": {},
            "outputs": [
                {
                    "data": {
                        "text/plain": [
                            "(123, 45)"
                        ]
                    },
                    "execution_count": 35,
                    "metadata": {},
                    "output_type": "execute_result"
                }
            ],
            "source": [
                "divmod(12345, 100)"
            ]
        },
        {
            "cell_type": "code",
            "execution_count": 37,
            "metadata": {},
            "outputs": [],
            "source": [
                "for i in range(1, round(sqrt(997)) + 1):\n",
                "    i_square = i * i\n",
                "    digits_in_i_square = ok1(i_square, {0})\n",
                "    if not digits_in_i_square:\n",
                "        continue\n",
                "    for j in range(i + 1, round(sqrt(9998)) + 1):\n",
                "        j_square = j * j\n",
                "        digits_in_i_and_j_square = ok1(j_square, digits_in_i_square)\n",
                "        if not digits_in_i_and_j_square:\n",
                "            continue\n",
                "        for k in range(j + 1, round(sqrt(9876532)) + 1):\n",
                "            k_square = k * k\n",
                "            digits_in_i_and_j_and_k_square = ok1(k_square, digits_in_i_and_j_square)\n",
                "            if not digits_in_i_and_j_and_k_square:\n",
                "                continue\n",
                "            if len(digits_in_i_and_j_and_k_square) == 10:\n",
                "                print(i_square, j_square, k_square)"
            ]
        },
        {
            "cell_type": "code",
            "execution_count": 41,
            "metadata": {},
            "outputs": [
                {
                    "data": {
                        "text/plain": [
                            "{0, 1, 2, 5, 6}"
                        ]
                    },
                    "execution_count": 41,
                    "metadata": {},
                    "output_type": "execute_result"
                },
                {
                    "data": {
                        "text/plain": [
                            "{0, 1, 2, 5, 6}"
                        ]
                    },
                    "execution_count": 41,
                    "metadata": {},
                    "output_type": "execute_result"
                }
            ],
            "source": [
                "digits_in_i_square = {0, 1, 6}\n",
                "digits_in_i_and_j_square = ok1(25, digits_in_i_square)\n",
                "digits_in_i_and_j_square\n",
                "digits_in_i_square"
            ]
        },
        {
            "cell_type": "code",
            "execution_count": 43,
            "metadata": {},
            "outputs": [
                {
                    "data": {
                        "text/plain": [
                            "[10, 20]"
                        ]
                    },
                    "execution_count": 43,
                    "metadata": {},
                    "output_type": "execute_result"
                },
                {
                    "data": {
                        "text/plain": [
                            "[10, 20]"
                        ]
                    },
                    "execution_count": 43,
                    "metadata": {},
                    "output_type": "execute_result"
                }
            ],
            "source": [
                "L = [10]\n",
                "def f(L):\n",
                "    L.append(20)\n",
                "    return L\n",
                "f(L)\n",
                "L"
            ]
        },
        {
            "cell_type": "code",
            "execution_count": 44,
            "metadata": {},
            "outputs": [
                {
                    "data": {
                        "text/plain": [
                            "10"
                        ]
                    },
                    "execution_count": 44,
                    "metadata": {},
                    "output_type": "execute_result"
                },
                {
                    "data": {
                        "text/plain": [
                            "0"
                        ]
                    },
                    "execution_count": 44,
                    "metadata": {},
                    "output_type": "execute_result"
                }
            ],
            "source": [
                "L = 0\n",
                "def f(L):\n",
                "    L += 10\n",
                "    return L\n",
                "f(L)\n",
                "L"
            ]
        },
        {
            "cell_type": "code",
            "execution_count": 45,
            "metadata": {},
            "outputs": [
                {
                    "name": "stdout",
                    "output_type": "stream",
                    "text": "1 4 3297856\n1 4 3857296\n1 4 5827396\n1 4 6385729\n1 4 8567329\n1 4 9572836\n1 49 872356\n1 64 537289\n1 256 73984\n1 625 73984\n4 16 537289\n4 25 139876\n4 25 391876\n4 289 15376\n9 324 15876\n16 25 73984\n16 784 5329\n25 784 1369\n25 784 1936\n25 841 7396\n36 81 74529\n36 81 79524\n36 729 5184\n81 324 7569\n81 576 3249\n81 729 4356\n361 529 784\n"
                }
            ],
            "source": [
                "for i in range(1, round(sqrt(997)) + 1):\n",
                "    i_square = i * i\n",
                "    digits_in_i_square = ok1(i_square, {0})\n",
                "    if not digits_in_i_square:\n",
                "        continue\n",
                "    for j in range(i + 1, round(sqrt(9998)) + 1):\n",
                "        j_square = j * j\n",
                "        digits_in_i_and_j_square = ok1(j_square, set(digits_in_i_square))\n",
                "        if not digits_in_i_and_j_square:\n",
                "            continue\n",
                "        for k in range(j + 1, round(sqrt(9876532)) + 1):\n",
                "            k_square = k * k\n",
                "            digits_in_i_and_j_and_k_square = ok1(k_square, set(digits_in_i_and_j_square))\n",
                "            if not digits_in_i_and_j_and_k_square:\n",
                "                continue\n",
                "            if len(digits_in_i_and_j_and_k_square) == 10:\n",
                "                print(i_square, j_square, k_square)"
            ]
        },
        {
            "cell_type": "code",
            "execution_count": 47,
            "metadata": {},
            "outputs": [
                {
                    "data": {
                        "text/plain": [
                            "'10000000'"
                        ]
                    },
                    "execution_count": 47,
                    "metadata": {},
                    "output_type": "execute_result"
                },
                {
                    "data": {
                        "text/plain": [
                            "'10000000'"
                        ]
                    },
                    "execution_count": 47,
                    "metadata": {},
                    "output_type": "execute_result"
                }
            ],
            "source": [
                "f'{1 * 2 ** 7:b}'\n",
                "f'{1 \u003c\u003c 7:b}'"
            ]
        },
        {
            "cell_type": "code",
            "execution_count": 49,
            "metadata": {},
            "outputs": [
                {
                    "data": {
                        "text/plain": [
                            "'110000'"
                        ]
                    },
                    "execution_count": 49,
                    "metadata": {},
                    "output_type": "execute_result"
                }
            ],
            "source": [
                "f'{int('11000001101', 2) \u003e\u003e 5:b}'"
            ]
        },
        {
            "cell_type": "code",
            "execution_count": 50,
            "metadata": {},
            "outputs": [
                {
                    "data": {
                        "text/plain": [
                            "1549"
                        ]
                    },
                    "execution_count": 50,
                    "metadata": {},
                    "output_type": "execute_result"
                }
            ],
            "source": [
                "int('11000001101', 2)"
            ]
        },
        {
            "cell_type": "code",
            "execution_count": 52,
            "metadata": {},
            "outputs": [
                {
                    "data": {
                        "text/plain": [
                            "'11000101101'"
                        ]
                    },
                    "execution_count": 52,
                    "metadata": {},
                    "output_type": "execute_result"
                }
            ],
            "source": [
                "f'{int('11000001101', 2) | 1 \u003c\u003c 5:b}'"
            ]
        },
        {
            "cell_type": "code",
            "execution_count": 58,
            "metadata": {},
            "outputs": [
                {
                    "data": {
                        "text/plain": [
                            "29"
                        ]
                    },
                    "execution_count": 58,
                    "metadata": {},
                    "output_type": "execute_result"
                }
            ],
            "source": [
                "13 | 21"
            ]
        },
        {
            "cell_type": "code",
            "execution_count": 60,
            "metadata": {},
            "outputs": [
                {
                    "data": {
                        "text/plain": [
                            "('1101', '10101', '11101')"
                        ]
                    },
                    "execution_count": 60,
                    "metadata": {},
                    "output_type": "execute_result"
                }
            ],
            "source": [
                "f'{13:b}', f'{21:b}', f'{29:b}'"
            ]
        },
        {
            "cell_type": "code",
            "execution_count": 61,
            "metadata": {},
            "outputs": [
                {
                    "data": {
                        "text/plain": [
                            "5"
                        ]
                    },
                    "execution_count": 61,
                    "metadata": {},
                    "output_type": "execute_result"
                }
            ],
            "source": [
                "13 \u0026 21"
            ]
        },
        {
            "cell_type": "code",
            "execution_count": 62,
            "metadata": {},
            "outputs": [
                {
                    "data": {
                        "text/plain": [
                            "('1101', '10101', '101')"
                        ]
                    },
                    "execution_count": 62,
                    "metadata": {},
                    "output_type": "execute_result"
                }
            ],
            "source": [
                "f'{13:b}', f'{21:b}', f'{5:b}'"
            ]
        },
        {
            "cell_type": "code",
            "execution_count": 65,
            "metadata": {},
            "outputs": [
                {
                    "data": {
                        "text/plain": [
                            "False"
                        ]
                    },
                    "execution_count": 65,
                    "metadata": {},
                    "output_type": "execute_result"
                }
            ],
            "source": [
                "int('11000001101', 2) | 1 \u003c\u003c 5 == int('11000001101', 2)"
            ]
        },
        {
            "cell_type": "code",
            "execution_count": 66,
            "metadata": {},
            "outputs": [
                {
                    "data": {
                        "text/plain": [
                            "True"
                        ]
                    },
                    "execution_count": 66,
                    "metadata": {},
                    "output_type": "execute_result"
                }
            ],
            "source": [
                "int('11000001101', 2) | 1 \u003c\u003c 3 == int('11000001101', 2)"
            ]
        },
        {
            "cell_type": "code",
            "execution_count": 70,
            "metadata": {},
            "outputs": [
                {
                    "name": "stdout",
                    "output_type": "stream",
                    "text": "1 4 3297856\n1 4 3857296\n1 4 5827396\n1 4 6385729\n1 4 8567329\n1 4 9572836\n1 49 872356\n1 64 537289\n1 256 73984\n1 625 73984\n4 16 537289\n4 25 139876\n4 25 391876\n4 289 15376\n9 324 15876\n16 25 73984\n16 784 5329\n25 784 1369\n25 784 1936\n25 841 7396\n36 81 74529\n36 81 79524\n36 729 5184\n81 324 7569\n81 576 3249\n81 729 4356\n361 529 784\n"
                }
            ],
            "source": [
                "for i in range(1, round(sqrt(997)) + 1):\n",
                "    i_square = i * i\n",
                "    digits_in_i_square = ok2(i_square, 1)\n",
                "    if not digits_in_i_square:\n",
                "        continue\n",
                "    for j in range(i + 1, round(sqrt(9998)) + 1):\n",
                "        j_square = j * j\n",
                "        digits_in_i_and_j_square = ok2(j_square, digits_in_i_square)\n",
                "        if not digits_in_i_and_j_square:\n",
                "            continue\n",
                "        for k in range(j + 1, round(sqrt(9876532)) + 1):\n",
                "            k_square = k * k\n",
                "            digits_in_i_and_j_and_k_square = ok2(k_square, digits_in_i_and_j_square)\n",
                "            if not digits_in_i_and_j_and_k_square:\n",
                "                continue\n",
                "            if digits_in_i_and_j_and_k_square == 2 ** 10 - 1:\n",
                "                print(i_square, j_square, k_square)"
            ]
        },
        {
            "cell_type": "code",
            "execution_count": 68,
            "metadata": {},
            "outputs": [],
            "source": [
                "def ok2(n, seen_before):\n",
                "    while n:\n",
                "        n, d = divmod(n, 10)\n",
                "        seen_now = seen_before | 1 \u003c\u003c d\n",
                "        if seen_now == seen_before:\n",
                "            return\n",
                "        seen_before = seen_now\n",
                "    return seen_now"
            ]
        },
        {
            "cell_type": "code",
            "execution_count": 0,
            "metadata": {},
            "outputs": [],
            "source": [
                ""
            ]
        }
    ]
}
