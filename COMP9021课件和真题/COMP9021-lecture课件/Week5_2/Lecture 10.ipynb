{
 "cells": [
  {
   "cell_type": "code",
   "execution_count": 1,
   "id": "e5a0de96-9d38-4478-aa78-6c454f45f7ab",
   "metadata": {},
   "outputs": [],
   "source": [
    "grid = [[0] * 10] * 10"
   ]
  },
  {
   "cell_type": "code",
   "execution_count": 2,
   "id": "61ce0cce-cda1-45b8-8561-853290939b81",
   "metadata": {},
   "outputs": [
    {
     "data": {
      "text/plain": [
       "[[0, 0, 0, 0, 0, 0, 0, 0, 0, 0],\n",
       " [0, 0, 0, 0, 0, 0, 0, 0, 0, 0],\n",
       " [0, 0, 0, 0, 0, 0, 0, 0, 0, 0],\n",
       " [0, 0, 0, 0, 0, 0, 0, 0, 0, 0],\n",
       " [0, 0, 0, 0, 0, 0, 0, 0, 0, 0],\n",
       " [0, 0, 0, 0, 0, 0, 0, 0, 0, 0],\n",
       " [0, 0, 0, 0, 0, 0, 0, 0, 0, 0],\n",
       " [0, 0, 0, 0, 0, 0, 0, 0, 0, 0],\n",
       " [0, 0, 0, 0, 0, 0, 0, 0, 0, 0],\n",
       " [0, 0, 0, 0, 0, 0, 0, 0, 0, 0]]"
      ]
     },
     "execution_count": 2,
     "metadata": {},
     "output_type": "execute_result"
    }
   ],
   "source": [
    "grid"
   ]
  },
  {
   "cell_type": "code",
   "execution_count": 3,
   "id": "bf409ee1-38d1-46e2-b24e-184a27676fe4",
   "metadata": {},
   "outputs": [],
   "source": [
    "def display_grid():\n",
    "    for row in grid:\n",
    "        print(row)"
   ]
  },
  {
   "cell_type": "code",
   "execution_count": 4,
   "id": "719aed4b-1ce0-44cb-a109-82946b685dda",
   "metadata": {},
   "outputs": [
    {
     "name": "stdout",
     "output_type": "stream",
     "text": [
      "[0, 0, 0, 0, 0, 0, 0, 0, 0, 0]\n",
      "[0, 0, 0, 0, 0, 0, 0, 0, 0, 0]\n",
      "[0, 0, 0, 0, 0, 0, 0, 0, 0, 0]\n",
      "[0, 0, 0, 0, 0, 0, 0, 0, 0, 0]\n",
      "[0, 0, 0, 0, 0, 0, 0, 0, 0, 0]\n",
      "[0, 0, 0, 0, 0, 0, 0, 0, 0, 0]\n",
      "[0, 0, 0, 0, 0, 0, 0, 0, 0, 0]\n",
      "[0, 0, 0, 0, 0, 0, 0, 0, 0, 0]\n",
      "[0, 0, 0, 0, 0, 0, 0, 0, 0, 0]\n",
      "[0, 0, 0, 0, 0, 0, 0, 0, 0, 0]\n"
     ]
    }
   ],
   "source": [
    "display_grid()"
   ]
  },
  {
   "cell_type": "code",
   "execution_count": 5,
   "id": "e289aa1c-95be-423e-ba46-344afc7ce8fc",
   "metadata": {},
   "outputs": [],
   "source": [
    "def display_grid():\n",
    "    for row in grid:\n",
    "        print(*row)"
   ]
  },
  {
   "cell_type": "code",
   "execution_count": 6,
   "id": "cb91fa0b-6f94-47d4-8cdd-99836c25527d",
   "metadata": {},
   "outputs": [
    {
     "name": "stdout",
     "output_type": "stream",
     "text": [
      "0 0 0 0 0 0 0 0 0 0\n",
      "0 0 0 0 0 0 0 0 0 0\n",
      "0 0 0 0 0 0 0 0 0 0\n",
      "0 0 0 0 0 0 0 0 0 0\n",
      "0 0 0 0 0 0 0 0 0 0\n",
      "0 0 0 0 0 0 0 0 0 0\n",
      "0 0 0 0 0 0 0 0 0 0\n",
      "0 0 0 0 0 0 0 0 0 0\n",
      "0 0 0 0 0 0 0 0 0 0\n",
      "0 0 0 0 0 0 0 0 0 0\n"
     ]
    }
   ],
   "source": [
    "display_grid()"
   ]
  },
  {
   "cell_type": "code",
   "execution_count": 11,
   "id": "d654e119-008c-453a-9c2c-6980cfcc6606",
   "metadata": {},
   "outputs": [],
   "source": [
    "squares = {0: '\\u2b1c', 1: '\\u2b1b'}"
   ]
  },
  {
   "cell_type": "code",
   "execution_count": 8,
   "id": "d17333ea-5954-4b1f-a1da-ec1f92b4d92b",
   "metadata": {},
   "outputs": [
    {
     "data": {
      "text/plain": [
       "('⬜', '⬛')"
      ]
     },
     "execution_count": 8,
     "metadata": {},
     "output_type": "execute_result"
    }
   ],
   "source": [
    "'\\u2b1c', '\\u2b1b'"
   ]
  },
  {
   "cell_type": "code",
   "execution_count": 9,
   "id": "b8f57d38-f375-4c51-bcfa-d387faa32f9a",
   "metadata": {},
   "outputs": [],
   "source": [
    "def display_grid():\n",
    "    for row in grid:\n",
    "        print(''.join(squares[e] for e in row))"
   ]
  },
  {
   "cell_type": "code",
   "execution_count": 12,
   "id": "aa395346-cf1d-4f5a-979f-29ab7fecd9be",
   "metadata": {},
   "outputs": [
    {
     "name": "stdout",
     "output_type": "stream",
     "text": [
      "⬜⬜⬜⬜⬜⬜⬜⬜⬜⬜\n",
      "⬜⬜⬜⬜⬜⬜⬜⬜⬜⬜\n",
      "⬜⬜⬜⬜⬜⬜⬜⬜⬜⬜\n",
      "⬜⬜⬜⬜⬜⬜⬜⬜⬜⬜\n",
      "⬜⬜⬜⬜⬜⬜⬜⬜⬜⬜\n",
      "⬜⬜⬜⬜⬜⬜⬜⬜⬜⬜\n",
      "⬜⬜⬜⬜⬜⬜⬜⬜⬜⬜\n",
      "⬜⬜⬜⬜⬜⬜⬜⬜⬜⬜\n",
      "⬜⬜⬜⬜⬜⬜⬜⬜⬜⬜\n",
      "⬜⬜⬜⬜⬜⬜⬜⬜⬜⬜\n"
     ]
    }
   ],
   "source": [
    "display_grid()"
   ]
  },
  {
   "cell_type": "code",
   "execution_count": 13,
   "id": "7751bc99-6e8b-4712-8541-27c9bde92ba4",
   "metadata": {},
   "outputs": [],
   "source": [
    "density = 0.2"
   ]
  },
  {
   "cell_type": "code",
   "execution_count": 14,
   "id": "23f291d9-a4df-46e6-abcb-c0244840ac16",
   "metadata": {},
   "outputs": [],
   "source": [
    "from random import random"
   ]
  },
  {
   "cell_type": "code",
   "execution_count": 15,
   "id": "4ced9e65-693e-4f5d-bc90-eaa5528c156c",
   "metadata": {},
   "outputs": [
    {
     "data": {
      "text/plain": [
       "(0.45480740028042954, 0.5017499195788141, 0.39485583212915387)"
      ]
     },
     "execution_count": 15,
     "metadata": {},
     "output_type": "execute_result"
    }
   ],
   "source": [
    "random(), random(), random()"
   ]
  },
  {
   "cell_type": "code",
   "execution_count": 17,
   "id": "3512d56e-edd4-469a-8d81-a6bf6fb2672b",
   "metadata": {},
   "outputs": [],
   "source": [
    "for i in range(10):\n",
    "    for j in range(10):\n",
    "        if random() < density:\n",
    "            grid[i][j] = 1"
   ]
  },
  {
   "cell_type": "code",
   "execution_count": 18,
   "id": "fecfae11-69f1-451a-aa74-ea4b74748908",
   "metadata": {},
   "outputs": [
    {
     "name": "stdout",
     "output_type": "stream",
     "text": [
      "⬛⬛⬛⬛⬜⬛⬛⬛⬛⬛\n",
      "⬛⬛⬛⬛⬜⬛⬛⬛⬛⬛\n",
      "⬛⬛⬛⬛⬜⬛⬛⬛⬛⬛\n",
      "⬛⬛⬛⬛⬜⬛⬛⬛⬛⬛\n",
      "⬛⬛⬛⬛⬜⬛⬛⬛⬛⬛\n",
      "⬛⬛⬛⬛⬜⬛⬛⬛⬛⬛\n",
      "⬛⬛⬛⬛⬜⬛⬛⬛⬛⬛\n",
      "⬛⬛⬛⬛⬜⬛⬛⬛⬛⬛\n",
      "⬛⬛⬛⬛⬜⬛⬛⬛⬛⬛\n",
      "⬛⬛⬛⬛⬜⬛⬛⬛⬛⬛\n"
     ]
    }
   ],
   "source": [
    "display_grid()"
   ]
  },
  {
   "cell_type": "code",
   "execution_count": 19,
   "id": "f8f5c363-e1cf-436c-8a83-087a7ae53b38",
   "metadata": {},
   "outputs": [],
   "source": [
    "L = [3, 3.14, [2, 4, 5], {3, 9}]"
   ]
  },
  {
   "cell_type": "code",
   "execution_count": 20,
   "id": "554dc3ac-5d72-42d0-8fd0-fbdb96bc821f",
   "metadata": {},
   "outputs": [
    {
     "data": {
      "text/plain": [
       "(3, {3, 9})"
      ]
     },
     "execution_count": 20,
     "metadata": {},
     "output_type": "execute_result"
    }
   ],
   "source": [
    "L[0], L[-1]"
   ]
  },
  {
   "cell_type": "code",
   "execution_count": 21,
   "id": "48698bd2-abe8-480d-9e7c-c8933cec1740",
   "metadata": {},
   "outputs": [],
   "source": [
    "L = [[0] * 10] * 10"
   ]
  },
  {
   "cell_type": "code",
   "execution_count": 22,
   "id": "890217c1-afde-46a9-b564-a3756d19029f",
   "metadata": {},
   "outputs": [
    {
     "data": {
      "text/plain": [
       "[[0, 0, 0, 0, 0, 0, 0, 0, 0, 0],\n",
       " [0, 0, 0, 0, 0, 0, 0, 0, 0, 0],\n",
       " [0, 0, 0, 0, 0, 0, 0, 0, 0, 0],\n",
       " [0, 0, 0, 0, 0, 0, 0, 0, 0, 0],\n",
       " [0, 0, 0, 0, 0, 0, 0, 0, 0, 0],\n",
       " [0, 0, 0, 0, 0, 0, 0, 0, 0, 0],\n",
       " [0, 0, 0, 0, 0, 0, 0, 0, 0, 0],\n",
       " [0, 0, 0, 0, 0, 0, 0, 0, 0, 0],\n",
       " [0, 0, 0, 0, 0, 0, 0, 0, 0, 0],\n",
       " [0, 0, 0, 0, 0, 0, 0, 0, 0, 0]]"
      ]
     },
     "execution_count": 22,
     "metadata": {},
     "output_type": "execute_result"
    }
   ],
   "source": [
    "L"
   ]
  },
  {
   "cell_type": "code",
   "execution_count": 23,
   "id": "c1cd799a-bb64-4b4e-969f-7d0da7c09868",
   "metadata": {},
   "outputs": [],
   "source": [
    "L[2][3] = 1"
   ]
  },
  {
   "cell_type": "code",
   "execution_count": 24,
   "id": "7c2417a4-5780-43ad-94d1-f8bb4db3b528",
   "metadata": {},
   "outputs": [
    {
     "data": {
      "text/plain": [
       "[[0, 0, 0, 1, 0, 0, 0, 0, 0, 0],\n",
       " [0, 0, 0, 1, 0, 0, 0, 0, 0, 0],\n",
       " [0, 0, 0, 1, 0, 0, 0, 0, 0, 0],\n",
       " [0, 0, 0, 1, 0, 0, 0, 0, 0, 0],\n",
       " [0, 0, 0, 1, 0, 0, 0, 0, 0, 0],\n",
       " [0, 0, 0, 1, 0, 0, 0, 0, 0, 0],\n",
       " [0, 0, 0, 1, 0, 0, 0, 0, 0, 0],\n",
       " [0, 0, 0, 1, 0, 0, 0, 0, 0, 0],\n",
       " [0, 0, 0, 1, 0, 0, 0, 0, 0, 0],\n",
       " [0, 0, 0, 1, 0, 0, 0, 0, 0, 0]]"
      ]
     },
     "execution_count": 24,
     "metadata": {},
     "output_type": "execute_result"
    }
   ],
   "source": [
    "L"
   ]
  },
  {
   "cell_type": "code",
   "execution_count": 25,
   "id": "d7f8d27f-40c7-475a-852d-ec12902811df",
   "metadata": {},
   "outputs": [
    {
     "data": {
      "text/plain": [
       "[[0, 0, 0, 0, 0, 0, 0, 0, 0, 0],\n",
       " [0, 0, 0, 0, 0, 0, 0, 0, 0, 0],\n",
       " [0, 0, 0, 0, 0, 0, 0, 0, 0, 0],\n",
       " [0, 0, 0, 0, 0, 0, 0, 0, 0, 0],\n",
       " [0, 0, 0, 0, 0, 0, 0, 0, 0, 0],\n",
       " [0, 0, 0, 0, 0, 0, 0, 0, 0, 0],\n",
       " [0, 0, 0, 0, 0, 0, 0, 0, 0, 0],\n",
       " [0, 0, 0, 0, 0, 0, 0, 0, 0, 0],\n",
       " [0, 0, 0, 0, 0, 0, 0, 0, 0, 0],\n",
       " [0, 0, 0, 0, 0, 0, 0, 0, 0, 0]]"
      ]
     },
     "execution_count": 25,
     "metadata": {},
     "output_type": "execute_result"
    }
   ],
   "source": [
    "L = [[0] * 10 for _ in range(10)]\n",
    "L"
   ]
  },
  {
   "cell_type": "code",
   "execution_count": 26,
   "id": "7f1d59d3-c1f3-4158-a261-6af1373bdcec",
   "metadata": {},
   "outputs": [
    {
     "data": {
      "text/plain": [
       "[[0, 0, 0, 0, 0, 0, 0, 0, 0, 0],\n",
       " [0, 0, 0, 0, 0, 0, 0, 0, 0, 0],\n",
       " [0, 0, 0, 1, 0, 0, 0, 0, 0, 0],\n",
       " [0, 0, 0, 0, 0, 0, 0, 0, 0, 0],\n",
       " [0, 0, 0, 0, 0, 0, 0, 0, 0, 0],\n",
       " [0, 0, 0, 0, 0, 0, 0, 0, 0, 0],\n",
       " [0, 0, 0, 0, 0, 0, 0, 0, 0, 0],\n",
       " [0, 0, 0, 0, 0, 0, 0, 0, 0, 0],\n",
       " [0, 0, 0, 0, 0, 0, 0, 0, 0, 0],\n",
       " [0, 0, 0, 0, 0, 0, 0, 0, 0, 0]]"
      ]
     },
     "execution_count": 26,
     "metadata": {},
     "output_type": "execute_result"
    }
   ],
   "source": [
    "L[2][3] = 1\n",
    "L"
   ]
  },
  {
   "cell_type": "code",
   "execution_count": 28,
   "id": "a7ee9865-fe6c-439f-877d-bcddf89076b9",
   "metadata": {},
   "outputs": [],
   "source": [
    "L = [[0 for _ in range(10)] for _ in range(10)]"
   ]
  },
  {
   "cell_type": "code",
   "execution_count": 29,
   "id": "674adf49-23a4-4b2d-b4da-455e860e6802",
   "metadata": {},
   "outputs": [
    {
     "data": {
      "text/plain": [
       "[[0, 0, 0, 0, 0, 0, 0, 0, 0, 0],\n",
       " [0, 0, 0, 0, 0, 0, 0, 0, 0, 0],\n",
       " [0, 0, 0, 0, 0, 0, 0, 0, 0, 0],\n",
       " [0, 0, 0, 0, 0, 0, 0, 0, 0, 0],\n",
       " [0, 0, 0, 0, 0, 0, 0, 0, 0, 0],\n",
       " [0, 0, 0, 0, 0, 0, 0, 0, 0, 0],\n",
       " [0, 0, 0, 0, 0, 0, 0, 0, 0, 0],\n",
       " [0, 0, 0, 0, 0, 0, 0, 0, 0, 0],\n",
       " [0, 0, 0, 0, 0, 0, 0, 0, 0, 0],\n",
       " [0, 0, 0, 0, 0, 0, 0, 0, 0, 0]]"
      ]
     },
     "execution_count": 29,
     "metadata": {},
     "output_type": "execute_result"
    }
   ],
   "source": [
    "L"
   ]
  },
  {
   "cell_type": "code",
   "execution_count": 30,
   "id": "a0e7fb26-f473-43b0-ae00-ef7094d439a9",
   "metadata": {},
   "outputs": [
    {
     "name": "stdout",
     "output_type": "stream",
     "text": [
      "⬜⬜⬜⬜⬜⬜⬜⬜⬜⬜\n",
      "⬜⬜⬜⬜⬜⬛⬛⬜⬜⬜\n",
      "⬜⬜⬜⬜⬜⬜⬜⬜⬛⬜\n",
      "⬜⬜⬜⬜⬜⬜⬜⬜⬛⬜\n",
      "⬜⬜⬜⬜⬜⬛⬛⬜⬜⬜\n",
      "⬛⬜⬜⬜⬜⬜⬜⬜⬜⬛\n",
      "⬜⬛⬛⬜⬛⬜⬜⬜⬜⬜\n",
      "⬛⬜⬜⬜⬛⬜⬜⬜⬛⬜\n",
      "⬜⬜⬛⬜⬜⬜⬛⬜⬜⬜\n",
      "⬛⬜⬜⬜⬜⬜⬜⬜⬜⬜\n"
     ]
    }
   ],
   "source": [
    "grid = [[0] * 10 for _ in range(10)]\n",
    "for i in range(10):\n",
    "    for j in range(10):\n",
    "        if random() < density:\n",
    "            grid[i][j] = 1\n",
    "display_grid()"
   ]
  },
  {
   "cell_type": "code",
   "execution_count": 31,
   "id": "5a3ae325-3d7c-4d20-84cd-985086334c97",
   "metadata": {},
   "outputs": [
    {
     "name": "stdout",
     "output_type": "stream",
     "text": [
      "⬛⬜⬛⬜⬜⬜⬜⬜⬜⬜\n",
      "⬜⬜⬜⬛⬜⬜⬜⬜⬜⬜\n",
      "⬜⬜⬛⬜⬜⬜⬜⬜⬜⬜\n",
      "⬛⬜⬜⬜⬜⬜⬜⬜⬜⬜\n",
      "⬜⬜⬛⬛⬜⬜⬜⬜⬛⬜\n",
      "⬜⬜⬛⬛⬜⬜⬜⬜⬜⬛\n",
      "⬜⬛⬜⬜⬜⬛⬜⬛⬜⬛\n",
      "⬜⬛⬜⬜⬜⬜⬜⬜⬜⬜\n",
      "⬜⬛⬛⬜⬜⬛⬜⬜⬜⬜\n",
      "⬛⬛⬜⬜⬜⬜⬜⬛⬛⬜\n"
     ]
    }
   ],
   "source": [
    "grid = [[None] * 10 for _ in range(10)]\n",
    "for i in range(10):\n",
    "    for j in range(10):\n",
    "        grid[i][j] = int(random() < density)\n",
    "display_grid()"
   ]
  },
  {
   "cell_type": "code",
   "execution_count": 32,
   "id": "596c0cd4-dfa0-4532-b323-8961b5fbc0dc",
   "metadata": {},
   "outputs": [
    {
     "name": "stdout",
     "output_type": "stream",
     "text": [
      "⬛⬜⬜⬜⬛⬜⬜⬜⬜⬜\n",
      "⬜⬜⬛⬜⬜⬜⬜⬜⬛⬜\n",
      "⬛⬜⬜⬜⬜⬜⬜⬜⬜⬜\n",
      "⬜⬜⬜⬜⬜⬜⬜⬛⬜⬜\n",
      "⬜⬜⬜⬜⬜⬜⬜⬛⬛⬜\n",
      "⬜⬜⬜⬛⬜⬜⬜⬜⬜⬜\n",
      "⬜⬜⬛⬛⬜⬜⬛⬜⬛⬜\n",
      "⬜⬛⬜⬜⬜⬜⬜⬛⬜⬛\n",
      "⬜⬜⬛⬜⬛⬜⬜⬜⬜⬜\n",
      "⬜⬜⬜⬜⬜⬜⬜⬛⬜⬛\n"
     ]
    }
   ],
   "source": [
    "grid = [[int(random() < density) for _ in range(10)] for _ in range(10)]\n",
    "display_grid()"
   ]
  },
  {
   "cell_type": "code",
   "execution_count": 33,
   "id": "20a96776-f624-44fe-939d-b5ae398d70ff",
   "metadata": {},
   "outputs": [],
   "source": [
    "def evolve():\n",
    "    new_grid = [[0] * 10 for _ in range(10)]\n",
    "    nb_of_neighbours = 0\n",
    "    for i in range(10):\n",
    "        for j in range(10):\n",
    "            # NW\n",
    "            if i and j and grid[i - 1][j - 1]:\n",
    "                nb_of_neighbours += 1\n",
    "            # N\n",
    "            if i and grid[i - 1][j]:\n",
    "                nb_of_neighbours += 1\n",
    "            # NE\n",
    "            if i and j < 9 and grid[i - 1][j + 1]:\n",
    "                nb_of_neighbours += 1\n",
    "            # SW\n",
    "            if i < 8 and j and grid[i + 1][j - 1]:\n",
    "                nb_of_neighbours += 1\n",
    "            # S\n",
    "            if i < 8 and grid[i + 1][j]:\n",
    "                nb_of_neighbours += 1\n",
    "            # SE\n",
    "            if i < 8 and j < 9 and grid[i + 1][j + 1]:\n",
    "                nb_of_neighbours += 1\n",
    "            # W\n",
    "            if j and grid[i][j - 1]:\n",
    "                nb_of_neighbours += 1\n",
    "            # E\n",
    "            if j < 9 and grid[i][j + 1]:\n",
    "                nb_of_neighbours += 1\n",
    "            if nb_of_neighbours == 3 or nb_of_neighbours == 2 and grid[i][j]:\n",
    "                new_grid[i][j] = 1\n",
    "    grid = new_grid"
   ]
  },
  {
   "cell_type": "code",
   "execution_count": 34,
   "id": "f613fec5-c461-4ed4-8e65-6c73bc152838",
   "metadata": {},
   "outputs": [
    {
     "ename": "UnboundLocalError",
     "evalue": "cannot access local variable 'grid' where it is not associated with a value",
     "output_type": "error",
     "traceback": [
      "\u001b[0;31m---------------------------------------------------------------------------\u001b[0m",
      "\u001b[0;31mUnboundLocalError\u001b[0m                         Traceback (most recent call last)",
      "Cell \u001b[0;32mIn[34], line 1\u001b[0m\n\u001b[0;32m----> 1\u001b[0m \u001b[43mevolve\u001b[49m\u001b[43m(\u001b[49m\u001b[43m)\u001b[49m\n",
      "Cell \u001b[0;32mIn[33], line 19\u001b[0m, in \u001b[0;36mevolve\u001b[0;34m()\u001b[0m\n\u001b[1;32m     17\u001b[0m     nb_of_neighbours \u001b[38;5;241m+\u001b[39m\u001b[38;5;241m=\u001b[39m \u001b[38;5;241m1\u001b[39m\n\u001b[1;32m     18\u001b[0m \u001b[38;5;66;03m# S\u001b[39;00m\n\u001b[0;32m---> 19\u001b[0m \u001b[38;5;28;01mif\u001b[39;00m i \u001b[38;5;241m<\u001b[39m \u001b[38;5;241m8\u001b[39m \u001b[38;5;129;01mand\u001b[39;00m \u001b[43mgrid\u001b[49m[i \u001b[38;5;241m+\u001b[39m \u001b[38;5;241m1\u001b[39m][j]:\n\u001b[1;32m     20\u001b[0m     nb_of_neighbours \u001b[38;5;241m+\u001b[39m\u001b[38;5;241m=\u001b[39m \u001b[38;5;241m1\u001b[39m\n\u001b[1;32m     21\u001b[0m \u001b[38;5;66;03m# SE\u001b[39;00m\n",
      "\u001b[0;31mUnboundLocalError\u001b[0m: cannot access local variable 'grid' where it is not associated with a value"
     ]
    }
   ],
   "source": [
    "evolve()"
   ]
  },
  {
   "cell_type": "code",
   "execution_count": 35,
   "id": "54bcbd46-2807-4e82-85fb-92a615d05b9c",
   "metadata": {},
   "outputs": [],
   "source": [
    "def evolve():\n",
    "    global grid\n",
    "    new_grid = [[0] * 10 for _ in range(10)]\n",
    "    nb_of_neighbours = 0\n",
    "    for i in range(10):\n",
    "        for j in range(10):\n",
    "            # NW\n",
    "            if i and j and grid[i - 1][j - 1]:\n",
    "                nb_of_neighbours += 1\n",
    "            # N\n",
    "            if i and grid[i - 1][j]:\n",
    "                nb_of_neighbours += 1\n",
    "            # NE\n",
    "            if i and j < 9 and grid[i - 1][j + 1]:\n",
    "                nb_of_neighbours += 1\n",
    "            # SW\n",
    "            if i < 8 and j and grid[i + 1][j - 1]:\n",
    "                nb_of_neighbours += 1\n",
    "            # S\n",
    "            if i < 8 and grid[i + 1][j]:\n",
    "                nb_of_neighbours += 1\n",
    "            # SE\n",
    "            if i < 8 and j < 9 and grid[i + 1][j + 1]:\n",
    "                nb_of_neighbours += 1\n",
    "            # W\n",
    "            if j and grid[i][j - 1]:\n",
    "                nb_of_neighbours += 1\n",
    "            # E\n",
    "            if j < 9 and grid[i][j + 1]:\n",
    "                nb_of_neighbours += 1\n",
    "            if nb_of_neighbours == 3 or nb_of_neighbours == 2 and grid[i][j]:\n",
    "                new_grid[i][j] = 1\n",
    "    grid = new_grid"
   ]
  },
  {
   "cell_type": "code",
   "execution_count": 36,
   "id": "b8f411d0-50c3-4da2-80e9-9c4c948356fe",
   "metadata": {},
   "outputs": [
    {
     "name": "stdout",
     "output_type": "stream",
     "text": [
      "⬛⬜⬜⬜⬛⬜⬜⬜⬜⬜\n",
      "⬜⬜⬛⬜⬜⬜⬜⬜⬛⬜\n",
      "⬛⬜⬜⬜⬜⬜⬜⬜⬜⬜\n",
      "⬜⬜⬜⬜⬜⬜⬜⬛⬜⬜\n",
      "⬜⬜⬜⬜⬜⬜⬜⬛⬛⬜\n",
      "⬜⬜⬜⬛⬜⬜⬜⬜⬜⬜\n",
      "⬜⬜⬛⬛⬜⬜⬛⬜⬛⬜\n",
      "⬜⬛⬜⬜⬜⬜⬜⬛⬜⬛\n",
      "⬜⬜⬛⬜⬛⬜⬜⬜⬜⬜\n",
      "⬜⬜⬜⬜⬜⬜⬜⬛⬜⬛\n"
     ]
    }
   ],
   "source": [
    "display_grid()"
   ]
  },
  {
   "cell_type": "code",
   "execution_count": 37,
   "id": "a0596f75-7d11-4e29-89a4-0d882b85de97",
   "metadata": {},
   "outputs": [
    {
     "name": "stdout",
     "output_type": "stream",
     "text": [
      "⬜⬜⬛⬜⬜⬜⬜⬜⬜⬜\n",
      "⬜⬜⬜⬜⬜⬜⬜⬜⬜⬜\n",
      "⬜⬜⬜⬜⬜⬜⬜⬜⬜⬜\n",
      "⬜⬜⬜⬜⬜⬜⬜⬜⬜⬜\n",
      "⬜⬜⬜⬜⬜⬜⬜⬜⬜⬜\n",
      "⬜⬜⬜⬜⬜⬜⬜⬜⬜⬜\n",
      "⬜⬜⬜⬜⬜⬜⬜⬜⬜⬜\n",
      "⬜⬜⬜⬜⬜⬜⬜⬜⬜⬜\n",
      "⬜⬜⬜⬜⬜⬜⬜⬜⬜⬜\n",
      "⬜⬜⬜⬜⬜⬜⬜⬜⬜⬜\n"
     ]
    }
   ],
   "source": [
    "evolve()\n",
    "display_grid()"
   ]
  },
  {
   "cell_type": "code",
   "execution_count": 38,
   "id": "c2e01ee9-9216-4056-ab39-cb0c8fda2196",
   "metadata": {},
   "outputs": [],
   "source": [
    "def evolve():\n",
    "    global grid\n",
    "    new_grid = [[0] * 10 for _ in range(10)]\n",
    "    for i in range(10):\n",
    "        for j in range(10):\n",
    "            nb_of_neighbours = 0\n",
    "            # NW\n",
    "            if i and j and grid[i - 1][j - 1]:\n",
    "                nb_of_neighbours += 1\n",
    "            # N\n",
    "            if i and grid[i - 1][j]:\n",
    "                nb_of_neighbours += 1\n",
    "            # NE\n",
    "            if i and j < 9 and grid[i - 1][j + 1]:\n",
    "                nb_of_neighbours += 1\n",
    "            # SW\n",
    "            if i < 8 and j and grid[i + 1][j - 1]:\n",
    "                nb_of_neighbours += 1\n",
    "            # S\n",
    "            if i < 9 and grid[i + 1][j]:\n",
    "                nb_of_neighbours += 1\n",
    "            # SE\n",
    "            if i < 9 and j < 9 and grid[i + 1][j + 1]:\n",
    "                nb_of_neighbours += 1\n",
    "            # W\n",
    "            if j and grid[i][j - 1]:\n",
    "                nb_of_neighbours += 1\n",
    "            # E\n",
    "            if j < 9 and grid[i][j + 1]:\n",
    "                nb_of_neighbours += 1\n",
    "            if nb_of_neighbours == 3 or nb_of_neighbours == 2 and grid[i][j]:\n",
    "                new_grid[i][j] = 1\n",
    "    grid = new_grid"
   ]
  },
  {
   "cell_type": "code",
   "execution_count": 41,
   "id": "7d084f6f-2bed-4146-a946-a1d8066b0764",
   "metadata": {},
   "outputs": [
    {
     "name": "stdout",
     "output_type": "stream",
     "text": [
      "⬜⬛⬜⬜⬛⬜⬜⬛⬜⬜\n",
      "⬜⬜⬜⬜⬜⬜⬜⬛⬛⬜\n",
      "⬜⬜⬜⬛⬜⬛⬛⬜⬜⬜\n",
      "⬜⬜⬜⬛⬜⬛⬛⬜⬜⬜\n",
      "⬛⬜⬜⬛⬛⬜⬛⬜⬜⬜\n",
      "⬜⬜⬜⬛⬛⬜⬜⬜⬜⬜\n",
      "⬜⬜⬛⬜⬜⬛⬜⬜⬜⬜\n",
      "⬜⬜⬛⬜⬜⬜⬜⬜⬜⬜\n",
      "⬛⬜⬜⬜⬛⬜⬛⬜⬜⬜\n",
      "⬛⬜⬜⬛⬜⬜⬜⬜⬜⬜\n",
      "\n",
      "⬜⬜⬜⬜⬜⬜⬜⬛⬛⬜\n",
      "⬜⬜⬜⬜⬛⬛⬜⬛⬛⬜\n",
      "⬜⬜⬜⬜⬜⬛⬜⬜⬜⬜\n",
      "⬜⬜⬛⬛⬜⬜⬜⬛⬜⬜\n",
      "⬜⬜⬛⬜⬜⬜⬛⬜⬜⬜\n",
      "⬜⬜⬛⬜⬜⬜⬜⬜⬜⬜\n",
      "⬜⬜⬛⬜⬛⬜⬜⬜⬜⬜\n",
      "⬜⬛⬜⬛⬜⬛⬜⬜⬜⬜\n",
      "⬜⬜⬜⬜⬜⬜⬜⬜⬜⬜\n",
      "⬜⬜⬜⬜⬜⬜⬜⬜⬜⬜\n"
     ]
    }
   ],
   "source": [
    "density = 0.3\n",
    "grid = [[int(random() < density) for _ in range(10)] for _ in range(10)]\n",
    "display_grid()\n",
    "print()\n",
    "evolve()\n",
    "display_grid()"
   ]
  },
  {
   "cell_type": "code",
   "execution_count": 42,
   "id": "5800dbbf-ef92-40fa-b88b-d2c94b3abde4",
   "metadata": {},
   "outputs": [],
   "source": [
    "dim = 10"
   ]
  },
  {
   "cell_type": "code",
   "execution_count": 45,
   "id": "b6de146b-7143-4823-b246-7cca40e6c424",
   "metadata": {},
   "outputs": [],
   "source": [
    "framed_grid = [[0] * (dim + 2) for _ in range(dim + 2)]"
   ]
  },
  {
   "cell_type": "code",
   "execution_count": 46,
   "id": "07bdbce6-f2a6-4015-8123-f88d967027a9",
   "metadata": {},
   "outputs": [
    {
     "data": {
      "text/plain": [
       "[[0, 0, 0, 0, 0, 0, 0, 0, 0, 0, 0, 0],\n",
       " [0, 0, 0, 0, 0, 0, 0, 0, 0, 0, 0, 0],\n",
       " [0, 0, 0, 0, 0, 0, 0, 0, 0, 0, 0, 0],\n",
       " [0, 0, 0, 0, 0, 0, 0, 0, 0, 0, 0, 0],\n",
       " [0, 0, 0, 0, 0, 0, 0, 0, 0, 0, 0, 0],\n",
       " [0, 0, 0, 0, 0, 0, 0, 0, 0, 0, 0, 0],\n",
       " [0, 0, 0, 0, 0, 0, 0, 0, 0, 0, 0, 0],\n",
       " [0, 0, 0, 0, 0, 0, 0, 0, 0, 0, 0, 0],\n",
       " [0, 0, 0, 0, 0, 0, 0, 0, 0, 0, 0, 0],\n",
       " [0, 0, 0, 0, 0, 0, 0, 0, 0, 0, 0, 0],\n",
       " [0, 0, 0, 0, 0, 0, 0, 0, 0, 0, 0, 0],\n",
       " [0, 0, 0, 0, 0, 0, 0, 0, 0, 0, 0, 0]]"
      ]
     },
     "execution_count": 46,
     "metadata": {},
     "output_type": "execute_result"
    }
   ],
   "source": [
    "framed_grid"
   ]
  },
  {
   "cell_type": "code",
   "execution_count": 47,
   "id": "65c84187-1829-4025-9304-d1bc034095eb",
   "metadata": {},
   "outputs": [
    {
     "data": {
      "text/plain": [
       "[[0, 0, 0, 0, 0, 0, 0, 0, 0, 0, 0, 0],\n",
       " [0, 0, 0, 1, 0, 0, 0, 0, 0, 0, 1, 0],\n",
       " [0, 0, 0, 0, 0, 0, 0, 1, 0, 0, 0, 0],\n",
       " [0, 1, 1, 0, 0, 0, 0, 0, 0, 1, 0, 0],\n",
       " [0, 0, 0, 0, 1, 0, 0, 0, 0, 1, 1, 0],\n",
       " [0, 1, 1, 1, 0, 0, 0, 1, 0, 0, 1, 0],\n",
       " [0, 0, 0, 0, 0, 0, 0, 1, 0, 1, 1, 0],\n",
       " [0, 0, 0, 1, 0, 0, 1, 0, 0, 0, 0, 0],\n",
       " [0, 1, 0, 1, 0, 1, 0, 0, 0, 0, 0, 0],\n",
       " [0, 1, 1, 0, 1, 0, 0, 0, 1, 0, 0, 0],\n",
       " [0, 1, 0, 0, 1, 0, 1, 1, 0, 0, 0, 0],\n",
       " [0, 0, 0, 0, 0, 0, 0, 0, 0, 0, 0, 0]]"
      ]
     },
     "execution_count": 47,
     "metadata": {},
     "output_type": "execute_result"
    }
   ],
   "source": [
    "for i in range(1, dim + 1):\n",
    "    for j in range(1, dim + 1):\n",
    "        framed_grid[i][j] = int(random() < density)\n",
    "framed_grid"
   ]
  },
  {
   "cell_type": "code",
   "execution_count": 49,
   "id": "fb7a23f0-c5fc-4162-8c4d-1724b90ea0f7",
   "metadata": {},
   "outputs": [],
   "source": [
    "def display_within_framed_grid():\n",
    "    for row in grid[1 : -1]:\n",
    "        print(''.join(squares[e] for e in row[1 : -1]))"
   ]
  },
  {
   "cell_type": "code",
   "execution_count": 50,
   "id": "d806f8ab-c50a-44a8-a483-1d6fde41788f",
   "metadata": {},
   "outputs": [
    {
     "name": "stdout",
     "output_type": "stream",
     "text": [
      "⬜⬜⬜⬛⬛⬜⬛⬛\n",
      "⬜⬜⬜⬜⬛⬜⬜⬜\n",
      "⬜⬛⬛⬜⬜⬜⬛⬜\n",
      "⬜⬛⬜⬜⬜⬛⬜⬜\n",
      "⬜⬛⬜⬜⬜⬜⬜⬜\n",
      "⬜⬛⬜⬛⬜⬜⬜⬜\n",
      "⬛⬜⬛⬜⬛⬜⬜⬜\n",
      "⬜⬜⬜⬜⬜⬜⬜⬜\n"
     ]
    }
   ],
   "source": [
    "display_within_framed_grid()"
   ]
  },
  {
   "cell_type": "code",
   "execution_count": 62,
   "id": "29370c56-0fd2-4c75-ad7c-4793b23db880",
   "metadata": {},
   "outputs": [],
   "source": [
    "def framed_evolve():\n",
    "    global grid\n",
    "    new_grid = [[0] * 10 for _ in range(10)]\n",
    "    for i in range(10):\n",
    "        for j in range(10):\n",
    "            nb_of_neighbours = sum(\n",
    "                grid[i - 1][j - 1 : j + 2],\n",
    "                grid[i + 1][j - 1 : j + 2],\n",
    "                grid[i][j - 1],\n",
    "                grid[i][j + 1])\n",
    "            if nb_of_neighbours == 3 or nb_of_neighbours == 2 and grid[i][j]:\n",
    "                new_grid[i][j] = 1\n",
    "    grid = new_grid"
   ]
  },
  {
   "cell_type": "code",
   "execution_count": 51,
   "id": "43105ecd-aead-4a03-9a16-1242a656574b",
   "metadata": {},
   "outputs": [],
   "source": [
    "row = [1, 2, 3, 4, 5, 6]"
   ]
  },
  {
   "cell_type": "code",
   "execution_count": 52,
   "id": "fdcbb822-2a7f-493e-a880-6b0be3621f1e",
   "metadata": {},
   "outputs": [
    {
     "data": {
      "text/plain": [
       "14"
      ]
     },
     "execution_count": 52,
     "metadata": {},
     "output_type": "execute_result"
    }
   ],
   "source": [
    "sum(row[1 : -1])"
   ]
  },
  {
   "cell_type": "code",
   "execution_count": 58,
   "id": "cf68a83b-8d1f-488f-b450-e61f6e3fb476",
   "metadata": {},
   "outputs": [
    {
     "ename": "TypeError",
     "evalue": "sum() takes at most 2 arguments (3 given)",
     "output_type": "error",
     "traceback": [
      "\u001b[0;31m---------------------------------------------------------------------------\u001b[0m",
      "\u001b[0;31mTypeError\u001b[0m                                 Traceback (most recent call last)",
      "Cell \u001b[0;32mIn[58], line 1\u001b[0m\n\u001b[0;32m----> 1\u001b[0m \u001b[38;5;28;43msum\u001b[39;49m\u001b[43m(\u001b[49m\u001b[38;5;241;43m2\u001b[39;49m\u001b[43m,\u001b[49m\u001b[43m \u001b[49m\u001b[38;5;241;43m3\u001b[39;49m\u001b[43m,\u001b[49m\u001b[43m \u001b[49m\u001b[38;5;241;43m4\u001b[39;49m\u001b[43m)\u001b[49m\n",
      "\u001b[0;31mTypeError\u001b[0m: sum() takes at most 2 arguments (3 given)"
     ]
    }
   ],
   "source": [
    "sum(2, 3, 4)"
   ]
  },
  {
   "cell_type": "code",
   "execution_count": 59,
   "id": "bffc477a-ab39-4a9e-84fb-bcc9061feb00",
   "metadata": {},
   "outputs": [
    {
     "data": {
      "text/plain": [
       "9"
      ]
     },
     "execution_count": 59,
     "metadata": {},
     "output_type": "execute_result"
    }
   ],
   "source": [
    "sum((2, 3, 4))"
   ]
  },
  {
   "cell_type": "code",
   "execution_count": 60,
   "id": "66524d47-7533-496e-98c7-b0d670675dac",
   "metadata": {},
   "outputs": [
    {
     "ename": "TypeError",
     "evalue": "sum() takes at most 2 arguments (4 given)",
     "output_type": "error",
     "traceback": [
      "\u001b[0;31m---------------------------------------------------------------------------\u001b[0m",
      "\u001b[0;31mTypeError\u001b[0m                                 Traceback (most recent call last)",
      "Cell \u001b[0;32mIn[60], line 1\u001b[0m\n\u001b[0;32m----> 1\u001b[0m \u001b[38;5;28;43msum\u001b[39;49m\u001b[43m(\u001b[49m\u001b[43m[\u001b[49m\u001b[38;5;241;43m1\u001b[39;49m\u001b[43m,\u001b[49m\u001b[43m \u001b[49m\u001b[38;5;241;43m2\u001b[39;49m\u001b[43m]\u001b[49m\u001b[43m,\u001b[49m\u001b[43m \u001b[49m\u001b[43m[\u001b[49m\u001b[38;5;241;43m3\u001b[39;49m\u001b[43m,\u001b[49m\u001b[43m \u001b[49m\u001b[38;5;241;43m4\u001b[39;49m\u001b[43m]\u001b[49m\u001b[43m,\u001b[49m\u001b[43m \u001b[49m\u001b[38;5;241;43m5\u001b[39;49m\u001b[43m,\u001b[49m\u001b[43m \u001b[49m\u001b[38;5;241;43m6\u001b[39;49m\u001b[43m)\u001b[49m\n",
      "\u001b[0;31mTypeError\u001b[0m: sum() takes at most 2 arguments (4 given)"
     ]
    }
   ],
   "source": [
    "sum([1, 2], [3, 4], 5, 6)"
   ]
  },
  {
   "cell_type": "code",
   "execution_count": 61,
   "id": "c983b9a6-f03a-480b-aff7-3cbb3b383340",
   "metadata": {},
   "outputs": [
    {
     "data": {
      "text/plain": [
       "21"
      ]
     },
     "execution_count": 61,
     "metadata": {},
     "output_type": "execute_result"
    }
   ],
   "source": [
    "x = [1, 2]\n",
    "y = [3, 4]\n",
    "sum((*x, *y, 5, 6))"
   ]
  },
  {
   "cell_type": "code",
   "execution_count": 63,
   "id": "c73c1658-6e7d-49ba-be55-7ec8701f68a8",
   "metadata": {},
   "outputs": [
    {
     "name": "stdout",
     "output_type": "stream",
     "text": [
      "⬜⬜⬜⬛⬛⬜⬛⬛\n",
      "⬜⬜⬜⬜⬛⬜⬜⬜\n",
      "⬜⬛⬛⬜⬜⬜⬛⬜\n",
      "⬜⬛⬜⬜⬜⬛⬜⬜\n",
      "⬜⬛⬜⬜⬜⬜⬜⬜\n",
      "⬜⬛⬜⬛⬜⬜⬜⬜\n",
      "⬛⬜⬛⬜⬛⬜⬜⬜\n",
      "⬜⬜⬜⬜⬜⬜⬜⬜\n",
      "\n"
     ]
    },
    {
     "ename": "TypeError",
     "evalue": "sum() takes at most 2 arguments (4 given)",
     "output_type": "error",
     "traceback": [
      "\u001b[0;31m---------------------------------------------------------------------------\u001b[0m",
      "\u001b[0;31mTypeError\u001b[0m                                 Traceback (most recent call last)",
      "Cell \u001b[0;32mIn[63], line 7\u001b[0m\n\u001b[1;32m      5\u001b[0m display_within_framed_grid()\n\u001b[1;32m      6\u001b[0m \u001b[38;5;28mprint\u001b[39m()\n\u001b[0;32m----> 7\u001b[0m \u001b[43mframed_evolve\u001b[49m\u001b[43m(\u001b[49m\u001b[43m)\u001b[49m\n\u001b[1;32m      8\u001b[0m display_within_framed_grid()\n",
      "Cell \u001b[0;32mIn[62], line 6\u001b[0m, in \u001b[0;36mframed_evolve\u001b[0;34m()\u001b[0m\n\u001b[1;32m      4\u001b[0m \u001b[38;5;28;01mfor\u001b[39;00m i \u001b[38;5;129;01min\u001b[39;00m \u001b[38;5;28mrange\u001b[39m(\u001b[38;5;241m10\u001b[39m):\n\u001b[1;32m      5\u001b[0m     \u001b[38;5;28;01mfor\u001b[39;00m j \u001b[38;5;129;01min\u001b[39;00m \u001b[38;5;28mrange\u001b[39m(\u001b[38;5;241m10\u001b[39m):\n\u001b[0;32m----> 6\u001b[0m         nb_of_neighbours \u001b[38;5;241m=\u001b[39m \u001b[38;5;28;43msum\u001b[39;49m\u001b[43m(\u001b[49m\n\u001b[1;32m      7\u001b[0m \u001b[43m            \u001b[49m\u001b[43mgrid\u001b[49m\u001b[43m[\u001b[49m\u001b[43mi\u001b[49m\u001b[43m \u001b[49m\u001b[38;5;241;43m-\u001b[39;49m\u001b[43m \u001b[49m\u001b[38;5;241;43m1\u001b[39;49m\u001b[43m]\u001b[49m\u001b[43m[\u001b[49m\u001b[43mj\u001b[49m\u001b[43m \u001b[49m\u001b[38;5;241;43m-\u001b[39;49m\u001b[43m \u001b[49m\u001b[38;5;241;43m1\u001b[39;49m\u001b[43m \u001b[49m\u001b[43m:\u001b[49m\u001b[43m \u001b[49m\u001b[43mj\u001b[49m\u001b[43m \u001b[49m\u001b[38;5;241;43m+\u001b[39;49m\u001b[43m \u001b[49m\u001b[38;5;241;43m2\u001b[39;49m\u001b[43m]\u001b[49m\u001b[43m,\u001b[49m\n\u001b[1;32m      8\u001b[0m \u001b[43m            \u001b[49m\u001b[43mgrid\u001b[49m\u001b[43m[\u001b[49m\u001b[43mi\u001b[49m\u001b[43m \u001b[49m\u001b[38;5;241;43m+\u001b[39;49m\u001b[43m \u001b[49m\u001b[38;5;241;43m1\u001b[39;49m\u001b[43m]\u001b[49m\u001b[43m[\u001b[49m\u001b[43mj\u001b[49m\u001b[43m \u001b[49m\u001b[38;5;241;43m-\u001b[39;49m\u001b[43m \u001b[49m\u001b[38;5;241;43m1\u001b[39;49m\u001b[43m \u001b[49m\u001b[43m:\u001b[49m\u001b[43m \u001b[49m\u001b[43mj\u001b[49m\u001b[43m \u001b[49m\u001b[38;5;241;43m+\u001b[39;49m\u001b[43m \u001b[49m\u001b[38;5;241;43m2\u001b[39;49m\u001b[43m]\u001b[49m\u001b[43m,\u001b[49m\n\u001b[1;32m      9\u001b[0m \u001b[43m            \u001b[49m\u001b[43mgrid\u001b[49m\u001b[43m[\u001b[49m\u001b[43mi\u001b[49m\u001b[43m]\u001b[49m\u001b[43m[\u001b[49m\u001b[43mj\u001b[49m\u001b[43m \u001b[49m\u001b[38;5;241;43m-\u001b[39;49m\u001b[43m \u001b[49m\u001b[38;5;241;43m1\u001b[39;49m\u001b[43m]\u001b[49m\u001b[43m,\u001b[49m\n\u001b[1;32m     10\u001b[0m \u001b[43m            \u001b[49m\u001b[43mgrid\u001b[49m\u001b[43m[\u001b[49m\u001b[43mi\u001b[49m\u001b[43m]\u001b[49m\u001b[43m[\u001b[49m\u001b[43mj\u001b[49m\u001b[43m \u001b[49m\u001b[38;5;241;43m+\u001b[39;49m\u001b[43m \u001b[49m\u001b[38;5;241;43m1\u001b[39;49m\u001b[43m]\u001b[49m\u001b[43m)\u001b[49m\n\u001b[1;32m     11\u001b[0m         \u001b[38;5;28;01mif\u001b[39;00m nb_of_neighbours \u001b[38;5;241m==\u001b[39m \u001b[38;5;241m3\u001b[39m \u001b[38;5;129;01mor\u001b[39;00m nb_of_neighbours \u001b[38;5;241m==\u001b[39m \u001b[38;5;241m2\u001b[39m \u001b[38;5;129;01mand\u001b[39;00m grid[i][j]:\n\u001b[1;32m     12\u001b[0m             new_grid[i][j] \u001b[38;5;241m=\u001b[39m \u001b[38;5;241m1\u001b[39m\n",
      "\u001b[0;31mTypeError\u001b[0m: sum() takes at most 2 arguments (4 given)"
     ]
    }
   ],
   "source": [
    "framed_grid = [[0] * (dim + 2) for _ in range(dim + 2)]\n",
    "for i in range(1, dim + 1):\n",
    "    for j in range(1, dim + 1):\n",
    "        framed_grid[i][j] = int(random() < density)\n",
    "display_within_framed_grid()\n",
    "print()\n",
    "framed_evolve()\n",
    "display_within_framed_grid()"
   ]
  },
  {
   "cell_type": "code",
   "execution_count": 64,
   "id": "de986b50-946d-4cd0-9a1d-a566dfaec8d0",
   "metadata": {},
   "outputs": [],
   "source": [
    "def framed_evolve():\n",
    "    global grid\n",
    "    new_grid = [[0] * 10 for _ in range(10)]\n",
    "    for i in range(10):\n",
    "        for j in range(10):\n",
    "            nb_of_neighbours = sum(\n",
    "                (*grid[i - 1][j - 1 : j + 2],\n",
    "                *grid[i + 1][j - 1 : j + 2],\n",
    "                grid[i][j - 1],\n",
    "                grid[i][j + 1]))\n",
    "            if nb_of_neighbours == 3 or nb_of_neighbours == 2 and grid[i][j]:\n",
    "                new_grid[i][j] = 1\n",
    "    grid = new_grid"
   ]
  },
  {
   "cell_type": "code",
   "execution_count": 65,
   "id": "4e396e3d-45e8-4c5f-9877-e6fa0ec3c748",
   "metadata": {},
   "outputs": [
    {
     "name": "stdout",
     "output_type": "stream",
     "text": [
      "⬜⬜⬜⬛⬛⬜⬛⬛\n",
      "⬜⬜⬜⬜⬛⬜⬜⬜\n",
      "⬜⬛⬛⬜⬜⬜⬛⬜\n",
      "⬜⬛⬜⬜⬜⬛⬜⬜\n",
      "⬜⬛⬜⬜⬜⬜⬜⬜\n",
      "⬜⬛⬜⬛⬜⬜⬜⬜\n",
      "⬛⬜⬛⬜⬛⬜⬜⬜\n",
      "⬜⬜⬜⬜⬜⬜⬜⬜\n",
      "\n"
     ]
    },
    {
     "ename": "IndexError",
     "evalue": "list index out of range",
     "output_type": "error",
     "traceback": [
      "\u001b[0;31m---------------------------------------------------------------------------\u001b[0m",
      "\u001b[0;31mIndexError\u001b[0m                                Traceback (most recent call last)",
      "Cell \u001b[0;32mIn[65], line 7\u001b[0m\n\u001b[1;32m      5\u001b[0m display_within_framed_grid()\n\u001b[1;32m      6\u001b[0m \u001b[38;5;28mprint\u001b[39m()\n\u001b[0;32m----> 7\u001b[0m \u001b[43mframed_evolve\u001b[49m\u001b[43m(\u001b[49m\u001b[43m)\u001b[49m\n\u001b[1;32m      8\u001b[0m display_within_framed_grid()\n",
      "Cell \u001b[0;32mIn[64], line 10\u001b[0m, in \u001b[0;36mframed_evolve\u001b[0;34m()\u001b[0m\n\u001b[1;32m      4\u001b[0m \u001b[38;5;28;01mfor\u001b[39;00m i \u001b[38;5;129;01min\u001b[39;00m \u001b[38;5;28mrange\u001b[39m(\u001b[38;5;241m10\u001b[39m):\n\u001b[1;32m      5\u001b[0m     \u001b[38;5;28;01mfor\u001b[39;00m j \u001b[38;5;129;01min\u001b[39;00m \u001b[38;5;28mrange\u001b[39m(\u001b[38;5;241m10\u001b[39m):\n\u001b[1;32m      6\u001b[0m         nb_of_neighbours \u001b[38;5;241m=\u001b[39m \u001b[38;5;28msum\u001b[39m(\n\u001b[1;32m      7\u001b[0m             (\u001b[38;5;241m*\u001b[39mgrid[i \u001b[38;5;241m-\u001b[39m \u001b[38;5;241m1\u001b[39m][j \u001b[38;5;241m-\u001b[39m \u001b[38;5;241m1\u001b[39m : j \u001b[38;5;241m+\u001b[39m \u001b[38;5;241m2\u001b[39m],\n\u001b[1;32m      8\u001b[0m             \u001b[38;5;241m*\u001b[39mgrid[i \u001b[38;5;241m+\u001b[39m \u001b[38;5;241m1\u001b[39m][j \u001b[38;5;241m-\u001b[39m \u001b[38;5;241m1\u001b[39m : j \u001b[38;5;241m+\u001b[39m \u001b[38;5;241m2\u001b[39m],\n\u001b[1;32m      9\u001b[0m             grid[i][j \u001b[38;5;241m-\u001b[39m \u001b[38;5;241m1\u001b[39m],\n\u001b[0;32m---> 10\u001b[0m             \u001b[43mgrid\u001b[49m\u001b[43m[\u001b[49m\u001b[43mi\u001b[49m\u001b[43m]\u001b[49m\u001b[43m[\u001b[49m\u001b[43mj\u001b[49m\u001b[43m \u001b[49m\u001b[38;5;241;43m+\u001b[39;49m\u001b[43m \u001b[49m\u001b[38;5;241;43m1\u001b[39;49m\u001b[43m]\u001b[49m))\n\u001b[1;32m     11\u001b[0m         \u001b[38;5;28;01mif\u001b[39;00m nb_of_neighbours \u001b[38;5;241m==\u001b[39m \u001b[38;5;241m3\u001b[39m \u001b[38;5;129;01mor\u001b[39;00m nb_of_neighbours \u001b[38;5;241m==\u001b[39m \u001b[38;5;241m2\u001b[39m \u001b[38;5;129;01mand\u001b[39;00m grid[i][j]:\n\u001b[1;32m     12\u001b[0m             new_grid[i][j] \u001b[38;5;241m=\u001b[39m \u001b[38;5;241m1\u001b[39m\n",
      "\u001b[0;31mIndexError\u001b[0m: list index out of range"
     ]
    }
   ],
   "source": [
    "framed_grid = [[0] * (dim + 2) for _ in range(dim + 2)]\n",
    "for i in range(1, dim + 1):\n",
    "    for j in range(1, dim + 1):\n",
    "        framed_grid[i][j] = int(random() < density)\n",
    "display_within_framed_grid()\n",
    "print()\n",
    "framed_evolve()\n",
    "display_within_framed_grid()"
   ]
  },
  {
   "cell_type": "code",
   "execution_count": 72,
   "id": "e9608f88-e545-43fd-aa39-7ed6c5ae32c2",
   "metadata": {},
   "outputs": [],
   "source": [
    "def framed_evolve():\n",
    "    global framed_grid\n",
    "    new_grid = [[0] * (dim + 2) for _ in range(dim + 2)]\n",
    "    for i in range(1, dim + 1):\n",
    "        for j in range(1, dim + 1):\n",
    "            nb_of_neighbours = sum(\n",
    "                (*framed_grid[i - 1][j - 1 : j + 2],\n",
    "                *framed_grid[i + 1][j - 1 : j + 2],\n",
    "                framed_grid[i][j - 1],\n",
    "                framed_grid[i][j + 1]))\n",
    "            if nb_of_neighbours == 3 or nb_of_neighbours == 2 and framed_grid[i][j]:\n",
    "                new_grid[i][j] = 1\n",
    "    framed_grid = new_grid"
   ]
  },
  {
   "cell_type": "code",
   "execution_count": 74,
   "id": "de3cba9c-1052-46cd-b0c3-30f654424061",
   "metadata": {},
   "outputs": [
    {
     "name": "stdout",
     "output_type": "stream",
     "text": [
      "⬜⬜⬜⬛⬛⬜⬛⬛\n",
      "⬜⬜⬜⬜⬛⬜⬜⬜\n",
      "⬜⬛⬛⬜⬜⬜⬛⬜\n",
      "⬜⬛⬜⬜⬜⬛⬜⬜\n",
      "⬜⬛⬜⬜⬜⬜⬜⬜\n",
      "⬜⬛⬜⬛⬜⬜⬜⬜\n",
      "⬛⬜⬛⬜⬛⬜⬜⬜\n",
      "⬜⬜⬜⬜⬜⬜⬜⬜\n",
      "\n",
      "⬜⬜⬜⬛⬛⬜⬛⬛\n",
      "⬜⬜⬜⬜⬛⬜⬜⬜\n",
      "⬜⬛⬛⬜⬜⬜⬛⬜\n",
      "⬜⬛⬜⬜⬜⬛⬜⬜\n",
      "⬜⬛⬜⬜⬜⬜⬜⬜\n",
      "⬜⬛⬜⬛⬜⬜⬜⬜\n",
      "⬛⬜⬛⬜⬛⬜⬜⬜\n",
      "⬜⬜⬜⬜⬜⬜⬜⬜\n"
     ]
    }
   ],
   "source": [
    "framed_grid = [[0] * (dim + 2) for _ in range(dim + 2)]\n",
    "for i in range(1, dim + 1):\n",
    "    for j in range(1, dim + 1):\n",
    "        framed_grid[i][j] = int(random() < density)\n",
    "display_within_framed_grid()\n",
    "print()\n",
    "framed_evolve()\n",
    "display_within_framed_grid()"
   ]
  },
  {
   "cell_type": "code",
   "execution_count": 75,
   "id": "46179e9f-a32d-4c70-a7bb-6442aa8f78a5",
   "metadata": {},
   "outputs": [],
   "source": [
    "import numpy as np"
   ]
  },
  {
   "cell_type": "code",
   "execution_count": 76,
   "id": "878739ff-77de-4104-8c6c-bdd4ba2039bd",
   "metadata": {},
   "outputs": [
    {
     "data": {
      "text/plain": [
       "array([1, 4, 6, 7])"
      ]
     },
     "execution_count": 76,
     "metadata": {},
     "output_type": "execute_result"
    }
   ],
   "source": [
    "np.array([1, 4, 6, 7])"
   ]
  },
  {
   "cell_type": "code",
   "execution_count": 77,
   "id": "0d8dd1c8-6d36-40ca-8b79-0eb2ee2e6c2d",
   "metadata": {},
   "outputs": [
    {
     "data": {
      "text/plain": [
       "np.int64(4)"
      ]
     },
     "execution_count": 77,
     "metadata": {},
     "output_type": "execute_result"
    }
   ],
   "source": [
    "A = np.array([1, 4, 6, 7])\n",
    "A[1]"
   ]
  },
  {
   "cell_type": "code",
   "execution_count": 78,
   "id": "e2e93198-77d5-44d9-ada5-f2ad3586b0d4",
   "metadata": {},
   "outputs": [
    {
     "data": {
      "text/plain": [
       "array([1, 2, 3, 4, 5, 6, 7, 8])"
      ]
     },
     "execution_count": 78,
     "metadata": {},
     "output_type": "execute_result"
    }
   ],
   "source": [
    "A = np.arange(1, 9)\n",
    "A"
   ]
  },
  {
   "cell_type": "code",
   "execution_count": 79,
   "id": "639f3447-8e4f-4c6a-9cde-01ef1744348b",
   "metadata": {},
   "outputs": [
    {
     "data": {
      "text/plain": [
       "array([[1, 2, 3, 4],\n",
       "       [5, 6, 7, 8]])"
      ]
     },
     "execution_count": 79,
     "metadata": {},
     "output_type": "execute_result"
    },
    {
     "data": {
      "text/plain": [
       "array([[1, 2],\n",
       "       [3, 4],\n",
       "       [5, 6],\n",
       "       [7, 8]])"
      ]
     },
     "execution_count": 79,
     "metadata": {},
     "output_type": "execute_result"
    },
    {
     "data": {
      "text/plain": [
       "array([[[1, 2],\n",
       "        [3, 4]],\n",
       "\n",
       "       [[5, 6],\n",
       "        [7, 8]]])"
      ]
     },
     "execution_count": 79,
     "metadata": {},
     "output_type": "execute_result"
    }
   ],
   "source": [
    "A.reshape(2, 4)\n",
    "A.reshape(4, 2)\n",
    "A.reshape(2, 2, 2)"
   ]
  },
  {
   "cell_type": "code",
   "execution_count": 80,
   "id": "345bff97-67d2-4865-a35f-85508ff76a88",
   "metadata": {},
   "outputs": [],
   "source": [
    "A.reshape(2, 4)[1, 2] = 70"
   ]
  },
  {
   "cell_type": "code",
   "execution_count": 81,
   "id": "2bf52675-45a2-4da3-95c5-54d841e30d65",
   "metadata": {},
   "outputs": [
    {
     "data": {
      "text/plain": [
       "array([ 1,  2,  3,  4,  5,  6, 70,  8])"
      ]
     },
     "execution_count": 81,
     "metadata": {},
     "output_type": "execute_result"
    }
   ],
   "source": [
    "A"
   ]
  },
  {
   "cell_type": "code",
   "execution_count": 82,
   "id": "3eeb21ef-33c8-4627-adf9-f818a85f303f",
   "metadata": {},
   "outputs": [],
   "source": [
    "A.reshape(2, 2, 2)[1, 0, 1] = 100"
   ]
  },
  {
   "cell_type": "code",
   "execution_count": 83,
   "id": "967e5559-8c29-485c-8ede-c632b0473b4c",
   "metadata": {},
   "outputs": [
    {
     "data": {
      "text/plain": [
       "array([[  1,   2],\n",
       "       [  3,   4],\n",
       "       [  5, 100],\n",
       "       [ 70,   8]])"
      ]
     },
     "execution_count": 83,
     "metadata": {},
     "output_type": "execute_result"
    }
   ],
   "source": [
    "A.reshape(4, 2)"
   ]
  },
  {
   "cell_type": "code",
   "execution_count": 84,
   "id": "a3859ce0-df28-4971-8f65-455e84072aed",
   "metadata": {},
   "outputs": [
    {
     "data": {
      "text/plain": [
       "array([[ 0,  1,  2,  3,  4,  5,  6,  7],\n",
       "       [ 8,  9, 10, 11, 12, 13, 14, 15]])"
      ]
     },
     "execution_count": 84,
     "metadata": {},
     "output_type": "execute_result"
    },
    {
     "data": {
      "text/plain": [
       "np.int64(10)"
      ]
     },
     "execution_count": 84,
     "metadata": {},
     "output_type": "execute_result"
    },
    {
     "data": {
      "text/plain": [
       "array([ 8,  9, 10, 11, 12, 13, 14, 15])"
      ]
     },
     "execution_count": 84,
     "metadata": {},
     "output_type": "execute_result"
    },
    {
     "data": {
      "text/plain": [
       "array([[ 8,  9, 10, 11, 12, 13, 14, 15]])"
      ]
     },
     "execution_count": 84,
     "metadata": {},
     "output_type": "execute_result"
    },
    {
     "data": {
      "text/plain": [
       "array([ 3, 11])"
      ]
     },
     "execution_count": 84,
     "metadata": {},
     "output_type": "execute_result"
    },
    {
     "data": {
      "text/plain": [
       "array([[ 3],\n",
       "       [11]])"
      ]
     },
     "execution_count": 84,
     "metadata": {},
     "output_type": "execute_result"
    }
   ],
   "source": [
    "L = np.array(range(16)).reshape(2, 8)\n",
    "\n",
    "L\n",
    "L[1, 2]\n",
    "L[1, :]\n",
    "L[1 : 2, :]\n",
    "L[:, 3]\n",
    "L[:, 3 : 4]"
   ]
  },
  {
   "cell_type": "code",
   "execution_count": null,
   "id": "a8ff799d-6eb5-4052-85f8-265fd8f83e71",
   "metadata": {},
   "outputs": [],
   "source": [
    "[[ 0,  1,  2,  3,  4,  5,  6,  7],\n",
    "       [ 8,  9, 10, 11, 12, 13, 14, 15]]"
   ]
  }
 ],
 "metadata": {
  "kernelspec": {
   "display_name": "Python 3 (ipykernel)",
   "language": "python",
   "name": "python3"
  },
  "language_info": {
   "codemirror_mode": {
    "name": "ipython",
    "version": 3
   },
   "file_extension": ".py",
   "mimetype": "text/x-python",
   "name": "python",
   "nbconvert_exporter": "python",
   "pygments_lexer": "ipython3",
   "version": "3.13.0"
  }
 },
 "nbformat": 4,
 "nbformat_minor": 5
}
