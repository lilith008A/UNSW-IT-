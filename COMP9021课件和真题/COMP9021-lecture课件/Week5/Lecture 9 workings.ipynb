{
    "metadata": {
        "kernelspec": {
            "name": "python3",
            "display_name": "Python 3 (ipykernel)",
            "language": "python"
        }
    },
    "nbformat": 4,
    "nbformat_minor": 5,
    "cells": [
        {
            "cell_type": "code",
            "execution_count": 1,
            "metadata": {},
            "outputs": [
                {
                    "name": "stdout",
                    "output_type": "stream",
                    "text": "/Users/ericmartin/Documents/COMP9021/Lectures/Lecture 9/names\n"
                }
            ],
            "source": [
                "cd names"
            ]
        },
        {
            "cell_type": "code",
            "execution_count": 2,
            "metadata": {},
            "outputs": [
                {
                    "name": "stdout",
                    "output_type": "stream",
                    "text": "Olivia,F,15270\n\n"
                }
            ],
            "source": [
                "with open('yob2023.txt') as file:\n",
                "    print(next(file))"
            ]
        },
        {
            "cell_type": "code",
            "execution_count": 3,
            "metadata": {},
            "outputs": [
                {
                    "name": "stdout",
                    "output_type": "stream",
                    "text": "/Users/ericmartin/Documents/COMP9021/Lectures/Lecture 9\n"
                }
            ],
            "source": [
                "cd .."
            ]
        },
        {
            "cell_type": "code",
            "execution_count": 4,
            "metadata": {},
            "outputs": [
                {
                    "data": {
                        "text/plain": [
                            "'/Users/ericmartin/Documents/COMP9021/Lectures/Lecture 9'"
                        ]
                    },
                    "execution_count": 4,
                    "metadata": {},
                    "output_type": "execute_result"
                }
            ],
            "source": [
                "pwd"
            ]
        },
        {
            "cell_type": "code",
            "execution_count": 7,
            "metadata": {},
            "outputs": [
                {
                    "name": "stdout",
                    "output_type": "stream",
                    "text": "Olivia,F,15270\n\n"
                }
            ],
            "source": [
                "# VERY VERY BAD - DON\"T DO IT\n",
                "with open('/Users/ericmartin/Documents/COMP9021/Lectures/Lecture 9/names/yob2023.txt') as file:\n",
                "    print(next(file))"
            ]
        },
        {
            "cell_type": "code",
            "execution_count": 8,
            "metadata": {},
            "outputs": [
                {
                    "name": "stdout",
                    "output_type": "stream",
                    "text": "Olivia,F,15270\n\n"
                }
            ],
            "source": [
                "# VERY VERY BAD - DON\"T DO IT\n",
                "with open('names/yob2023.txt') as file:\n",
                "    print(next(file))"
            ]
        },
        {
            "cell_type": "code",
            "execution_count": 9,
            "metadata": {},
            "outputs": [],
            "source": [
                "from pathlib import Path"
            ]
        },
        {
            "cell_type": "code",
            "execution_count": 10,
            "metadata": {},
            "outputs": [
                {
                    "data": {
                        "text/plain": [
                            "PosixPath('names')"
                        ]
                    },
                    "execution_count": 10,
                    "metadata": {},
                    "output_type": "execute_result"
                }
            ],
            "source": [
                "Path('names')"
            ]
        },
        {
            "cell_type": "code",
            "execution_count": 11,
            "metadata": {},
            "outputs": [
                {
                    "data": {
                        "text/plain": [
                            "True"
                        ]
                    },
                    "execution_count": 11,
                    "metadata": {},
                    "output_type": "execute_result"
                }
            ],
            "source": [
                "Path('names').exists()"
            ]
        },
        {
            "cell_type": "code",
            "execution_count": 12,
            "metadata": {},
            "outputs": [
                {
                    "data": {
                        "text/plain": [
                            "PosixPath('whatever')"
                        ]
                    },
                    "execution_count": 12,
                    "metadata": {},
                    "output_type": "execute_result"
                }
            ],
            "source": [
                "Path('whatever')"
            ]
        },
        {
            "cell_type": "code",
            "execution_count": 13,
            "metadata": {},
            "outputs": [
                {
                    "data": {
                        "text/plain": [
                            "False"
                        ]
                    },
                    "execution_count": 13,
                    "metadata": {},
                    "output_type": "execute_result"
                }
            ],
            "source": [
                "Path('whatever').exists()"
            ]
        },
        {
            "cell_type": "code",
            "execution_count": 14,
            "metadata": {},
            "outputs": [
                {
                    "data": {
                        "text/plain": [
                            "PosixPath('names/yob2023.txt')"
                        ]
                    },
                    "execution_count": 14,
                    "metadata": {},
                    "output_type": "execute_result"
                }
            ],
            "source": [
                "Path('names') / 'yob2023.txt'"
            ]
        },
        {
            "cell_type": "code",
            "execution_count": 15,
            "metadata": {},
            "outputs": [
                {
                    "data": {
                        "text/plain": [
                            "True"
                        ]
                    },
                    "execution_count": 15,
                    "metadata": {},
                    "output_type": "execute_result"
                }
            ],
            "source": [
                "(Path('names') / 'yob2023.txt').exists()"
            ]
        },
        {
            "cell_type": "code",
            "execution_count": 16,
            "metadata": {},
            "outputs": [
                {
                    "data": {
                        "text/plain": [
                            "PosixPath('names/aaa.txt')"
                        ]
                    },
                    "execution_count": 16,
                    "metadata": {},
                    "output_type": "execute_result"
                }
            ],
            "source": [
                "Path('names') / 'aaa.txt'"
            ]
        },
        {
            "cell_type": "code",
            "execution_count": 17,
            "metadata": {},
            "outputs": [
                {
                    "data": {
                        "text/plain": [
                            "False"
                        ]
                    },
                    "execution_count": 17,
                    "metadata": {},
                    "output_type": "execute_result"
                }
            ],
            "source": [
                "(Path('names') / 'aaa.txt').exists()"
            ]
        },
        {
            "cell_type": "code",
            "execution_count": 18,
            "metadata": {},
            "outputs": [],
            "source": [
                "names_dir = Path('names')"
            ]
        },
        {
            "cell_type": "code",
            "execution_count": 24,
            "metadata": {},
            "outputs": [],
            "source": [
                "names_per_gender_dir = Path('names_per_gender')"
            ]
        },
        {
            "cell_type": "code",
            "execution_count": 20,
            "metadata": {},
            "outputs": [
                {
                    "data": {
                        "text/plain": [
                            "False"
                        ]
                    },
                    "execution_count": 20,
                    "metadata": {},
                    "output_type": "execute_result"
                }
            ],
            "source": [
                "names_per_gender_dir.exists()"
            ]
        },
        {
            "cell_type": "code",
            "execution_count": 21,
            "metadata": {},
            "outputs": [],
            "source": [
                "import os"
            ]
        },
        {
            "cell_type": "code",
            "execution_count": 22,
            "metadata": {},
            "outputs": [],
            "source": [
                "os.mkdir(names_per_gender_dir)"
            ]
        },
        {
            "cell_type": "code",
            "execution_count": 23,
            "metadata": {},
            "outputs": [
                {
                    "data": {
                        "text/plain": [
                            "True"
                        ]
                    },
                    "execution_count": 23,
                    "metadata": {},
                    "output_type": "execute_result"
                }
            ],
            "source": [
                "names_per_gender_dir.exists()"
            ]
        },
        {
            "cell_type": "code",
            "execution_count": 25,
            "metadata": {},
            "outputs": [],
            "source": [
                "male_dir = names_per_gender_dir / 'male'"
            ]
        },
        {
            "cell_type": "code",
            "execution_count": 27,
            "metadata": {},
            "outputs": [
                {
                    "data": {
                        "text/plain": [
                            "PosixPath('names_per_gender/male')"
                        ]
                    },
                    "execution_count": 27,
                    "metadata": {},
                    "output_type": "execute_result"
                },
                {
                    "data": {
                        "text/plain": [
                            "False"
                        ]
                    },
                    "execution_count": 27,
                    "metadata": {},
                    "output_type": "execute_result"
                }
            ],
            "source": [
                "male_dir\n",
                "male_dir.exists()"
            ]
        },
        {
            "cell_type": "code",
            "execution_count": 59,
            "metadata": {},
            "outputs": [],
            "source": [
                "os.mkdir(male_dir)"
            ]
        },
        {
            "cell_type": "code",
            "execution_count": 60,
            "metadata": {},
            "outputs": [
                {
                    "data": {
                        "text/plain": [
                            "True"
                        ]
                    },
                    "execution_count": 60,
                    "metadata": {},
                    "output_type": "execute_result"
                }
            ],
            "source": [
                "male_dir.exists()"
            ]
        },
        {
            "cell_type": "code",
            "execution_count": 30,
            "metadata": {},
            "outputs": [],
            "source": [
                "female_dir = names_per_gender_dir / 'female'"
            ]
        },
        {
            "cell_type": "code",
            "execution_count": 62,
            "metadata": {},
            "outputs": [],
            "source": [
                "os.mkdir(female_dir)"
            ]
        },
        {
            "cell_type": "code",
            "execution_count": 32,
            "metadata": {
                "scrolled": true
            },
            "outputs": [
                {
                    "data": {
                        "text/plain": [
                            "['yob2000.txt',\n",
                            " 'yob2014.txt',\n",
                            " 'yob1938.txt',\n",
                            " 'yob1910.txt',\n",
                            " 'yob1904.txt',\n",
                            " 'yob1905.txt',\n",
                            " 'yob1911.txt',\n",
                            " 'yob1939.txt',\n",
                            " 'yob2015.txt',\n",
                            " 'yob2001.txt',\n",
                            " 'yob2017.txt',\n",
                            " 'yob2003.txt',\n",
                            " 'yob1907.txt',\n",
                            " 'yob1913.txt',\n",
                            " 'yob1898.txt',\n",
                            " 'yob1899.txt',\n",
                            " 'yob1912.txt',\n",
                            " 'yob1906.txt',\n",
                            " 'yob2002.txt',\n",
                            " 'yob2016.txt',\n",
                            " 'yob2012.txt',\n",
                            " 'yob2006.txt',\n",
                            " 'yob1902.txt',\n",
                            " 'yob1916.txt',\n",
                            " 'yob1889.txt',\n",
                            " 'yob1888.txt',\n",
                            " 'yob1917.txt',\n",
                            " 'yob1903.txt',\n",
                            " 'yob2007.txt',\n",
                            " 'yob2013.txt',\n",
                            " 'yob2005.txt',\n",
                            " 'yob2011.txt',\n",
                            " 'yob1915.txt',\n",
                            " 'yob1901.txt',\n",
                            " 'yob1929.txt',\n",
                            " 'yob1928.txt',\n",
                            " 'yob1900.txt',\n",
                            " 'yob1914.txt',\n",
                            " 'yob2010.txt',\n",
                            " 'yob2004.txt',\n",
                            " 'yob1973.txt',\n",
                            " 'yob1967.txt',\n",
                            " 'yob1998.txt',\n",
                            " 'yob1999.txt',\n",
                            " 'yob1966.txt',\n",
                            " 'yob1972.txt',\n",
                            " 'yob1958.txt',\n",
                            " 'yob1964.txt',\n",
                            " 'yob1970.txt',\n",
                            " 'yob1971.txt',\n",
                            " 'yob1965.txt',\n",
                            " 'yob1959.txt',\n",
                            " 'yob1961.txt',\n",
                            " 'yob1975.txt',\n",
                            " 'yob1949.txt',\n",
                            " 'yob1948.txt',\n",
                            " 'yob1974.txt',\n",
                            " 'yob1960.txt',\n",
                            " 'yob1976.txt',\n",
                            " 'yob1962.txt',\n",
                            " 'yob1989.txt',\n",
                            " 'yob1988.txt',\n",
                            " 'yob1963.txt',\n",
                            " 'yob1977.txt',\n",
                            " 'yob1952.txt',\n",
                            " 'yob1946.txt',\n",
                            " 'yob1991.txt',\n",
                            " 'yob1985.txt',\n",
                            " 'yob1984.txt',\n",
                            " 'yob1990.txt',\n",
                            " 'yob1947.txt',\n",
                            " 'yob1953.txt',\n",
                            " 'yob1979.txt',\n",
                            " 'yob1945.txt',\n",
                            " 'yob1951.txt',\n",
                            " 'yob1986.txt',\n",
                            " 'yob1992.txt',\n",
                            " 'yob1993.txt',\n",
                            " 'yob1987.txt',\n",
                            " 'yob1950.txt',\n",
                            " 'yob1944.txt',\n",
                            " 'yob1978.txt',\n",
                            " 'yob1940.txt',\n",
                            " 'yob1954.txt',\n",
                            " 'yob1968.txt',\n",
                            " 'yob1983.txt',\n",
                            " 'yob1997.txt',\n",
                            " 'yob1996.txt',\n",
                            " 'yob1982.txt',\n",
                            " 'yob1969.txt',\n",
                            " 'yob1955.txt',\n",
                            " 'yob1941.txt',\n",
                            " 'yob1957.txt',\n",
                            " 'yob1943.txt',\n",
                            " 'yob1994.txt',\n",
                            " 'yob1980.txt',\n",
                            " 'yob1981.txt',\n",
                            " 'yob1995.txt',\n",
                            " 'yob1942.txt',\n",
                            " 'yob1956.txt',\n",
                            " 'yob2009.txt',\n",
                            " 'yob2021.txt',\n",
                            " 'yob1919.txt',\n",
                            " '.ipynb_checkpoints',\n",
                            " 'yob1931.txt',\n",
                            " 'yob1925.txt',\n",
                            " 'yob1886.txt',\n",
                            " 'yob1892.txt',\n",
                            " 'yob1893.txt',\n",
                            " 'yob1887.txt',\n",
                            " 'yob1924.txt',\n",
                            " 'yob1930.txt',\n",
                            " 'yob1918.txt',\n",
                            " 'yob2020.txt',\n",
                            " 'yob2008.txt',\n",
                            " 'yob2022.txt',\n",
                            " 'yob1926.txt',\n",
                            " 'yob1932.txt',\n",
                            " 'yob1891.txt',\n",
                            " 'yob1885.txt',\n",
                            " 'NationalReadMe.pdf',\n",
                            " 'yob1884.txt',\n",
                            " 'yob1890.txt',\n",
                            " 'yob1933.txt',\n",
                            " 'yob1927.txt',\n",
                            " 'yob2023.txt',\n",
                            " 'yob1923.txt',\n",
                            " 'yob1937.txt',\n",
                            " 'yob1894.txt',\n",
                            " 'yob1880.txt',\n",
                            " 'yob1881.txt',\n",
                            " 'yob1895.txt',\n",
                            " 'yob1936.txt',\n",
                            " 'yob1922.txt',\n",
                            " 'yob2018.txt',\n",
                            " 'yob1934.txt',\n",
                            " 'yob1920.txt',\n",
                            " 'yob1908.txt',\n",
                            " 'yob1883.txt',\n",
                            " 'yob1897.txt',\n",
                            " 'yob1896.txt',\n",
                            " 'yob1882.txt',\n",
                            " 'yob1909.txt',\n",
                            " 'yob1921.txt',\n",
                            " 'yob1935.txt',\n",
                            " 'yob2019.txt']"
                        ]
                    },
                    "execution_count": 32,
                    "metadata": {},
                    "output_type": "execute_result"
                }
            ],
            "source": [
                "os.listdir(names_dir)"
            ]
        },
        {
            "cell_type": "code",
            "execution_count": 33,
            "metadata": {
                "scrolled": true
            },
            "outputs": [
                {
                    "name": "stdout",
                    "output_type": "stream",
                    "text": "yob2000.txt\nyob2014.txt\nyob1938.txt\nyob1910.txt\nyob1904.txt\nyob1905.txt\nyob1911.txt\nyob1939.txt\nyob2015.txt\nyob2001.txt\nyob2017.txt\nyob2003.txt\nyob1907.txt\nyob1913.txt\nyob1898.txt\nyob1899.txt\nyob1912.txt\nyob1906.txt\nyob2002.txt\nyob2016.txt\nyob2012.txt\nyob2006.txt\nyob1902.txt\nyob1916.txt\nyob1889.txt\nyob1888.txt\nyob1917.txt\nyob1903.txt\nyob2007.txt\nyob2013.txt\nyob2005.txt\nyob2011.txt\nyob1915.txt\nyob1901.txt\nyob1929.txt\nyob1928.txt\nyob1900.txt\nyob1914.txt\nyob2010.txt\nyob2004.txt\nyob1973.txt\nyob1967.txt\nyob1998.txt\nyob1999.txt\nyob1966.txt\nyob1972.txt\nyob1958.txt\nyob1964.txt\nyob1970.txt\nyob1971.txt\nyob1965.txt\nyob1959.txt\nyob1961.txt\nyob1975.txt\nyob1949.txt\nyob1948.txt\nyob1974.txt\nyob1960.txt\nyob1976.txt\nyob1962.txt\nyob1989.txt\nyob1988.txt\nyob1963.txt\nyob1977.txt\nyob1952.txt\nyob1946.txt\nyob1991.txt\nyob1985.txt\nyob1984.txt\nyob1990.txt\nyob1947.txt\nyob1953.txt\nyob1979.txt\nyob1945.txt\nyob1951.txt\nyob1986.txt\nyob1992.txt\nyob1993.txt\nyob1987.txt\nyob1950.txt\nyob1944.txt\nyob1978.txt\nyob1940.txt\nyob1954.txt\nyob1968.txt\nyob1983.txt\nyob1997.txt\nyob1996.txt\nyob1982.txt\nyob1969.txt\nyob1955.txt\nyob1941.txt\nyob1957.txt\nyob1943.txt\nyob1994.txt\nyob1980.txt\nyob1981.txt\nyob1995.txt\nyob1942.txt\nyob1956.txt\nyob2009.txt\nyob2021.txt\nyob1919.txt\nyob1931.txt\nyob1925.txt\nyob1886.txt\nyob1892.txt\nyob1893.txt\nyob1887.txt\nyob1924.txt\nyob1930.txt\nyob1918.txt\nyob2020.txt\nyob2008.txt\nyob2022.txt\nyob1926.txt\nyob1932.txt\nyob1891.txt\nyob1885.txt\nyob1884.txt\nyob1890.txt\nyob1933.txt\nyob1927.txt\nyob2023.txt\nyob1923.txt\nyob1937.txt\nyob1894.txt\nyob1880.txt\nyob1881.txt\nyob1895.txt\nyob1936.txt\nyob1922.txt\nyob2018.txt\nyob1934.txt\nyob1920.txt\nyob1908.txt\nyob1883.txt\nyob1897.txt\nyob1896.txt\nyob1882.txt\nyob1909.txt\nyob1921.txt\nyob1935.txt\nyob2019.txt\n"
                }
            ],
            "source": [
                "for filename in os.listdir(names_dir):\n",
                "    if filename.endswith('.txt'):\n",
                "        print(filename)"
            ]
        },
        {
            "cell_type": "code",
            "execution_count": 34,
            "metadata": {},
            "outputs": [
                {
                    "data": {
                        "text/plain": [
                            "\u003cgenerator object Path.glob at 0x106a54d00\u003e"
                        ]
                    },
                    "execution_count": 34,
                    "metadata": {},
                    "output_type": "execute_result"
                }
            ],
            "source": [
                "names_dir.glob('yob1916.txt')"
            ]
        },
        {
            "cell_type": "code",
            "execution_count": 35,
            "metadata": {},
            "outputs": [
                {
                    "data": {
                        "text/plain": [
                            "[PosixPath('names/yob1916.txt')]"
                        ]
                    },
                    "execution_count": 35,
                    "metadata": {},
                    "output_type": "execute_result"
                }
            ],
            "source": [
                "list(names_dir.glob('yob1916.txt'))"
            ]
        },
        {
            "cell_type": "code",
            "execution_count": 36,
            "metadata": {},
            "outputs": [
                {
                    "data": {
                        "text/plain": [
                            "[PosixPath('names/yob2016.txt'), PosixPath('names/yob1916.txt')]"
                        ]
                    },
                    "execution_count": 36,
                    "metadata": {},
                    "output_type": "execute_result"
                }
            ],
            "source": [
                "list(names_dir.glob('yob*16.txt'))"
            ]
        },
        {
            "cell_type": "code",
            "execution_count": 37,
            "metadata": {},
            "outputs": [
                {
                    "data": {
                        "text/plain": [
                            "[]"
                        ]
                    },
                    "execution_count": 37,
                    "metadata": {},
                    "output_type": "execute_result"
                }
            ],
            "source": [
                "list(names_dir.glob('yob?16.txt'))"
            ]
        },
        {
            "cell_type": "code",
            "execution_count": 40,
            "metadata": {},
            "outputs": [
                {
                    "data": {
                        "text/plain": [
                            "[PosixPath('names/yob1967.txt'),\n",
                            " PosixPath('names/yob1966.txt'),\n",
                            " PosixPath('names/yob1964.txt'),\n",
                            " PosixPath('names/yob1965.txt'),\n",
                            " PosixPath('names/yob1961.txt'),\n",
                            " PosixPath('names/yob1960.txt'),\n",
                            " PosixPath('names/yob1962.txt'),\n",
                            " PosixPath('names/yob1963.txt'),\n",
                            " PosixPath('names/yob1968.txt'),\n",
                            " PosixPath('names/yob1969.txt')]"
                        ]
                    },
                    "execution_count": 40,
                    "metadata": {},
                    "output_type": "execute_result"
                }
            ],
            "source": [
                "list(names_dir.glob('yob196?.txt'))"
            ]
        },
        {
            "cell_type": "code",
            "execution_count": 41,
            "metadata": {},
            "outputs": [
                {
                    "data": {
                        "text/plain": [
                            "[PosixPath('names/yob1967.txt'),\n",
                            " PosixPath('names/yob1966.txt'),\n",
                            " PosixPath('names/yob1964.txt'),\n",
                            " PosixPath('names/yob1965.txt'),\n",
                            " PosixPath('names/yob1963.txt'),\n",
                            " PosixPath('names/yob1968.txt')]"
                        ]
                    },
                    "execution_count": 41,
                    "metadata": {},
                    "output_type": "execute_result"
                }
            ],
            "source": [
                "list(names_dir.glob('yob196[3-8].txt'))"
            ]
        },
        {
            "cell_type": "code",
            "execution_count": 42,
            "metadata": {
                "scrolled": true
            },
            "outputs": [
                {
                    "name": "stdout",
                    "output_type": "stream",
                    "text": "names/yob2000.txt\nnames/yob2014.txt\nnames/yob1938.txt\nnames/yob1910.txt\nnames/yob1904.txt\nnames/yob1905.txt\nnames/yob1911.txt\nnames/yob1939.txt\nnames/yob2015.txt\nnames/yob2001.txt\nnames/yob2017.txt\nnames/yob2003.txt\nnames/yob1907.txt\nnames/yob1913.txt\nnames/yob1898.txt\nnames/yob1899.txt\nnames/yob1912.txt\nnames/yob1906.txt\nnames/yob2002.txt\nnames/yob2016.txt\nnames/yob2012.txt\nnames/yob2006.txt\nnames/yob1902.txt\nnames/yob1916.txt\nnames/yob1889.txt\nnames/yob1888.txt\nnames/yob1917.txt\nnames/yob1903.txt\nnames/yob2007.txt\nnames/yob2013.txt\nnames/yob2005.txt\nnames/yob2011.txt\nnames/yob1915.txt\nnames/yob1901.txt\nnames/yob1929.txt\nnames/yob1928.txt\nnames/yob1900.txt\nnames/yob1914.txt\nnames/yob2010.txt\nnames/yob2004.txt\nnames/yob1973.txt\nnames/yob1967.txt\nnames/yob1998.txt\nnames/yob1999.txt\nnames/yob1966.txt\nnames/yob1972.txt\nnames/yob1958.txt\nnames/yob1964.txt\nnames/yob1970.txt\nnames/yob1971.txt\nnames/yob1965.txt\nnames/yob1959.txt\nnames/yob1961.txt\nnames/yob1975.txt\nnames/yob1949.txt\nnames/yob1948.txt\nnames/yob1974.txt\nnames/yob1960.txt\nnames/yob1976.txt\nnames/yob1962.txt\nnames/yob1989.txt\nnames/yob1988.txt\nnames/yob1963.txt\nnames/yob1977.txt\nnames/yob1952.txt\nnames/yob1946.txt\nnames/yob1991.txt\nnames/yob1985.txt\nnames/yob1984.txt\nnames/yob1990.txt\nnames/yob1947.txt\nnames/yob1953.txt\nnames/yob1979.txt\nnames/yob1945.txt\nnames/yob1951.txt\nnames/yob1986.txt\nnames/yob1992.txt\nnames/yob1993.txt\nnames/yob1987.txt\nnames/yob1950.txt\nnames/yob1944.txt\nnames/yob1978.txt\nnames/yob1940.txt\nnames/yob1954.txt\nnames/yob1968.txt\nnames/yob1983.txt\nnames/yob1997.txt\nnames/yob1996.txt\nnames/yob1982.txt\nnames/yob1969.txt\nnames/yob1955.txt\nnames/yob1941.txt\nnames/yob1957.txt\nnames/yob1943.txt\nnames/yob1994.txt\nnames/yob1980.txt\nnames/yob1981.txt\nnames/yob1995.txt\nnames/yob1942.txt\nnames/yob1956.txt\nnames/yob2009.txt\nnames/yob2021.txt\nnames/yob1919.txt\nnames/yob1931.txt\nnames/yob1925.txt\nnames/yob1886.txt\nnames/yob1892.txt\nnames/yob1893.txt\nnames/yob1887.txt\nnames/yob1924.txt\nnames/yob1930.txt\nnames/yob1918.txt\nnames/yob2020.txt\nnames/yob2008.txt\nnames/yob2022.txt\nnames/yob1926.txt\nnames/yob1932.txt\nnames/yob1891.txt\nnames/yob1885.txt\nnames/yob1884.txt\nnames/yob1890.txt\nnames/yob1933.txt\nnames/yob1927.txt\nnames/yob2023.txt\nnames/yob1923.txt\nnames/yob1937.txt\nnames/yob1894.txt\nnames/yob1880.txt\nnames/yob1881.txt\nnames/yob1895.txt\nnames/yob1936.txt\nnames/yob1922.txt\nnames/yob2018.txt\nnames/yob1934.txt\nnames/yob1920.txt\nnames/yob1908.txt\nnames/yob1883.txt\nnames/yob1897.txt\nnames/yob1896.txt\nnames/yob1882.txt\nnames/yob1909.txt\nnames/yob1921.txt\nnames/yob1935.txt\nnames/yob2019.txt\n"
                }
            ],
            "source": [
                "for filename in names_dir.glob('*.txt'):\n",
                "    print(filename)"
            ]
        },
        {
            "cell_type": "code",
            "execution_count": 44,
            "metadata": {
                "scrolled": true
            },
            "outputs": [
                {
                    "name": "stdout",
                    "output_type": "stream",
                    "text": "Emily,F,25959\n\nEmma,F,20961\n\nMary,F,56221\n\nMary,F,22848\n\nMary,F,14961\n\nMary,F,16067\n\nMary,F,24390\n\nMary,F,54899\n\nEmma,F,20482\n\nEmily,F,25059\n\nEmma,F,19865\n\nEmily,F,25692\n\nMary,F,17580\n\nMary,F,36642\n\nMary,F,14406\n\nMary,F,13172\n\nMary,F,32304\n\nMary,F,16370\n\nEmily,F,24469\n\nEmma,F,19542\n\nSophia,F,22333\n\nEmily,F,21411\n\nMary,F,14486\n\nMary,F,61438\n\nMary,F,11648\n\nMary,F,11754\n\nMary,F,64280\n\nMary,F,14275\n\nEmily,F,19363\n\nSophia,F,21249\n\nEmily,F,23949\n\nSophia,F,21859\n\nMary,F,58187\n\nMary,F,13136\n\nMary,F,63510\n\nMary,F,66870\n\nMary,F,16705\n\nMary,F,45346\n\nIsabella,F,22934\n\nEmily,F,25040\n\nJennifer,F,62446\n\nLisa,F,52436\n\nEmily,F,26186\n\nEmily,F,26541\n\nLisa,F,56916\n\nJennifer,F,63605\n\nMary,F,55846\n\nLisa,F,54269\n\nJennifer,F,46151\n\nJennifer,F,56770\n\nLisa,F,60268\n\nMary,F,54497\n\nMary,F,47686\n\nJennifer,F,58183\n\nLinda,F,91017\n\nLinda,F,96215\n\nJennifer,F,63107\n\nMary,F,51476\n\nJennifer,F,59472\n\nLisa,F,46074\n\nJessica,F,47889\n\nJessica,F,51555\n\nLisa,F,56037\n\nJennifer,F,58964\n\nLinda,F,67080\n\nMary,F,67472\n\nAshley,F,43480\n\nJessica,F,48348\n\nJennifer,F,50563\n\nJessica,F,46480\n\nLinda,F,99693\n\nMary,F,64390\n\nJennifer,F,56714\n\nMary,F,59280\n\nLinda,F,73982\n\nJessica,F,52684\n\nAshley,F,38458\n\nJessica,F,34993\n\nJessica,F,55996\n\nLinda,F,80430\n\nMary,F,62473\n\nJennifer,F,56318\n\nMary,F,56214\n\nMary,F,68021\n\nLisa,F,49535\n\nJennifer,F,54352\n\nEmily,F,25735\n\nEmily,F,25152\n\nJennifer,F,57122\n\nLisa,F,45027\n\nMary,F,63173\n\nMary,F,58048\n\nMary,F,61102\n\nMary,F,66178\n\nJessica,F,32122\n\nJennifer,F,58379\n\nJennifer,F,57048\n\nJessica,F,27939\n\nMary,F,63254\n\nMary,F,61743\n\nIsabella,F,22318\n\nOlivia,F,17824\n\nMary,F,65836\n\nMary,F,60298\n\nMary,F,70586\n\nMary,F,9889\n\nMary,F,13172\n\nMary,F,12784\n\nMary,F,9888\n\nMary,F,73534\n\nMary,F,64153\n\nMary,F,67365\n\nOlivia,F,17677\n\nEmma,F,18826\n\nOlivia,F,16630\n\nMary,F,67834\n\nMary,F,59881\n\nMary,F,11704\n\nMary,F,9128\n\nMary,F,9217\n\nMary,F,12078\n\nMary,F,55517\n\nMary,F,70642\n\nOlivia,F,15270\n\nMary,F,71635\n\nMary,F,55644\n\nMary,F,13151\n\nMary,F,7065\n\nMary,F,6919\n\nMary,F,13447\n\nMary,F,54373\n\nMary,F,72176\n\nEmma,F,18814\n\nMary,F,56931\n\nMary,F,70983\n\nMary,F,18665\n\nMary,F,8012\n\nMary,F,13413\n\nMary,F,13811\n\nMary,F,8148\n\nMary,F,19259\n\nMary,F,73984\n\nMary,F,55078\n\nOlivia,F,18561\n\n"
                }
            ],
            "source": [
                "for filename in names_dir.glob('*.txt'):\n",
                "    with open(filename) as file:\n",
                "        print(next(file))"
            ]
        },
        {
            "cell_type": "code",
            "execution_count": 45,
            "metadata": {},
            "outputs": [
                {
                    "data": {
                        "text/plain": [
                            "'/Users/ericmartin/Documents/COMP9021/Lectures/Lecture 9'"
                        ]
                    },
                    "execution_count": 45,
                    "metadata": {},
                    "output_type": "execute_result"
                }
            ],
            "source": [
                "pwd"
            ]
        },
        {
            "cell_type": "code",
            "execution_count": 46,
            "metadata": {},
            "outputs": [
                {
                    "ename": "FileNotFoundError",
                    "evalue": "[Errno 2] No such file or directory: 'names_per_gender/male/names/yob2000.txt'",
                    "output_type": "error",
                    "traceback": [
                        "\u001b[0;31m---------------------------------------------------------------------------\u001b[0m",
                        "\u001b[0;31mFileNotFoundError\u001b[0m                         Traceback (most recent call last)",
                        "Cell \u001b[0;32mIn[46], line 3\u001b[0m\n\u001b[1;32m      1\u001b[0m \u001b[38;5;28;01mfor\u001b[39;00m filename \u001b[38;5;129;01min\u001b[39;00m names_dir\u001b[38;5;241m.\u001b[39mglob(\u001b[38;5;124m'\u001b[39m\u001b[38;5;124m*.txt\u001b[39m\u001b[38;5;124m'\u001b[39m):\n\u001b[1;32m      2\u001b[0m     \u001b[38;5;28;01mwith\u001b[39;00m \u001b[38;5;28mopen\u001b[39m(filename) \u001b[38;5;28;01mas\u001b[39;00m file,\\\n\u001b[0;32m----\u003e 3\u001b[0m          \u001b[38;5;28;43mopen\u001b[39;49m\u001b[43m(\u001b[49m\u001b[43mmale_dir\u001b[49m\u001b[43m \u001b[49m\u001b[38;5;241;43m/\u001b[39;49m\u001b[43m \u001b[49m\u001b[43mfilename\u001b[49m\u001b[43m,\u001b[49m\u001b[43m \u001b[49m\u001b[38;5;124;43m'\u001b[39;49m\u001b[38;5;124;43mw\u001b[39;49m\u001b[38;5;124;43m'\u001b[39;49m\u001b[43m)\u001b[49m \u001b[38;5;28;01mas\u001b[39;00m male_file,\\\n\u001b[1;32m      4\u001b[0m          \u001b[38;5;28mopen\u001b[39m(female_dir \u001b[38;5;241m/\u001b[39m filename, \u001b[38;5;124m'\u001b[39m\u001b[38;5;124mw\u001b[39m\u001b[38;5;124m'\u001b[39m) \u001b[38;5;28;01mas\u001b[39;00m female_file:\n\u001b[1;32m      5\u001b[0m              \u001b[38;5;28mprint\u001b[39m(\u001b[38;5;28mnext\u001b[39m(file), filename\u001b[38;5;241m=\u001b[39mmale_file)\n\u001b[1;32m      6\u001b[0m              \u001b[38;5;28mprint\u001b[39m(\u001b[38;5;28mnext\u001b[39m(file), filename\u001b[38;5;241m=\u001b[39mfemale_file)\n",
                        "File \u001b[0;32m/Library/Frameworks/Python.framework/Versions/3.12/lib/python3.12/site-packages/IPython/core/interactiveshell.py:324\u001b[0m, in \u001b[0;36m_modified_open\u001b[0;34m(file, *args, **kwargs)\u001b[0m\n\u001b[1;32m    317\u001b[0m \u001b[38;5;28;01mif\u001b[39;00m file \u001b[38;5;129;01min\u001b[39;00m {\u001b[38;5;241m0\u001b[39m, \u001b[38;5;241m1\u001b[39m, \u001b[38;5;241m2\u001b[39m}:\n\u001b[1;32m    318\u001b[0m     \u001b[38;5;28;01mraise\u001b[39;00m \u001b[38;5;167;01mValueError\u001b[39;00m(\n\u001b[1;32m    319\u001b[0m         \u001b[38;5;124mf\u001b[39m\u001b[38;5;124m\"\u001b[39m\u001b[38;5;124mIPython won\u001b[39m\u001b[38;5;124m'\u001b[39m\u001b[38;5;124mt let you open fd=\u001b[39m\u001b[38;5;132;01m{\u001b[39;00mfile\u001b[38;5;132;01m}\u001b[39;00m\u001b[38;5;124m by default \u001b[39m\u001b[38;5;124m\"\u001b[39m\n\u001b[1;32m    320\u001b[0m         \u001b[38;5;124m\"\u001b[39m\u001b[38;5;124mas it is likely to crash IPython. If you know what you are doing, \u001b[39m\u001b[38;5;124m\"\u001b[39m\n\u001b[1;32m    321\u001b[0m         \u001b[38;5;124m\"\u001b[39m\u001b[38;5;124myou can use builtins\u001b[39m\u001b[38;5;124m'\u001b[39m\u001b[38;5;124m open.\u001b[39m\u001b[38;5;124m\"\u001b[39m\n\u001b[1;32m    322\u001b[0m     )\n\u001b[0;32m--\u003e 324\u001b[0m \u001b[38;5;28;01mreturn\u001b[39;00m \u001b[43mio_open\u001b[49m\u001b[43m(\u001b[49m\u001b[43mfile\u001b[49m\u001b[43m,\u001b[49m\u001b[43m \u001b[49m\u001b[38;5;241;43m*\u001b[39;49m\u001b[43margs\u001b[49m\u001b[43m,\u001b[49m\u001b[43m \u001b[49m\u001b[38;5;241;43m*\u001b[39;49m\u001b[38;5;241;43m*\u001b[39;49m\u001b[43mkwargs\u001b[49m\u001b[43m)\u001b[49m\n",
                        "\u001b[0;31mFileNotFoundError\u001b[0m: [Errno 2] No such file or directory: 'names_per_gender/male/names/yob2000.txt'"
                    ]
                }
            ],
            "source": [
                "for filename in names_dir.glob('*.txt'):\n",
                "    with open(filename) as file,\\\n",
                "         open(male_dir / filename, 'w') as male_file,\\\n",
                "         open(female_dir / filename, 'w') as female_file:\n",
                "             print(next(file), filename=male_file)\n",
                "             print(next(file), filename=female_file)"
            ]
        },
        {
            "cell_type": "code",
            "execution_count": 51,
            "metadata": {
                "scrolled": true
            },
            "outputs": [
                {
                    "name": "stdout",
                    "output_type": "stream",
                    "text": "yob2000.txt\nyob2014.txt\nyob1938.txt\nyob1910.txt\nyob1904.txt\nyob1905.txt\nyob1911.txt\nyob1939.txt\nyob2015.txt\nyob2001.txt\nyob2017.txt\nyob2003.txt\nyob1907.txt\nyob1913.txt\nyob1898.txt\nyob1899.txt\nyob1912.txt\nyob1906.txt\nyob2002.txt\nyob2016.txt\nyob2012.txt\nyob2006.txt\nyob1902.txt\nyob1916.txt\nyob1889.txt\nyob1888.txt\nyob1917.txt\nyob1903.txt\nyob2007.txt\nyob2013.txt\nyob2005.txt\nyob2011.txt\nyob1915.txt\nyob1901.txt\nyob1929.txt\nyob1928.txt\nyob1900.txt\nyob1914.txt\nyob2010.txt\nyob2004.txt\nyob1973.txt\nyob1967.txt\nyob1998.txt\nyob1999.txt\nyob1966.txt\nyob1972.txt\nyob1958.txt\nyob1964.txt\nyob1970.txt\nyob1971.txt\nyob1965.txt\nyob1959.txt\nyob1961.txt\nyob1975.txt\nyob1949.txt\nyob1948.txt\nyob1974.txt\nyob1960.txt\nyob1976.txt\nyob1962.txt\nyob1989.txt\nyob1988.txt\nyob1963.txt\nyob1977.txt\nyob1952.txt\nyob1946.txt\nyob1991.txt\nyob1985.txt\nyob1984.txt\nyob1990.txt\nyob1947.txt\nyob1953.txt\nyob1979.txt\nyob1945.txt\nyob1951.txt\nyob1986.txt\nyob1992.txt\nyob1993.txt\nyob1987.txt\nyob1950.txt\nyob1944.txt\nyob1978.txt\nyob1940.txt\nyob1954.txt\nyob1968.txt\nyob1983.txt\nyob1997.txt\nyob1996.txt\nyob1982.txt\nyob1969.txt\nyob1955.txt\nyob1941.txt\nyob1957.txt\nyob1943.txt\nyob1994.txt\nyob1980.txt\nyob1981.txt\nyob1995.txt\nyob1942.txt\nyob1956.txt\nyob2009.txt\nyob2021.txt\nyob1919.txt\nyob1931.txt\nyob1925.txt\nyob1886.txt\nyob1892.txt\nyob1893.txt\nyob1887.txt\nyob1924.txt\nyob1930.txt\nyob1918.txt\nyob2020.txt\nyob2008.txt\nyob2022.txt\nyob1926.txt\nyob1932.txt\nyob1891.txt\nyob1885.txt\nyob1884.txt\nyob1890.txt\nyob1933.txt\nyob1927.txt\nyob2023.txt\nyob1923.txt\nyob1937.txt\nyob1894.txt\nyob1880.txt\nyob1881.txt\nyob1895.txt\nyob1936.txt\nyob1922.txt\nyob2018.txt\nyob1934.txt\nyob1920.txt\nyob1908.txt\nyob1883.txt\nyob1897.txt\nyob1896.txt\nyob1882.txt\nyob1909.txt\nyob1921.txt\nyob1935.txt\nyob2019.txt\n"
                }
            ],
            "source": [
                "for filename in names_dir.glob('*.txt'):\n",
                "    print(filename.name)"
            ]
        },
        {
            "cell_type": "code",
            "execution_count": 54,
            "metadata": {},
            "outputs": [],
            "source": [
                "for filename in names_dir.glob('*.txt'):\n",
                "    name = filename.name\n",
                "    with open(filename) as file,\\\n",
                "         open(male_dir / name, 'w') as male_file,\\\n",
                "         open(female_dir / name, 'w') as female_file:\n",
                "             print(next(file), file=male_file)\n",
                "             print(next(file), file=female_file)"
            ]
        },
        {
            "cell_type": "code",
            "execution_count": 57,
            "metadata": {},
            "outputs": [],
            "source": [
                "import csv"
            ]
        },
        {
            "cell_type": "code",
            "execution_count": 63,
            "metadata": {},
            "outputs": [],
            "source": [
                "for filename in names_dir.glob('*.txt'):\n",
                "    name = filename.name\n",
                "    with open(filename) as file,\\\n",
                "         open(male_dir / name, 'w') as male_file,\\\n",
                "         open(female_dir / name, 'w') as female_file:\n",
                "             cvs_file = csv.reader(file)\n",
                "             csv_male_file = csv.writer(male_file)\n",
                "             csv_female_file = csv.writer(female_file)\n",
                "             for name, gender, count in cvs_file:\n",
                "                 if gender == 'M':\n",
                "                     _ = csv_male_file.writerow((name, count))\n",
                "                 else:\n",
                "                     _ = csv_female_file.writerow((name, count))"
            ]
        },
        {
            "cell_type": "code",
            "execution_count": 64,
            "metadata": {
                "scrolled": true
            },
            "outputs": [
                {
                    "name": "stdout",
                    "output_type": "stream",
                    "text": "yob2000.txt\nyob2014.txt\nyob1938.txt\nyob1910.txt\nyob1904.txt\nyob1905.txt\nyob1911.txt\nyob1939.txt\nyob2015.txt\nyob2001.txt\nyob2017.txt\nyob2003.txt\nyob1907.txt\nyob1913.txt\nyob1898.txt\nyob1899.txt\nyob1912.txt\nyob1906.txt\nyob2002.txt\nyob2016.txt\nyob2012.txt\nyob2006.txt\nyob1902.txt\nyob1916.txt\nyob1889.txt\nyob1888.txt\nyob1917.txt\nyob1903.txt\nyob2007.txt\nyob2013.txt\nyob2005.txt\nyob2011.txt\nyob1915.txt\nyob1901.txt\nyob1929.txt\nyob1928.txt\nyob1900.txt\nyob1914.txt\nyob2010.txt\nyob2004.txt\nyob1973.txt\nyob1967.txt\nyob1998.txt\nyob1999.txt\nyob1966.txt\nyob1972.txt\nyob1958.txt\nyob1964.txt\nyob1970.txt\nyob1971.txt\nyob1965.txt\nyob1959.txt\nyob1961.txt\nyob1975.txt\nyob1949.txt\nyob1948.txt\nyob1974.txt\nyob1960.txt\nyob1976.txt\nyob1962.txt\nyob1989.txt\nyob1988.txt\nyob1963.txt\nyob1977.txt\nyob1952.txt\nyob1946.txt\nyob1991.txt\nyob1985.txt\nyob1984.txt\nyob1990.txt\nyob1947.txt\nyob1953.txt\nyob1979.txt\nyob1945.txt\nyob1951.txt\nyob1986.txt\nyob1992.txt\nyob1993.txt\nyob1987.txt\nyob1950.txt\nyob1944.txt\nyob1978.txt\nyob1940.txt\nyob1954.txt\nyob1968.txt\nyob1983.txt\nyob1997.txt\nyob1996.txt\nyob1982.txt\nyob1969.txt\nyob1955.txt\nyob1941.txt\nyob1957.txt\nyob1943.txt\nyob1994.txt\nyob1980.txt\nyob1981.txt\nyob1995.txt\nyob1942.txt\nyob1956.txt\nyob2009.txt\nyob2021.txt\nyob1919.txt\nyob1931.txt\nyob1925.txt\nyob1886.txt\nyob1892.txt\nyob1893.txt\nyob1887.txt\nyob1924.txt\nyob1930.txt\nyob1918.txt\nyob2020.txt\nyob2008.txt\nyob2022.txt\nyob1926.txt\nyob1932.txt\nyob1891.txt\nyob1885.txt\nyob1884.txt\nyob1890.txt\nyob1933.txt\nyob1927.txt\nyob2023.txt\nyob1923.txt\nyob1937.txt\nyob1894.txt\nyob1880.txt\nyob1881.txt\nyob1895.txt\nyob1936.txt\nyob1922.txt\nyob2018.txt\nyob1934.txt\nyob1920.txt\nyob1908.txt\nyob1883.txt\nyob1897.txt\nyob1896.txt\nyob1882.txt\nyob1909.txt\nyob1921.txt\nyob1935.txt\nyob2019.txt\n"
                }
            ],
            "source": [
                "for filename in names_dir.glob('*.txt'):\n",
                "    name = filename.name\n",
                "    print(name)"
            ]
        },
        {
            "cell_type": "code",
            "execution_count": 65,
            "metadata": {},
            "outputs": [
                {
                    "data": {
                        "text/plain": [
                            "'y'"
                        ]
                    },
                    "execution_count": 65,
                    "metadata": {},
                    "output_type": "execute_result"
                }
            ],
            "source": [
                "'yob2000.txt'[0]"
            ]
        },
        {
            "cell_type": "code",
            "execution_count": 66,
            "metadata": {},
            "outputs": [
                {
                    "data": {
                        "text/plain": [
                            "'ob2000'"
                        ]
                    },
                    "execution_count": 66,
                    "metadata": {},
                    "output_type": "execute_result"
                }
            ],
            "source": [
                "'yob2000.txt'[1 : 7]"
            ]
        },
        {
            "cell_type": "code",
            "execution_count": 67,
            "metadata": {
                "scrolled": true
            },
            "outputs": [
                {
                    "name": "stdout",
                    "output_type": "stream",
                    "text": "2000\n2014\n1938\n1910\n1904\n1905\n1911\n1939\n2015\n2001\n2017\n2003\n1907\n1913\n1898\n1899\n1912\n1906\n2002\n2016\n2012\n2006\n1902\n1916\n1889\n1888\n1917\n1903\n2007\n2013\n2005\n2011\n1915\n1901\n1929\n1928\n1900\n1914\n2010\n2004\n1973\n1967\n1998\n1999\n1966\n1972\n1958\n1964\n1970\n1971\n1965\n1959\n1961\n1975\n1949\n1948\n1974\n1960\n1976\n1962\n1989\n1988\n1963\n1977\n1952\n1946\n1991\n1985\n1984\n1990\n1947\n1953\n1979\n1945\n1951\n1986\n1992\n1993\n1987\n1950\n1944\n1978\n1940\n1954\n1968\n1983\n1997\n1996\n1982\n1969\n1955\n1941\n1957\n1943\n1994\n1980\n1981\n1995\n1942\n1956\n2009\n2021\n1919\n1931\n1925\n1886\n1892\n1893\n1887\n1924\n1930\n1918\n2020\n2008\n2022\n1926\n1932\n1891\n1885\n1884\n1890\n1933\n1927\n2023\n1923\n1937\n1894\n1880\n1881\n1895\n1936\n1922\n2018\n1934\n1920\n1908\n1883\n1897\n1896\n1882\n1909\n1921\n1935\n2019\n"
                }
            ],
            "source": [
                "for filename in names_dir.glob('*.txt'):\n",
                "    name = filename.name\n",
                "    print(int(name[3 : 7]))"
            ]
        },
        {
            "cell_type": "code",
            "execution_count": 0,
            "metadata": {},
            "outputs": [],
            "source": [
                "\n",
                "\n",
                "for filename in names_dir.glob('*.txt'):\n",
                "    name = filename.name\n",
                "    \n",
                "    print(int(name[3 : 7]))"
            ]
        },
        {
            "cell_type": "code",
            "execution_count": 68,
            "metadata": {
                "scrolled": true
            },
            "outputs": [
                {
                    "name": "stdout",
                    "output_type": "stream",
                    "text": "1880\n1881\n1882\n1883\n1884\n1885\n1886\n1887\n1888\n1889\n1890\n1891\n1892\n1893\n1894\n1895\n1896\n1897\n1898\n1899\n1900\n1901\n1902\n1903\n1904\n1905\n1906\n1907\n1908\n1909\n1910\n1911\n1912\n1913\n1914\n1915\n1916\n1917\n1918\n1919\n1920\n1921\n1922\n1923\n1924\n1925\n1926\n1927\n1928\n1929\n1930\n1931\n1932\n1933\n1934\n1935\n1936\n1937\n1938\n1939\n1940\n1941\n1942\n1943\n1944\n1945\n1946\n1947\n1948\n1949\n1950\n1951\n1952\n1953\n1954\n1955\n1956\n1957\n1958\n1959\n1960\n1961\n1962\n1963\n1964\n1965\n1966\n1967\n1968\n1969\n1970\n1971\n1972\n1973\n1974\n1975\n1976\n1977\n1978\n1979\n1980\n1981\n1982\n1983\n1984\n1985\n1986\n1987\n1988\n1989\n1990\n1991\n1992\n1993\n1994\n1995\n1996\n1997\n1998\n1999\n2000\n2001\n2002\n2003\n2004\n2005\n2006\n2007\n2008\n2009\n2010\n2011\n2012\n2013\n2014\n2015\n2016\n2017\n2018\n2019\n2020\n2021\n2022\n2023\n"
                }
            ],
            "source": [
                "for filename in sorted(names_dir.glob('*.txt')):\n",
                "    name = filename.name\n",
                "    print(int(name[3 : 7]))"
            ]
        },
        {
            "cell_type": "code",
            "execution_count": 0,
            "metadata": {},
            "outputs": [],
            "source": [
                "years_per_name = {}\n",
                "for filename in sorted(names_dir.glob('*.txt')):\n",
                "    name = filename.name\n",
                "    year = int(name[3 : 7])\n",
                "    with open(filename) as file:\n",
                "        cvs_file = csv.reader(file)\n",
                "        for name, _, _ in cvs_file:\n",
                "            years_per_name[name] = \n",
                ""
            ]
        },
        {
            "cell_type": "code",
            "execution_count": 70,
            "metadata": {},
            "outputs": [
                {
                    "data": {
                        "text/plain": [
                            "{'John': [1880]}"
                        ]
                    },
                    "execution_count": 70,
                    "metadata": {},
                    "output_type": "execute_result"
                },
                {
                    "data": {
                        "text/plain": [
                            "{'John': [1880, 1881]}"
                        ]
                    },
                    "execution_count": 70,
                    "metadata": {},
                    "output_type": "execute_result"
                }
            ],
            "source": [
                "years_per_name = {}\n",
                "years_per_name['John'] = [1880]\n",
                "years_per_name\n",
                "years_per_name['John'].append(1881)\n",
                "years_per_name"
            ]
        },
        {
            "cell_type": "code",
            "execution_count": 72,
            "metadata": {},
            "outputs": [],
            "source": [
                "from collections import defaultdict"
            ]
        },
        {
            "cell_type": "code",
            "execution_count": 73,
            "metadata": {},
            "outputs": [
                {
                    "data": {
                        "text/plain": [
                            "defaultdict(list, {'John': [1880, 1881]})"
                        ]
                    },
                    "execution_count": 73,
                    "metadata": {},
                    "output_type": "execute_result"
                }
            ],
            "source": [
                "D = defaultdict(list)\n",
                "D['John'].append(1880)\n",
                "D['John'].append(1881)\n",
                "D"
            ]
        },
        {
            "cell_type": "code",
            "execution_count": 74,
            "metadata": {},
            "outputs": [
                {
                    "data": {
                        "text/plain": [
                            "[]"
                        ]
                    },
                    "execution_count": 74,
                    "metadata": {},
                    "output_type": "execute_result"
                }
            ],
            "source": [
                "list()"
            ]
        },
        {
            "cell_type": "code",
            "execution_count": 77,
            "metadata": {},
            "outputs": [
                {
                    "data": {
                        "text/plain": [
                            "defaultdict(list, {'John': []})"
                        ]
                    },
                    "execution_count": 77,
                    "metadata": {},
                    "output_type": "execute_result"
                },
                {
                    "data": {
                        "text/plain": [
                            "defaultdict(list, {'John': [1880]})"
                        ]
                    },
                    "execution_count": 77,
                    "metadata": {},
                    "output_type": "execute_result"
                },
                {
                    "data": {
                        "text/plain": [
                            "defaultdict(list, {'John': [1880, 1881]})"
                        ]
                    },
                    "execution_count": 77,
                    "metadata": {},
                    "output_type": "execute_result"
                }
            ],
            "source": [
                "D = defaultdict(list)\n",
                "D['John'] = list()\n",
                "D\n",
                "D['John'].append(1880)\n",
                "D\n",
                "D['John'].append(1881)\n",
                "D"
            ]
        },
        {
            "cell_type": "code",
            "execution_count": 78,
            "metadata": {},
            "outputs": [
                {
                    "data": {
                        "text/plain": [
                            "set()"
                        ]
                    },
                    "execution_count": 78,
                    "metadata": {},
                    "output_type": "execute_result"
                }
            ],
            "source": [
                "set()"
            ]
        },
        {
            "cell_type": "code",
            "execution_count": 79,
            "metadata": {},
            "outputs": [
                {
                    "data": {
                        "text/plain": [
                            "defaultdict(set, {'John': {1880, 1881}})"
                        ]
                    },
                    "execution_count": 79,
                    "metadata": {},
                    "output_type": "execute_result"
                }
            ],
            "source": [
                "D = defaultdict(set)\n",
                "D['John'].add(1880)\n",
                "D['John'].add(1881)\n",
                "D"
            ]
        },
        {
            "cell_type": "code",
            "execution_count": 80,
            "metadata": {},
            "outputs": [
                {
                    "data": {
                        "text/plain": [
                            "0"
                        ]
                    },
                    "execution_count": 80,
                    "metadata": {},
                    "output_type": "execute_result"
                }
            ],
            "source": [
                "int()"
            ]
        },
        {
            "cell_type": "code",
            "execution_count": 81,
            "metadata": {},
            "outputs": [
                {
                    "data": {
                        "text/plain": [
                            "defaultdict(int, {'John': 2})"
                        ]
                    },
                    "execution_count": 81,
                    "metadata": {},
                    "output_type": "execute_result"
                }
            ],
            "source": [
                "D = defaultdict(int)\n",
                "D['John'] += 1\n",
                "D['John'] += 1\n",
                "D"
            ]
        },
        {
            "cell_type": "code",
            "execution_count": 82,
            "metadata": {},
            "outputs": [
                {
                    "data": {
                        "text/plain": [
                            "defaultdict(\u003cfunction __main__.\u003clambda\u003e()\u003e, {'John': 12})"
                        ]
                    },
                    "execution_count": 82,
                    "metadata": {},
                    "output_type": "execute_result"
                }
            ],
            "source": [
                "D = defaultdict(lambda: 10)\n",
                "D['John'] += 1\n",
                "D['John'] += 1\n",
                "D"
            ]
        },
        {
            "cell_type": "code",
            "execution_count": 83,
            "metadata": {},
            "outputs": [
                {
                    "data": {
                        "text/plain": [
                            "10"
                        ]
                    },
                    "execution_count": 83,
                    "metadata": {},
                    "output_type": "execute_result"
                }
            ],
            "source": [
                "(lambda: 10)()"
            ]
        },
        {
            "cell_type": "code",
            "execution_count": 85,
            "metadata": {
                "scrolled": true
            },
            "outputs": [
                {
                    "data": {
                        "text/plain": [
                            "[1880,\n",
                            " 1880,\n",
                            " 1881,\n",
                            " 1881,\n",
                            " 1882,\n",
                            " 1882,\n",
                            " 1883,\n",
                            " 1883,\n",
                            " 1884,\n",
                            " 1884,\n",
                            " 1885,\n",
                            " 1885,\n",
                            " 1886,\n",
                            " 1886,\n",
                            " 1887,\n",
                            " 1887,\n",
                            " 1888,\n",
                            " 1888,\n",
                            " 1889,\n",
                            " 1889,\n",
                            " 1890,\n",
                            " 1890,\n",
                            " 1891,\n",
                            " 1891,\n",
                            " 1892,\n",
                            " 1892,\n",
                            " 1893,\n",
                            " 1893,\n",
                            " 1894,\n",
                            " 1894,\n",
                            " 1895,\n",
                            " 1895,\n",
                            " 1896,\n",
                            " 1896,\n",
                            " 1897,\n",
                            " 1897,\n",
                            " 1898,\n",
                            " 1898,\n",
                            " 1899,\n",
                            " 1899,\n",
                            " 1900,\n",
                            " 1900,\n",
                            " 1901,\n",
                            " 1901,\n",
                            " 1902,\n",
                            " 1902,\n",
                            " 1903,\n",
                            " 1903,\n",
                            " 1904,\n",
                            " 1904,\n",
                            " 1905,\n",
                            " 1905,\n",
                            " 1906,\n",
                            " 1906,\n",
                            " 1907,\n",
                            " 1907,\n",
                            " 1908,\n",
                            " 1908,\n",
                            " 1909,\n",
                            " 1909,\n",
                            " 1910,\n",
                            " 1910,\n",
                            " 1911,\n",
                            " 1911,\n",
                            " 1912,\n",
                            " 1912,\n",
                            " 1913,\n",
                            " 1913,\n",
                            " 1914,\n",
                            " 1914,\n",
                            " 1915,\n",
                            " 1915,\n",
                            " 1916,\n",
                            " 1916,\n",
                            " 1917,\n",
                            " 1917,\n",
                            " 1918,\n",
                            " 1918,\n",
                            " 1919,\n",
                            " 1919,\n",
                            " 1920,\n",
                            " 1920,\n",
                            " 1921,\n",
                            " 1921,\n",
                            " 1922,\n",
                            " 1922,\n",
                            " 1923,\n",
                            " 1923,\n",
                            " 1924,\n",
                            " 1924,\n",
                            " 1925,\n",
                            " 1925,\n",
                            " 1926,\n",
                            " 1926,\n",
                            " 1927,\n",
                            " 1927,\n",
                            " 1928,\n",
                            " 1928,\n",
                            " 1929,\n",
                            " 1929,\n",
                            " 1930,\n",
                            " 1930,\n",
                            " 1931,\n",
                            " 1931,\n",
                            " 1932,\n",
                            " 1932,\n",
                            " 1933,\n",
                            " 1933,\n",
                            " 1934,\n",
                            " 1934,\n",
                            " 1935,\n",
                            " 1935,\n",
                            " 1936,\n",
                            " 1936,\n",
                            " 1937,\n",
                            " 1937,\n",
                            " 1938,\n",
                            " 1938,\n",
                            " 1939,\n",
                            " 1939,\n",
                            " 1940,\n",
                            " 1940,\n",
                            " 1941,\n",
                            " 1941,\n",
                            " 1942,\n",
                            " 1942,\n",
                            " 1943,\n",
                            " 1943,\n",
                            " 1944,\n",
                            " 1944,\n",
                            " 1945,\n",
                            " 1945,\n",
                            " 1946,\n",
                            " 1946,\n",
                            " 1947,\n",
                            " 1947,\n",
                            " 1948,\n",
                            " 1948,\n",
                            " 1949,\n",
                            " 1949,\n",
                            " 1950,\n",
                            " 1950,\n",
                            " 1951,\n",
                            " 1951,\n",
                            " 1952,\n",
                            " 1952,\n",
                            " 1953,\n",
                            " 1953,\n",
                            " 1954,\n",
                            " 1954,\n",
                            " 1955,\n",
                            " 1955,\n",
                            " 1956,\n",
                            " 1956,\n",
                            " 1957,\n",
                            " 1957,\n",
                            " 1958,\n",
                            " 1958,\n",
                            " 1959,\n",
                            " 1959,\n",
                            " 1960,\n",
                            " 1960,\n",
                            " 1961,\n",
                            " 1961,\n",
                            " 1962,\n",
                            " 1962,\n",
                            " 1963,\n",
                            " 1963,\n",
                            " 1964,\n",
                            " 1964,\n",
                            " 1965,\n",
                            " 1965,\n",
                            " 1966,\n",
                            " 1966,\n",
                            " 1967,\n",
                            " 1967,\n",
                            " 1968,\n",
                            " 1968,\n",
                            " 1969,\n",
                            " 1969,\n",
                            " 1970,\n",
                            " 1970,\n",
                            " 1971,\n",
                            " 1971,\n",
                            " 1972,\n",
                            " 1972,\n",
                            " 1973,\n",
                            " 1973,\n",
                            " 1974,\n",
                            " 1974,\n",
                            " 1975,\n",
                            " 1975,\n",
                            " 1976,\n",
                            " 1976,\n",
                            " 1977,\n",
                            " 1977,\n",
                            " 1978,\n",
                            " 1978,\n",
                            " 1979,\n",
                            " 1979,\n",
                            " 1980,\n",
                            " 1980,\n",
                            " 1981,\n",
                            " 1981,\n",
                            " 1982,\n",
                            " 1982,\n",
                            " 1983,\n",
                            " 1983,\n",
                            " 1984,\n",
                            " 1984,\n",
                            " 1985,\n",
                            " 1985,\n",
                            " 1986,\n",
                            " 1986,\n",
                            " 1987,\n",
                            " 1987,\n",
                            " 1988,\n",
                            " 1988,\n",
                            " 1989,\n",
                            " 1989,\n",
                            " 1990,\n",
                            " 1990,\n",
                            " 1991,\n",
                            " 1991,\n",
                            " 1992,\n",
                            " 1992,\n",
                            " 1993,\n",
                            " 1993,\n",
                            " 1994,\n",
                            " 1994,\n",
                            " 1995,\n",
                            " 1995,\n",
                            " 1996,\n",
                            " 1996,\n",
                            " 1997,\n",
                            " 1997,\n",
                            " 1998,\n",
                            " 1998,\n",
                            " 1999,\n",
                            " 1999,\n",
                            " 2000,\n",
                            " 2000,\n",
                            " 2001,\n",
                            " 2001,\n",
                            " 2002,\n",
                            " 2002,\n",
                            " 2003,\n",
                            " 2003,\n",
                            " 2004,\n",
                            " 2004,\n",
                            " 2005,\n",
                            " 2005,\n",
                            " 2006,\n",
                            " 2006,\n",
                            " 2007,\n",
                            " 2007,\n",
                            " 2008,\n",
                            " 2008,\n",
                            " 2009,\n",
                            " 2009,\n",
                            " 2010,\n",
                            " 2010,\n",
                            " 2011,\n",
                            " 2011,\n",
                            " 2012,\n",
                            " 2012,\n",
                            " 2013,\n",
                            " 2013,\n",
                            " 2014,\n",
                            " 2014,\n",
                            " 2015,\n",
                            " 2015,\n",
                            " 2016,\n",
                            " 2016,\n",
                            " 2017,\n",
                            " 2017,\n",
                            " 2018,\n",
                            " 2018,\n",
                            " 2019,\n",
                            " 2019,\n",
                            " 2020,\n",
                            " 2020,\n",
                            " 2021,\n",
                            " 2021,\n",
                            " 2022,\n",
                            " 2022,\n",
                            " 2023,\n",
                            " 2023]"
                        ]
                    },
                    "execution_count": 85,
                    "metadata": {},
                    "output_type": "execute_result"
                }
            ],
            "source": [
                "years_per_name = defaultdict(list)\n",
                "for filename in sorted(names_dir.glob('*.txt')):\n",
                "    name = filename.name\n",
                "    year = int(name[3 : 7])\n",
                "    with open(filename) as file:\n",
                "        cvs_file = csv.reader(file)\n",
                "        for fname, _, _ in cvs_file:\n",
                "            years_per_name[fname].append(year)\n",
                "years_per_name['John']"
            ]
        },
        {
            "cell_type": "code",
            "execution_count": 86,
            "metadata": {
                "scrolled": true
            },
            "outputs": [
                {
                    "data": {
                        "text/plain": [
                            "[1880,\n",
                            " 1881,\n",
                            " 1882,\n",
                            " 1883,\n",
                            " 1884,\n",
                            " 1885,\n",
                            " 1886,\n",
                            " 1887,\n",
                            " 1888,\n",
                            " 1889,\n",
                            " 1890,\n",
                            " 1891,\n",
                            " 1892,\n",
                            " 1893,\n",
                            " 1894,\n",
                            " 1895,\n",
                            " 1896,\n",
                            " 1897,\n",
                            " 1898,\n",
                            " 1899,\n",
                            " 1900,\n",
                            " 1901,\n",
                            " 1902,\n",
                            " 1903,\n",
                            " 1904,\n",
                            " 1905,\n",
                            " 1906,\n",
                            " 1907,\n",
                            " 1908,\n",
                            " 1909,\n",
                            " 1910,\n",
                            " 1911,\n",
                            " 1912,\n",
                            " 1913,\n",
                            " 1914,\n",
                            " 1915,\n",
                            " 1916,\n",
                            " 1917,\n",
                            " 1918,\n",
                            " 1918,\n",
                            " 1919,\n",
                            " 1920,\n",
                            " 1920,\n",
                            " 1921,\n",
                            " 1921,\n",
                            " 1922,\n",
                            " 1922,\n",
                            " 1923,\n",
                            " 1923,\n",
                            " 1924,\n",
                            " 1924,\n",
                            " 1925,\n",
                            " 1925,\n",
                            " 1926,\n",
                            " 1926,\n",
                            " 1927,\n",
                            " 1927,\n",
                            " 1928,\n",
                            " 1928,\n",
                            " 1929,\n",
                            " 1929,\n",
                            " 1930,\n",
                            " 1930,\n",
                            " 1931,\n",
                            " 1932,\n",
                            " 1932,\n",
                            " 1933,\n",
                            " 1934,\n",
                            " 1935,\n",
                            " 1936,\n",
                            " 1937,\n",
                            " 1937,\n",
                            " 1938,\n",
                            " 1938,\n",
                            " 1939,\n",
                            " 1940,\n",
                            " 1941,\n",
                            " 1941,\n",
                            " 1942,\n",
                            " 1942,\n",
                            " 1943,\n",
                            " 1943,\n",
                            " 1944,\n",
                            " 1944,\n",
                            " 1945,\n",
                            " 1945,\n",
                            " 1946,\n",
                            " 1946,\n",
                            " 1947,\n",
                            " 1948,\n",
                            " 1949,\n",
                            " 1950,\n",
                            " 1950,\n",
                            " 1951,\n",
                            " 1951,\n",
                            " 1952,\n",
                            " 1952,\n",
                            " 1953,\n",
                            " 1953,\n",
                            " 1954,\n",
                            " 1954,\n",
                            " 1955,\n",
                            " 1955,\n",
                            " 1956,\n",
                            " 1956,\n",
                            " 1957,\n",
                            " 1957,\n",
                            " 1958,\n",
                            " 1958,\n",
                            " 1959,\n",
                            " 1959,\n",
                            " 1960,\n",
                            " 1960,\n",
                            " 1961,\n",
                            " 1961,\n",
                            " 1962,\n",
                            " 1962,\n",
                            " 1963,\n",
                            " 1963,\n",
                            " 1964,\n",
                            " 1964,\n",
                            " 1965,\n",
                            " 1965,\n",
                            " 1966,\n",
                            " 1966,\n",
                            " 1967,\n",
                            " 1967,\n",
                            " 1968,\n",
                            " 1968,\n",
                            " 1969,\n",
                            " 1969,\n",
                            " 1970,\n",
                            " 1970,\n",
                            " 1971,\n",
                            " 1971,\n",
                            " 1972,\n",
                            " 1972,\n",
                            " 1973,\n",
                            " 1973,\n",
                            " 1974,\n",
                            " 1974,\n",
                            " 1975,\n",
                            " 1975,\n",
                            " 1976,\n",
                            " 1976,\n",
                            " 1977,\n",
                            " 1977,\n",
                            " 1978,\n",
                            " 1978,\n",
                            " 1979,\n",
                            " 1979,\n",
                            " 1980,\n",
                            " 1980,\n",
                            " 1981,\n",
                            " 1981,\n",
                            " 1982,\n",
                            " 1982,\n",
                            " 1983,\n",
                            " 1983,\n",
                            " 1984,\n",
                            " 1984,\n",
                            " 1985,\n",
                            " 1985,\n",
                            " 1986,\n",
                            " 1986,\n",
                            " 1987,\n",
                            " 1987,\n",
                            " 1988,\n",
                            " 1988,\n",
                            " 1989,\n",
                            " 1989,\n",
                            " 1990,\n",
                            " 1990,\n",
                            " 1991,\n",
                            " 1991,\n",
                            " 1992,\n",
                            " 1992,\n",
                            " 1993,\n",
                            " 1993,\n",
                            " 1994,\n",
                            " 1994,\n",
                            " 1995,\n",
                            " 1995,\n",
                            " 1996,\n",
                            " 1996,\n",
                            " 1997,\n",
                            " 1997,\n",
                            " 1998,\n",
                            " 1998,\n",
                            " 1999,\n",
                            " 1999,\n",
                            " 2000,\n",
                            " 2000,\n",
                            " 2001,\n",
                            " 2001,\n",
                            " 2002,\n",
                            " 2002,\n",
                            " 2003,\n",
                            " 2003,\n",
                            " 2004,\n",
                            " 2004,\n",
                            " 2005,\n",
                            " 2005,\n",
                            " 2006,\n",
                            " 2006,\n",
                            " 2007,\n",
                            " 2007,\n",
                            " 2008,\n",
                            " 2008,\n",
                            " 2009,\n",
                            " 2010,\n",
                            " 2011,\n",
                            " 2012,\n",
                            " 2013,\n",
                            " 2014,\n",
                            " 2015,\n",
                            " 2016,\n",
                            " 2017,\n",
                            " 2018,\n",
                            " 2019,\n",
                            " 2020,\n",
                            " 2021,\n",
                            " 2022,\n",
                            " 2023]"
                        ]
                    },
                    "execution_count": 86,
                    "metadata": {},
                    "output_type": "execute_result"
                }
            ],
            "source": [
                "years_per_name['Angela']"
            ]
        },
        {
            "cell_type": "code",
            "execution_count": 92,
            "metadata": {},
            "outputs": [],
            "source": [
                "gaps = [(years_per_name[name][i + 1] - years_per_name[name][i],\n",
                "         years_per_name[name][i],\n",
                "         name\n",
                "        ) for name in years_per_name\n",
                "                for i in range(len(years_per_name[name]) - 1)\n",
                "       ]"
            ]
        },
        {
            "cell_type": "code",
            "execution_count": 89,
            "metadata": {
                "scrolled": true
            },
            "outputs": [
                {
                    "data": {
                        "text/plain": [
                            "288"
                        ]
                    },
                    "execution_count": 89,
                    "metadata": {},
                    "output_type": "execute_result"
                },
                {
                    "data": {
                        "text/plain": [
                            "0"
                        ]
                    },
                    "execution_count": 89,
                    "metadata": {},
                    "output_type": "execute_result"
                },
                {
                    "data": {
                        "text/plain": [
                            "1"
                        ]
                    },
                    "execution_count": 89,
                    "metadata": {},
                    "output_type": "execute_result"
                }
            ],
            "source": [
                "len(years_per_name['John'])\n",
                "years_per_name['John'][1] - years_per_name['John'][0]\n",
                "years_per_name['John'][2] - years_per_name['John'][1]"
            ]
        },
        {
            "cell_type": "code",
            "execution_count": 93,
            "metadata": {
                "scrolled": true
            },
            "outputs": [
                {
                    "data": {
                        "text/plain": [
                            "[(0, 1880, 'Mary'),\n",
                            " (1, 1880, 'Mary'),\n",
                            " (0, 1881, 'Mary'),\n",
                            " (1, 1881, 'Mary'),\n",
                            " (0, 1882, 'Mary'),\n",
                            " (1, 1882, 'Mary'),\n",
                            " (0, 1883, 'Mary'),\n",
                            " (1, 1883, 'Mary'),\n",
                            " (0, 1884, 'Mary'),\n",
                            " (1, 1884, 'Mary'),\n",
                            " (0, 1885, 'Mary'),\n",
                            " (1, 1885, 'Mary'),\n",
                            " (0, 1886, 'Mary'),\n",
                            " (1, 1886, 'Mary'),\n",
                            " (0, 1887, 'Mary'),\n",
                            " (1, 1887, 'Mary'),\n",
                            " (0, 1888, 'Mary'),\n",
                            " (1, 1888, 'Mary'),\n",
                            " (0, 1889, 'Mary'),\n",
                            " (1, 1889, 'Mary'),\n",
                            " (0, 1890, 'Mary'),\n",
                            " (1, 1890, 'Mary'),\n",
                            " (0, 1891, 'Mary'),\n",
                            " (1, 1891, 'Mary'),\n",
                            " (0, 1892, 'Mary'),\n",
                            " (1, 1892, 'Mary'),\n",
                            " (0, 1893, 'Mary'),\n",
                            " (1, 1893, 'Mary'),\n",
                            " (0, 1894, 'Mary'),\n",
                            " (1, 1894, 'Mary'),\n",
                            " (0, 1895, 'Mary'),\n",
                            " (1, 1895, 'Mary'),\n",
                            " (0, 1896, 'Mary'),\n",
                            " (1, 1896, 'Mary'),\n",
                            " (0, 1897, 'Mary'),\n",
                            " (1, 1897, 'Mary'),\n",
                            " (0, 1898, 'Mary'),\n",
                            " (1, 1898, 'Mary'),\n",
                            " (0, 1899, 'Mary'),\n",
                            " (1, 1899, 'Mary'),\n",
                            " (0, 1900, 'Mary'),\n",
                            " (1, 1900, 'Mary'),\n",
                            " (0, 1901, 'Mary'),\n",
                            " (1, 1901, 'Mary'),\n",
                            " (0, 1902, 'Mary'),\n",
                            " (1, 1902, 'Mary'),\n",
                            " (0, 1903, 'Mary'),\n",
                            " (1, 1903, 'Mary'),\n",
                            " (0, 1904, 'Mary'),\n",
                            " (1, 1904, 'Mary'),\n",
                            " (0, 1905, 'Mary'),\n",
                            " (1, 1905, 'Mary'),\n",
                            " (0, 1906, 'Mary'),\n",
                            " (1, 1906, 'Mary'),\n",
                            " (0, 1907, 'Mary'),\n",
                            " (1, 1907, 'Mary'),\n",
                            " (0, 1908, 'Mary'),\n",
                            " (1, 1908, 'Mary'),\n",
                            " (0, 1909, 'Mary'),\n",
                            " (1, 1909, 'Mary'),\n",
                            " (0, 1910, 'Mary'),\n",
                            " (1, 1910, 'Mary'),\n",
                            " (0, 1911, 'Mary'),\n",
                            " (1, 1911, 'Mary'),\n",
                            " (0, 1912, 'Mary'),\n",
                            " (1, 1912, 'Mary'),\n",
                            " (0, 1913, 'Mary'),\n",
                            " (1, 1913, 'Mary'),\n",
                            " (0, 1914, 'Mary'),\n",
                            " (1, 1914, 'Mary'),\n",
                            " (0, 1915, 'Mary'),\n",
                            " (1, 1915, 'Mary'),\n",
                            " (0, 1916, 'Mary'),\n",
                            " (1, 1916, 'Mary'),\n",
                            " (0, 1917, 'Mary'),\n",
                            " (1, 1917, 'Mary'),\n",
                            " (0, 1918, 'Mary'),\n",
                            " (1, 1918, 'Mary'),\n",
                            " (0, 1919, 'Mary'),\n",
                            " (1, 1919, 'Mary'),\n",
                            " (0, 1920, 'Mary'),\n",
                            " (1, 1920, 'Mary'),\n",
                            " (0, 1921, 'Mary'),\n",
                            " (1, 1921, 'Mary'),\n",
                            " (0, 1922, 'Mary'),\n",
                            " (1, 1922, 'Mary'),\n",
                            " (0, 1923, 'Mary'),\n",
                            " (1, 1923, 'Mary'),\n",
                            " (0, 1924, 'Mary'),\n",
                            " (1, 1924, 'Mary'),\n",
                            " (0, 1925, 'Mary'),\n",
                            " (1, 1925, 'Mary'),\n",
                            " (0, 1926, 'Mary'),\n",
                            " (1, 1926, 'Mary'),\n",
                            " (0, 1927, 'Mary'),\n",
                            " (1, 1927, 'Mary'),\n",
                            " (0, 1928, 'Mary'),\n",
                            " (1, 1928, 'Mary'),\n",
                            " (0, 1929, 'Mary'),\n",
                            " (1, 1929, 'Mary'),\n",
                            " (0, 1930, 'Mary'),\n",
                            " (1, 1930, 'Mary'),\n",
                            " (0, 1931, 'Mary'),\n",
                            " (1, 1931, 'Mary'),\n",
                            " (0, 1932, 'Mary'),\n",
                            " (1, 1932, 'Mary'),\n",
                            " (0, 1933, 'Mary'),\n",
                            " (1, 1933, 'Mary'),\n",
                            " (0, 1934, 'Mary'),\n",
                            " (1, 1934, 'Mary'),\n",
                            " (0, 1935, 'Mary'),\n",
                            " (1, 1935, 'Mary'),\n",
                            " (0, 1936, 'Mary'),\n",
                            " (1, 1936, 'Mary'),\n",
                            " (0, 1937, 'Mary'),\n",
                            " (1, 1937, 'Mary'),\n",
                            " (0, 1938, 'Mary'),\n",
                            " (1, 1938, 'Mary'),\n",
                            " (0, 1939, 'Mary'),\n",
                            " (1, 1939, 'Mary'),\n",
                            " (0, 1940, 'Mary'),\n",
                            " (1, 1940, 'Mary'),\n",
                            " (0, 1941, 'Mary'),\n",
                            " (1, 1941, 'Mary'),\n",
                            " (0, 1942, 'Mary'),\n",
                            " (1, 1942, 'Mary'),\n",
                            " (0, 1943, 'Mary'),\n",
                            " (1, 1943, 'Mary'),\n",
                            " (0, 1944, 'Mary'),\n",
                            " (1, 1944, 'Mary'),\n",
                            " (0, 1945, 'Mary'),\n",
                            " (1, 1945, 'Mary'),\n",
                            " (0, 1946, 'Mary'),\n",
                            " (1, 1946, 'Mary'),\n",
                            " (0, 1947, 'Mary'),\n",
                            " (1, 1947, 'Mary'),\n",
                            " (0, 1948, 'Mary'),\n",
                            " (1, 1948, 'Mary'),\n",
                            " (0, 1949, 'Mary'),\n",
                            " (1, 1949, 'Mary'),\n",
                            " (0, 1950, 'Mary'),\n",
                            " (1, 1950, 'Mary'),\n",
                            " (0, 1951, 'Mary'),\n",
                            " (1, 1951, 'Mary'),\n",
                            " (0, 1952, 'Mary'),\n",
                            " (1, 1952, 'Mary'),\n",
                            " (0, 1953, 'Mary'),\n",
                            " (1, 1953, 'Mary'),\n",
                            " (0, 1954, 'Mary'),\n",
                            " (1, 1954, 'Mary'),\n",
                            " (0, 1955, 'Mary'),\n",
                            " (1, 1955, 'Mary'),\n",
                            " (0, 1956, 'Mary'),\n",
                            " (1, 1956, 'Mary'),\n",
                            " (0, 1957, 'Mary'),\n",
                            " (1, 1957, 'Mary'),\n",
                            " (0, 1958, 'Mary'),\n",
                            " (1, 1958, 'Mary'),\n",
                            " (0, 1959, 'Mary'),\n",
                            " (1, 1959, 'Mary'),\n",
                            " (0, 1960, 'Mary'),\n",
                            " (1, 1960, 'Mary'),\n",
                            " (0, 1961, 'Mary'),\n",
                            " (1, 1961, 'Mary'),\n",
                            " (0, 1962, 'Mary'),\n",
                            " (1, 1962, 'Mary'),\n",
                            " (0, 1963, 'Mary'),\n",
                            " (1, 1963, 'Mary'),\n",
                            " (0, 1964, 'Mary'),\n",
                            " (1, 1964, 'Mary'),\n",
                            " (0, 1965, 'Mary'),\n",
                            " (1, 1965, 'Mary'),\n",
                            " (0, 1966, 'Mary'),\n",
                            " (1, 1966, 'Mary'),\n",
                            " (0, 1967, 'Mary'),\n",
                            " (1, 1967, 'Mary'),\n",
                            " (0, 1968, 'Mary'),\n",
                            " (1, 1968, 'Mary'),\n",
                            " (0, 1969, 'Mary'),\n",
                            " (1, 1969, 'Mary'),\n",
                            " (0, 1970, 'Mary'),\n",
                            " (1, 1970, 'Mary'),\n",
                            " (0, 1971, 'Mary'),\n",
                            " (1, 1971, 'Mary'),\n",
                            " (0, 1972, 'Mary'),\n",
                            " (1, 1972, 'Mary'),\n",
                            " (0, 1973, 'Mary'),\n",
                            " (1, 1973, 'Mary'),\n",
                            " (0, 1974, 'Mary'),\n",
                            " (1, 1974, 'Mary'),\n",
                            " (0, 1975, 'Mary'),\n",
                            " (1, 1975, 'Mary'),\n",
                            " (0, 1976, 'Mary'),\n",
                            " (1, 1976, 'Mary'),\n",
                            " (0, 1977, 'Mary'),\n",
                            " (1, 1977, 'Mary'),\n",
                            " (0, 1978, 'Mary'),\n",
                            " (1, 1978, 'Mary'),\n",
                            " (0, 1979, 'Mary'),\n",
                            " (1, 1979, 'Mary'),\n",
                            " (0, 1980, 'Mary'),\n",
                            " (1, 1980, 'Mary'),\n",
                            " (0, 1981, 'Mary'),\n",
                            " (1, 1981, 'Mary'),\n",
                            " (0, 1982, 'Mary'),\n",
                            " (1, 1982, 'Mary'),\n",
                            " (0, 1983, 'Mary'),\n",
                            " (1, 1983, 'Mary'),\n",
                            " (0, 1984, 'Mary'),\n",
                            " (1, 1984, 'Mary'),\n",
                            " (0, 1985, 'Mary'),\n",
                            " (1, 1985, 'Mary'),\n",
                            " (0, 1986, 'Mary'),\n",
                            " (1, 1986, 'Mary'),\n",
                            " (0, 1987, 'Mary'),\n",
                            " (1, 1987, 'Mary'),\n",
                            " (0, 1988, 'Mary'),\n",
                            " (1, 1988, 'Mary'),\n",
                            " (0, 1989, 'Mary'),\n",
                            " (1, 1989, 'Mary'),\n",
                            " (0, 1990, 'Mary'),\n",
                            " (1, 1990, 'Mary'),\n",
                            " (0, 1991, 'Mary'),\n",
                            " (1, 1991, 'Mary'),\n",
                            " (0, 1992, 'Mary'),\n",
                            " (1, 1992, 'Mary'),\n",
                            " (0, 1993, 'Mary'),\n",
                            " (1, 1993, 'Mary'),\n",
                            " (0, 1994, 'Mary'),\n",
                            " (1, 1994, 'Mary'),\n",
                            " (0, 1995, 'Mary'),\n",
                            " (1, 1995, 'Mary'),\n",
                            " (0, 1996, 'Mary'),\n",
                            " (1, 1996, 'Mary'),\n",
                            " (0, 1997, 'Mary'),\n",
                            " (1, 1997, 'Mary'),\n",
                            " (0, 1998, 'Mary'),\n",
                            " (1, 1998, 'Mary'),\n",
                            " (0, 1999, 'Mary'),\n",
                            " (1, 1999, 'Mary'),\n",
                            " (0, 2000, 'Mary'),\n",
                            " (1, 2000, 'Mary'),\n",
                            " (0, 2001, 'Mary'),\n",
                            " (1, 2001, 'Mary'),\n",
                            " (0, 2002, 'Mary'),\n",
                            " (1, 2002, 'Mary'),\n",
                            " (0, 2003, 'Mary'),\n",
                            " (1, 2003, 'Mary'),\n",
                            " (0, 2004, 'Mary'),\n",
                            " (1, 2004, 'Mary'),\n",
                            " (0, 2005, 'Mary'),\n",
                            " (1, 2005, 'Mary'),\n",
                            " (0, 2006, 'Mary'),\n",
                            " (1, 2006, 'Mary'),\n",
                            " (0, 2007, 'Mary'),\n",
                            " (1, 2007, 'Mary'),\n",
                            " (1, 2008, 'Mary'),\n",
                            " (1, 2009, 'Mary'),\n",
                            " (0, 2010, 'Mary'),\n",
                            " (1, 2010, 'Mary'),\n",
                            " (1, 2011, 'Mary'),\n",
                            " (0, 2012, 'Mary'),\n",
                            " (1, 2012, 'Mary'),\n",
                            " (1, 2013, 'Mary'),\n",
                            " (0, 2014, 'Mary'),\n",
                            " (1, 2014, 'Mary'),\n",
                            " (1, 2015, 'Mary'),\n",
                            " (1, 2016, 'Mary'),\n",
                            " (1, 2017, 'Mary'),\n",
                            " (1, 2018, 'Mary'),\n",
                            " (1, 2019, 'Mary'),\n",
                            " (0, 2020, 'Mary'),\n",
                            " (1, 2020, 'Mary'),\n",
                            " (1, 2021, 'Mary'),\n",
                            " (1, 2022, 'Mary'),\n",
                            " (0, 1880, 'Anna'),\n",
                            " (1, 1880, 'Anna'),\n",
                            " (0, 1881, 'Anna'),\n",
                            " (1, 1881, 'Anna'),\n",
                            " (1, 1882, 'Anna'),\n",
                            " (0, 1883, 'Anna'),\n",
                            " (1, 1883, 'Anna'),\n",
                            " (0, 1884, 'Anna'),\n",
                            " (1, 1884, 'Anna'),\n",
                            " (0, 1885, 'Anna'),\n",
                            " (1, 1885, 'Anna'),\n",
                            " (0, 1886, 'Anna'),\n",
                            " (1, 1886, 'Anna'),\n",
                            " (0, 1887, 'Anna'),\n",
                            " (1, 1887, 'Anna'),\n",
                            " (0, 1888, 'Anna'),\n",
                            " (1, 1888, 'Anna'),\n",
                            " (0, 1889, 'Anna'),\n",
                            " (1, 1889, 'Anna'),\n",
                            " (0, 1890, 'Anna'),\n",
                            " (1, 1890, 'Anna'),\n",
                            " (0, 1891, 'Anna'),\n",
                            " (1, 1891, 'Anna'),\n",
                            " (0, 1892, 'Anna'),\n",
                            " (1, 1892, 'Anna'),\n",
                            " (0, 1893, 'Anna'),\n",
                            " (1, 1893, 'Anna'),\n",
                            " (0, 1894, 'Anna'),\n",
                            " (1, 1894, 'Anna'),\n",
                            " (0, 1895, 'Anna'),\n",
                            " (1, 1895, 'Anna'),\n",
                            " (0, 1896, 'Anna'),\n",
                            " (1, 1896, 'Anna'),\n",
                            " (0, 1897, 'Anna'),\n",
                            " (1, 1897, 'Anna'),\n",
                            " (0, 1898, 'Anna'),\n",
                            " (1, 1898, 'Anna'),\n",
                            " (0, 1899, 'Anna'),\n",
                            " (1, 1899, 'Anna'),\n",
                            " (0, 1900, 'Anna'),\n",
                            " (1, 1900, 'Anna'),\n",
                            " (0, 1901, 'Anna'),\n",
                            " (1, 1901, 'Anna'),\n",
                            " (0, 1902, 'Anna'),\n",
                            " (1, 1902, 'Anna'),\n",
                            " (0, 1903, 'Anna'),\n",
                            " (1, 1903, 'Anna'),\n",
                            " (0, 1904, 'Anna'),\n",
                            " (1, 1904, 'Anna'),\n",
                            " (0, 1905, 'Anna'),\n",
                            " (1, 1905, 'Anna'),\n",
                            " (0, 1906, 'Anna'),\n",
                            " (1, 1906, 'Anna'),\n",
                            " (0, 1907, 'Anna'),\n",
                            " (1, 1907, 'Anna'),\n",
                            " (0, 1908, 'Anna'),\n",
                            " (1, 1908, 'Anna'),\n",
                            " (0, 1909, 'Anna'),\n",
                            " (1, 1909, 'Anna'),\n",
                            " (0, 1910, 'Anna'),\n",
                            " (1, 1910, 'Anna'),\n",
                            " (0, 1911, 'Anna'),\n",
                            " (1, 1911, 'Anna'),\n",
                            " (0, 1912, 'Anna'),\n",
                            " (1, 1912, 'Anna'),\n",
                            " (0, 1913, 'Anna'),\n",
                            " (1, 1913, 'Anna'),\n",
                            " (0, 1914, 'Anna'),\n",
                            " (1, 1914, 'Anna'),\n",
                            " (0, 1915, 'Anna'),\n",
                            " (1, 1915, 'Anna'),\n",
                            " (0, 1916, 'Anna'),\n",
                            " (1, 1916, 'Anna'),\n",
                            " (0, 1917, 'Anna'),\n",
                            " (1, 1917, 'Anna'),\n",
                            " (0, 1918, 'Anna'),\n",
                            " (1, 1918, 'Anna'),\n",
                            " (0, 1919, 'Anna'),\n",
                            " (1, 1919, 'Anna'),\n",
                            " (0, 1920, 'Anna'),\n",
                            " (1, 1920, 'Anna'),\n",
                            " (0, 1921, 'Anna'),\n",
                            " (1, 1921, 'Anna'),\n",
                            " (0, 1922, 'Anna'),\n",
                            " (1, 1922, 'Anna'),\n",
                            " (0, 1923, 'Anna'),\n",
                            " (1, 1923, 'Anna'),\n",
                            " (0, 1924, 'Anna'),\n",
                            " (1, 1924, 'Anna'),\n",
                            " (0, 1925, 'Anna'),\n",
                            " (1, 1925, 'Anna'),\n",
                            " (0, 1926, 'Anna'),\n",
                            " (1, 1926, 'Anna'),\n",
                            " (0, 1927, 'Anna'),\n",
                            " (1, 1927, 'Anna'),\n",
                            " (0, 1928, 'Anna'),\n",
                            " (1, 1928, 'Anna'),\n",
                            " (0, 1929, 'Anna'),\n",
                            " (1, 1929, 'Anna'),\n",
                            " (0, 1930, 'Anna'),\n",
                            " (1, 1930, 'Anna'),\n",
                            " (0, 1931, 'Anna'),\n",
                            " (1, 1931, 'Anna'),\n",
                            " (0, 1932, 'Anna'),\n",
                            " (1, 1932, 'Anna'),\n",
                            " (0, 1933, 'Anna'),\n",
                            " (1, 1933, 'Anna'),\n",
                            " (0, 1934, 'Anna'),\n",
                            " (1, 1934, 'Anna'),\n",
                            " (0, 1935, 'Anna'),\n",
                            " (1, 1935, 'Anna'),\n",
                            " (0, 1936, 'Anna'),\n",
                            " (1, 1936, 'Anna'),\n",
                            " (0, 1937, 'Anna'),\n",
                            " (1, 1937, 'Anna'),\n",
                            " (0, 1938, 'Anna'),\n",
                            " (1, 1938, 'Anna'),\n",
                            " (0, 1939, 'Anna'),\n",
                            " (1, 1939, 'Anna'),\n",
                            " (0, 1940, 'Anna'),\n",
                            " (1, 1940, 'Anna'),\n",
                            " (0, 1941, 'Anna'),\n",
                            " (1, 1941, 'Anna'),\n",
                            " (0, 1942, 'Anna'),\n",
                            " (1, 1942, 'Anna'),\n",
                            " (0, 1943, 'Anna'),\n",
                            " (1, 1943, 'Anna'),\n",
                            " (0, 1944, 'Anna'),\n",
                            " (1, 1944, 'Anna'),\n",
                            " (0, 1945, 'Anna'),\n",
                            " (1, 1945, 'Anna'),\n",
                            " (0, 1946, 'Anna'),\n",
                            " (1, 1946, 'Anna'),\n",
                            " (0, 1947, 'Anna'),\n",
                            " (1, 1947, 'Anna'),\n",
                            " (0, 1948, 'Anna'),\n",
                            " (1, 1948, 'Anna'),\n",
                            " (0, 1949, 'Anna'),\n",
                            " (1, 1949, 'Anna'),\n",
                            " (0, 1950, 'Anna'),\n",
                            " (1, 1950, 'Anna'),\n",
                            " (0, 1951, 'Anna'),\n",
                            " (1, 1951, 'Anna'),\n",
                            " (0, 1952, 'Anna'),\n",
                            " (1, 1952, 'Anna'),\n",
                            " (0, 1953, 'Anna'),\n",
                            " (1, 1953, 'Anna'),\n",
                            " (0, 1954, 'Anna'),\n",
                            " (1, 1954, 'Anna'),\n",
                            " (0, 1955, 'Anna'),\n",
                            " (1, 1955, 'Anna'),\n",
                            " (0, 1956, 'Anna'),\n",
                            " (1, 1956, 'Anna'),\n",
                            " (0, 1957, 'Anna'),\n",
                            " (1, 1957, 'Anna'),\n",
                            " (0, 1958, 'Anna'),\n",
                            " (1, 1958, 'Anna'),\n",
                            " (0, 1959, 'Anna'),\n",
                            " (1, 1959, 'Anna'),\n",
                            " (0, 1960, 'Anna'),\n",
                            " (1, 1960, 'Anna'),\n",
                            " (0, 1961, 'Anna'),\n",
                            " (1, 1961, 'Anna'),\n",
                            " (0, 1962, 'Anna'),\n",
                            " (1, 1962, 'Anna'),\n",
                            " (0, 1963, 'Anna'),\n",
                            " (1, 1963, 'Anna'),\n",
                            " (0, 1964, 'Anna'),\n",
                            " (1, 1964, 'Anna'),\n",
                            " (0, 1965, 'Anna'),\n",
                            " (1, 1965, 'Anna'),\n",
                            " (0, 1966, 'Anna'),\n",
                            " (1, 1966, 'Anna'),\n",
                            " (0, 1967, 'Anna'),\n",
                            " (1, 1967, 'Anna'),\n",
                            " (0, 1968, 'Anna'),\n",
                            " (1, 1968, 'Anna'),\n",
                            " (0, 1969, 'Anna'),\n",
                            " (1, 1969, 'Anna'),\n",
                            " (0, 1970, 'Anna'),\n",
                            " (1, 1970, 'Anna'),\n",
                            " (0, 1971, 'Anna'),\n",
                            " (1, 1971, 'Anna'),\n",
                            " (0, 1972, 'Anna'),\n",
                            " (1, 1972, 'Anna'),\n",
                            " (0, 1973, 'Anna'),\n",
                            " (1, 1973, 'Anna'),\n",
                            " (0, 1974, 'Anna'),\n",
                            " (1, 1974, 'Anna'),\n",
                            " (0, 1975, 'Anna'),\n",
                            " (1, 1975, 'Anna'),\n",
                            " (0, 1976, 'Anna'),\n",
                            " (1, 1976, 'Anna'),\n",
                            " (0, 1977, 'Anna'),\n",
                            " (1, 1977, 'Anna'),\n",
                            " (0, 1978, 'Anna'),\n",
                            " (1, 1978, 'Anna'),\n",
                            " (0, 1979, 'Anna'),\n",
                            " (1, 1979, 'Anna'),\n",
                            " (0, 1980, 'Anna'),\n",
                            " (1, 1980, 'Anna'),\n",
                            " (0, 1981, 'Anna'),\n",
                            " (1, 1981, 'Anna'),\n",
                            " (0, 1982, 'Anna'),\n",
                            " (1, 1982, 'Anna'),\n",
                            " (0, 1983, 'Anna'),\n",
                            " (1, 1983, 'Anna'),\n",
                            " (0, 1984, 'Anna'),\n",
                            " (1, 1984, 'Anna'),\n",
                            " (0, 1985, 'Anna'),\n",
                            " (1, 1985, 'Anna'),\n",
                            " (0, 1986, 'Anna'),\n",
                            " (1, 1986, 'Anna'),\n",
                            " (0, 1987, 'Anna'),\n",
                            " (1, 1987, 'Anna'),\n",
                            " (0, 1988, 'Anna'),\n",
                            " (1, 1988, 'Anna'),\n",
                            " (0, 1989, 'Anna'),\n",
                            " (1, 1989, 'Anna'),\n",
                            " (0, 1990, 'Anna'),\n",
                            " (1, 1990, 'Anna'),\n",
                            " (0, 1991, 'Anna'),\n",
                            " (1, 1991, 'Anna'),\n",
                            " (0, 1992, 'Anna'),\n",
                            " (1, 1992, 'Anna'),\n",
                            " (0, 1993, 'Anna'),\n",
                            " (1, 1993, 'Anna'),\n",
                            " (0, 1994, 'Anna'),\n",
                            " (1, 1994, 'Anna'),\n",
                            " (0, 1995, 'Anna'),\n",
                            " (1, 1995, 'Anna'),\n",
                            " (0, 1996, 'Anna'),\n",
                            " (1, 1996, 'Anna'),\n",
                            " (1, 1997, 'Anna'),\n",
                            " (0, 1998, 'Anna'),\n",
                            " (1, 1998, 'Anna'),\n",
                            " (0, 1999, 'Anna'),\n",
                            " (1, 1999, 'Anna'),\n",
                            " (0, 2000, 'Anna'),\n",
                            " (1, 2000, 'Anna'),\n",
                            " (0, 2001, 'Anna'),\n",
                            " (1, 2001, 'Anna'),\n",
                            " (0, 2002, 'Anna'),\n",
                            " (1, 2002, 'Anna'),\n",
                            " (0, 2003, 'Anna'),\n",
                            " (1, 2003, 'Anna'),\n",
                            " (0, 2004, 'Anna'),\n",
                            " (1, 2004, 'Anna'),\n",
                            " (0, 2005, 'Anna'),\n",
                            " (1, 2005, 'Anna'),\n",
                            " (0, 2006, 'Anna'),\n",
                            " (1, 2006, 'Anna'),\n",
                            " (0, 2007, 'Anna'),\n",
                            " (1, 2007, 'Anna'),\n",
                            " (0, 2008, 'Anna'),\n",
                            " (1, 2008, 'Anna'),\n",
                            " (0, 2009, 'Anna'),\n",
                            " (1, 2009, 'Anna'),\n",
                            " (0, 2010, 'Anna'),\n",
                            " (1, 2010, 'Anna'),\n",
                            " (0, 2011, 'Anna'),\n",
                            " (1, 2011, 'Anna'),\n",
                            " (0, 2012, 'Anna'),\n",
                            " (1, 2012, 'Anna'),\n",
                            " (0, 2013, 'Anna'),\n",
                            " (1, 2013, 'Anna'),\n",
                            " (1, 2014, 'Anna'),\n",
                            " (0, 2015, 'Anna'),\n",
                            " (1, 2015, 'Anna'),\n",
                            " (0, 2016, 'Anna'),\n",
                            " (1, 2016, 'Anna'),\n",
                            " (0, 2017, 'Anna'),\n",
                            " (1, 2017, 'Anna'),\n",
                            " (0, 2018, 'Anna'),\n",
                            " (1, 2018, 'Anna'),\n",
                            " (1, 2019, 'Anna'),\n",
                            " (0, 2020, 'Anna'),\n",
                            " (1, 2020, 'Anna'),\n",
                            " (0, 2021, 'Anna'),\n",
                            " (1, 2021, 'Anna'),\n",
                            " (1, 2022, 'Anna'),\n",
                            " (0, 1880, 'Emma'),\n",
                            " (1, 1880, 'Emma'),\n",
                            " (0, 1881, 'Emma'),\n",
                            " (1, 1881, 'Emma'),\n",
                            " (0, 1882, 'Emma'),\n",
                            " (1, 1882, 'Emma'),\n",
                            " (0, 1883, 'Emma'),\n",
                            " (1, 1883, 'Emma'),\n",
                            " (0, 1884, 'Emma'),\n",
                            " (1, 1884, 'Emma'),\n",
                            " (0, 1885, 'Emma'),\n",
                            " (1, 1885, 'Emma'),\n",
                            " (0, 1886, 'Emma'),\n",
                            " (1, 1886, 'Emma'),\n",
                            " (0, 1887, 'Emma'),\n",
                            " (1, 1887, 'Emma'),\n",
                            " (0, 1888, 'Emma'),\n",
                            " (1, 1888, 'Emma'),\n",
                            " (0, 1889, 'Emma'),\n",
                            " (1, 1889, 'Emma'),\n",
                            " (0, 1890, 'Emma'),\n",
                            " (1, 1890, 'Emma'),\n",
                            " (0, 1891, 'Emma'),\n",
                            " (1, 1891, 'Emma'),\n",
                            " (0, 1892, 'Emma'),\n",
                            " (1, 1892, 'Emma'),\n",
                            " (0, 1893, 'Emma'),\n",
                            " (1, 1893, 'Emma'),\n",
                            " (0, 1894, 'Emma'),\n",
                            " (1, 1894, 'Emma'),\n",
                            " (0, 1895, 'Emma'),\n",
                            " (1, 1895, 'Emma'),\n",
                            " (0, 1896, 'Emma'),\n",
                            " (1, 1896, 'Emma'),\n",
                            " (1, 1897, 'Emma'),\n",
                            " (0, 1898, 'Emma'),\n",
                            " (1, 1898, 'Emma'),\n",
                            " (0, 1899, 'Emma'),\n",
                            " (1, 1899, 'Emma'),\n",
                            " (0, 1900, 'Emma'),\n",
                            " (1, 1900, 'Emma'),\n",
                            " (0, 1901, 'Emma'),\n",
                            " (1, 1901, 'Emma'),\n",
                            " (0, 1902, 'Emma'),\n",
                            " (1, 1902, 'Emma'),\n",
                            " (0, 1903, 'Emma'),\n",
                            " (1, 1903, 'Emma'),\n",
                            " (0, 1904, 'Emma'),\n",
                            " (1, 1904, 'Emma'),\n",
                            " (0, 1905, 'Emma'),\n",
                            " (1, 1905, 'Emma'),\n",
                            " (0, 1906, 'Emma'),\n",
                            " (1, 1906, 'Emma'),\n",
                            " (0, 1907, 'Emma'),\n",
                            " (1, 1907, 'Emma'),\n",
                            " (1, 1908, 'Emma'),\n",
                            " (0, 1909, 'Emma'),\n",
                            " (1, 1909, 'Emma'),\n",
                            " (0, 1910, 'Emma'),\n",
                            " (1, 1910, 'Emma'),\n",
                            " (0, 1911, 'Emma'),\n",
                            " (1, 1911, 'Emma'),\n",
                            " (0, 1912, 'Emma'),\n",
                            " (1, 1912, 'Emma'),\n",
                            " (0, 1913, 'Emma'),\n",
                            " (1, 1913, 'Emma'),\n",
                            " (0, 1914, 'Emma'),\n",
                            " (1, 1914, 'Emma'),\n",
                            " (0, 1915, 'Emma'),\n",
                            " (1, 1915, 'Emma'),\n",
                            " (0, 1916, 'Emma'),\n",
                            " (1, 1916, 'Emma'),\n",
                            " (0, 1917, 'Emma'),\n",
                            " (1, 1917, 'Emma'),\n",
                            " (0, 1918, 'Emma'),\n",
                            " (1, 1918, 'Emma'),\n",
                            " (0, 1919, 'Emma'),\n",
                            " (1, 1919, 'Emma'),\n",
                            " (0, 1920, 'Emma'),\n",
                            " (1, 1920, 'Emma'),\n",
                            " (0, 1921, 'Emma'),\n",
                            " (1, 1921, 'Emma'),\n",
                            " (0, 1922, 'Emma'),\n",
                            " (1, 1922, 'Emma'),\n",
                            " (0, 1923, 'Emma'),\n",
                            " (1, 1923, 'Emma'),\n",
                            " (0, 1924, 'Emma'),\n",
                            " (1, 1924, 'Emma'),\n",
                            " (0, 1925, 'Emma'),\n",
                            " (1, 1925, 'Emma'),\n",
                            " (0, 1926, 'Emma'),\n",
                            " (1, 1926, 'Emma'),\n",
                            " (0, 1927, 'Emma'),\n",
                            " (1, 1927, 'Emma'),\n",
                            " (0, 1928, 'Emma'),\n",
                            " (1, 1928, 'Emma'),\n",
                            " (0, 1929, 'Emma'),\n",
                            " (1, 1929, 'Emma'),\n",
                            " (0, 1930, 'Emma'),\n",
                            " (1, 1930, 'Emma'),\n",
                            " (0, 1931, 'Emma'),\n",
                            " (1, 1931, 'Emma'),\n",
                            " (0, 1932, 'Emma'),\n",
                            " (1, 1932, 'Emma'),\n",
                            " (0, 1933, 'Emma'),\n",
                            " (1, 1933, 'Emma'),\n",
                            " (0, 1934, 'Emma'),\n",
                            " (1, 1934, 'Emma'),\n",
                            " (0, 1935, 'Emma'),\n",
                            " (1, 1935, 'Emma'),\n",
                            " (0, 1936, 'Emma'),\n",
                            " (1, 1936, 'Emma'),\n",
                            " (0, 1937, 'Emma'),\n",
                            " (1, 1937, 'Emma'),\n",
                            " (0, 1938, 'Emma'),\n",
                            " (1, 1938, 'Emma'),\n",
                            " (0, 1939, 'Emma'),\n",
                            " (1, 1939, 'Emma'),\n",
                            " (0, 1940, 'Emma'),\n",
                            " (1, 1940, 'Emma'),\n",
                            " (0, 1941, 'Emma'),\n",
                            " (1, 1941, 'Emma'),\n",
                            " (0, 1942, 'Emma'),\n",
                            " (1, 1942, 'Emma'),\n",
                            " (0, 1943, 'Emma'),\n",
                            " (1, 1943, 'Emma'),\n",
                            " (0, 1944, 'Emma'),\n",
                            " (1, 1944, 'Emma'),\n",
                            " (0, 1945, 'Emma'),\n",
                            " (1, 1945, 'Emma'),\n",
                            " (0, 1946, 'Emma'),\n",
                            " (1, 1946, 'Emma'),\n",
                            " (0, 1947, 'Emma'),\n",
                            " (1, 1947, 'Emma'),\n",
                            " (0, 1948, 'Emma'),\n",
                            " (1, 1948, 'Emma'),\n",
                            " (0, 1949, 'Emma'),\n",
                            " (1, 1949, 'Emma'),\n",
                            " (0, 1950, 'Emma'),\n",
                            " (1, 1950, 'Emma'),\n",
                            " (1, 1951, 'Emma'),\n",
                            " (1, 1952, 'Emma'),\n",
                            " (0, 1953, 'Emma'),\n",
                            " (1, 1953, 'Emma'),\n",
                            " (0, 1954, 'Emma'),\n",
                            " (1, 1954, 'Emma'),\n",
                            " (0, 1955, 'Emma'),\n",
                            " (1, 1955, 'Emma'),\n",
                            " (0, 1956, 'Emma'),\n",
                            " (1, 1956, 'Emma'),\n",
                            " (0, 1957, 'Emma'),\n",
                            " (1, 1957, 'Emma'),\n",
                            " (1, 1958, 'Emma'),\n",
                            " (0, 1959, 'Emma'),\n",
                            " (1, 1959, 'Emma'),\n",
                            " (1, 1960, 'Emma'),\n",
                            " (1, 1961, 'Emma'),\n",
                            " (0, 1962, 'Emma'),\n",
                            " (1, 1962, 'Emma'),\n",
                            " (0, 1963, 'Emma'),\n",
                            " (1, 1963, 'Emma'),\n",
                            " (1, 1964, 'Emma'),\n",
                            " (1, 1965, 'Emma'),\n",
                            " (1, 1966, 'Emma'),\n",
                            " (1, 1967, 'Emma'),\n",
                            " (0, 1968, 'Emma'),\n",
                            " (1, 1968, 'Emma'),\n",
                            " (1, 1969, 'Emma'),\n",
                            " (1, 1970, 'Emma'),\n",
                            " (0, 1971, 'Emma'),\n",
                            " (1, 1971, 'Emma'),\n",
                            " (1, 1972, 'Emma'),\n",
                            " (0, 1973, 'Emma'),\n",
                            " (1, 1973, 'Emma'),\n",
                            " (1, 1974, 'Emma'),\n",
                            " (1, 1975, 'Emma'),\n",
                            " (1, 1976, 'Emma'),\n",
                            " (1, 1977, 'Emma'),\n",
                            " (1, 1978, 'Emma'),\n",
                            " (0, 1979, 'Emma'),\n",
                            " (1, 1979, 'Emma'),\n",
                            " (1, 1980, 'Emma'),\n",
                            " (1, 1981, 'Emma'),\n",
                            " (0, 1982, 'Emma'),\n",
                            " (1, 1982, 'Emma'),\n",
                            " (0, 1983, 'Emma'),\n",
                            " (1, 1983, 'Emma'),\n",
                            " (0, 1984, 'Emma'),\n",
                            " (1, 1984, 'Emma'),\n",
                            " (1, 1985, 'Emma'),\n",
                            " (0, 1986, 'Emma'),\n",
                            " (1, 1986, 'Emma'),\n",
                            " (0, 1987, 'Emma'),\n",
                            " (1, 1987, 'Emma'),\n",
                            " (0, 1988, 'Emma'),\n",
                            " (1, 1988, 'Emma'),\n",
                            " (0, 1989, 'Emma'),\n",
                            " (1, 1989, 'Emma'),\n",
                            " (0, 1990, 'Emma'),\n",
                            " (1, 1990, 'Emma'),\n",
                            " (1, 1991, 'Emma'),\n",
                            " (1, 1992, 'Emma'),\n",
                            " (0, 1993, 'Emma'),\n",
                            " (1, 1993, 'Emma'),\n",
                            " (0, 1994, 'Emma'),\n",
                            " (1, 1994, 'Emma'),\n",
                            " (0, 1995, 'Emma'),\n",
                            " (1, 1995, 'Emma'),\n",
                            " (0, 1996, 'Emma'),\n",
                            " (1, 1996, 'Emma'),\n",
                            " (0, 1997, 'Emma'),\n",
                            " (1, 1997, 'Emma'),\n",
                            " (0, 1998, 'Emma'),\n",
                            " (1, 1998, 'Emma'),\n",
                            " (0, 1999, 'Emma'),\n",
                            " (1, 1999, 'Emma'),\n",
                            " (0, 2000, 'Emma'),\n",
                            " (1, 2000, 'Emma'),\n",
                            " (0, 2001, 'Emma'),\n",
                            " (1, 2001, 'Emma'),\n",
                            " (0, 2002, 'Emma'),\n",
                            " (1, 2002, 'Emma'),\n",
                            " (0, 2003, 'Emma'),\n",
                            " (1, 2003, 'Emma'),\n",
                            " (0, 2004, 'Emma'),\n",
                            " (1, 2004, 'Emma'),\n",
                            " (0, 2005, 'Emma'),\n",
                            " (1, 2005, 'Emma'),\n",
                            " (0, 2006, 'Emma'),\n",
                            " (1, 2006, 'Emma'),\n",
                            " (0, 2007, 'Emma'),\n",
                            " (1, 2007, 'Emma'),\n",
                            " (0, 2008, 'Emma'),\n",
                            " (1, 2008, 'Emma'),\n",
                            " (0, 2009, 'Emma'),\n",
                            " (1, 2009, 'Emma'),\n",
                            " (0, 2010, 'Emma'),\n",
                            " (1, 2010, 'Emma'),\n",
                            " (0, 2011, 'Emma'),\n",
                            " (1, 2011, 'Emma'),\n",
                            " (0, 2012, 'Emma'),\n",
                            " (1, 2012, 'Emma'),\n",
                            " (0, 2013, 'Emma'),\n",
                            " (1, 2013, 'Emma'),\n",
                            " (0, 2014, 'Emma'),\n",
                            " (1, 2014, 'Emma'),\n",
                            " (0, 2015, 'Emma'),\n",
                            " (1, 2015, 'Emma'),\n",
                            " (0, 2016, 'Emma'),\n",
                            " (1, 2016, 'Emma'),\n",
                            " (0, 2017, 'Emma'),\n",
                            " (1, 2017, 'Emma'),\n",
                            " (0, 2018, 'Emma'),\n",
                            " (1, 2018, 'Emma'),\n",
                            " (0, 2019, 'Emma'),\n",
                            " (1, 2019, 'Emma'),\n",
                            " (0, 2020, 'Emma'),\n",
                            " (1, 2020, 'Emma'),\n",
                            " (0, 2021, 'Emma'),\n",
                            " (1, 2021, 'Emma'),\n",
                            " (0, 2022, 'Emma'),\n",
                            " (1, 2022, 'Emma'),\n",
                            " (0, 2023, 'Emma'),\n",
                            " (0, 1880, 'Elizabeth'),\n",
                            " (1, 1880, 'Elizabeth'),\n",
                            " (1, 1881, 'Elizabeth'),\n",
                            " (0, 1882, 'Elizabeth'),\n",
                            " (1, 1882, 'Elizabeth'),\n",
                            " (0, 1883, 'Elizabeth'),\n",
                            " (1, 1883, 'Elizabeth'),\n",
                            " (0, 1884, 'Elizabeth'),\n",
                            " (1, 1884, 'Elizabeth'),\n",
                            " (0, 1885, 'Elizabeth'),\n",
                            " (1, 1885, 'Elizabeth'),\n",
                            " (0, 1886, 'Elizabeth'),\n",
                            " (1, 1886, 'Elizabeth'),\n",
                            " (0, 1887, 'Elizabeth'),\n",
                            " (1, 1887, 'Elizabeth'),\n",
                            " (0, 1888, 'Elizabeth'),\n",
                            " (1, 1888, 'Elizabeth'),\n",
                            " (0, 1889, 'Elizabeth'),\n",
                            " (1, 1889, 'Elizabeth'),\n",
                            " (0, 1890, 'Elizabeth'),\n",
                            " (1, 1890, 'Elizabeth'),\n",
                            " (0, 1891, 'Elizabeth'),\n",
                            " (1, 1891, 'Elizabeth'),\n",
                            " (0, 1892, 'Elizabeth'),\n",
                            " (1, 1892, 'Elizabeth'),\n",
                            " (0, 1893, 'Elizabeth'),\n",
                            " (1, 1893, 'Elizabeth'),\n",
                            " (0, 1894, 'Elizabeth'),\n",
                            " (1, 1894, 'Elizabeth'),\n",
                            " (0, 1895, 'Elizabeth'),\n",
                            " (1, 1895, 'Elizabeth'),\n",
                            " (0, 1896, 'Elizabeth'),\n",
                            " (1, 1896, 'Elizabeth'),\n",
                            " (0, 1897, 'Elizabeth'),\n",
                            " (1, 1897, 'Elizabeth'),\n",
                            " (0, 1898, 'Elizabeth'),\n",
                            " (1, 1898, 'Elizabeth'),\n",
                            " (0, 1899, 'Elizabeth'),\n",
                            " (1, 1899, 'Elizabeth'),\n",
                            " (0, 1900, 'Elizabeth'),\n",
                            " (1, 1900, 'Elizabeth'),\n",
                            " (0, 1901, 'Elizabeth'),\n",
                            " (1, 1901, 'Elizabeth'),\n",
                            " (0, 1902, 'Elizabeth'),\n",
                            " (1, 1902, 'Elizabeth'),\n",
                            " (0, 1903, 'Elizabeth'),\n",
                            " (1, 1903, 'Elizabeth'),\n",
                            " (0, 1904, 'Elizabeth'),\n",
                            " (1, 1904, 'Elizabeth'),\n",
                            " (0, 1905, 'Elizabeth'),\n",
                            " (1, 1905, 'Elizabeth'),\n",
                            " (0, 1906, 'Elizabeth'),\n",
                            " (1, 1906, 'Elizabeth'),\n",
                            " (0, 1907, 'Elizabeth'),\n",
                            " (1, 1907, 'Elizabeth'),\n",
                            " (0, 1908, 'Elizabeth'),\n",
                            " (1, 1908, 'Elizabeth'),\n",
                            " (0, 1909, 'Elizabeth'),\n",
                            " (1, 1909, 'Elizabeth'),\n",
                            " (0, 1910, 'Elizabeth'),\n",
                            " (1, 1910, 'Elizabeth'),\n",
                            " (0, 1911, 'Elizabeth'),\n",
                            " (1, 1911, 'Elizabeth'),\n",
                            " (0, 1912, 'Elizabeth'),\n",
                            " (1, 1912, 'Elizabeth'),\n",
                            " (0, 1913, 'Elizabeth'),\n",
                            " (1, 1913, 'Elizabeth'),\n",
                            " (0, 1914, 'Elizabeth'),\n",
                            " (1, 1914, 'Elizabeth'),\n",
                            " (0, 1915, 'Elizabeth'),\n",
                            " (1, 1915, 'Elizabeth'),\n",
                            " (0, 1916, 'Elizabeth'),\n",
                            " (1, 1916, 'Elizabeth'),\n",
                            " (0, 1917, 'Elizabeth'),\n",
                            " (1, 1917, 'Elizabeth'),\n",
                            " (0, 1918, 'Elizabeth'),\n",
                            " (1, 1918, 'Elizabeth'),\n",
                            " (0, 1919, 'Elizabeth'),\n",
                            " (1, 1919, 'Elizabeth'),\n",
                            " (0, 1920, 'Elizabeth'),\n",
                            " (1, 1920, 'Elizabeth'),\n",
                            " (0, 1921, 'Elizabeth'),\n",
                            " (1, 1921, 'Elizabeth'),\n",
                            " (0, 1922, 'Elizabeth'),\n",
                            " (1, 1922, 'Elizabeth'),\n",
                            " (0, 1923, 'Elizabeth'),\n",
                            " (1, 1923, 'Elizabeth'),\n",
                            " (0, 1924, 'Elizabeth'),\n",
                            " (1, 1924, 'Elizabeth'),\n",
                            " (0, 1925, 'Elizabeth'),\n",
                            " (1, 1925, 'Elizabeth'),\n",
                            " (0, 1926, 'Elizabeth'),\n",
                            " (1, 1926, 'Elizabeth'),\n",
                            " (0, 1927, 'Elizabeth'),\n",
                            " (1, 1927, 'Elizabeth'),\n",
                            " (0, 1928, 'Elizabeth'),\n",
                            " (1, 1928, 'Elizabeth'),\n",
                            " (0, 1929, 'Elizabeth'),\n",
                            " (1, 1929, 'Elizabeth'),\n",
                            " (0, 1930, 'Elizabeth'),\n",
                            " (1, 1930, 'Elizabeth'),\n",
                            " (0, 1931, 'Elizabeth'),\n",
                            " (1, 1931, 'Elizabeth'),\n",
                            " (0, 1932, 'Elizabeth'),\n",
                            " (1, 1932, 'Elizabeth'),\n",
                            " (0, 1933, 'Elizabeth'),\n",
                            " (1, 1933, 'Elizabeth'),\n",
                            " (0, 1934, 'Elizabeth'),\n",
                            " (1, 1934, 'Elizabeth'),\n",
                            " (0, 1935, 'Elizabeth'),\n",
                            " (1, 1935, 'Elizabeth'),\n",
                            " (0, 1936, 'Elizabeth'),\n",
                            " (1, 1936, 'Elizabeth'),\n",
                            " (0, 1937, 'Elizabeth'),\n",
                            " (1, 1937, 'Elizabeth'),\n",
                            " (0, 1938, 'Elizabeth'),\n",
                            " (1, 1938, 'Elizabeth'),\n",
                            " (0, 1939, 'Elizabeth'),\n",
                            " (1, 1939, 'Elizabeth'),\n",
                            " (0, 1940, 'Elizabeth'),\n",
                            " (1, 1940, 'Elizabeth'),\n",
                            " (0, 1941, 'Elizabeth'),\n",
                            " (1, 1941, 'Elizabeth'),\n",
                            " (0, 1942, 'Elizabeth'),\n",
                            " (1, 1942, 'Elizabeth'),\n",
                            " (0, 1943, 'Elizabeth'),\n",
                            " (1, 1943, 'Elizabeth'),\n",
                            " (0, 1944, 'Elizabeth'),\n",
                            " (1, 1944, 'Elizabeth'),\n",
                            " (0, 1945, 'Elizabeth'),\n",
                            " (1, 1945, 'Elizabeth'),\n",
                            " (0, 1946, 'Elizabeth'),\n",
                            " (1, 1946, 'Elizabeth'),\n",
                            " (0, 1947, 'Elizabeth'),\n",
                            " (1, 1947, 'Elizabeth'),\n",
                            " (0, 1948, 'Elizabeth'),\n",
                            " (1, 1948, 'Elizabeth'),\n",
                            " (0, 1949, 'Elizabeth'),\n",
                            " (1, 1949, 'Elizabeth'),\n",
                            " (0, 1950, 'Elizabeth'),\n",
                            " (1, 1950, 'Elizabeth'),\n",
                            " (0, 1951, 'Elizabeth'),\n",
                            " (1, 1951, 'Elizabeth'),\n",
                            " (0, 1952, 'Elizabeth'),\n",
                            " (1, 1952, 'Elizabeth'),\n",
                            " (0, 1953, 'Elizabeth'),\n",
                            " (1, 1953, 'Elizabeth'),\n",
                            " (0, 1954, 'Elizabeth'),\n",
                            " (1, 1954, 'Elizabeth'),\n",
                            " (0, 1955, 'Elizabeth'),\n",
                            " (1, 1955, 'Elizabeth'),\n",
                            " (0, 1956, 'Elizabeth'),\n",
                            " (1, 1956, 'Elizabeth'),\n",
                            " (0, 1957, 'Elizabeth'),\n",
                            " (1, 1957, 'Elizabeth'),\n",
                            " (0, 1958, 'Elizabeth'),\n",
                            " (1, 1958, 'Elizabeth'),\n",
                            " (0, 1959, 'Elizabeth'),\n",
                            " (1, 1959, 'Elizabeth'),\n",
                            " (0, 1960, 'Elizabeth'),\n",
                            " (1, 1960, 'Elizabeth'),\n",
                            " (0, 1961, 'Elizabeth'),\n",
                            " (1, 1961, 'Elizabeth'),\n",
                            " (0, 1962, 'Elizabeth'),\n",
                            " (1, 1962, 'Elizabeth'),\n",
                            " (0, 1963, 'Elizabeth'),\n",
                            " (1, 1963, 'Elizabeth'),\n",
                            " (0, 1964, 'Elizabeth'),\n",
                            " (1, 1964, 'Elizabeth'),\n",
                            " (0, 1965, 'Elizabeth'),\n",
                            " (1, 1965, 'Elizabeth'),\n",
                            " (0, 1966, 'Elizabeth'),\n",
                            " (1, 1966, 'Elizabeth'),\n",
                            " (0, 1967, 'Elizabeth'),\n",
                            " (1, 1967, 'Elizabeth'),\n",
                            " (0, 1968, 'Elizabeth'),\n",
                            " (1, 1968, 'Elizabeth'),\n",
                            " (0, 1969, 'Elizabeth'),\n",
                            " (1, 1969, 'Elizabeth'),\n",
                            " (0, 1970, 'Elizabeth'),\n",
                            " (1, 1970, 'Elizabeth'),\n",
                            " ...]"
                        ]
                    },
                    "execution_count": 93,
                    "metadata": {},
                    "output_type": "execute_result"
                }
            ],
            "source": [
                "gaps"
            ]
        },
        {
            "cell_type": "code",
            "execution_count": 95,
            "metadata": {},
            "outputs": [
                {
                    "data": {
                        "text/plain": [
                            "[(123, 1898, 'Enzie'),\n",
                            " (118, 1883, 'Franc'),\n",
                            " (115, 1888, 'Rasmus'),\n",
                            " (115, 1891, 'Izzie'),\n",
                            " (113, 1906, 'Leonis'),\n",
                            " (109, 1912, 'Zeak'),\n",
                            " (108, 1899, 'Izma'),\n",
                            " (108, 1914, 'Rivera'),\n",
                            " (107, 1889, 'Leannah'),\n",
                            " (106, 1913, 'Azena')]"
                        ]
                    },
                    "execution_count": 95,
                    "metadata": {},
                    "output_type": "execute_result"
                }
            ],
            "source": [
                "sorted(gaps, key=lambda x:(-x[0], x[1], x[2]))[: 10]"
            ]
        },
        {
            "cell_type": "code",
            "execution_count": 97,
            "metadata": {},
            "outputs": [],
            "source": [
                "deck = list(range(52))"
            ]
        },
        {
            "cell_type": "code",
            "execution_count": 98,
            "metadata": {},
            "outputs": [],
            "source": [
                "from random import randrange"
            ]
        },
        {
            "cell_type": "code",
            "execution_count": 99,
            "metadata": {},
            "outputs": [
                {
                    "data": {
                        "text/plain": [
                            "0"
                        ]
                    },
                    "execution_count": 99,
                    "metadata": {},
                    "output_type": "execute_result"
                },
                {
                    "data": {
                        "text/plain": [
                            "0"
                        ]
                    },
                    "execution_count": 99,
                    "metadata": {},
                    "output_type": "execute_result"
                },
                {
                    "data": {
                        "text/plain": [
                            "1"
                        ]
                    },
                    "execution_count": 99,
                    "metadata": {},
                    "output_type": "execute_result"
                },
                {
                    "data": {
                        "text/plain": [
                            "1"
                        ]
                    },
                    "execution_count": 99,
                    "metadata": {},
                    "output_type": "execute_result"
                }
            ],
            "source": [
                "randrange(2)\n",
                "randrange(2)\n",
                "randrange(2)\n",
                "randrange(2)"
            ]
        },
        {
            "cell_type": "code",
            "execution_count": 100,
            "metadata": {
                "scrolled": true
            },
            "outputs": [
                {
                    "data": {
                        "text/plain": [
                            "[1,\n",
                            " 0,\n",
                            " 1,\n",
                            " 1,\n",
                            " 0,\n",
                            " 0,\n",
                            " 0,\n",
                            " 0,\n",
                            " 1,\n",
                            " 1,\n",
                            " 1,\n",
                            " 1,\n",
                            " 0,\n",
                            " 1,\n",
                            " 1,\n",
                            " 1,\n",
                            " 1,\n",
                            " 0,\n",
                            " 1,\n",
                            " 1,\n",
                            " 1,\n",
                            " 0,\n",
                            " 0,\n",
                            " 1,\n",
                            " 1,\n",
                            " 1,\n",
                            " 1,\n",
                            " 0,\n",
                            " 0,\n",
                            " 1,\n",
                            " 1,\n",
                            " 1,\n",
                            " 0,\n",
                            " 0,\n",
                            " 1,\n",
                            " 0,\n",
                            " 0,\n",
                            " 0,\n",
                            " 0,\n",
                            " 0,\n",
                            " 0,\n",
                            " 0,\n",
                            " 1,\n",
                            " 1,\n",
                            " 0,\n",
                            " 1,\n",
                            " 1,\n",
                            " 0,\n",
                            " 1,\n",
                            " 0,\n",
                            " 0,\n",
                            " 0]"
                        ]
                    },
                    "execution_count": 100,
                    "metadata": {},
                    "output_type": "execute_result"
                }
            ],
            "source": [
                "[randrange(2) for _ in range(52)]"
            ]
        },
        {
            "cell_type": "code",
            "execution_count": 101,
            "metadata": {},
            "outputs": [
                {
                    "data": {
                        "text/plain": [
                            "21"
                        ]
                    },
                    "execution_count": 101,
                    "metadata": {},
                    "output_type": "execute_result"
                }
            ],
            "source": [
                "sum(randrange(2) for _ in range(52))"
            ]
        },
        {
            "cell_type": "code",
            "execution_count": 102,
            "metadata": {},
            "outputs": [],
            "source": [
                "n1 = 20\n",
                "n2 = 10"
            ]
        },
        {
            "cell_type": "code",
            "execution_count": 103,
            "metadata": {},
            "outputs": [
                {
                    "data": {
                        "text/plain": [
                            "True"
                        ]
                    },
                    "execution_count": 103,
                    "metadata": {},
                    "output_type": "execute_result"
                }
            ],
            "source": [
                "randrange(n1 + n2) \u003c n1"
            ]
        },
        {
            "cell_type": "code",
            "execution_count": 0,
            "metadata": {},
            "outputs": [],
            "source": [
                ""
            ]
        }
    ]
}
