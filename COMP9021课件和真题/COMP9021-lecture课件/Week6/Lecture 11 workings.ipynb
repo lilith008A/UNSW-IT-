{
 "cells": [
  {
   "cell_type": "code",
   "execution_count": 2,
   "id": "f27f88ed-7566-4201-b6da-905156de1646",
   "metadata": {},
   "outputs": [],
   "source": [
    "from random import random\n",
    "\n",
    "import numpy as np"
   ]
  },
  {
   "cell_type": "code",
   "execution_count": 22,
   "id": "f291e02c-3bb6-4da0-9f3f-a4ee1be61e26",
   "metadata": {},
   "outputs": [],
   "source": [
    "dim = 10\n",
    "density = 0.3\n",
    "squares = {0: '\\u2b1c', 1: '\\u2b1b'}"
   ]
  },
  {
   "cell_type": "code",
   "execution_count": 26,
   "id": "22eb467f-f77e-4b86-a19a-65ffcf1628c7",
   "metadata": {},
   "outputs": [],
   "source": [
    "def display_within_framed_grid():\n",
    "    for row in framed_grid[1 : -1]:\n",
    "        print(''.join(squares[e] for e in row[1 : -1]))"
   ]
  },
  {
   "cell_type": "code",
   "execution_count": 33,
   "id": "4ba08bcb-965c-4f2d-9b68-b1aad7123b9b",
   "metadata": {},
   "outputs": [],
   "source": [
    "def framed_evolve():\n",
    "    global framed_grid\n",
    "    new_grid = np.zeros((dim + 2, dim + 2), int)\n",
    "    N = framed_grid[: -2, 1 : -1]\n",
    "    S = framed_grid[2 :, 1 : -1]    \n",
    "    E = framed_grid[1 : -1, 2 :]\n",
    "    W = framed_grid[1 : -1, : -2]\n",
    "    NE = framed_grid[: -2, 2 :]\n",
    "    NW = framed_grid[: -2, : - 2]\n",
    "    SE = framed_grid[2 :, 2 :]\n",
    "    SW = framed_grid[2 :, : - 2]\n",
    "    nb_of_neighbours = N + S + E + W + NE + NW + SE + SW\n",
    "    new_grid[1 : -1, 1 : -1] = nb_of_neighbours\n",
    "    framed_grid = np.logical_or(new_grid == 3,\n",
    "                                np.logical_and(new_grid == 2, framed_grid == 1)\n",
    "                               )"
   ]
  },
  {
   "cell_type": "code",
   "execution_count": 34,
   "id": "6be7ddd6-937e-4ff8-b124-93858fb3a436",
   "metadata": {},
   "outputs": [
    {
     "name": "stdout",
     "output_type": "stream",
     "text": [
      "⬜⬜⬜⬜⬛⬜⬜⬜⬛⬜\n",
      "⬜⬜⬜⬜⬜⬜⬜⬛⬜⬜\n",
      "⬜⬜⬜⬛⬜⬜⬜⬜⬜⬛\n",
      "⬜⬛⬜⬜⬜⬜⬜⬜⬛⬜\n",
      "⬜⬜⬛⬜⬜⬛⬜⬜⬛⬜\n",
      "⬜⬜⬜⬜⬜⬜⬜⬛⬜⬜\n",
      "⬛⬜⬜⬜⬜⬛⬜⬛⬛⬜\n",
      "⬜⬛⬜⬛⬜⬛⬛⬜⬜⬛\n",
      "⬜⬜⬜⬛⬜⬜⬛⬛⬜⬜\n",
      "⬜⬜⬛⬜⬜⬜⬜⬜⬛⬛\n",
      "\n",
      "⬜⬜⬜⬜⬜⬜⬜⬜⬜⬜\n",
      "⬜⬜⬜⬜⬜⬜⬜⬜⬛⬜\n",
      "⬜⬜⬜⬜⬜⬜⬜⬜⬛⬜\n",
      "⬜⬜⬛⬜⬜⬜⬜⬜⬛⬛\n",
      "⬜⬜⬜⬜⬜⬜⬜⬛⬛⬜\n",
      "⬜⬜⬜⬜⬜⬜⬜⬛⬜⬜\n",
      "⬜⬜⬜⬜⬛⬛⬜⬛⬛⬜\n",
      "⬜⬜⬛⬜⬜⬛⬜⬜⬜⬜\n",
      "⬜⬜⬜⬛⬛⬛⬛⬛⬜⬛\n",
      "⬜⬜⬜⬜⬜⬜⬜⬛⬛⬜\n"
     ]
    }
   ],
   "source": [
    "# framed_grid = [[0] * (dim + 2) for _ in range(dim + 2)]\n",
    "framed_grid = np.zeros((dim + 2, dim + 2), int)\n",
    "for i in range(1, dim + 1):\n",
    "    for j in range(1, dim + 1):\n",
    "        framed_grid[i, j] = int(random() < density)\n",
    "display_within_framed_grid()\n",
    "print()\n",
    "framed_evolve()\n",
    "display_within_framed_grid()"
   ]
  },
  {
   "cell_type": "code",
   "execution_count": 3,
   "id": "be4cdb0f-d491-4cdb-bbe6-17b7c7835d5b",
   "metadata": {},
   "outputs": [
    {
     "data": {
      "text/plain": [
       "array([[[ 0,  1,  2,  3],\n",
       "        [ 4,  5,  6,  7]],\n",
       "\n",
       "       [[ 8,  9, 10, 11],\n",
       "        [12, 13, 14, 15]]])"
      ]
     },
     "execution_count": 3,
     "metadata": {},
     "output_type": "execute_result"
    },
    {
     "data": {
      "text/plain": [
       "np.int64(10)"
      ]
     },
     "execution_count": 3,
     "metadata": {},
     "output_type": "execute_result"
    },
    {
     "data": {
      "text/plain": [
       "array([13, 14, 15])"
      ]
     },
     "execution_count": 3,
     "metadata": {},
     "output_type": "execute_result"
    },
    {
     "data": {
      "text/plain": [
       "array([[ 9, 10],\n",
       "       [13, 14]])"
      ]
     },
     "execution_count": 3,
     "metadata": {},
     "output_type": "execute_result"
    },
    {
     "data": {
      "text/plain": [
       "array([[[1, 2]]])"
      ]
     },
     "execution_count": 3,
     "metadata": {},
     "output_type": "execute_result"
    }
   ],
   "source": [
    "L = np.array(range(16)).reshape(2, 2, 4)\n",
    "\n",
    "L\n",
    "L[1, 0, 2]\n",
    "L[1, 1, 1 :]\n",
    "L[1, :, 1 : 3]\n",
    "L[0 : 1, 0 : 1, 1 : 3]"
   ]
  },
  {
   "cell_type": "code",
   "execution_count": 6,
   "id": "35390b7a-bab5-42c7-bbc8-c006d726d4bc",
   "metadata": {},
   "outputs": [
    {
     "data": {
      "text/plain": [
       "array([[1, 2],\n",
       "       [3, 4]])"
      ]
     },
     "execution_count": 6,
     "metadata": {},
     "output_type": "execute_result"
    }
   ],
   "source": [
    "L = np.arange(1, 5).reshape(2, 2)\n",
    "L"
   ]
  },
  {
   "cell_type": "code",
   "execution_count": 7,
   "id": "e34d70ac-6063-4751-b2b0-9d45f51b12b0",
   "metadata": {},
   "outputs": [
    {
     "data": {
      "text/plain": [
       "array([[10, 20],\n",
       "       [30, 40]])"
      ]
     },
     "execution_count": 7,
     "metadata": {},
     "output_type": "execute_result"
    }
   ],
   "source": [
    "L1 = np.arange(10, 50, 10).reshape(2, 2)\n",
    "L1"
   ]
  },
  {
   "cell_type": "code",
   "execution_count": 8,
   "id": "edef3376-d105-4ac2-816e-9c2cbe16c436",
   "metadata": {},
   "outputs": [
    {
     "data": {
      "text/plain": [
       "array([[11, 22],\n",
       "       [33, 44]])"
      ]
     },
     "execution_count": 8,
     "metadata": {},
     "output_type": "execute_result"
    }
   ],
   "source": [
    "L + L1"
   ]
  },
  {
   "cell_type": "code",
   "execution_count": 9,
   "id": "4cd97987-8ecc-412c-b399-488a35c7bba6",
   "metadata": {},
   "outputs": [
    {
     "data": {
      "text/plain": [
       "array([10, 20])"
      ]
     },
     "execution_count": 9,
     "metadata": {},
     "output_type": "execute_result"
    }
   ],
   "source": [
    "L1 = np.array([10, 20])\n",
    "L1"
   ]
  },
  {
   "cell_type": "code",
   "execution_count": 10,
   "id": "bc5b5479-3467-4490-9c3d-f17b6d00535f",
   "metadata": {},
   "outputs": [
    {
     "data": {
      "text/plain": [
       "array([[1, 2],\n",
       "       [3, 4]])"
      ]
     },
     "execution_count": 10,
     "metadata": {},
     "output_type": "execute_result"
    },
    {
     "data": {
      "text/plain": [
       "array([10, 20])"
      ]
     },
     "execution_count": 10,
     "metadata": {},
     "output_type": "execute_result"
    }
   ],
   "source": [
    "L\n",
    "L1"
   ]
  },
  {
   "cell_type": "code",
   "execution_count": 11,
   "id": "ecac0d9b-6118-4287-9668-266f53b97019",
   "metadata": {},
   "outputs": [
    {
     "data": {
      "text/plain": [
       "array([[11, 22],\n",
       "       [13, 24]])"
      ]
     },
     "execution_count": 11,
     "metadata": {},
     "output_type": "execute_result"
    }
   ],
   "source": [
    "L + L1"
   ]
  },
  {
   "cell_type": "code",
   "execution_count": 12,
   "id": "8bc1c9bd-391b-4df2-aee4-3689f7be0db1",
   "metadata": {},
   "outputs": [
    {
     "data": {
      "text/plain": [
       "array([[10],\n",
       "       [20]])"
      ]
     },
     "execution_count": 12,
     "metadata": {},
     "output_type": "execute_result"
    }
   ],
   "source": [
    "L1 = np.array([10, 20]).reshape(2, 1)\n",
    "L1"
   ]
  },
  {
   "cell_type": "code",
   "execution_count": 13,
   "id": "cb883d09-0853-4e8e-ad08-95f7a082e16e",
   "metadata": {},
   "outputs": [
    {
     "data": {
      "text/plain": [
       "array([[11, 12],\n",
       "       [23, 24]])"
      ]
     },
     "execution_count": 13,
     "metadata": {},
     "output_type": "execute_result"
    }
   ],
   "source": [
    "L + L1"
   ]
  },
  {
   "cell_type": "code",
   "execution_count": 14,
   "id": "eecc74e3-6cb3-456e-bc1b-f1ea51bbdcf8",
   "metadata": {},
   "outputs": [
    {
     "data": {
      "text/plain": [
       "array([[11, 12],\n",
       "       [13, 14]])"
      ]
     },
     "execution_count": 14,
     "metadata": {},
     "output_type": "execute_result"
    }
   ],
   "source": [
    "L + 10"
   ]
  },
  {
   "cell_type": "code",
   "execution_count": 15,
   "id": "64041e72-313e-40f9-98bd-1a04a2948e26",
   "metadata": {},
   "outputs": [
    {
     "data": {
      "text/plain": [
       "array([[10, 20],\n",
       "       [30, 40]])"
      ]
     },
     "execution_count": 15,
     "metadata": {},
     "output_type": "execute_result"
    }
   ],
   "source": [
    "L * 10"
   ]
  },
  {
   "cell_type": "code",
   "execution_count": 16,
   "id": "0ad9dbda-681c-4022-90f7-3de6b2405478",
   "metadata": {},
   "outputs": [
    {
     "data": {
      "text/plain": [
       "array([[1, 2],\n",
       "       [3, 4]])"
      ]
     },
     "execution_count": 16,
     "metadata": {},
     "output_type": "execute_result"
    },
    {
     "data": {
      "text/plain": [
       "array([[10, 20],\n",
       "       [30, 40]])"
      ]
     },
     "execution_count": 16,
     "metadata": {},
     "output_type": "execute_result"
    }
   ],
   "source": [
    "L1 = np.arange(10, 50, 10).reshape(2, 2)\n",
    "L\n",
    "L1"
   ]
  },
  {
   "cell_type": "code",
   "execution_count": 17,
   "id": "2f1ecda9-325b-4ecf-8390-bea2912ad4a3",
   "metadata": {},
   "outputs": [
    {
     "data": {
      "text/plain": [
       "array([[ 70, 100],\n",
       "       [150, 220]])"
      ]
     },
     "execution_count": 17,
     "metadata": {},
     "output_type": "execute_result"
    }
   ],
   "source": [
    "L @ L1"
   ]
  },
  {
   "cell_type": "code",
   "execution_count": 18,
   "id": "676a3252-f12a-4676-a499-51cb12d2c95e",
   "metadata": {},
   "outputs": [
    {
     "data": {
      "text/plain": [
       "array([[0, 2],\n",
       "       [1, 0]])"
      ]
     },
     "execution_count": 18,
     "metadata": {},
     "output_type": "execute_result"
    },
    {
     "data": {
      "text/plain": [
       "array([[0, 0],\n",
       "       [3, 4]])"
      ]
     },
     "execution_count": 18,
     "metadata": {},
     "output_type": "execute_result"
    }
   ],
   "source": [
    "L1 = np.array([0, 2, 1, 0]).reshape(2, 2)\n",
    "L2 = np.array([0, 0, 3, 4]).reshape(2, 2)\n",
    "L1\n",
    "L2"
   ]
  },
  {
   "cell_type": "code",
   "execution_count": 19,
   "id": "92735861-581d-415e-b9ab-cd327b1df666",
   "metadata": {},
   "outputs": [
    {
     "data": {
      "text/plain": [
       "array([[False, False],\n",
       "       [ True, False]])"
      ]
     },
     "execution_count": 19,
     "metadata": {},
     "output_type": "execute_result"
    }
   ],
   "source": [
    "np.logical_and(L1, L2)"
   ]
  },
  {
   "cell_type": "code",
   "execution_count": 20,
   "id": "e4e5fd5b-8ae5-4c77-9d25-0d24283925a9",
   "metadata": {},
   "outputs": [
    {
     "data": {
      "text/plain": [
       "array([[0, 0],\n",
       "       [1, 0]])"
      ]
     },
     "execution_count": 20,
     "metadata": {},
     "output_type": "execute_result"
    }
   ],
   "source": [
    "np.logical_and(L1, L2).astype(int)"
   ]
  },
  {
   "cell_type": "code",
   "execution_count": 21,
   "id": "d61316b0-9276-416f-8126-0ce36477904d",
   "metadata": {},
   "outputs": [
    {
     "data": {
      "text/plain": [
       "array([[0, 1],\n",
       "       [1, 1]])"
      ]
     },
     "execution_count": 21,
     "metadata": {},
     "output_type": "execute_result"
    }
   ],
   "source": [
    "np.logical_or(L1, L2).astype(int)"
   ]
  },
  {
   "cell_type": "code",
   "execution_count": 31,
   "id": "02aa4f9f-68eb-43c1-8783-f979105d9456",
   "metadata": {},
   "outputs": [
    {
     "data": {
      "text/plain": [
       "array([[0, 0, 0, 0, 0, 0, 0, 0, 0, 0, 0, 0],\n",
       "       [0, 0, 0, 0, 0, 0, 0, 0, 0, 0, 0, 0],\n",
       "       [0, 0, 0, 0, 0, 0, 0, 0, 0, 0, 0, 0],\n",
       "       [0, 0, 0, 0, 0, 0, 0, 0, 0, 0, 0, 0],\n",
       "       [0, 0, 0, 0, 0, 0, 0, 0, 0, 0, 0, 0],\n",
       "       [0, 0, 0, 0, 0, 0, 0, 0, 0, 0, 0, 0],\n",
       "       [0, 0, 0, 0, 0, 0, 0, 0, 0, 0, 0, 0],\n",
       "       [0, 0, 0, 0, 0, 0, 0, 0, 0, 0, 0, 0],\n",
       "       [0, 0, 0, 0, 0, 0, 0, 0, 0, 0, 0, 0],\n",
       "       [0, 0, 0, 0, 0, 0, 0, 0, 0, 0, 0, 0],\n",
       "       [0, 0, 0, 0, 0, 0, 0, 0, 0, 0, 0, 0],\n",
       "       [0, 0, 0, 0, 0, 0, 0, 0, 0, 0, 0, 0]])"
      ]
     },
     "execution_count": 31,
     "metadata": {},
     "output_type": "execute_result"
    }
   ],
   "source": [
    "np.zeros((dim + 2, dim + 2), int)"
   ]
  },
  {
   "cell_type": "code",
   "execution_count": 32,
   "id": "83f003f8-6367-4eeb-b7ff-cd50786981bf",
   "metadata": {},
   "outputs": [
    {
     "data": {
      "text/plain": [
       "array([[1, 2],\n",
       "       [3, 4]])"
      ]
     },
     "execution_count": 32,
     "metadata": {},
     "output_type": "execute_result"
    },
    {
     "data": {
      "text/plain": [
       "array([[False,  True],\n",
       "       [False, False]])"
      ]
     },
     "execution_count": 32,
     "metadata": {},
     "output_type": "execute_result"
    }
   ],
   "source": [
    "L = np.arange(1, 5).reshape(2, 2)\n",
    "L\n",
    "L == 2"
   ]
  },
  {
   "cell_type": "code",
   "execution_count": 36,
   "id": "05c3cde8-710c-4091-81eb-83cd83257a7a",
   "metadata": {},
   "outputs": [],
   "source": [
    "def f():\n",
    "    yield 0\n",
    "    yield 1"
   ]
  },
  {
   "cell_type": "code",
   "execution_count": 37,
   "id": "acd20dce-3286-4165-8d8a-3d721c6f95cb",
   "metadata": {},
   "outputs": [
    {
     "data": {
      "text/plain": [
       "<generator object f at 0x108e42e50>"
      ]
     },
     "execution_count": 37,
     "metadata": {},
     "output_type": "execute_result"
    }
   ],
   "source": [
    "f()"
   ]
  },
  {
   "cell_type": "code",
   "execution_count": 41,
   "id": "b9c00967-8f58-4100-99bb-7e8ad2c42174",
   "metadata": {},
   "outputs": [],
   "source": [
    "I = f()"
   ]
  },
  {
   "cell_type": "code",
   "execution_count": 42,
   "id": "10d21c0d-60a5-420d-b5ec-a9538607d14f",
   "metadata": {},
   "outputs": [
    {
     "data": {
      "text/plain": [
       "(0, 1)"
      ]
     },
     "execution_count": 42,
     "metadata": {},
     "output_type": "execute_result"
    }
   ],
   "source": [
    "next(I), next(I)"
   ]
  },
  {
   "cell_type": "code",
   "execution_count": 44,
   "id": "70fd3579-e2ab-473d-8a5b-e46d9e770ebd",
   "metadata": {},
   "outputs": [],
   "source": [
    "def f(x):\n",
    "    while True:\n",
    "        yield x\n",
    "        if x % 2 == 0:\n",
    "            x //= 2\n",
    "        else:\n",
    "            x = x * 3 + 1"
   ]
  },
  {
   "cell_type": "code",
   "execution_count": 46,
   "id": "857e1a9b-67b3-4711-9986-9858ce9b0dbd",
   "metadata": {},
   "outputs": [],
   "source": [
    "I = f(100)"
   ]
  },
  {
   "cell_type": "code",
   "execution_count": 48,
   "id": "7ee5654d-9dc7-47c8-be8e-b0104ea67f11",
   "metadata": {},
   "outputs": [
    {
     "data": {
      "text/plain": [
       "[100,\n",
       " 50,\n",
       " 25,\n",
       " 76,\n",
       " 38,\n",
       " 19,\n",
       " 58,\n",
       " 29,\n",
       " 88,\n",
       " 44,\n",
       " 22,\n",
       " 11,\n",
       " 34,\n",
       " 17,\n",
       " 52,\n",
       " 26,\n",
       " 13,\n",
       " 40,\n",
       " 20,\n",
       " 10,\n",
       " 5,\n",
       " 16,\n",
       " 8,\n",
       " 4,\n",
       " 2,\n",
       " 1,\n",
       " 4,\n",
       " 2,\n",
       " 1,\n",
       " 4]"
      ]
     },
     "execution_count": 48,
     "metadata": {},
     "output_type": "execute_result"
    }
   ],
   "source": [
    "I = f(100)\n",
    "[next(I) for _ in range(30)]"
   ]
  },
  {
   "cell_type": "code",
   "execution_count": 49,
   "id": "18ffad5f-2564-4ebe-9193-a8794a580cf6",
   "metadata": {},
   "outputs": [],
   "source": [
    "def f():\n",
    "    x = 0\n",
    "    while True:\n",
    "        yield x\n",
    "        x += 1"
   ]
  },
  {
   "cell_type": "code",
   "execution_count": 50,
   "id": "0e7c2bc1-b095-48b3-af8f-7aec820be989",
   "metadata": {},
   "outputs": [],
   "source": [
    "I = f()"
   ]
  },
  {
   "cell_type": "code",
   "execution_count": 51,
   "id": "86d77804-7899-440d-a750-359356d8d259",
   "metadata": {},
   "outputs": [
    {
     "data": {
      "text/plain": [
       "(0, 1, 2)"
      ]
     },
     "execution_count": 51,
     "metadata": {},
     "output_type": "execute_result"
    }
   ],
   "source": [
    "next(I), next(I), next(I)"
   ]
  },
  {
   "cell_type": "code",
   "execution_count": 52,
   "id": "92db1535-5256-48a7-b50d-f2b05e54c8d2",
   "metadata": {},
   "outputs": [
    {
     "data": {
      "text/plain": [
       "<function __main__.<lambda>(x)>"
      ]
     },
     "execution_count": 52,
     "metadata": {},
     "output_type": "execute_result"
    }
   ],
   "source": [
    "lambda x: (x + a / x) / 2"
   ]
  },
  {
   "cell_type": "code",
   "execution_count": 54,
   "id": "c1e1ee99-52e8-4a25-b8c6-d51b0547b98b",
   "metadata": {},
   "outputs": [
    {
     "data": {
      "text/plain": [
       "1.8333333333333333"
      ]
     },
     "execution_count": 54,
     "metadata": {},
     "output_type": "execute_result"
    }
   ],
   "source": [
    "(lambda x: (x + 2 / x) / 2)(3)"
   ]
  },
  {
   "cell_type": "code",
   "execution_count": 55,
   "id": "c0e97351-dffd-4771-8fe1-4daa84852f83",
   "metadata": {},
   "outputs": [
    {
     "data": {
      "text/plain": [
       "1.4621212121212122"
      ]
     },
     "execution_count": 55,
     "metadata": {},
     "output_type": "execute_result"
    }
   ],
   "source": [
    "(lambda x: (x + 2 / x) / 2)(1.8333333333333333)"
   ]
  },
  {
   "cell_type": "code",
   "execution_count": 56,
   "id": "d01a95ac-7e9c-4bec-80be-9cd6d2a403dd",
   "metadata": {},
   "outputs": [
    {
     "data": {
      "text/plain": [
       "1.414998429894803"
      ]
     },
     "execution_count": 56,
     "metadata": {},
     "output_type": "execute_result"
    }
   ],
   "source": [
    "(lambda x: (x + 2 / x) / 2)(1.4621212121212122)"
   ]
  },
  {
   "cell_type": "code",
   "execution_count": 57,
   "id": "a62460f9-1ef4-45de-9777-7bb7e0c84b3b",
   "metadata": {},
   "outputs": [],
   "source": [
    "iterate = lambda x: (x + a / x) / 2"
   ]
  },
  {
   "cell_type": "code",
   "execution_count": 58,
   "id": "65480092-bd9f-46dc-b46e-ef44cf1860f8",
   "metadata": {},
   "outputs": [],
   "source": [
    "def f():\n",
    "    yield 0\n",
    "    return\n",
    "    yield 1"
   ]
  },
  {
   "cell_type": "code",
   "execution_count": 59,
   "id": "2c633f34-1f28-46d3-85ab-d023ad5c03b3",
   "metadata": {},
   "outputs": [],
   "source": [
    "I = f()"
   ]
  },
  {
   "cell_type": "code",
   "execution_count": 60,
   "id": "9b347944-59ed-475d-bbdc-7a9c18313e1e",
   "metadata": {},
   "outputs": [
    {
     "data": {
      "text/plain": [
       "0"
      ]
     },
     "execution_count": 60,
     "metadata": {},
     "output_type": "execute_result"
    }
   ],
   "source": [
    "next(I)"
   ]
  },
  {
   "cell_type": "code",
   "execution_count": 61,
   "id": "5e81b278-bd1c-4e53-b231-7b9930cd3fbb",
   "metadata": {},
   "outputs": [
    {
     "ename": "StopIteration",
     "evalue": "",
     "output_type": "error",
     "traceback": [
      "\u001b[0;31m---------------------------------------------------------------------------\u001b[0m",
      "\u001b[0;31mStopIteration\u001b[0m                             Traceback (most recent call last)",
      "Cell \u001b[0;32mIn[61], line 1\u001b[0m\n\u001b[0;32m----> 1\u001b[0m \u001b[38;5;28;43mnext\u001b[39;49m\u001b[43m(\u001b[49m\u001b[43mI\u001b[49m\u001b[43m)\u001b[49m\n",
      "\u001b[0;31mStopIteration\u001b[0m: "
     ]
    }
   ],
   "source": [
    "next(I)"
   ]
  },
  {
   "cell_type": "code",
   "execution_count": null,
   "id": "5d72db3b-bdd8-4eb2-b6eb-4deced60cbcc",
   "metadata": {},
   "outputs": [],
   "source": []
  }
 ],
 "metadata": {
  "kernelspec": {
   "display_name": "Python 3 (ipykernel)",
   "language": "python",
   "name": "python3"
  },
  "language_info": {
   "codemirror_mode": {
    "name": "ipython",
    "version": 3
   },
   "file_extension": ".py",
   "mimetype": "text/x-python",
   "name": "python",
   "nbconvert_exporter": "python",
   "pygments_lexer": "ipython3",
   "version": "3.13.0"
  }
 },
 "nbformat": 4,
 "nbformat_minor": 5
}
