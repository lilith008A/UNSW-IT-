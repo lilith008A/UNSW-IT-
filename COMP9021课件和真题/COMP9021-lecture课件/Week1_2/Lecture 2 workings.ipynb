{
    "metadata": {
        "kernelspec": {
            "name": "python3",
            "display_name": "Python 3 (ipykernel)",
            "language": "python"
        }
    },
    "nbformat": 4,
    "nbformat_minor": 5,
    "cells": [
        {
            "cell_type": "code",
            "execution_count": 1,
            "metadata": {},
            "outputs": [],
            "source": [
                "tape = [0, 0, 0, 0, 1, 1, 1, 1, 1, 1, 0, 0, 0, 0]"
            ]
        },
        {
            "cell_type": "code",
            "execution_count": 2,
            "metadata": {},
            "outputs": [
                {
                    "data": {
                        "text/plain": "[0, 0, 0, 0, 1, 1, 1, 1, 1, 1, 0, 0, 0, 0]"
                    },
                    "execution_count": 2,
                    "metadata": {},
                    "output_type": "execute_result"
                }
            ],
            "source": [
                "[0] * 4 + [1] * 6 + [0] * 4"
            ]
        },
        {
            "cell_type": "code",
            "execution_count": 3,
            "metadata": {},
            "outputs": [
                {
                    "data": {
                        "text/plain": "14"
                    },
                    "execution_count": 3,
                    "metadata": {},
                    "output_type": "execute_result"
                }
            ],
            "source": [
                "len(tape)"
            ]
        },
        {
            "cell_type": "code",
            "execution_count": 4,
            "metadata": {},
            "outputs": [
                {
                    "ename": "TypeError",
                    "evalue": "'list' object is not callable",
                    "output_type": "error",
                    "traceback": [
                        "\u001b[0;31m---------------------------------------------------------------------------\u001b[0m",
                        "\u001b[0;31mTypeError\u001b[0m                                 Traceback (most recent call last)",
                        "Cell \u001b[0;32mIn[1], line 3\u001b[0m\n\u001b[1;32m      1\u001b[0m tape[\u001b[38;5;241m3\u001b[39m]\n\u001b[1;32m      2\u001b[0m tape[\u001b[38;5;241m4\u001b[39m]\n\u001b[0;32m----\u003e 3\u001b[0m \u001b[43mtape\u001b[49m\u001b[43m(\u001b[49m\u001b[38;5;241;43m14\u001b[39;49m\u001b[43m)\u001b[49m\n",
                        "\u001b[0;31mTypeError\u001b[0m: 'list' object is not callable"
                    ]
                }
            ],
            "source": [
                "tape[3]\n",
                "tape[4]\n",
                "tape(14)"
            ]
        },
        {
            "cell_type": "code",
            "execution_count": 5,
            "metadata": {},
            "outputs": [
                {
                    "data": {
                        "text/plain": [
                            "0"
                        ]
                    },
                    "execution_count": 5,
                    "metadata": {},
                    "output_type": "execute_result"
                },
                {
                    "data": {
                        "text/plain": [
                            "1"
                        ]
                    },
                    "execution_count": 5,
                    "metadata": {},
                    "output_type": "execute_result"
                },
                {
                    "ename": "IndexError",
                    "evalue": "list index out of range",
                    "output_type": "error",
                    "traceback": [
                        "\u001b[0;31m---------------------------------------------------------------------------\u001b[0m",
                        "\u001b[0;31mIndexError\u001b[0m                                Traceback (most recent call last)",
                        "Cell \u001b[0;32mIn[5], line 3\u001b[0m\n\u001b[1;32m      1\u001b[0m tape[\u001b[38;5;241m-\u001b[39m\u001b[38;5;241m4\u001b[39m]\n\u001b[1;32m      2\u001b[0m tape[\u001b[38;5;241m-\u001b[39m\u001b[38;5;241m5\u001b[39m]\n\u001b[0;32m----\u003e 3\u001b[0m \u001b[43mtape\u001b[49m\u001b[43m[\u001b[49m\u001b[38;5;241;43m-\u001b[39;49m\u001b[38;5;241;43m15\u001b[39;49m\u001b[43m]\u001b[49m\n",
                        "\u001b[0;31mIndexError\u001b[0m: list index out of range"
                    ]
                }
            ],
            "source": [
                "tape[-4]\n",
                "tape[-5]\n",
                "tape[-15]"
            ]
        },
        {
            "cell_type": "code",
            "execution_count": 6,
            "metadata": {},
            "outputs": [],
            "source": [
                "def display_tape():\n",
                "    # Output top boundary\n",
                "    # Output tape contents, using | as separator\n",
                "    # Output bottom boundary\n",
                "    pass"
            ]
        },
        {
            "cell_type": "code",
            "execution_count": 17,
            "metadata": {},
            "outputs": [],
            "source": [
                "def display_boundary():\n",
                "    print('-' * (2 * len(tape) + 1))"
            ]
        },
        {
            "cell_type": "code",
            "execution_count": 20,
            "metadata": {},
            "outputs": [],
            "source": [
                "def display_tape():\n",
                "    display_boundary()\n",
                "    # Output tape contents, using | as separatorf\n",
                "    display_boundary()"
            ]
        },
        {
            "cell_type": "code",
            "execution_count": 9,
            "metadata": {},
            "outputs": [
                {
                    "name": "stdout",
                    "output_type": "stream",
                    "text": "-----------------------------\n-----------------------------\n"
                }
            ],
            "source": [
                "display_tape()"
            ]
        },
        {
            "cell_type": "code",
            "execution_count": 0,
            "metadata": {},
            "outputs": [],
            "source": [
                "'|0|0|1|0|'"
            ]
        },
        {
            "cell_type": "code",
            "execution_count": 10,
            "metadata": {},
            "outputs": [
                {
                    "data": {
                        "text/plain": [
                            "[0, 0, 0, 0, 1, 1, 1, 1, 1, 1, 0, 0, 0, 0]"
                        ]
                    },
                    "execution_count": 10,
                    "metadata": {},
                    "output_type": "execute_result"
                }
            ],
            "source": [
                "tape"
            ]
        },
        {
            "cell_type": "code",
            "execution_count": 11,
            "metadata": {},
            "outputs": [
                {
                    "data": {
                        "text/plain": [
                            "'3'"
                        ]
                    },
                    "execution_count": 11,
                    "metadata": {},
                    "output_type": "execute_result"
                }
            ],
            "source": [
                "str(3)"
            ]
        },
        {
            "cell_type": "code",
            "execution_count": 12,
            "metadata": {},
            "outputs": [
                {
                    "data": {
                        "text/plain": [
                            "3"
                        ]
                    },
                    "execution_count": 12,
                    "metadata": {},
                    "output_type": "execute_result"
                }
            ],
            "source": [
                "int('3')"
            ]
        },
        {
            "cell_type": "code",
            "execution_count": 13,
            "metadata": {},
            "outputs": [
                {
                    "data": {
                        "text/plain": [
                            "['0', '0', '0', '0', '1', '1', '1', '1', '1', '1', '0', '0', '0', '0']"
                        ]
                    },
                    "execution_count": 13,
                    "metadata": {},
                    "output_type": "execute_result"
                }
            ],
            "source": [
                "[str(e) for e in tape]"
            ]
        },
        {
            "cell_type": "code",
            "execution_count": 14,
            "metadata": {
                "scrolled": true
            },
            "outputs": [
                {
                    "data": {
                        "text/plain": [
                            "['__add__',\n",
                            " '__class__',\n",
                            " '__contains__',\n",
                            " '__delattr__',\n",
                            " '__dir__',\n",
                            " '__doc__',\n",
                            " '__eq__',\n",
                            " '__format__',\n",
                            " '__ge__',\n",
                            " '__getattribute__',\n",
                            " '__getitem__',\n",
                            " '__getnewargs__',\n",
                            " '__getstate__',\n",
                            " '__gt__',\n",
                            " '__hash__',\n",
                            " '__init__',\n",
                            " '__init_subclass__',\n",
                            " '__iter__',\n",
                            " '__le__',\n",
                            " '__len__',\n",
                            " '__lt__',\n",
                            " '__mod__',\n",
                            " '__mul__',\n",
                            " '__ne__',\n",
                            " '__new__',\n",
                            " '__reduce__',\n",
                            " '__reduce_ex__',\n",
                            " '__repr__',\n",
                            " '__rmod__',\n",
                            " '__rmul__',\n",
                            " '__setattr__',\n",
                            " '__sizeof__',\n",
                            " '__str__',\n",
                            " '__subclasshook__',\n",
                            " 'capitalize',\n",
                            " 'casefold',\n",
                            " 'center',\n",
                            " 'count',\n",
                            " 'encode',\n",
                            " 'endswith',\n",
                            " 'expandtabs',\n",
                            " 'find',\n",
                            " 'format',\n",
                            " 'format_map',\n",
                            " 'index',\n",
                            " 'isalnum',\n",
                            " 'isalpha',\n",
                            " 'isascii',\n",
                            " 'isdecimal',\n",
                            " 'isdigit',\n",
                            " 'isidentifier',\n",
                            " 'islower',\n",
                            " 'isnumeric',\n",
                            " 'isprintable',\n",
                            " 'isspace',\n",
                            " 'istitle',\n",
                            " 'isupper',\n",
                            " 'join',\n",
                            " 'ljust',\n",
                            " 'lower',\n",
                            " 'lstrip',\n",
                            " 'maketrans',\n",
                            " 'partition',\n",
                            " 'removeprefix',\n",
                            " 'removesuffix',\n",
                            " 'replace',\n",
                            " 'rfind',\n",
                            " 'rindex',\n",
                            " 'rjust',\n",
                            " 'rpartition',\n",
                            " 'rsplit',\n",
                            " 'rstrip',\n",
                            " 'split',\n",
                            " 'splitlines',\n",
                            " 'startswith',\n",
                            " 'strip',\n",
                            " 'swapcase',\n",
                            " 'title',\n",
                            " 'translate',\n",
                            " 'upper',\n",
                            " 'zfill']"
                        ]
                    },
                    "execution_count": 14,
                    "metadata": {},
                    "output_type": "execute_result"
                }
            ],
            "source": [
                "dir(str)"
            ]
        },
        {
            "cell_type": "code",
            "execution_count": 15,
            "metadata": {},
            "outputs": [
                {
                    "data": {
                        "text/plain": [
                            "'0AA0AA0AA0AA1AA1AA1AA1AA1AA1AA0AA0AA0AA0'"
                        ]
                    },
                    "execution_count": 15,
                    "metadata": {},
                    "output_type": "execute_result"
                }
            ],
            "source": [
                "'AA'.join([str(e) for e in tape])"
            ]
        },
        {
            "cell_type": "code",
            "execution_count": 16,
            "metadata": {},
            "outputs": [
                {
                    "data": {
                        "text/plain": [
                            "'00001111110000'"
                        ]
                    },
                    "execution_count": 16,
                    "metadata": {},
                    "output_type": "execute_result"
                }
            ],
            "source": [
                "''.join([str(e) for e in tape])"
            ]
        },
        {
            "cell_type": "code",
            "execution_count": 17,
            "metadata": {},
            "outputs": [
                {
                    "data": {
                        "text/plain": [
                            "'0|0|0|0|1|1|1|1|1|1|0|0|0|0'"
                        ]
                    },
                    "execution_count": 17,
                    "metadata": {},
                    "output_type": "execute_result"
                }
            ],
            "source": [
                "'|'.join([str(e) for e in tape])"
            ]
        },
        {
            "cell_type": "code",
            "execution_count": 18,
            "metadata": {},
            "outputs": [
                {
                    "data": {
                        "text/plain": [
                            "'|0|0|0|0|1|1|1|1|1|1|0|0|0|0|'"
                        ]
                    },
                    "execution_count": 18,
                    "metadata": {},
                    "output_type": "execute_result"
                }
            ],
            "source": [
                "'|' + '|'.join([str(e) for e in tape]) + '|'"
            ]
        },
        {
            "cell_type": "code",
            "execution_count": 21,
            "metadata": {},
            "outputs": [],
            "source": [
                "def display_tape():\n",
                "    display_boundary()\n",
                "    print('|' + '|'.join([str(e) for e in tape]) + '|')\n",
                "    display_boundary()"
            ]
        },
        {
            "cell_type": "code",
            "execution_count": 22,
            "metadata": {},
            "outputs": [
                {
                    "name": "stdout",
                    "output_type": "stream",
                    "text": "-----------------------------\n|0|0|0|0|1|1|1|1|1|1|0|0|0|0|\n-----------------------------\n"
                }
            ],
            "source": [
                "display_tape()"
            ]
        },
        {
            "cell_type": "code",
            "execution_count": 21,
            "metadata": {},
            "outputs": [],
            "source": [
                "def display_tape():\n",
                "    display_boundary()\n",
                "    print('|', '|'.join([str(e) for e in tape]), '|')\n",
                "    display_boundary()"
            ]
        },
        {
            "cell_type": "code",
            "execution_count": 22,
            "metadata": {},
            "outputs": [
                {
                    "name": "stdout",
                    "output_type": "stream",
                    "text": "-----------------------------\n| 0|0|0|0|1|1|1|1|1|1|0|0|0|0 |\n-----------------------------\n"
                }
            ],
            "source": [
                "display_tape()"
            ]
        },
        {
            "cell_type": "code",
            "execution_count": 2,
            "metadata": {},
            "outputs": [],
            "source": [
                "def display_tape():\n",
                "    display_boundary()\n",
                "    print('|', '|'.join([str(e) for e in tape]), '|', sep='')\n",
                "    display_boundary()"
            ]
        },
        {
            "cell_type": "code",
            "execution_count": 24,
            "metadata": {},
            "outputs": [
                {
                    "name": "stdout",
                    "output_type": "stream",
                    "text": "-----------------------------\n|0|0|0|0|1|1|1|1|1|1|0|0|0|0|\n-----------------------------\n"
                }
            ],
            "source": [
                "display_tape()"
            ]
        },
        {
            "cell_type": "code",
            "execution_count": 25,
            "metadata": {},
            "outputs": [
                {
                    "data": {
                        "text/plain": [
                            "['0', '0', '0', '0', '1', '1', '1', '1', '1', '1', '0', '0', '0', '0']"
                        ]
                    },
                    "execution_count": 25,
                    "metadata": {},
                    "output_type": "execute_result"
                }
            ],
            "source": [
                "[str(e) for e in tape]"
            ]
        },
        {
            "cell_type": "code",
            "execution_count": 26,
            "metadata": {},
            "outputs": [
                {
                    "data": {
                        "text/plain": [
                            "\u003cgenerator object \u003cgenexpr\u003e at 0x1055f3030\u003e"
                        ]
                    },
                    "execution_count": 26,
                    "metadata": {},
                    "output_type": "execute_result"
                }
            ],
            "source": [
                "(str(e) for e in tape)"
            ]
        },
        {
            "cell_type": "code",
            "execution_count": 27,
            "metadata": {},
            "outputs": [],
            "source": [
                "I = (str(e) for e in tape)"
            ]
        },
        {
            "cell_type": "code",
            "execution_count": 28,
            "metadata": {},
            "outputs": [
                {
                    "data": {
                        "text/plain": [
                            "'0'"
                        ]
                    },
                    "execution_count": 28,
                    "metadata": {},
                    "output_type": "execute_result"
                }
            ],
            "source": [
                "next(I)"
            ]
        },
        {
            "cell_type": "code",
            "execution_count": 29,
            "metadata": {},
            "outputs": [
                {
                    "data": {
                        "text/plain": [
                            "'0'"
                        ]
                    },
                    "execution_count": 29,
                    "metadata": {},
                    "output_type": "execute_result"
                }
            ],
            "source": [
                "next(I)"
            ]
        },
        {
            "cell_type": "code",
            "execution_count": 31,
            "metadata": {},
            "outputs": [],
            "source": [
                "tape = [1, 2, 3]"
            ]
        },
        {
            "cell_type": "code",
            "execution_count": 32,
            "metadata": {},
            "outputs": [],
            "source": [
                "I = (str(e) for e in tape)"
            ]
        },
        {
            "cell_type": "code",
            "execution_count": 33,
            "metadata": {},
            "outputs": [
                {
                    "data": {
                        "text/plain": [
                            "'1'"
                        ]
                    },
                    "execution_count": 33,
                    "metadata": {},
                    "output_type": "execute_result"
                }
            ],
            "source": [
                "next(I)"
            ]
        },
        {
            "cell_type": "code",
            "execution_count": 34,
            "metadata": {},
            "outputs": [
                {
                    "data": {
                        "text/plain": [
                            "'2'"
                        ]
                    },
                    "execution_count": 34,
                    "metadata": {},
                    "output_type": "execute_result"
                }
            ],
            "source": [
                "next(I)"
            ]
        },
        {
            "cell_type": "code",
            "execution_count": 35,
            "metadata": {},
            "outputs": [
                {
                    "data": {
                        "text/plain": [
                            "'3'"
                        ]
                    },
                    "execution_count": 35,
                    "metadata": {},
                    "output_type": "execute_result"
                }
            ],
            "source": [
                "next(I)"
            ]
        },
        {
            "cell_type": "code",
            "execution_count": 36,
            "metadata": {},
            "outputs": [
                {
                    "ename": "StopIteration",
                    "evalue": "",
                    "output_type": "error",
                    "traceback": [
                        "\u001b[0;31m---------------------------------------------------------------------------\u001b[0m",
                        "\u001b[0;31mStopIteration\u001b[0m                             Traceback (most recent call last)",
                        "Cell \u001b[0;32mIn[36], line 1\u001b[0m\n\u001b[0;32m----\u003e 1\u001b[0m \u001b[38;5;28;43mnext\u001b[39;49m\u001b[43m(\u001b[49m\u001b[43mI\u001b[49m\u001b[43m)\u001b[49m\n",
                        "\u001b[0;31mStopIteration\u001b[0m: "
                    ]
                }
            ],
            "source": [
                "next(I)"
            ]
        },
        {
            "cell_type": "code",
            "execution_count": 37,
            "metadata": {},
            "outputs": [],
            "source": [
                "def display_tape():\n",
                "    display_boundary()\n",
                "    print('|', '|'.join((str(e) for e in tape)), '|', sep='')\n",
                "    display_boundary()"
            ]
        },
        {
            "cell_type": "code",
            "execution_count": 39,
            "metadata": {},
            "outputs": [
                {
                    "name": "stdout",
                    "output_type": "stream",
                    "text": "-----------------------------\n|0|0|0|0|1|1|1|1|1|1|0|0|0|0|\n-----------------------------\n"
                }
            ],
            "source": [
                "display_tape()"
            ]
        },
        {
            "cell_type": "code",
            "execution_count": 40,
            "metadata": {},
            "outputs": [],
            "source": [
                "def display_tape():\n",
                "    display_boundary()\n",
                "    print('|', '|'.join(str(e) for e in tape), '|', sep='')\n",
                "    display_boundary()"
            ]
        },
        {
            "cell_type": "code",
            "execution_count": 41,
            "metadata": {},
            "outputs": [
                {
                    "name": "stdout",
                    "output_type": "stream",
                    "text": "-----------------------------\n|0|0|0|0|1|1|1|1|1|1|0|0|0|0|\n-----------------------------\n"
                }
            ],
            "source": [
                "display_tape()"
            ]
        },
        {
            "cell_type": "code",
            "execution_count": 42,
            "metadata": {},
            "outputs": [
                {
                    "data": {
                        "text/plain": [
                            "['# Initial state: del1\\n',\n",
                            " '\\n',\n",
                            " 'del1 1 del2 0 R\\n',\n",
                            " 'del2 1 mov1R 0 R\\n',\n",
                            " 'mov1R 1 mov1R 1 R\\n',\n",
                            " 'mov1R 0 mov2R 0 R\\n',\n",
                            " 'mov2R 1 mov2R 1 R\\n',\n",
                            " 'mov2R 0 mov1L 1 L\\n',\n",
                            " 'mov1L 1 mov1L 1 L\\n',\n",
                            " 'mov1L 0 mov2L 0 L\\n',\n",
                            " 'mov2L 1 mov2L 1 L\\n',\n",
                            " 'mov2L 0 del1 0 R\\n',\n",
                            " 'del1 0 end 0 R\\n',\n",
                            " 'del2 0 end 0 R\\n']"
                        ]
                    },
                    "execution_count": 42,
                    "metadata": {},
                    "output_type": "execute_result"
                }
            ],
            "source": [
                "with open('division_by_2.txt') as myfile:\n",
                "    myfile.readlines()"
            ]
        },
        {
            "cell_type": "code",
            "execution_count": 43,
            "metadata": {},
            "outputs": [
                {
                    "data": {
                        "text/plain": [
                            "'# Initial state: del1\\n'"
                        ]
                    },
                    "execution_count": 43,
                    "metadata": {},
                    "output_type": "execute_result"
                },
                {
                    "data": {
                        "text/plain": [
                            "'\\n'"
                        ]
                    },
                    "execution_count": 43,
                    "metadata": {},
                    "output_type": "execute_result"
                },
                {
                    "data": {
                        "text/plain": [
                            "'del1 1 del2 0 R\\n'"
                        ]
                    },
                    "execution_count": 43,
                    "metadata": {},
                    "output_type": "execute_result"
                }
            ],
            "source": [
                "with open('division_by_2.txt') as myfile:\n",
                "    myfile.readline()\n",
                "    myfile.readline()\n",
                "    myfile.readline()"
            ]
        },
        {
            "cell_type": "code",
            "execution_count": 44,
            "metadata": {},
            "outputs": [
                {
                    "data": {
                        "text/plain": [
                            "'# Initial state: del1\\n'"
                        ]
                    },
                    "execution_count": 44,
                    "metadata": {},
                    "output_type": "execute_result"
                },
                {
                    "data": {
                        "text/plain": [
                            "'\\n'"
                        ]
                    },
                    "execution_count": 44,
                    "metadata": {},
                    "output_type": "execute_result"
                },
                {
                    "data": {
                        "text/plain": [
                            "'del1 1 del2 0 R\\n'"
                        ]
                    },
                    "execution_count": 44,
                    "metadata": {},
                    "output_type": "execute_result"
                }
            ],
            "source": [
                "with open('division_by_2.txt') as myfile:\n",
                "    next(myfile)\n",
                "    next(myfile)\n",
                "    next(myfile)"
            ]
        },
        {
            "cell_type": "code",
            "execution_count": 45,
            "metadata": {},
            "outputs": [
                {
                    "name": "stdout",
                    "output_type": "stream",
                    "text": "# Initial state: del1\n\n\n\ndel1 1 del2 0 R\n\ndel2 1 mov1R 0 R\n\nmov1R 1 mov1R 1 R\n\nmov1R 0 mov2R 0 R\n\nmov2R 1 mov2R 1 R\n\nmov2R 0 mov1L 1 L\n\nmov1L 1 mov1L 1 L\n\nmov1L 0 mov2L 0 L\n\nmov2L 1 mov2L 1 L\n\nmov2L 0 del1 0 R\n\ndel1 0 end 0 R\n\ndel2 0 end 0 R\n\n"
                }
            ],
            "source": [
                "with open('division_by_2.txt') as myfile:\n",
                "    for line in myfile:\n",
                "        print(line)"
            ]
        },
        {
            "cell_type": "code",
            "execution_count": 46,
            "metadata": {},
            "outputs": [
                {
                    "name": "stdout",
                    "output_type": "stream",
                    "text": "# Initial state: del1\n\ndel1 1 del2 0 R\ndel2 1 mov1R 0 R\nmov1R 1 mov1R 1 R\nmov1R 0 mov2R 0 R\nmov2R 1 mov2R 1 R\nmov2R 0 mov1L 1 L\nmov1L 1 mov1L 1 L\nmov1L 0 mov2L 0 L\nmov2L 1 mov2L 1 L\nmov2L 0 del1 0 R\ndel1 0 end 0 R\ndel2 0 end 0 R\n"
                }
            ],
            "source": [
                "with open('division_by_2.txt') as myfile:\n",
                "    for line in myfile:\n",
                "        print(line, end='')"
            ]
        },
        {
            "cell_type": "code",
            "execution_count": 47,
            "metadata": {},
            "outputs": [
                {
                    "data": {
                        "text/plain": [
                            "False"
                        ]
                    },
                    "execution_count": 47,
                    "metadata": {},
                    "output_type": "execute_result"
                }
            ],
            "source": [
                "'dasdff     afdaasd'.isspace()"
            ]
        },
        {
            "cell_type": "code",
            "execution_count": 48,
            "metadata": {},
            "outputs": [
                {
                    "data": {
                        "text/plain": [
                            "True"
                        ]
                    },
                    "execution_count": 48,
                    "metadata": {},
                    "output_type": "execute_result"
                }
            ],
            "source": [
                "'   \\t\\t   \\n  '.isspace()"
            ]
        },
        {
            "cell_type": "code",
            "execution_count": 9,
            "metadata": {},
            "outputs": [
                {
                    "data": {
                        "text/plain": "False"
                    },
                    "execution_count": 9,
                    "metadata": {},
                    "output_type": "execute_result"
                }
            ],
            "source": [
                "'  dasdff     afdaasd  '.isspace()"
            ]
        },
        {
            "cell_type": "code",
            "execution_count": 50,
            "metadata": {},
            "outputs": [
                {
                    "data": {
                        "text/plain": [
                            "False"
                        ]
                    },
                    "execution_count": 50,
                    "metadata": {},
                    "output_type": "execute_result"
                }
            ],
            "source": [
                "''.isspace()"
            ]
        },
        {
            "cell_type": "code",
            "execution_count": 51,
            "metadata": {},
            "outputs": [
                {
                    "name": "stdout",
                    "output_type": "stream",
                    "text": "\n"
                }
            ],
            "source": [
                "with open('division_by_2.txt') as myfile:\n",
                "    for line in myfile:\n",
                "        if line.isspace():\n",
                "            print(line, end='')"
            ]
        },
        {
            "cell_type": "code",
            "execution_count": 52,
            "metadata": {},
            "outputs": [
                {
                    "name": "stdout",
                    "output_type": "stream",
                    "text": "# Initial state: del1\ndel1 1 del2 0 R\ndel2 1 mov1R 0 R\nmov1R 1 mov1R 1 R\nmov1R 0 mov2R 0 R\nmov2R 1 mov2R 1 R\nmov2R 0 mov1L 1 L\nmov1L 1 mov1L 1 L\nmov1L 0 mov2L 0 L\nmov2L 1 mov2L 1 L\nmov2L 0 del1 0 R\ndel1 0 end 0 R\ndel2 0 end 0 R\n"
                }
            ],
            "source": [
                "with open('division_by_2.txt') as myfile:\n",
                "    for line in myfile:\n",
                "        if not line.isspace():\n",
                "            print(line, end='')"
            ]
        },
        {
            "cell_type": "code",
            "execution_count": 53,
            "metadata": {},
            "outputs": [
                {
                    "ename": "SyntaxError",
                    "evalue": "invalid syntax (1461446389.py, line 3)",
                    "output_type": "error",
                    "traceback": [
                        "\u001b[0;36m  Cell \u001b[0;32mIn[53], line 3\u001b[0;36m\u001b[0m\n\u001b[0;31m    if not (line.isspace() or line.startswith('#'):\u001b[0m\n\u001b[0m                                                  ^\u001b[0m\n\u001b[0;31mSyntaxError\u001b[0m\u001b[0;31m:\u001b[0m invalid syntax\n"
                    ]
                }
            ],
            "source": [
                "with open('division_by_2.txt') as myfile:\n",
                "    for line in myfile:\n",
                "        if not (line.isspace() or line.startswith('#'):\n",
                "            print(line, end='')"
            ]
        },
        {
            "cell_type": "code",
            "execution_count": 54,
            "metadata": {},
            "outputs": [
                {
                    "name": "stdout",
                    "output_type": "stream",
                    "text": "del1 1 del2 0 R\ndel2 1 mov1R 0 R\nmov1R 1 mov1R 1 R\nmov1R 0 mov2R 0 R\nmov2R 1 mov2R 1 R\nmov2R 0 mov1L 1 L\nmov1L 1 mov1L 1 L\nmov1L 0 mov2L 0 L\nmov2L 1 mov2L 1 L\nmov2L 0 del1 0 R\ndel1 0 end 0 R\ndel2 0 end 0 R\n"
                }
            ],
            "source": [
                "with open('division_by_2.txt') as myfile:\n",
                "    for line in myfile:\n",
                "        if not (line.isspace() or line.startswith('#')):\n",
                "            print(line, end='')"
            ]
        },
        {
            "cell_type": "code",
            "execution_count": 55,
            "metadata": {},
            "outputs": [
                {
                    "name": "stdout",
                    "output_type": "stream",
                    "text": "del1 1 del2 0 R\ndel2 1 mov1R 0 R\nmov1R 1 mov1R 1 R\nmov1R 0 mov2R 0 R\nmov2R 1 mov2R 1 R\nmov2R 0 mov1L 1 L\nmov1L 1 mov1L 1 L\nmov1L 0 mov2L 0 L\nmov2L 1 mov2L 1 L\nmov2L 0 del1 0 R\ndel1 0 end 0 R\ndel2 0 end 0 R\n"
                }
            ],
            "source": [
                "with open('division_by_2.txt') as myfile:\n",
                "    for line in myfile:\n",
                "        if not line.isspace() and not line.startswith('#'):\n",
                "            print(line, end='')"
            ]
        },
        {
            "cell_type": "code",
            "execution_count": 56,
            "metadata": {},
            "outputs": [
                {
                    "name": "stdout",
                    "output_type": "stream",
                    "text": "del1 1 del2 0 R\ndel2 1 mov1R 0 R\nmov1R 1 mov1R 1 R\nmov1R 0 mov2R 0 R\nmov2R 1 mov2R 1 R\nmov2R 0 mov1L 1 L\nmov1L 1 mov1L 1 L\nmov1L 0 mov2L 0 L\nmov2L 1 mov2L 1 L\nmov2L 0 del1 0 R\ndel1 0 end 0 R\ndel2 0 end 0 R\n"
                }
            ],
            "source": [
                "with open('division_by_2.txt') as myfile:\n",
                "    for line in myfile:\n",
                "        if line.isspace() or line.startswith('#'):\n",
                "            continue\n",
                "        print(line, end='')"
            ]
        },
        {
            "cell_type": "code",
            "execution_count": 57,
            "metadata": {},
            "outputs": [
                {
                    "data": {
                        "text/plain": [
                            "['1', '23', '4', '56']"
                        ]
                    },
                    "execution_count": 57,
                    "metadata": {},
                    "output_type": "execute_result"
                }
            ],
            "source": [
                "' 1    23      4  56    '.split() "
            ]
        },
        {
            "cell_type": "code",
            "execution_count": 58,
            "metadata": {},
            "outputs": [
                {
                    "name": "stdout",
                    "output_type": "stream",
                    "text": "['del1', '1', 'del2', '0', 'R']['del2', '1', 'mov1R', '0', 'R']['mov1R', '1', 'mov1R', '1', 'R']['mov1R', '0', 'mov2R', '0', 'R']['mov2R', '1', 'mov2R', '1', 'R']['mov2R', '0', 'mov1L', '1', 'L']['mov1L', '1', 'mov1L', '1', 'L']['mov1L', '0', 'mov2L', '0', 'L']['mov2L', '1', 'mov2L', '1', 'L']['mov2L', '0', 'del1', '0', 'R']['del1', '0', 'end', '0', 'R']['del2', '0', 'end', '0', 'R']"
                }
            ],
            "source": [
                "with open('division_by_2.txt') as myfile:\n",
                "    for line in myfile:\n",
                "        if line.isspace() or line.startswith('#'):\n",
                "            continue\n",
                "        print(line.split(), end='')"
            ]
        },
        {
            "cell_type": "code",
            "execution_count": 59,
            "metadata": {},
            "outputs": [],
            "source": [
                "D = {}"
            ]
        },
        {
            "cell_type": "code",
            "execution_count": 60,
            "metadata": {},
            "outputs": [],
            "source": [
                "D['one'] = 1"
            ]
        },
        {
            "cell_type": "code",
            "execution_count": 61,
            "metadata": {},
            "outputs": [
                {
                    "data": {
                        "text/plain": [
                            "{'one': 1}"
                        ]
                    },
                    "execution_count": 61,
                    "metadata": {},
                    "output_type": "execute_result"
                }
            ],
            "source": [
                "D"
            ]
        },
        {
            "cell_type": "code",
            "execution_count": 62,
            "metadata": {},
            "outputs": [],
            "source": [
                "D['two'] = 2"
            ]
        },
        {
            "cell_type": "code",
            "execution_count": 63,
            "metadata": {},
            "outputs": [
                {
                    "data": {
                        "text/plain": [
                            "{'one': 1, 'two': 2}"
                        ]
                    },
                    "execution_count": 63,
                    "metadata": {},
                    "output_type": "execute_result"
                }
            ],
            "source": [
                "D"
            ]
        },
        {
            "cell_type": "code",
            "execution_count": 64,
            "metadata": {},
            "outputs": [],
            "source": [
                "D['one'] = 10"
            ]
        },
        {
            "cell_type": "code",
            "execution_count": 65,
            "metadata": {},
            "outputs": [
                {
                    "data": {
                        "text/plain": [
                            "{'one': 10, 'two': 2}"
                        ]
                    },
                    "execution_count": 65,
                    "metadata": {},
                    "output_type": "execute_result"
                }
            ],
            "source": [
                "D"
            ]
        },
        {
            "cell_type": "code",
            "execution_count": 66,
            "metadata": {},
            "outputs": [
                {
                    "data": {
                        "text/plain": [
                            "10"
                        ]
                    },
                    "execution_count": 66,
                    "metadata": {},
                    "output_type": "execute_result"
                }
            ],
            "source": [
                "D['one']"
            ]
        },
        {
            "cell_type": "code",
            "execution_count": 67,
            "metadata": {},
            "outputs": [
                {
                    "data": {
                        "text/plain": [
                            "2"
                        ]
                    },
                    "execution_count": 67,
                    "metadata": {},
                    "output_type": "execute_result"
                }
            ],
            "source": [
                "D['two']"
            ]
        },
        {
            "cell_type": "code",
            "execution_count": 68,
            "metadata": {},
            "outputs": [
                {
                    "ename": "KeyError",
                    "evalue": "'three'",
                    "output_type": "error",
                    "traceback": [
                        "\u001b[0;31m---------------------------------------------------------------------------\u001b[0m",
                        "\u001b[0;31mKeyError\u001b[0m                                  Traceback (most recent call last)",
                        "Cell \u001b[0;32mIn[68], line 1\u001b[0m\n\u001b[0;32m----\u003e 1\u001b[0m \u001b[43mD\u001b[49m\u001b[43m[\u001b[49m\u001b[38;5;124;43m'\u001b[39;49m\u001b[38;5;124;43mthree\u001b[39;49m\u001b[38;5;124;43m'\u001b[39;49m\u001b[43m]\u001b[49m\n",
                        "\u001b[0;31mKeyError\u001b[0m: 'three'"
                    ]
                }
            ],
            "source": [
                "D['three']"
            ]
        },
        {
            "cell_type": "code",
            "execution_count": 69,
            "metadata": {},
            "outputs": [
                {
                    "ename": "TypeError",
                    "evalue": "unhashable type: 'list'",
                    "output_type": "error",
                    "traceback": [
                        "\u001b[0;31m---------------------------------------------------------------------------\u001b[0m",
                        "\u001b[0;31mTypeError\u001b[0m                                 Traceback (most recent call last)",
                        "Cell \u001b[0;32mIn[69], line 8\u001b[0m\n\u001b[1;32m      6\u001b[0m     \u001b[38;5;28;01mcontinue\u001b[39;00m\n\u001b[1;32m      7\u001b[0m instruction \u001b[38;5;241m=\u001b[39m line\u001b[38;5;241m.\u001b[39msplit()\n\u001b[0;32m----\u003e 8\u001b[0m \u001b[43minstructions\u001b[49m\u001b[43m[\u001b[49m\u001b[43m[\u001b[49m\u001b[43minstruction\u001b[49m\u001b[43m[\u001b[49m\u001b[38;5;241;43m0\u001b[39;49m\u001b[43m]\u001b[49m\u001b[43m,\u001b[49m\u001b[43m \u001b[49m\u001b[43minstruction\u001b[49m\u001b[43m[\u001b[49m\u001b[38;5;241;43m1\u001b[39;49m\u001b[43m]\u001b[49m\u001b[43m]\u001b[49m\u001b[43m]\u001b[49m \u001b[38;5;241m=\u001b[39m\\\n\u001b[1;32m      9\u001b[0m      [instruction[\u001b[38;5;241m2\u001b[39m], instruction[\u001b[38;5;241m3\u001b[39m], instruction[\u001b[38;5;241m4\u001b[39m]]\n\u001b[1;32m     10\u001b[0m \u001b[38;5;28mprint\u001b[39m(instructions)\n",
                        "\u001b[0;31mTypeError\u001b[0m: unhashable type: 'list'"
                    ]
                }
            ],
            "source": [
                "instructions = {}\n",
                "\n",
                "with open('division_by_2.txt') as myfile:\n",
                "    for line in myfile:\n",
                "        if line.isspace() or line.startswith('#'):\n",
                "            continue\n",
                "        instruction = line.split()\n",
                "        instructions[[instruction[0], instruction[1]]] =\\\n",
                "             [instruction[2], instruction[3], instruction[4]]\n",
                "        print(instructions)"
            ]
        },
        {
            "cell_type": "code",
            "execution_count": 70,
            "metadata": {},
            "outputs": [
                {
                    "ename": "TypeError",
                    "evalue": "unhashable type: 'list'",
                    "output_type": "error",
                    "traceback": [
                        "\u001b[0;31m---------------------------------------------------------------------------\u001b[0m",
                        "\u001b[0;31mTypeError\u001b[0m                                 Traceback (most recent call last)",
                        "Cell \u001b[0;32mIn[70], line 2\u001b[0m\n\u001b[1;32m      1\u001b[0m D \u001b[38;5;241m=\u001b[39m {}\n\u001b[0;32m----\u003e 2\u001b[0m \u001b[43mD\u001b[49m\u001b[43m[\u001b[49m\u001b[43m[\u001b[49m\u001b[38;5;124;43m'\u001b[39;49m\u001b[38;5;124;43mdel1\u001b[39;49m\u001b[38;5;124;43m'\u001b[39;49m\u001b[43m,\u001b[49m\u001b[43m \u001b[49m\u001b[38;5;124;43m'\u001b[39;49m\u001b[38;5;124;43m1\u001b[39;49m\u001b[38;5;124;43m'\u001b[39;49m\u001b[43m]\u001b[49m\u001b[43m]\u001b[49m \u001b[38;5;241m=\u001b[39m \u001b[38;5;241m10\u001b[39m\n",
                        "\u001b[0;31mTypeError\u001b[0m: unhashable type: 'list'"
                    ]
                }
            ],
            "source": [
                "D = {}\n",
                "D[['del1', '1']] = 10"
            ]
        },
        {
            "cell_type": "code",
            "execution_count": 71,
            "metadata": {},
            "outputs": [],
            "source": [
                "L = [1, 2, 3]"
            ]
        },
        {
            "cell_type": "code",
            "execution_count": 72,
            "metadata": {},
            "outputs": [
                {
                    "data": {
                        "text/plain": [
                            "[1, 20, 3]"
                        ]
                    },
                    "execution_count": 72,
                    "metadata": {},
                    "output_type": "execute_result"
                }
            ],
            "source": [
                "L[1] = 20\n",
                "L"
            ]
        },
        {
            "cell_type": "code",
            "execution_count": 73,
            "metadata": {},
            "outputs": [
                {
                    "data": {
                        "text/plain": [
                            "[1, 20, 3, 100]"
                        ]
                    },
                    "execution_count": 73,
                    "metadata": {},
                    "output_type": "execute_result"
                }
            ],
            "source": [
                "L.append(100)\n",
                "L"
            ]
        },
        {
            "cell_type": "code",
            "execution_count": 74,
            "metadata": {},
            "outputs": [
                {
                    "data": {
                        "text/plain": [
                            "[1, 3, 100]"
                        ]
                    },
                    "execution_count": 74,
                    "metadata": {},
                    "output_type": "execute_result"
                }
            ],
            "source": [
                "L.remove(20)\n",
                "L"
            ]
        },
        {
            "cell_type": "code",
            "execution_count": 75,
            "metadata": {},
            "outputs": [
                {
                    "data": {
                        "text/plain": [
                            "list"
                        ]
                    },
                    "execution_count": 75,
                    "metadata": {},
                    "output_type": "execute_result"
                }
            ],
            "source": [
                "type(L)"
            ]
        },
        {
            "cell_type": "code",
            "execution_count": 76,
            "metadata": {},
            "outputs": [
                {
                    "data": {
                        "text/plain": [
                            "tuple"
                        ]
                    },
                    "execution_count": 76,
                    "metadata": {},
                    "output_type": "execute_result"
                }
            ],
            "source": [
                "T = (1, 2, 3)\n",
                "type(T)"
            ]
        },
        {
            "cell_type": "code",
            "execution_count": 77,
            "metadata": {},
            "outputs": [
                {
                    "ename": "TypeError",
                    "evalue": "'tuple' object does not support item assignment",
                    "output_type": "error",
                    "traceback": [
                        "\u001b[0;31m---------------------------------------------------------------------------\u001b[0m",
                        "\u001b[0;31mTypeError\u001b[0m                                 Traceback (most recent call last)",
                        "Cell \u001b[0;32mIn[77], line 1\u001b[0m\n\u001b[0;32m----\u003e 1\u001b[0m \u001b[43mT\u001b[49m\u001b[43m[\u001b[49m\u001b[38;5;241;43m1\u001b[39;49m\u001b[43m]\u001b[49m \u001b[38;5;241m=\u001b[39m \u001b[38;5;241m20\u001b[39m\n",
                        "\u001b[0;31mTypeError\u001b[0m: 'tuple' object does not support item assignment"
                    ]
                }
            ],
            "source": [
                "T[1] = 20"
            ]
        },
        {
            "cell_type": "code",
            "execution_count": 78,
            "metadata": {},
            "outputs": [
                {
                    "ename": "AttributeError",
                    "evalue": "'tuple' object has no attribute 'append'",
                    "output_type": "error",
                    "traceback": [
                        "\u001b[0;31m---------------------------------------------------------------------------\u001b[0m",
                        "\u001b[0;31mAttributeError\u001b[0m                            Traceback (most recent call last)",
                        "Cell \u001b[0;32mIn[78], line 1\u001b[0m\n\u001b[0;32m----\u003e 1\u001b[0m \u001b[43mT\u001b[49m\u001b[38;5;241;43m.\u001b[39;49m\u001b[43mappend\u001b[49m(\u001b[38;5;241m100\u001b[39m)\n",
                        "\u001b[0;31mAttributeError\u001b[0m: 'tuple' object has no attribute 'append'"
                    ]
                }
            ],
            "source": [
                "T.append(100)"
            ]
        },
        {
            "cell_type": "code",
            "execution_count": 79,
            "metadata": {},
            "outputs": [
                {
                    "ename": "AttributeError",
                    "evalue": "'tuple' object has no attribute 'remove'",
                    "output_type": "error",
                    "traceback": [
                        "\u001b[0;31m---------------------------------------------------------------------------\u001b[0m",
                        "\u001b[0;31mAttributeError\u001b[0m                            Traceback (most recent call last)",
                        "Cell \u001b[0;32mIn[79], line 1\u001b[0m\n\u001b[0;32m----\u003e 1\u001b[0m \u001b[43mT\u001b[49m\u001b[38;5;241;43m.\u001b[39;49m\u001b[43mremove\u001b[49m(\u001b[38;5;241m3\u001b[39m)\n",
                        "\u001b[0;31mAttributeError\u001b[0m: 'tuple' object has no attribute 'remove'"
                    ]
                }
            ],
            "source": [
                "T.remove(3)"
            ]
        },
        {
            "cell_type": "code",
            "execution_count": 80,
            "metadata": {},
            "outputs": [
                {
                    "name": "stdout",
                    "output_type": "stream",
                    "text": "{('del1', '1'): ('del2', '0', 'R')}\n{('del1', '1'): ('del2', '0', 'R'), ('del2', '1'): ('mov1R', '0', 'R')}\n{('del1', '1'): ('del2', '0', 'R'), ('del2', '1'): ('mov1R', '0', 'R'), ('mov1R', '1'): ('mov1R', '1', 'R')}\n{('del1', '1'): ('del2', '0', 'R'), ('del2', '1'): ('mov1R', '0', 'R'), ('mov1R', '1'): ('mov1R', '1', 'R'), ('mov1R', '0'): ('mov2R', '0', 'R')}\n{('del1', '1'): ('del2', '0', 'R'), ('del2', '1'): ('mov1R', '0', 'R'), ('mov1R', '1'): ('mov1R', '1', 'R'), ('mov1R', '0'): ('mov2R', '0', 'R'), ('mov2R', '1'): ('mov2R', '1', 'R')}\n{('del1', '1'): ('del2', '0', 'R'), ('del2', '1'): ('mov1R', '0', 'R'), ('mov1R', '1'): ('mov1R', '1', 'R'), ('mov1R', '0'): ('mov2R', '0', 'R'), ('mov2R', '1'): ('mov2R', '1', 'R'), ('mov2R', '0'): ('mov1L', '1', 'L')}\n{('del1', '1'): ('del2', '0', 'R'), ('del2', '1'): ('mov1R', '0', 'R'), ('mov1R', '1'): ('mov1R', '1', 'R'), ('mov1R', '0'): ('mov2R', '0', 'R'), ('mov2R', '1'): ('mov2R', '1', 'R'), ('mov2R', '0'): ('mov1L', '1', 'L'), ('mov1L', '1'): ('mov1L', '1', 'L')}\n{('del1', '1'): ('del2', '0', 'R'), ('del2', '1'): ('mov1R', '0', 'R'), ('mov1R', '1'): ('mov1R', '1', 'R'), ('mov1R', '0'): ('mov2R', '0', 'R'), ('mov2R', '1'): ('mov2R', '1', 'R'), ('mov2R', '0'): ('mov1L', '1', 'L'), ('mov1L', '1'): ('mov1L', '1', 'L'), ('mov1L', '0'): ('mov2L', '0', 'L')}\n{('del1', '1'): ('del2', '0', 'R'), ('del2', '1'): ('mov1R', '0', 'R'), ('mov1R', '1'): ('mov1R', '1', 'R'), ('mov1R', '0'): ('mov2R', '0', 'R'), ('mov2R', '1'): ('mov2R', '1', 'R'), ('mov2R', '0'): ('mov1L', '1', 'L'), ('mov1L', '1'): ('mov1L', '1', 'L'), ('mov1L', '0'): ('mov2L', '0', 'L'), ('mov2L', '1'): ('mov2L', '1', 'L')}\n{('del1', '1'): ('del2', '0', 'R'), ('del2', '1'): ('mov1R', '0', 'R'), ('mov1R', '1'): ('mov1R', '1', 'R'), ('mov1R', '0'): ('mov2R', '0', 'R'), ('mov2R', '1'): ('mov2R', '1', 'R'), ('mov2R', '0'): ('mov1L', '1', 'L'), ('mov1L', '1'): ('mov1L', '1', 'L'), ('mov1L', '0'): ('mov2L', '0', 'L'), ('mov2L', '1'): ('mov2L', '1', 'L'), ('mov2L', '0'): ('del1', '0', 'R')}\n{('del1', '1'): ('del2', '0', 'R'), ('del2', '1'): ('mov1R', '0', 'R'), ('mov1R', '1'): ('mov1R', '1', 'R'), ('mov1R', '0'): ('mov2R', '0', 'R'), ('mov2R', '1'): ('mov2R', '1', 'R'), ('mov2R', '0'): ('mov1L', '1', 'L'), ('mov1L', '1'): ('mov1L', '1', 'L'), ('mov1L', '0'): ('mov2L', '0', 'L'), ('mov2L', '1'): ('mov2L', '1', 'L'), ('mov2L', '0'): ('del1', '0', 'R'), ('del1', '0'): ('end', '0', 'R')}\n{('del1', '1'): ('del2', '0', 'R'), ('del2', '1'): ('mov1R', '0', 'R'), ('mov1R', '1'): ('mov1R', '1', 'R'), ('mov1R', '0'): ('mov2R', '0', 'R'), ('mov2R', '1'): ('mov2R', '1', 'R'), ('mov2R', '0'): ('mov1L', '1', 'L'), ('mov1L', '1'): ('mov1L', '1', 'L'), ('mov1L', '0'): ('mov2L', '0', 'L'), ('mov2L', '1'): ('mov2L', '1', 'L'), ('mov2L', '0'): ('del1', '0', 'R'), ('del1', '0'): ('end', '0', 'R'), ('del2', '0'): ('end', '0', 'R')}\n"
                }
            ],
            "source": [
                "instructions = {}\n",
                "\n",
                "with open('division_by_2.txt') as myfile:\n",
                "    for line in myfile:\n",
                "        if line.isspace() or line.startswith('#'):\n",
                "            continue\n",
                "        instruction = line.split()\n",
                "        instructions[(instruction[0], instruction[1])] =\\\n",
                "             (instruction[2], instruction[3], instruction[4])\n",
                "        print(instructions)"
            ]
        },
        {
            "cell_type": "code",
            "execution_count": 81,
            "metadata": {},
            "outputs": [
                {
                    "name": "stdout",
                    "output_type": "stream",
                    "text": "{('del1', '1'): ('del2', '0', 'R'), ('del2', '1'): ('mov1R', '0', 'R'), ('mov1R', '1'): ('mov1R', '1', 'R'), ('mov1R', '0'): ('mov2R', '0', 'R'), ('mov2R', '1'): ('mov2R', '1', 'R'), ('mov2R', '0'): ('mov1L', '1', 'L'), ('mov1L', '1'): ('mov1L', '1', 'L'), ('mov1L', '0'): ('mov2L', '0', 'L'), ('mov2L', '1'): ('mov2L', '1', 'L'), ('mov2L', '0'): ('del1', '0', 'R'), ('del1', '0'): ('end', '0', 'R'), ('del2', '0'): ('end', '0', 'R')}\n"
                }
            ],
            "source": [
                "with open('division_by_2.txt') as myfile:\n",
                "    for line in myfile:\n",
                "        if line.isspace() or line.startswith('#'):\n",
                "            continue\n",
                "        instruction = line.split()\n",
                "        instructions[(instruction[0], instruction[1])] =\\\n",
                "             (instruction[2], instruction[3], instruction[4])\n",
                "    print(instructions)"
            ]
        },
        {
            "cell_type": "code",
            "execution_count": 83,
            "metadata": {},
            "outputs": [],
            "source": [
                "L = [1, 2, 3]"
            ]
        },
        {
            "cell_type": "code",
            "execution_count": 84,
            "metadata": {},
            "outputs": [],
            "source": [
                "x, y, z = L"
            ]
        },
        {
            "cell_type": "code",
            "execution_count": 85,
            "metadata": {},
            "outputs": [
                {
                    "data": {
                        "text/plain": [
                            "1"
                        ]
                    },
                    "execution_count": 85,
                    "metadata": {},
                    "output_type": "execute_result"
                }
            ],
            "source": [
                "x"
            ]
        },
        {
            "cell_type": "code",
            "execution_count": 86,
            "metadata": {},
            "outputs": [
                {
                    "data": {
                        "text/plain": [
                            "2"
                        ]
                    },
                    "execution_count": 86,
                    "metadata": {},
                    "output_type": "execute_result"
                }
            ],
            "source": [
                "y"
            ]
        },
        {
            "cell_type": "code",
            "execution_count": 87,
            "metadata": {},
            "outputs": [
                {
                    "data": {
                        "text/plain": [
                            "3"
                        ]
                    },
                    "execution_count": 87,
                    "metadata": {},
                    "output_type": "execute_result"
                }
            ],
            "source": [
                "z"
            ]
        },
        {
            "cell_type": "code",
            "execution_count": 0,
            "metadata": {},
            "outputs": [],
            "source": [
                "(x, y, z) = L"
            ]
        },
        {
            "cell_type": "code",
            "execution_count": 88,
            "metadata": {},
            "outputs": [
                {
                    "ename": "ValueError",
                    "evalue": "not enough values to unpack (expected 4, got 3)",
                    "output_type": "error",
                    "traceback": [
                        "\u001b[0;31m---------------------------------------------------------------------------\u001b[0m",
                        "\u001b[0;31mValueError\u001b[0m                                Traceback (most recent call last)",
                        "Cell \u001b[0;32mIn[88], line 1\u001b[0m\n\u001b[0;32m----\u003e 1\u001b[0m x, y, z, t \u001b[38;5;241m=\u001b[39m L\n",
                        "\u001b[0;31mValueError\u001b[0m: not enough values to unpack (expected 4, got 3)"
                    ]
                }
            ],
            "source": [
                "x, y, z, t = L"
            ]
        },
        {
            "cell_type": "code",
            "execution_count": 89,
            "metadata": {},
            "outputs": [
                {
                    "ename": "ValueError",
                    "evalue": "too many values to unpack (expected 2)",
                    "output_type": "error",
                    "traceback": [
                        "\u001b[0;31m---------------------------------------------------------------------------\u001b[0m",
                        "\u001b[0;31mValueError\u001b[0m                                Traceback (most recent call last)",
                        "Cell \u001b[0;32mIn[89], line 1\u001b[0m\n\u001b[0;32m----\u003e 1\u001b[0m x, y \u001b[38;5;241m=\u001b[39m L\n",
                        "\u001b[0;31mValueError\u001b[0m: too many values to unpack (expected 2)"
                    ]
                }
            ],
            "source": [
                "x, y = L"
            ]
        },
        {
            "cell_type": "code",
            "execution_count": 91,
            "metadata": {},
            "outputs": [
                {
                    "name": "stdout",
                    "output_type": "stream",
                    "text": "{('del1', '1'): ('del2', '0', 'R'), ('del2', '1'): ('mov1R', '0', 'R'), ('mov1R', '1'): ('mov1R', '1', 'R'), ('mov1R', '0'): ('mov2R', '0', 'R'), ('mov2R', '1'): ('mov2R', '1', 'R'), ('mov2R', '0'): ('mov1L', '1', 'L'), ('mov1L', '1'): ('mov1L', '1', 'L'), ('mov1L', '0'): ('mov2L', '0', 'L'), ('mov2L', '1'): ('mov2L', '1', 'L'), ('mov2L', '0'): ('del1', '0', 'R'), ('del1', '0'): ('end', '0', 'R'), ('del2', '0'): ('end', '0', 'R')}\n"
                }
            ],
            "source": [
                "with open('division_by_2.txt') as myfile:\n",
                "    for line in myfile:\n",
                "        if line.isspace() or line.startswith('#'):\n",
                "            continue\n",
                "        state, bit, new_state, new_bit, direction = line.split()\n",
                "        instructions[(state, bit)] = (new_state, new_bit, direction)\n",
                "    print(instructions)"
            ]
        },
        {
            "cell_type": "code",
            "execution_count": 3,
            "metadata": {},
            "outputs": [
                {
                    "ename": "NameError",
                    "evalue": "name 'instructions' is not defined",
                    "output_type": "error",
                    "traceback": [
                        "\u001b[0;31m---------------------------------------------------------------------------\u001b[0m",
                        "\u001b[0;31mNameError\u001b[0m                                 Traceback (most recent call last)",
                        "Cell \u001b[0;32mIn[3], line 6\u001b[0m\n\u001b[1;32m      4\u001b[0m         \u001b[38;5;28;01mcontinue\u001b[39;00m\n\u001b[1;32m      5\u001b[0m     state, bit, new_state, new_bit, direction \u001b[38;5;241m=\u001b[39m line\u001b[38;5;241m.\u001b[39msplit()\n\u001b[0;32m----\u003e 6\u001b[0m     \u001b[43minstructions\u001b[49m[state, bit] \u001b[38;5;241m=\u001b[39m new_state, new_bit, direction\n\u001b[1;32m      7\u001b[0m \u001b[38;5;28mprint\u001b[39m(instructions)\n",
                        "\u001b[0;31mNameError\u001b[0m: name 'instructions' is not defined"
                    ]
                }
            ],
            "source": [
                "with open('division_by_2.txt') as myfile:\n",
                "    for line in myfile:\n",
                "        if line.isspace() or line.startswith('#'):\n",
                "            continue\n",
                "        state, bit, new_state, new_bit, direction = line.split()\n",
                "        instructions[state, bit] = new_state, new_bit, direction\n",
                "    print(instructions)"
            ]
        },
        {
            "cell_type": "code",
            "execution_count": 93,
            "metadata": {},
            "outputs": [
                {
                    "data": {
                        "text/plain": [
                            "(1, 2, 3)"
                        ]
                    },
                    "execution_count": 93,
                    "metadata": {},
                    "output_type": "execute_result"
                }
            ],
            "source": [
                "1, 2, 3"
            ]
        },
        {
            "cell_type": "code",
            "execution_count": 94,
            "metadata": {},
            "outputs": [
                {
                    "data": {
                        "text/plain": [
                            "()"
                        ]
                    },
                    "execution_count": 94,
                    "metadata": {},
                    "output_type": "execute_result"
                }
            ],
            "source": [
                "()"
            ]
        },
        {
            "cell_type": "code",
            "execution_count": 95,
            "metadata": {},
            "outputs": [
                {
                    "data": {
                        "text/plain": [
                            "tuple"
                        ]
                    },
                    "execution_count": 95,
                    "metadata": {},
                    "output_type": "execute_result"
                }
            ],
            "source": [
                "type(())"
            ]
        },
        {
            "cell_type": "code",
            "execution_count": 96,
            "metadata": {},
            "outputs": [
                {
                    "data": {
                        "text/plain": [
                            "1"
                        ]
                    },
                    "execution_count": 96,
                    "metadata": {},
                    "output_type": "execute_result"
                }
            ],
            "source": [
                "(1)"
            ]
        },
        {
            "cell_type": "code",
            "execution_count": 97,
            "metadata": {},
            "outputs": [
                {
                    "data": {
                        "text/plain": [
                            "(1,)"
                        ]
                    },
                    "execution_count": 97,
                    "metadata": {},
                    "output_type": "execute_result"
                }
            ],
            "source": [
                "(1,)"
            ]
        },
        {
            "cell_type": "code",
            "execution_count": 98,
            "metadata": {},
            "outputs": [
                {
                    "data": {
                        "text/plain": [
                            "(1,)"
                        ]
                    },
                    "execution_count": 98,
                    "metadata": {},
                    "output_type": "execute_result"
                }
            ],
            "source": [
                "1,"
            ]
        },
        {
            "cell_type": "code",
            "execution_count": 0,
            "metadata": {},
            "outputs": [],
            "source": [
                "with open('division_by_2.txt') as myfile:\n",
                "    for line in myfile:\n",
                "        if line.isspace() or line.startswith('#'):\n",
                "            continue\n",
                "        state, bit, new_state, new_bit, direction = line.split()\n",
                "        instructions[state, bit] = new_state, new_bit, direction\n",
                "    print(instructions)"
            ]
        },
        {
            "cell_type": "code",
            "execution_count": 99,
            "metadata": {},
            "outputs": [
                {
                    "data": {
                        "text/plain": [
                            "'34'"
                        ]
                    },
                    "execution_count": 99,
                    "metadata": {},
                    "output_type": "execute_result"
                }
            ],
            "source": [
                "str(34)"
            ]
        },
        {
            "cell_type": "code",
            "execution_count": 100,
            "metadata": {},
            "outputs": [
                {
                    "data": {
                        "text/plain": [
                            "34"
                        ]
                    },
                    "execution_count": 100,
                    "metadata": {},
                    "output_type": "execute_result"
                }
            ],
            "source": [
                "int('34')"
            ]
        },
        {
            "cell_type": "code",
            "execution_count": 101,
            "metadata": {},
            "outputs": [
                {
                    "name": "stdout",
                    "output_type": "stream",
                    "text": "{('del1', '1'): ('del2', '0', 'R'), ('del2', '1'): ('mov1R', '0', 'R'), ('mov1R', '1'): ('mov1R', '1', 'R'), ('mov1R', '0'): ('mov2R', '0', 'R'), ('mov2R', '1'): ('mov2R', '1', 'R'), ('mov2R', '0'): ('mov1L', '1', 'L'), ('mov1L', '1'): ('mov1L', '1', 'L'), ('mov1L', '0'): ('mov2L', '0', 'L'), ('mov2L', '1'): ('mov2L', '1', 'L'), ('mov2L', '0'): ('del1', '0', 'R'), ('del1', '0'): ('end', '0', 'R'), ('del2', '0'): ('end', '0', 'R'), ('del1', 1): ('del2', 0, 'R'), ('del2', 1): ('mov1R', 0, 'R'), ('mov1R', 1): ('mov1R', 1, 'R'), ('mov1R', 0): ('mov2R', 0, 'R'), ('mov2R', 1): ('mov2R', 1, 'R'), ('mov2R', 0): ('mov1L', 1, 'L'), ('mov1L', 1): ('mov1L', 1, 'L'), ('mov1L', 0): ('mov2L', 0, 'L'), ('mov2L', 1): ('mov2L', 1, 'L'), ('mov2L', 0): ('del1', 0, 'R'), ('del1', 0): ('end', 0, 'R'), ('del2', 0): ('end', 0, 'R')}\n"
                }
            ],
            "source": [
                "with open('division_by_2.txt') as myfile:\n",
                "    for line in myfile:\n",
                "        if line.isspace() or line.startswith('#'):\n",
                "            continue\n",
                "        state, bit, new_state, new_bit, direction = line.split()\n",
                "        instructions[state, int(bit)] = new_state, int(new_bit), direction\n",
                "    print(instructions)"
            ]
        },
        {
            "cell_type": "code",
            "execution_count": 4,
            "metadata": {},
            "outputs": [
                {
                    "name": "stdout",
                    "output_type": "stream",
                    "text": "{('del1', 1): ('del2', 0, 'R'), ('del2', 1): ('mov1R', 0, 'R'), ('mov1R', 1): ('mov1R', 1, 'R'), ('mov1R', 0): ('mov2R', 0, 'R'), ('mov2R', 1): ('mov2R', 1, 'R'), ('mov2R', 0): ('mov1L', 1, 'L'), ('mov1L', 1): ('mov1L', 1, 'L'), ('mov1L', 0): ('mov2L', 0, 'L'), ('mov2L', 1): ('mov2L', 1, 'L'), ('mov2L', 0): ('del1', 0, 'R'), ('del1', 0): ('end', 0, 'R'), ('del2', 0): ('end', 0, 'R')}\n"
                }
            ],
            "source": [
                "instructions = {}\n",
                "\n",
                "with open('division_by_2.txt') as myfile:\n",
                "    for line in myfile:\n",
                "        if line.isspace() or line.startswith('#'):\n",
                "            continue\n",
                "        state, bit, new_state, new_bit, direction = line.split()\n",
                "        instructions[state, int(bit)] = new_state, int(new_bit), direction\n",
                "    print(instructions)"
            ]
        },
        {
            "cell_type": "code",
            "execution_count": 103,
            "metadata": {},
            "outputs": [
                {
                    "data": {
                        "text/plain": [
                            "[0, 0, 0, 0, 1, 1, 1, 1, 1, 1, 0, 0, 0, 0]"
                        ]
                    },
                    "execution_count": 103,
                    "metadata": {},
                    "output_type": "execute_result"
                }
            ],
            "source": [
                "tape"
            ]
        },
        {
            "cell_type": "code",
            "execution_count": 104,
            "metadata": {},
            "outputs": [
                {
                    "data": {
                        "text/plain": [
                            "0"
                        ]
                    },
                    "execution_count": 104,
                    "metadata": {},
                    "output_type": "execute_result"
                }
            ],
            "source": [
                "tape.index(0)"
            ]
        },
        {
            "cell_type": "code",
            "execution_count": 105,
            "metadata": {},
            "outputs": [
                {
                    "data": {
                        "text/plain": [
                            "4"
                        ]
                    },
                    "execution_count": 105,
                    "metadata": {},
                    "output_type": "execute_result"
                }
            ],
            "source": [
                "tape.index(1)"
            ]
        },
        {
            "cell_type": "code",
            "execution_count": 106,
            "metadata": {},
            "outputs": [
                {
                    "ename": "ValueError",
                    "evalue": "2 is not in list",
                    "output_type": "error",
                    "traceback": [
                        "\u001b[0;31m---------------------------------------------------------------------------\u001b[0m",
                        "\u001b[0;31mValueError\u001b[0m                                Traceback (most recent call last)",
                        "Cell \u001b[0;32mIn[106], line 1\u001b[0m\n\u001b[0;32m----\u003e 1\u001b[0m \u001b[43mtape\u001b[49m\u001b[38;5;241;43m.\u001b[39;49m\u001b[43mindex\u001b[49m\u001b[43m(\u001b[49m\u001b[38;5;241;43m2\u001b[39;49m\u001b[43m)\u001b[49m\n",
                        "\u001b[0;31mValueError\u001b[0m: 2 is not in list"
                    ]
                }
            ],
            "source": [
                "tape.index(2)"
            ]
        },
        {
            "cell_type": "code",
            "execution_count": 5,
            "metadata": {},
            "outputs": [
                {
                    "data": {
                        "text/plain": [
                            "4"
                        ]
                    },
                    "execution_count": 5,
                    "metadata": {},
                    "output_type": "execute_result"
                }
            ],
            "source": [
                "current_position = tape.index(1)\n",
                "current_position"
            ]
        },
        {
            "cell_type": "code",
            "execution_count": 6,
            "metadata": {},
            "outputs": [],
            "source": [
                "current_state = 'del1'"
            ]
        },
        {
            "cell_type": "code",
            "execution_count": 15,
            "metadata": {},
            "outputs": [],
            "source": [
                "def configuration():\n",
                "    display_tape()\n",
                "    print(current_state)"
            ]
        },
        {
            "cell_type": "code",
            "execution_count": 110,
            "metadata": {},
            "outputs": [
                {
                    "name": "stdout",
                    "output_type": "stream",
                    "text": "-----------------------------\n|0|0|0|0|1|1|1|1|1|1|0|0|0|0|\n-----------------------------\ndel1\n"
                }
            ],
            "source": [
                "configuration()"
            ]
        },
        {
            "cell_type": "code",
            "execution_count": 24,
            "metadata": {},
            "outputs": [],
            "source": [
                "def configuration():\n",
                "    display_tape()\n",
                "    print('  ' *  current_position, current_state)"
            ]
        },
        {
            "cell_type": "code",
            "execution_count": 112,
            "metadata": {},
            "outputs": [
                {
                    "name": "stdout",
                    "output_type": "stream",
                    "text": "-----------------------------\n|0|0|0|0|1|1|1|1|1|1|0|0|0|0|\n-----------------------------\n         del1\n"
                }
            ],
            "source": [
                "configuration()"
            ]
        },
        {
            "cell_type": "code",
            "execution_count": 113,
            "metadata": {},
            "outputs": [],
            "source": [
                "current_bit = 1"
            ]
        },
        {
            "cell_type": "code",
            "execution_count": 114,
            "metadata": {},
            "outputs": [
                {
                    "data": {
                        "text/plain": [
                            "('del1', 1)"
                        ]
                    },
                    "execution_count": 114,
                    "metadata": {},
                    "output_type": "execute_result"
                }
            ],
            "source": [
                "current_state, current_bit"
            ]
        },
        {
            "cell_type": "code",
            "execution_count": 115,
            "metadata": {},
            "outputs": [
                {
                    "data": {
                        "text/plain": [
                            "True"
                        ]
                    },
                    "execution_count": 115,
                    "metadata": {},
                    "output_type": "execute_result"
                }
            ],
            "source": [
                "(current_state, current_bit) in instructions.keys()"
            ]
        },
        {
            "cell_type": "code",
            "execution_count": 116,
            "metadata": {},
            "outputs": [
                {
                    "data": {
                        "text/plain": [
                            "True"
                        ]
                    },
                    "execution_count": 116,
                    "metadata": {},
                    "output_type": "execute_result"
                }
            ],
            "source": [
                "(current_state, current_bit) in instructions"
            ]
        },
        {
            "cell_type": "code",
            "execution_count": 117,
            "metadata": {},
            "outputs": [
                {
                    "data": {
                        "text/plain": [
                            "('del2', 0, 'R')"
                        ]
                    },
                    "execution_count": 117,
                    "metadata": {},
                    "output_type": "execute_result"
                }
            ],
            "source": [
                "instructions[current_state, current_bit]"
            ]
        },
        {
            "cell_type": "code",
            "execution_count": 118,
            "metadata": {},
            "outputs": [],
            "source": [
                "current_state = 'del2'"
            ]
        },
        {
            "cell_type": "code",
            "execution_count": 119,
            "metadata": {},
            "outputs": [],
            "source": [
                "current_bit = 0"
            ]
        },
        {
            "cell_type": "code",
            "execution_count": 120,
            "metadata": {},
            "outputs": [],
            "source": [
                "current_position += 1"
            ]
        },
        {
            "cell_type": "code",
            "execution_count": 121,
            "metadata": {},
            "outputs": [
                {
                    "data": {
                        "text/plain": [
                            "5"
                        ]
                    },
                    "execution_count": 121,
                    "metadata": {},
                    "output_type": "execute_result"
                }
            ],
            "source": [
                "current_position"
            ]
        },
        {
            "cell_type": "code",
            "execution_count": 122,
            "metadata": {},
            "outputs": [
                {
                    "data": {
                        "text/plain": [
                            "True"
                        ]
                    },
                    "execution_count": 122,
                    "metadata": {},
                    "output_type": "execute_result"
                }
            ],
            "source": [
                "(current_state, current_bit) in instructions"
            ]
        },
        {
            "cell_type": "code",
            "execution_count": 123,
            "metadata": {},
            "outputs": [
                {
                    "data": {
                        "text/plain": [
                            "('end', 0, 'R')"
                        ]
                    },
                    "execution_count": 123,
                    "metadata": {},
                    "output_type": "execute_result"
                }
            ],
            "source": [
                "instructions[current_state, current_bit]"
            ]
        },
        {
            "cell_type": "code",
            "execution_count": 8,
            "metadata": {},
            "outputs": [
                {
                    "data": {
                        "text/plain": [
                            "{('del1', 1): ('del2', 0, 'R'),\n",
                            " ('del2', 1): ('mov1R', 0, 'R'),\n",
                            " ('mov1R', 1): ('mov1R', 1, 'R'),\n",
                            " ('mov1R', 0): ('mov2R', 0, 'R'),\n",
                            " ('mov2R', 1): ('mov2R', 1, 'R'),\n",
                            " ('mov2R', 0): ('mov1L', 1, 'L'),\n",
                            " ('mov1L', 1): ('mov1L', 1, 'L'),\n",
                            " ('mov1L', 0): ('mov2L', 0, 'L'),\n",
                            " ('mov2L', 1): ('mov2L', 1, 'L'),\n",
                            " ('mov2L', 0): ('del1', 0, 'R'),\n",
                            " ('del1', 0): ('end', 0, 'R'),\n",
                            " ('del2', 0): ('end', 0, 'R')}"
                        ]
                    },
                    "execution_count": 8,
                    "metadata": {},
                    "output_type": "execute_result"
                }
            ],
            "source": [
                "instructions"
            ]
        },
        {
            "cell_type": "code",
            "execution_count": 9,
            "metadata": {},
            "outputs": [
                {
                    "data": {
                        "text/plain": [
                            "4"
                        ]
                    },
                    "execution_count": 9,
                    "metadata": {},
                    "output_type": "execute_result"
                }
            ],
            "source": [
                "current_position"
            ]
        },
        {
            "cell_type": "code",
            "execution_count": 10,
            "metadata": {},
            "outputs": [],
            "source": [
                "current_bit = 1"
            ]
        },
        {
            "cell_type": "code",
            "execution_count": 11,
            "metadata": {},
            "outputs": [],
            "source": [
                "current_state = 'del1'"
            ]
        },
        {
            "cell_type": "code",
            "execution_count": 28,
            "metadata": {},
            "outputs": [],
            "source": [
                "while (current_state, current_bit) in instructions:\n",
                "    new_state, new_bit, direction = instructions[current_state, current_bit]\n",
                "    tape[current_position] = new_bit\n",
                "    current_state = new_state\n",
                "    current_position = current_position + 1 if direction == 'R' else current_position - 1\n",
                "    current_bit = tape[current_position]\n",
                "    configuration()\n",
                "    "
            ]
        },
        {
            "cell_type": "code",
            "execution_count": 27,
            "metadata": {},
            "outputs": [
                {
                    "name": "stdout",
                    "output_type": "stream",
                    "text": "-----------------------------\n|0|0|0|0|0|0|0|0|0|0|0|1|1|1|\n-----------------------------\n                       end\n"
                }
            ],
            "source": [
                "configuration()"
            ]
        },
        {
            "cell_type": "code",
            "execution_count": 0,
            "metadata": {},
            "outputs": [],
            "source": [
                ""
            ]
        }
    ]
}
