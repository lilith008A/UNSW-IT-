{
 "cells": [
  {
   "cell_type": "markdown",
   "id": "841253c6-5e03-4530-9e5a-57d2c31ad4eb",
   "metadata": {
    "tags": []
   },
   "source": [
    "# Data types"
   ]
  },
  {
   "cell_type": "markdown",
   "id": "d6fa8161-00a5-46c2-a7dc-24d583cde0c6",
   "metadata": {
    "tags": []
   },
   "source": [
    "## int"
   ]
  },
  {
   "cell_type": "markdown",
   "id": "10afa837-77f2-4ef0-9eb7-93a82332ab32",
   "metadata": {
    "tags": []
   },
   "source": [
    "### Operators: +, *, -"
   ]
  },
  {
   "cell_type": "markdown",
   "id": "1c99b760-1817-4954-a2ba-7fed21ca33fa",
   "metadata": {
    "tags": []
   },
   "source": [
    "## str"
   ]
  },
  {
   "cell_type": "markdown",
   "id": "b228bfc8-6f80-4d5d-b0be-a08a6457bf33",
   "metadata": {},
   "source": [
    "### delimited by ', \", ''', \"\"\""
   ]
  },
  {
   "cell_type": "markdown",
   "id": "b0729782-77a8-4895-aa18-413abb8dd635",
   "metadata": {},
   "source": [
    "### escaping ' and \" within string"
   ]
  },
  {
   "cell_type": "markdown",
   "id": "d733e53f-0b26-4288-b5a5-68cc5162277a",
   "metadata": {
    "tags": []
   },
   "source": [
    "### Operators: +, *"
   ]
  },
  {
   "cell_type": "markdown",
   "id": "132d76c4-799a-492a-abd3-8027e8973d2f",
   "metadata": {
    "jp-MarkdownHeadingCollapsed": true
   },
   "source": [
    "### Methods: join(), startswith(), isspace(), split()"
   ]
  },
  {
   "cell_type": "markdown",
   "id": "bbbb5fb0-3562-4e6b-b0db-b22b7197f3df",
   "metadata": {
    "tags": []
   },
   "source": [
    "## list"
   ]
  },
  {
   "cell_type": "markdown",
   "id": "83ec9afd-7227-4bf0-b225-dce979b4d134",
   "metadata": {},
   "source": [
    "### Operators: +, *"
   ]
  },
  {
   "cell_type": "markdown",
   "id": "6f47593f-aa16-4bce-9d39-a8029f35e88d",
   "metadata": {
    "jp-MarkdownHeadingCollapsed": true
   },
   "source": [
    "### Indexes"
   ]
  },
  {
   "cell_type": "markdown",
   "id": "ee4b9433-f317-46a8-9c5f-fd7603f5b747",
   "metadata": {
    "jp-MarkdownHeadingCollapsed": true
   },
   "source": [
    "### methods: append(), remove(), index()"
   ]
  },
  {
   "cell_type": "markdown",
   "id": "96fadc41-27e3-43c3-af3c-cfa51abb17cd",
   "metadata": {
    "tags": []
   },
   "source": [
    "## dict"
   ]
  },
  {
   "cell_type": "markdown",
   "id": "e0f96b29-4f44-40aa-ac06-c6a74cc377cb",
   "metadata": {},
   "source": [
    "### Methods: key()"
   ]
  },
  {
   "cell_type": "markdown",
   "id": "33744ea1-54df-4687-81e7-1bc65d3d9369",
   "metadata": {
    "jp-MarkdownHeadingCollapsed": true,
    "tags": []
   },
   "source": [
    "## tuple"
   ]
  },
  {
   "cell_type": "markdown",
   "id": "a0c3b0e8-d25a-4154-a74d-31dd5bf79b13",
   "metadata": {},
   "source": [
    "### Indexes"
   ]
  },
  {
   "cell_type": "markdown",
   "id": "59e8ac31-aa16-4806-9238-855c1f277a24",
   "metadata": {
    "jp-MarkdownHeadingCollapsed": true,
    "tags": []
   },
   "source": [
    "## TextIOWrapper"
   ]
  },
  {
   "cell_type": "markdown",
   "id": "6930d1f4-5df7-4d7f-8733-a8fe3ee4262e",
   "metadata": {},
   "source": [
    "### Methods: readlines(), readline()"
   ]
  },
  {
   "cell_type": "markdown",
   "id": "2dc23d14-b028-46bd-b922-ed8b7a6a15d9",
   "metadata": {
    "jp-MarkdownHeadingCollapsed": true,
    "tags": []
   },
   "source": [
    "## NoneType"
   ]
  },
  {
   "cell_type": "markdown",
   "id": "e5a3bfa9-a16f-4968-84ac-1774988ec29c",
   "metadata": {
    "jp-MarkdownHeadingCollapsed": true,
    "tags": []
   },
   "source": [
    "# Operators"
   ]
  },
  {
   "cell_type": "markdown",
   "id": "a8c82483-482d-4538-b79d-c0983fad968f",
   "metadata": {
    "tags": []
   },
   "source": [
    "## *, +, -"
   ]
  },
  {
   "cell_type": "markdown",
   "id": "5e9a8f87-c931-478a-a463-43ab01bb7724",
   "metadata": {},
   "source": [
    "## Boolean: not, and, or"
   ]
  },
  {
   "cell_type": "markdown",
   "id": "4ea08067-2f2d-4feb-a5e1-f6e85fa659ac",
   "metadata": {
    "jp-MarkdownHeadingCollapsed": true,
    "tags": []
   },
   "source": [
    "## Comparison: ==, != <, <=, >, >="
   ]
  },
  {
   "cell_type": "markdown",
   "id": "6abc4c9f-e3e9-464b-b5cd-665f85c36991",
   "metadata": {
    "jp-MarkdownHeadingCollapsed": true,
    "tags": []
   },
   "source": [
    "# Expressions"
   ]
  },
  {
   "cell_type": "markdown",
   "id": "bd729c8e-3416-49ec-936f-77887c21ca27",
   "metadata": {
    "jp-MarkdownHeadingCollapsed": true
   },
   "source": [
    "## list comprehension"
   ]
  },
  {
   "cell_type": "markdown",
   "id": "4d847821-81f8-460d-82d3-edf3503d76d8",
   "metadata": {},
   "source": [
    "## generator expression"
   ]
  },
  {
   "cell_type": "markdown",
   "id": "f2cd2524-a0e5-4851-ab44-3201fec908d5",
   "metadata": {},
   "source": [
    "## ... if ... else ..."
   ]
  },
  {
   "cell_type": "markdown",
   "id": "21046edc-104e-490f-b68c-1dfdcf4716a8",
   "metadata": {
    "jp-MarkdownHeadingCollapsed": true,
    "tags": []
   },
   "source": [
    "# Statements"
   ]
  },
  {
   "cell_type": "markdown",
   "id": "d1a4061d-fc35-401a-9f28-dc57f670c291",
   "metadata": {},
   "source": [
    "## = (assignment), simple and with unpacking"
   ]
  },
  {
   "cell_type": "markdown",
   "id": "61a136cd-ecba-4ab7-8fa5-91510cd0ec77",
   "metadata": {},
   "source": [
    "## pass"
   ]
  },
  {
   "cell_type": "markdown",
   "id": "2d2c01fb-6de9-4e63-8acb-ea43263ebd2e",
   "metadata": {},
   "source": [
    "## continue (within a loop)"
   ]
  },
  {
   "cell_type": "markdown",
   "id": "45d7665c-fcbe-40ff-b1ec-1766502f3779",
   "metadata": {
    "tags": []
   },
   "source": [
    "## return (within a function)"
   ]
  },
  {
   "cell_type": "markdown",
   "id": "dcba6d26-61fd-437f-80c4-25ba0b16427d",
   "metadata": {},
   "source": [
    "## for"
   ]
  },
  {
   "cell_type": "markdown",
   "id": "a406b98b-ef3f-4da1-b05d-106bd1a76433",
   "metadata": {},
   "source": [
    "## if"
   ]
  },
  {
   "cell_type": "markdown",
   "id": "c6faad15-d755-48fa-8733-5281c217a669",
   "metadata": {},
   "source": [
    "## while"
   ]
  },
  {
   "cell_type": "markdown",
   "id": "0b56db2a-f9f2-4024-b208-ed6d2ff087eb",
   "metadata": {},
   "source": [
    "## with ... as ... (context manager)"
   ]
  },
  {
   "cell_type": "markdown",
   "id": "4c08294e-5184-4589-b102-6628a1bd0113",
   "metadata": {
    "jp-MarkdownHeadingCollapsed": true,
    "tags": []
   },
   "source": [
    "# Functions"
   ]
  },
  {
   "cell_type": "markdown",
   "id": "4a1a1e7e-65c7-41e5-9482-8a5c19eed433",
   "metadata": {
    "tags": []
   },
   "source": [
    "## Returned value"
   ]
  },
  {
   "cell_type": "markdown",
   "id": "1d39f0cc-42bc-4274-89f9-8287552b935d",
   "metadata": {
    "tags": []
   },
   "source": [
    "## Specific functions:"
   ]
  },
  {
   "cell_type": "markdown",
   "id": "c0692df1-3cb7-4150-9288-4b206e6b5284",
   "metadata": {},
   "source": [
    "### len()"
   ]
  },
  {
   "cell_type": "markdown",
   "id": "99b81a72-0dff-4c5f-aea4-a9c3c137a0e9",
   "metadata": {},
   "source": [
    "### print(), with sep and sep as keyword arguments"
   ]
  },
  {
   "cell_type": "markdown",
   "id": "f5075ac2-7f35-4e71-afb9-54bcd8e0f677",
   "metadata": {},
   "source": [
    "### next()"
   ]
  },
  {
   "cell_type": "markdown",
   "id": "3d477e9f-5d0e-419e-8086-f6b0e87a33dd",
   "metadata": {},
   "source": [
    "### open()"
   ]
  },
  {
   "cell_type": "markdown",
   "id": "2ffcaf15-dc3d-4372-81b9-9b02c8888067",
   "metadata": {},
   "source": [
    "### close() (no need to use with context manager)"
   ]
  }
 ],
 "metadata": {
  "kernelspec": {
   "display_name": "Python 3 (ipykernel)",
   "language": "python",
   "name": "python3"
  },
  "language_info": {
   "codemirror_mode": {
    "name": "ipython",
    "version": 3
   },
   "file_extension": ".py",
   "mimetype": "text/x-python",
   "name": "python",
   "nbconvert_exporter": "python",
   "pygments_lexer": "ipython3",
   "version": "3.12.6"
  },
  "widgets": {
   "application/vnd.jupyter.widget-state+json": {
    "state": {},
    "version_major": 2,
    "version_minor": 0
   }
  }
 },
 "nbformat": 4,
 "nbformat_minor": 5
}
