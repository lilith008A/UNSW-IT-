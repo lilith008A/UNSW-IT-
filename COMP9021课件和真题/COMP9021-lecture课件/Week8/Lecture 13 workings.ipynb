{
 "cells": [
  {
   "cell_type": "code",
   "execution_count": 1,
   "id": "7b0d9fa7-8368-412e-89d1-27e403781e7b",
   "metadata": {},
   "outputs": [
    {
     "ename": "_IncompleteInputError",
     "evalue": "incomplete input (2264633451.py, line 4)",
     "output_type": "error",
     "traceback": [
      "\u001b[0;36m  Cell \u001b[0;32mIn[1], line 4\u001b[0;36m\u001b[0m\n\u001b[0;31m    else:\u001b[0m\n\u001b[0m         ^\u001b[0m\n\u001b[0;31m_IncompleteInputError\u001b[0m\u001b[0;31m:\u001b[0m incomplete input\n"
     ]
    }
   ],
   "source": [
    "def hanoi(n, start_pos, end_pos, help_pos):\n",
    "    if n == 1:\n",
    "        print(f'Move disk from {start_pos} to {end_pos}')\n",
    "    else:\n",
    "        hanoi(n - 1, start_pos, help_pos, end_pos)\n",
    "        print(f'Move disk from {start_pos} to {end_pos}')\n",
    "        hanoi(n - 1, help_pos, end_pos, start_pos)\n",
    "        "
   ]
  },
  {
   "cell_type": "code",
   "execution_count": 5,
   "id": "0d0f0f7a-c22a-4f14-ad1c-a67d4df9fa40",
   "metadata": {},
   "outputs": [],
   "source": [
    "def hanoi(n, start_pos, end_pos, help_pos):\n",
    "    if n > 1:\n",
    "        hanoi(n - 1, start_pos, help_pos, end_pos)\n",
    "    print(f'Move disk of size {n} from {start_pos} to {end_pos}')\n",
    "    if n > 1:\n",
    "        hanoi(n - 1, help_pos, end_pos, start_pos)"
   ]
  },
  {
   "cell_type": "code",
   "execution_count": 6,
   "id": "b13bbac3-71a4-4eff-a4ef-5b42ad4388d7",
   "metadata": {},
   "outputs": [
    {
     "name": "stdout",
     "output_type": "stream",
     "text": [
      "Move disk of size 1 from A to C\n"
     ]
    }
   ],
   "source": [
    "hanoi(1, 'A', 'C', 'B')"
   ]
  },
  {
   "cell_type": "code",
   "execution_count": 7,
   "id": "99e1ec73-97a8-4ed9-bd77-ae0d901d83d0",
   "metadata": {},
   "outputs": [
    {
     "name": "stdout",
     "output_type": "stream",
     "text": [
      "Move disk of size 1 from A to B\n",
      "Move disk of size 2 from A to C\n",
      "Move disk of size 1 from B to C\n"
     ]
    }
   ],
   "source": [
    "hanoi(2, 'A', 'C', 'B')"
   ]
  },
  {
   "cell_type": "code",
   "execution_count": 8,
   "id": "a32facba-fa93-4a08-ad8e-6cf4385ada16",
   "metadata": {},
   "outputs": [
    {
     "name": "stdout",
     "output_type": "stream",
     "text": [
      "Move disk of size 1 from A to C\n",
      "Move disk of size 2 from A to B\n",
      "Move disk of size 1 from C to B\n",
      "Move disk of size 3 from A to C\n",
      "Move disk of size 1 from B to A\n",
      "Move disk of size 2 from B to C\n",
      "Move disk of size 1 from A to C\n"
     ]
    }
   ],
   "source": [
    "hanoi(3, 'A', 'C', 'B')"
   ]
  },
  {
   "cell_type": "code",
   "execution_count": 9,
   "id": "fad922b7-44c3-4f0b-bd35-7a51ecb32e1b",
   "metadata": {},
   "outputs": [
    {
     "name": "stdout",
     "output_type": "stream",
     "text": [
      "Move disk of size 1 from A to B\n",
      "Move disk of size 2 from A to C\n",
      "Move disk of size 1 from B to C\n",
      "Move disk of size 3 from A to B\n",
      "Move disk of size 1 from C to A\n",
      "Move disk of size 2 from C to B\n",
      "Move disk of size 1 from A to B\n",
      "Move disk of size 4 from A to C\n",
      "Move disk of size 1 from B to C\n",
      "Move disk of size 2 from B to A\n",
      "Move disk of size 1 from C to A\n",
      "Move disk of size 3 from B to C\n",
      "Move disk of size 1 from A to B\n",
      "Move disk of size 2 from A to C\n",
      "Move disk of size 1 from B to C\n"
     ]
    }
   ],
   "source": [
    "hanoi(4, 'A', 'C', 'B')"
   ]
  },
  {
   "cell_type": "code",
   "execution_count": 10,
   "id": "ec413c1b-0e4b-4d39-bcdd-e699ceae2304",
   "metadata": {},
   "outputs": [
    {
     "name": "stdout",
     "output_type": "stream",
     "text": [
      "Move disk of size 1 from A to C\n",
      "Move disk of size 2 from A to B\n",
      "Move disk of size 1 from C to B\n",
      "Move disk of size 3 from A to C\n",
      "Move disk of size 1 from B to A\n",
      "Move disk of size 2 from B to C\n",
      "Move disk of size 1 from A to C\n",
      "Move disk of size 4 from A to B\n",
      "Move disk of size 1 from C to B\n",
      "Move disk of size 2 from C to A\n",
      "Move disk of size 1 from B to A\n",
      "Move disk of size 3 from C to B\n",
      "Move disk of size 1 from A to C\n",
      "Move disk of size 2 from A to B\n",
      "Move disk of size 1 from C to B\n",
      "Move disk of size 5 from A to C\n",
      "Move disk of size 1 from B to A\n",
      "Move disk of size 2 from B to C\n",
      "Move disk of size 1 from A to C\n",
      "Move disk of size 3 from B to A\n",
      "Move disk of size 1 from C to B\n",
      "Move disk of size 2 from C to A\n",
      "Move disk of size 1 from B to A\n",
      "Move disk of size 4 from B to C\n",
      "Move disk of size 1 from A to C\n",
      "Move disk of size 2 from A to B\n",
      "Move disk of size 1 from C to B\n",
      "Move disk of size 3 from A to C\n",
      "Move disk of size 1 from B to A\n",
      "Move disk of size 2 from B to C\n",
      "Move disk of size 1 from A to C\n"
     ]
    }
   ],
   "source": [
    "hanoi(5, 'A', 'C', 'B')"
   ]
  },
  {
   "cell_type": "code",
   "execution_count": 13,
   "id": "e7c9860b-c9ca-48c1-9cce-dac2e23b9e1a",
   "metadata": {},
   "outputs": [],
   "source": [
    "def hanoi_2(n, start_pos, end_pos, help_pos):\n",
    "    stacks = list(range(n, 0, -1)), [], []\n",
    "    smallest_disk_pos = 0\n",
    "    direction = 1 if n % 2 == 0 else -1\n",
    "    for i in range(2 ** n - 1):\n",
    "        if i % 2 == 0:\n",
    "            smallest_disk_new_pos = (smallest_disk_pos + direction) % 3\n",
    "            print(f'Move smallest disk from {smallest_disk_pos} to {smallest_disk_new_pos}')     \n",
    "            stacks[smallest_disk_new_pos].append(stacks[smallest_disk_pos].pop())\n",
    "            smallest_disk_pos = smallest_disk_new_pos\n",
    "        else:\n",
    "            from_pos, to_pos = (smallest_disk_pos + 1) % 3, (smallest_disk_pos + 2) % 3\n",
    "            if not stacks[from_pos]\\\n",
    "               or stacks[to_pos] and stacks[to_pos][-1] < stacks[from_pos][-1]:\n",
    "                from_pos, to_pos = to_pos, from_pos\n",
    "            print(f'Move disk of size {stacks[from_pos][-1]} from {from_pos} to {to_pos}')\n",
    "            stacks[to_pos].append(stacks[from_pos].pop())\n",
    "            "
   ]
  },
  {
   "cell_type": "code",
   "execution_count": 15,
   "id": "0982a82e-d95c-4e29-8e7e-6368ffa011ee",
   "metadata": {},
   "outputs": [
    {
     "name": "stdout",
     "output_type": "stream",
     "text": [
      "Move smallest disk from 0 to 2\n"
     ]
    }
   ],
   "source": [
    "hanoi_2(1, 0, 1, 2)"
   ]
  },
  {
   "cell_type": "code",
   "execution_count": 16,
   "id": "42197bab-701f-48f8-bb93-2e1486cbfc04",
   "metadata": {},
   "outputs": [
    {
     "name": "stdout",
     "output_type": "stream",
     "text": [
      "Move smallest disk from 0 to 1\n",
      "Move disk of size 2 from 0 to 2\n",
      "Move smallest disk from 1 to 2\n"
     ]
    }
   ],
   "source": [
    "hanoi_2(2, 0, 1, 2)"
   ]
  },
  {
   "cell_type": "code",
   "execution_count": 17,
   "id": "709f3ccc-fb4d-4d38-bee2-323463a9f21d",
   "metadata": {},
   "outputs": [
    {
     "name": "stdout",
     "output_type": "stream",
     "text": [
      "Move smallest disk from 0 to 2\n",
      "Move disk of size 2 from 0 to 1\n",
      "Move smallest disk from 2 to 1\n",
      "Move disk of size 3 from 0 to 2\n",
      "Move smallest disk from 1 to 0\n",
      "Move disk of size 2 from 1 to 2\n",
      "Move smallest disk from 0 to 2\n"
     ]
    }
   ],
   "source": [
    "hanoi_2(3, 0, 1, 2)"
   ]
  },
  {
   "cell_type": "code",
   "execution_count": null,
   "id": "7db22763-481c-49f3-8415-bb14579156fe",
   "metadata": {},
   "outputs": [],
   "source": [
    "{1, 2, 3}\n",
    "[1, 2, 3], [3, 1, 2], [2, 3, 1]"
   ]
  },
  {
   "cell_type": "code",
   "execution_count": 18,
   "id": "3a61adda-be52-4517-8871-7c4ffbdb2667",
   "metadata": {},
   "outputs": [],
   "source": [
    "def permute(L):\n",
    "    if len(L) == 1:\n",
    "        yield L\n",
    "    for i in range(len(L)):\n",
    "        for L1 in permute(L[: i] + L[i + 1: ]):\n",
    "            yield L1 + [L[i]]"
   ]
  },
  {
   "cell_type": "code",
   "execution_count": 19,
   "id": "0372d0f3-022d-43b7-b8c8-b4104d9303f7",
   "metadata": {},
   "outputs": [
    {
     "data": {
      "text/plain": [
       "<generator object permute at 0x1071bca90>"
      ]
     },
     "execution_count": 19,
     "metadata": {},
     "output_type": "execute_result"
    }
   ],
   "source": [
    "permute([1])"
   ]
  },
  {
   "cell_type": "code",
   "execution_count": 20,
   "id": "5fc58f8b-0a78-4fc2-aafe-3e80fb8deaae",
   "metadata": {},
   "outputs": [
    {
     "data": {
      "text/plain": [
       "[[1]]"
      ]
     },
     "execution_count": 20,
     "metadata": {},
     "output_type": "execute_result"
    }
   ],
   "source": [
    "list(permute([1]))"
   ]
  },
  {
   "cell_type": "code",
   "execution_count": 21,
   "id": "de5df98e-5f9f-4407-97a7-9a985c6d94b0",
   "metadata": {},
   "outputs": [
    {
     "data": {
      "text/plain": [
       "[[2, 1], [1, 2]]"
      ]
     },
     "execution_count": 21,
     "metadata": {},
     "output_type": "execute_result"
    }
   ],
   "source": [
    "list(permute([1, 2]))"
   ]
  },
  {
   "cell_type": "code",
   "execution_count": 22,
   "id": "d9be98fc-688a-4d57-8111-bb5eb9039cbd",
   "metadata": {},
   "outputs": [
    {
     "data": {
      "text/plain": [
       "[[3, 2, 1], [2, 3, 1], [3, 1, 2], [1, 3, 2], [2, 1, 3], [1, 2, 3]]"
      ]
     },
     "execution_count": 22,
     "metadata": {},
     "output_type": "execute_result"
    }
   ],
   "source": [
    "list(permute([1, 2, 3]))"
   ]
  },
  {
   "cell_type": "code",
   "execution_count": 24,
   "id": "eae03194-2d60-4ae2-83ff-7d578c7c1413",
   "metadata": {},
   "outputs": [
    {
     "data": {
      "text/plain": [
       "24"
      ]
     },
     "execution_count": 24,
     "metadata": {},
     "output_type": "execute_result"
    }
   ],
   "source": [
    "len(list(permute([1, 2, 3, 4])))"
   ]
  },
  {
   "cell_type": "code",
   "execution_count": 25,
   "id": "d8069a36-a4ca-42be-b4fd-765f51e72f0b",
   "metadata": {},
   "outputs": [],
   "source": [
    "def f():\n",
    "    yield 1\n",
    "    yield 2\n",
    "    yield 3"
   ]
  },
  {
   "cell_type": "code",
   "execution_count": 26,
   "id": "31c9e05d-a0e1-4657-9eef-6915dedf8afb",
   "metadata": {},
   "outputs": [],
   "source": [
    "def g():\n",
    "    yield 4\n",
    "    for i in f():\n",
    "        yield i\n",
    "    yield 5"
   ]
  },
  {
   "cell_type": "code",
   "execution_count": 27,
   "id": "d98fb9f0-ba94-4a9c-af11-f5d21cb8750d",
   "metadata": {},
   "outputs": [
    {
     "data": {
      "text/plain": [
       "[1, 2, 3]"
      ]
     },
     "execution_count": 27,
     "metadata": {},
     "output_type": "execute_result"
    }
   ],
   "source": [
    "list(f())"
   ]
  },
  {
   "cell_type": "code",
   "execution_count": 28,
   "id": "49fa0fc3-96ef-41fc-a6ba-094aadf8230d",
   "metadata": {},
   "outputs": [
    {
     "data": {
      "text/plain": [
       "[4, 1, 2, 3, 5]"
      ]
     },
     "execution_count": 28,
     "metadata": {},
     "output_type": "execute_result"
    }
   ],
   "source": [
    "list(g())"
   ]
  },
  {
   "cell_type": "code",
   "execution_count": 29,
   "id": "3e0d6879-c898-43cf-a9a1-2927d18dde33",
   "metadata": {},
   "outputs": [],
   "source": [
    "def g():\n",
    "    yield 4\n",
    "    yield from f()\n",
    "    yield 5"
   ]
  },
  {
   "cell_type": "code",
   "execution_count": 30,
   "id": "4d51577d-6ae2-4fc5-b84b-76b1ce1b0326",
   "metadata": {},
   "outputs": [
    {
     "data": {
      "text/plain": [
       "[4, 1, 2, 3, 5]"
      ]
     },
     "execution_count": 30,
     "metadata": {},
     "output_type": "execute_result"
    }
   ],
   "source": [
    "list(g())"
   ]
  },
  {
   "cell_type": "code",
   "execution_count": null,
   "id": "a0dbb209-95cc-4512-baed-f68e6ae9f7c7",
   "metadata": {},
   "outputs": [],
   "source": []
  }
 ],
 "metadata": {
  "kernelspec": {
   "display_name": "Python 3 (ipykernel)",
   "language": "python",
   "name": "python3"
  },
  "language_info": {
   "codemirror_mode": {
    "name": "ipython",
    "version": 3
   },
   "file_extension": ".py",
   "mimetype": "text/x-python",
   "name": "python",
   "nbconvert_exporter": "python",
   "pygments_lexer": "ipython3",
   "version": "3.13.0"
  }
 },
 "nbformat": 4,
 "nbformat_minor": 5
}
