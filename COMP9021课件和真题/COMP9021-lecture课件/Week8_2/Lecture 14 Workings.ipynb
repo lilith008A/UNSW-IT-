{
 "cells": [
  {
   "cell_type": "code",
   "execution_count": 3,
   "id": "0f67ddce-b0ba-40bb-a144-4abdf6034612",
   "metadata": {},
   "outputs": [
    {
     "name": "stdout",
     "output_type": "stream",
     "text": [
      "Overwriting animal.py\n"
     ]
    }
   ],
   "source": [
    "%%writefile animal.py\n",
    "\n",
    "def eat():\n",
    "    print('Eating yummy food!')\n",
    "\n",
    "def sleep():\n",
    "    print('Having a good sleep...')\n",
    "    "
   ]
  },
  {
   "cell_type": "code",
   "execution_count": 2,
   "id": "afb84a3c-be96-4772-b9c2-688c7eb26ccd",
   "metadata": {},
   "outputs": [
    {
     "name": "stdout",
     "output_type": "stream",
     "text": [
      "\n",
      "def eat():\n",
      "    print('Eating yummy food!')\n",
      "\n",
      "def sleep():\n",
      "    print('Having a good sleep...')\n",
      "    \n"
     ]
    }
   ],
   "source": [
    "cat animal.py"
   ]
  },
  {
   "cell_type": "code",
   "execution_count": 3,
   "id": "ebbabd06-8d50-45be-8980-4c2521681b87",
   "metadata": {},
   "outputs": [
    {
     "name": "stdout",
     "output_type": "stream",
     "text": [
      "Writing bird.py\n"
     ]
    }
   ],
   "source": [
    "%%writefile bird.py\n",
    "\n",
    "import animal\n",
    "\n",
    "def eat():\n",
    "    print('Eating yummy seeds!')\n",
    "\n",
    "def fly():\n",
    "    print('So great to fly!')\n"
   ]
  },
  {
   "cell_type": "code",
   "execution_count": 1,
   "id": "9c7e3845-872f-447c-bf41-8d1a589ad23a",
   "metadata": {},
   "outputs": [
    {
     "name": "stdout",
     "output_type": "stream",
     "text": [
      "\n",
      "from animal import *\n",
      "\n",
      "def eat():\n",
      "    print('Eating yummy seeds!')\n",
      "\n",
      "def fly():\n",
      "    print('So great to fly!')\n"
     ]
    }
   ],
   "source": [
    "cat bird.py"
   ]
  },
  {
   "cell_type": "code",
   "execution_count": 6,
   "id": "fadef89c-5485-43ee-b5b8-44258b754868",
   "metadata": {},
   "outputs": [],
   "source": [
    "import animal, bird"
   ]
  },
  {
   "cell_type": "code",
   "execution_count": 7,
   "id": "efee507e-cc8b-4696-a072-9eb196beebd8",
   "metadata": {},
   "outputs": [
    {
     "name": "stdout",
     "output_type": "stream",
     "text": [
      "Having a good sleep...\n"
     ]
    }
   ],
   "source": [
    "animal.sleep()"
   ]
  },
  {
   "cell_type": "code",
   "execution_count": 8,
   "id": "063062a8-b944-4e30-970d-d88e35d4c069",
   "metadata": {},
   "outputs": [
    {
     "ename": "AttributeError",
     "evalue": "module 'bird' has no attribute 'sleep'",
     "output_type": "error",
     "traceback": [
      "\u001b[0;31m---------------------------------------------------------------------------\u001b[0m",
      "\u001b[0;31mAttributeError\u001b[0m                            Traceback (most recent call last)",
      "Cell \u001b[0;32mIn[8], line 1\u001b[0m\n\u001b[0;32m----> 1\u001b[0m \u001b[43mbird\u001b[49m\u001b[38;5;241;43m.\u001b[39;49m\u001b[43msleep\u001b[49m()\n",
      "\u001b[0;31mAttributeError\u001b[0m: module 'bird' has no attribute 'sleep'"
     ]
    }
   ],
   "source": [
    "bird.sleep()"
   ]
  },
  {
   "cell_type": "code",
   "execution_count": 9,
   "id": "b6881f86-f0a9-4a77-bcf8-321ae631d75c",
   "metadata": {},
   "outputs": [
    {
     "name": "stdout",
     "output_type": "stream",
     "text": [
      "So great to fly!\n"
     ]
    }
   ],
   "source": [
    "bird.fly()"
   ]
  },
  {
   "cell_type": "code",
   "execution_count": 10,
   "id": "fc1c7f98-c7fd-475f-9c5b-e3fd75f1161f",
   "metadata": {},
   "outputs": [
    {
     "name": "stdout",
     "output_type": "stream",
     "text": [
      "Eating yummy food!\n"
     ]
    }
   ],
   "source": [
    "animal.eat()"
   ]
  },
  {
   "cell_type": "code",
   "execution_count": 11,
   "id": "781e61ed-2d9b-49f4-a2bd-73127ff8afb1",
   "metadata": {},
   "outputs": [
    {
     "name": "stdout",
     "output_type": "stream",
     "text": [
      "Eating yummy seeds!\n"
     ]
    }
   ],
   "source": [
    "bird.eat()"
   ]
  },
  {
   "cell_type": "code",
   "execution_count": 4,
   "id": "1af67931-3c64-4047-8cd3-a4dd552d0981",
   "metadata": {},
   "outputs": [
    {
     "name": "stdout",
     "output_type": "stream",
     "text": [
      "Overwriting bird.py\n"
     ]
    }
   ],
   "source": [
    "%%writefile bird.py\n",
    "\n",
    "from animal import *\n",
    "\n",
    "def eat():\n",
    "    print('Eating yummy seeds!')\n",
    "\n",
    "def fly():\n",
    "    print('So great to fly!')\n"
   ]
  },
  {
   "cell_type": "code",
   "execution_count": 7,
   "id": "3370e460-fafd-4975-97cf-255953307291",
   "metadata": {},
   "outputs": [
    {
     "name": "stdout",
     "output_type": "stream",
     "text": [
      "Having a good sleep...\n"
     ]
    }
   ],
   "source": [
    "animal.sleep()"
   ]
  },
  {
   "cell_type": "code",
   "execution_count": 8,
   "id": "934661ca-7e34-41e2-9aaf-b37466068ae6",
   "metadata": {},
   "outputs": [
    {
     "name": "stdout",
     "output_type": "stream",
     "text": [
      "Having a good sleep...\n"
     ]
    }
   ],
   "source": [
    "bird.sleep()"
   ]
  },
  {
   "cell_type": "code",
   "execution_count": 9,
   "id": "86fd5cdf-9fdb-40ec-a907-99dccba5d836",
   "metadata": {},
   "outputs": [
    {
     "ename": "AttributeError",
     "evalue": "module 'animal' has no attribute 'fly'",
     "output_type": "error",
     "traceback": [
      "\u001b[0;31m---------------------------------------------------------------------------\u001b[0m",
      "\u001b[0;31mAttributeError\u001b[0m                            Traceback (most recent call last)",
      "Cell \u001b[0;32mIn[9], line 1\u001b[0m\n\u001b[0;32m----> 1\u001b[0m \u001b[43manimal\u001b[49m\u001b[38;5;241;43m.\u001b[39;49m\u001b[43mfly\u001b[49m()\n",
      "\u001b[0;31mAttributeError\u001b[0m: module 'animal' has no attribute 'fly'"
     ]
    }
   ],
   "source": [
    "animal.fly()"
   ]
  },
  {
   "cell_type": "code",
   "execution_count": 10,
   "id": "525cdacd-a1ec-45ba-9908-8d3556cf5f9b",
   "metadata": {},
   "outputs": [
    {
     "data": {
      "text/plain": [
       "(2, 'hi', [1, 2, 3], int, str)"
      ]
     },
     "execution_count": 10,
     "metadata": {},
     "output_type": "execute_result"
    }
   ],
   "source": [
    "2, 'hi', [1, 2, 3], int, str"
   ]
  },
  {
   "cell_type": "code",
   "execution_count": 13,
   "id": "0b036195-81ca-49ea-b9db-a948e26b6f59",
   "metadata": {},
   "outputs": [],
   "source": [
    "x = 4"
   ]
  },
  {
   "cell_type": "code",
   "execution_count": 14,
   "id": "e8017ca5-b0cb-4e15-991a-3ec9e7c3a24f",
   "metadata": {},
   "outputs": [
    {
     "data": {
      "text/plain": [
       "3"
      ]
     },
     "execution_count": 14,
     "metadata": {},
     "output_type": "execute_result"
    }
   ],
   "source": [
    "x.bit_length()"
   ]
  },
  {
   "cell_type": "code",
   "execution_count": 15,
   "id": "19a612ae-3c5e-42c4-bd00-83d99f94b272",
   "metadata": {},
   "outputs": [
    {
     "data": {
      "text/plain": [
       "11"
      ]
     },
     "execution_count": 15,
     "metadata": {},
     "output_type": "execute_result"
    }
   ],
   "source": [
    "x.__add__(7)"
   ]
  },
  {
   "cell_type": "code",
   "execution_count": 16,
   "id": "e3ce8902-8c4e-4f2d-8ae7-07ceb8713ab4",
   "metadata": {},
   "outputs": [
    {
     "data": {
      "text/plain": [
       "11"
      ]
     },
     "execution_count": 16,
     "metadata": {},
     "output_type": "execute_result"
    }
   ],
   "source": [
    "x + 7"
   ]
  },
  {
   "cell_type": "code",
   "execution_count": 17,
   "id": "36c08325-e329-4354-9524-95bd0d1d8937",
   "metadata": {},
   "outputs": [
    {
     "data": {
      "text/plain": [
       "NotImplemented"
      ]
     },
     "execution_count": 17,
     "metadata": {},
     "output_type": "execute_result"
    }
   ],
   "source": [
    "x.__add__(7.5)"
   ]
  },
  {
   "cell_type": "code",
   "execution_count": 18,
   "id": "9cdca3f2-c8ab-41ae-aec0-27d8e913c63b",
   "metadata": {},
   "outputs": [
    {
     "data": {
      "text/plain": [
       "11.5"
      ]
     },
     "execution_count": 18,
     "metadata": {},
     "output_type": "execute_result"
    }
   ],
   "source": [
    "x + 7.5"
   ]
  },
  {
   "cell_type": "code",
   "execution_count": 19,
   "id": "648d6188-face-4775-995b-db459139e42d",
   "metadata": {},
   "outputs": [
    {
     "ename": "AttributeError",
     "evalue": "'int' object has no attribute 'colour' and no __dict__ for setting new attributes",
     "output_type": "error",
     "traceback": [
      "\u001b[0;31m---------------------------------------------------------------------------\u001b[0m",
      "\u001b[0;31mAttributeError\u001b[0m                            Traceback (most recent call last)",
      "Cell \u001b[0;32mIn[19], line 1\u001b[0m\n\u001b[0;32m----> 1\u001b[0m \u001b[43mx\u001b[49m\u001b[38;5;241;43m.\u001b[39;49m\u001b[43mcolour\u001b[49m \u001b[38;5;241m=\u001b[39m \u001b[38;5;124m'\u001b[39m\u001b[38;5;124mgreen\u001b[39m\u001b[38;5;124m'\u001b[39m\n",
      "\u001b[0;31mAttributeError\u001b[0m: 'int' object has no attribute 'colour' and no __dict__ for setting new attributes"
     ]
    }
   ],
   "source": [
    "x.colour = 'green'"
   ]
  },
  {
   "cell_type": "code",
   "execution_count": 20,
   "id": "1bf1e3d5-2ea5-433d-843c-4f8cf8d9cbdb",
   "metadata": {},
   "outputs": [],
   "source": [
    "class coloured_int(int):\n",
    "    def __add__(x, y):\n",
    "        if x.colour == y.colour:\n",
    "            return int(x) + int(y)\n",
    "        print(\"Sorry, can't add ints of diffeent colours\")"
   ]
  },
  {
   "cell_type": "code",
   "execution_count": 21,
   "id": "857d873a-daf6-4649-8489-5a67dd5a2510",
   "metadata": {},
   "outputs": [],
   "source": [
    "a = coloured_int()"
   ]
  },
  {
   "cell_type": "code",
   "execution_count": 22,
   "id": "1d33fb32-2d2b-40ac-b435-7a6129e4f8b0",
   "metadata": {},
   "outputs": [
    {
     "data": {
      "text/plain": [
       "0"
      ]
     },
     "execution_count": 22,
     "metadata": {},
     "output_type": "execute_result"
    }
   ],
   "source": [
    "a"
   ]
  },
  {
   "cell_type": "code",
   "execution_count": 23,
   "id": "dc476f6f-bfd7-4bc6-8c8d-c0ff44d9cfa4",
   "metadata": {},
   "outputs": [
    {
     "data": {
      "text/plain": [
       "0"
      ]
     },
     "execution_count": 23,
     "metadata": {},
     "output_type": "execute_result"
    }
   ],
   "source": [
    "int()"
   ]
  },
  {
   "cell_type": "code",
   "execution_count": 24,
   "id": "e9ad85d7-9e34-40fe-8bf1-17b8b2a47c1b",
   "metadata": {},
   "outputs": [
    {
     "ename": "AttributeError",
     "evalue": "'coloured_int' object has no attribute 'colour'",
     "output_type": "error",
     "traceback": [
      "\u001b[0;31m---------------------------------------------------------------------------\u001b[0m",
      "\u001b[0;31mAttributeError\u001b[0m                            Traceback (most recent call last)",
      "Cell \u001b[0;32mIn[24], line 1\u001b[0m\n\u001b[0;32m----> 1\u001b[0m \u001b[43ma\u001b[49m\u001b[38;5;241;43m.\u001b[39;49m\u001b[43mcolour\u001b[49m\n",
      "\u001b[0;31mAttributeError\u001b[0m: 'coloured_int' object has no attribute 'colour'"
     ]
    }
   ],
   "source": [
    "a.colour"
   ]
  },
  {
   "cell_type": "code",
   "execution_count": 25,
   "id": "bc40190d-7d29-452d-8756-2a0993f44d1d",
   "metadata": {},
   "outputs": [],
   "source": [
    "a.colour = 'green'"
   ]
  },
  {
   "cell_type": "code",
   "execution_count": 26,
   "id": "d95c575a-68af-4a41-a4d0-a5fef750049c",
   "metadata": {},
   "outputs": [],
   "source": [
    "b = coloured_int(5)"
   ]
  },
  {
   "cell_type": "code",
   "execution_count": 27,
   "id": "9e4998dc-729c-42db-bb6d-655faf3c4447",
   "metadata": {},
   "outputs": [
    {
     "data": {
      "text/plain": [
       "5"
      ]
     },
     "execution_count": 27,
     "metadata": {},
     "output_type": "execute_result"
    }
   ],
   "source": [
    "b"
   ]
  },
  {
   "cell_type": "code",
   "execution_count": 28,
   "id": "ee3017bc-cf53-4a2f-9263-af5521b39a2f",
   "metadata": {},
   "outputs": [
    {
     "data": {
      "text/plain": [
       "5"
      ]
     },
     "execution_count": 28,
     "metadata": {},
     "output_type": "execute_result"
    }
   ],
   "source": [
    "int(5)"
   ]
  },
  {
   "cell_type": "code",
   "execution_count": 36,
   "id": "08a97c52-7df1-4373-acb5-30dfc1c050e1",
   "metadata": {},
   "outputs": [],
   "source": [
    "c = coloured_int(8)"
   ]
  },
  {
   "cell_type": "code",
   "execution_count": 37,
   "id": "758d9fca-c857-4e60-af59-5aee3df8c5b1",
   "metadata": {},
   "outputs": [
    {
     "ename": "AttributeError",
     "evalue": "'coloured_int' object has no attribute 'colour'",
     "output_type": "error",
     "traceback": [
      "\u001b[0;31m---------------------------------------------------------------------------\u001b[0m",
      "\u001b[0;31mAttributeError\u001b[0m                            Traceback (most recent call last)",
      "Cell \u001b[0;32mIn[37], line 1\u001b[0m\n\u001b[0;32m----> 1\u001b[0m \u001b[43mb\u001b[49m\u001b[43m \u001b[49m\u001b[38;5;241;43m+\u001b[39;49m\u001b[43m \u001b[49m\u001b[43mc\u001b[49m\n",
      "Cell \u001b[0;32mIn[20], line 3\u001b[0m, in \u001b[0;36mcoloured_int.__add__\u001b[0;34m(x, y)\u001b[0m\n\u001b[1;32m      2\u001b[0m \u001b[38;5;28;01mdef\u001b[39;00m \u001b[38;5;21m__add__\u001b[39m(x, y):\n\u001b[0;32m----> 3\u001b[0m     \u001b[38;5;28;01mif\u001b[39;00m x\u001b[38;5;241m.\u001b[39mcolour \u001b[38;5;241m==\u001b[39m \u001b[43my\u001b[49m\u001b[38;5;241;43m.\u001b[39;49m\u001b[43mcolour\u001b[49m:\n\u001b[1;32m      4\u001b[0m         \u001b[38;5;28;01mreturn\u001b[39;00m \u001b[38;5;28mint\u001b[39m(x) \u001b[38;5;241m+\u001b[39m \u001b[38;5;28mint\u001b[39m(y)\n\u001b[1;32m      5\u001b[0m     \u001b[38;5;28mprint\u001b[39m(\u001b[38;5;124m\"\u001b[39m\u001b[38;5;124mSorry, can\u001b[39m\u001b[38;5;124m'\u001b[39m\u001b[38;5;124mt add ints of diffeent colours\u001b[39m\u001b[38;5;124m\"\u001b[39m)\n",
      "\u001b[0;31mAttributeError\u001b[0m: 'coloured_int' object has no attribute 'colour'"
     ]
    }
   ],
   "source": [
    "b + c"
   ]
  },
  {
   "cell_type": "code",
   "execution_count": 39,
   "id": "84a04aaa-54f3-48f8-9f30-7f81303df41c",
   "metadata": {},
   "outputs": [],
   "source": [
    "b.colour = 'red'"
   ]
  },
  {
   "cell_type": "code",
   "execution_count": 40,
   "id": "95af0911-47ac-4149-b60d-3fabbccf7c88",
   "metadata": {},
   "outputs": [],
   "source": [
    "c.colour = 'yellow'"
   ]
  },
  {
   "cell_type": "code",
   "execution_count": 41,
   "id": "b8f9abf7-8089-40cd-88cb-8ec50a576751",
   "metadata": {},
   "outputs": [
    {
     "name": "stdout",
     "output_type": "stream",
     "text": [
      "Sorry, can't add ints of diffeent colours\n"
     ]
    }
   ],
   "source": [
    "b + c"
   ]
  },
  {
   "cell_type": "code",
   "execution_count": 42,
   "id": "3a0663de-b8e9-4942-aef6-d94b5014bdd6",
   "metadata": {},
   "outputs": [],
   "source": [
    "c.colour = 'red'"
   ]
  },
  {
   "cell_type": "code",
   "execution_count": 43,
   "id": "d7be9f70-e698-46bd-aace-8d820400b455",
   "metadata": {},
   "outputs": [
    {
     "data": {
      "text/plain": [
       "13"
      ]
     },
     "execution_count": 43,
     "metadata": {},
     "output_type": "execute_result"
    }
   ],
   "source": [
    "b + c"
   ]
  },
  {
   "cell_type": "code",
   "execution_count": 44,
   "id": "f39b9841-443a-4eaf-b5e2-95999cbfc0f0",
   "metadata": {},
   "outputs": [],
   "source": [
    "class coloured_int(int):\n",
    "    def __add__(x, y):\n",
    "        if x.colour == y.colour:\n",
    "            return x + y\n",
    "        print(\"Sorry, can't add ints of diffeent colours\")"
   ]
  },
  {
   "cell_type": "code",
   "execution_count": 45,
   "id": "463aac0b-2671-453b-b2cf-65ac735c762c",
   "metadata": {},
   "outputs": [],
   "source": [
    "b = coloured_int(5)\n",
    "c = coloured_int(8)\n",
    "b.colour = 'red'\n",
    "c.colour = 'red'"
   ]
  },
  {
   "cell_type": "code",
   "execution_count": 46,
   "id": "92df0d26-3b6c-4a61-a5e6-c9a1c3196fd0",
   "metadata": {},
   "outputs": [
    {
     "ename": "RecursionError",
     "evalue": "maximum recursion depth exceeded",
     "output_type": "error",
     "traceback": [
      "\u001b[0;31m---------------------------------------------------------------------------\u001b[0m",
      "\u001b[0;31mRecursionError\u001b[0m                            Traceback (most recent call last)",
      "Cell \u001b[0;32mIn[46], line 1\u001b[0m\n\u001b[0;32m----> 1\u001b[0m \u001b[43mb\u001b[49m\u001b[43m \u001b[49m\u001b[38;5;241;43m+\u001b[39;49m\u001b[43m \u001b[49m\u001b[43mc\u001b[49m\n",
      "Cell \u001b[0;32mIn[44], line 4\u001b[0m, in \u001b[0;36mcoloured_int.__add__\u001b[0;34m(x, y)\u001b[0m\n\u001b[1;32m      2\u001b[0m \u001b[38;5;28;01mdef\u001b[39;00m \u001b[38;5;21m__add__\u001b[39m(x, y):\n\u001b[1;32m      3\u001b[0m     \u001b[38;5;28;01mif\u001b[39;00m x\u001b[38;5;241m.\u001b[39mcolour \u001b[38;5;241m==\u001b[39m y\u001b[38;5;241m.\u001b[39mcolour:\n\u001b[0;32m----> 4\u001b[0m         \u001b[38;5;28;01mreturn\u001b[39;00m \u001b[43mx\u001b[49m\u001b[43m \u001b[49m\u001b[38;5;241;43m+\u001b[39;49m\u001b[43m \u001b[49m\u001b[43my\u001b[49m\n\u001b[1;32m      5\u001b[0m     \u001b[38;5;28mprint\u001b[39m(\u001b[38;5;124m\"\u001b[39m\u001b[38;5;124mSorry, can\u001b[39m\u001b[38;5;124m'\u001b[39m\u001b[38;5;124mt add ints of diffeent colours\u001b[39m\u001b[38;5;124m\"\u001b[39m)\n",
      "Cell \u001b[0;32mIn[44], line 4\u001b[0m, in \u001b[0;36mcoloured_int.__add__\u001b[0;34m(x, y)\u001b[0m\n\u001b[1;32m      2\u001b[0m \u001b[38;5;28;01mdef\u001b[39;00m \u001b[38;5;21m__add__\u001b[39m(x, y):\n\u001b[1;32m      3\u001b[0m     \u001b[38;5;28;01mif\u001b[39;00m x\u001b[38;5;241m.\u001b[39mcolour \u001b[38;5;241m==\u001b[39m y\u001b[38;5;241m.\u001b[39mcolour:\n\u001b[0;32m----> 4\u001b[0m         \u001b[38;5;28;01mreturn\u001b[39;00m \u001b[43mx\u001b[49m\u001b[43m \u001b[49m\u001b[38;5;241;43m+\u001b[39;49m\u001b[43m \u001b[49m\u001b[43my\u001b[49m\n\u001b[1;32m      5\u001b[0m     \u001b[38;5;28mprint\u001b[39m(\u001b[38;5;124m\"\u001b[39m\u001b[38;5;124mSorry, can\u001b[39m\u001b[38;5;124m'\u001b[39m\u001b[38;5;124mt add ints of diffeent colours\u001b[39m\u001b[38;5;124m\"\u001b[39m)\n",
      "    \u001b[0;31m[... skipping similar frames: coloured_int.__add__ at line 4 (2974 times)]\u001b[0m\n",
      "Cell \u001b[0;32mIn[44], line 4\u001b[0m, in \u001b[0;36mcoloured_int.__add__\u001b[0;34m(x, y)\u001b[0m\n\u001b[1;32m      2\u001b[0m \u001b[38;5;28;01mdef\u001b[39;00m \u001b[38;5;21m__add__\u001b[39m(x, y):\n\u001b[1;32m      3\u001b[0m     \u001b[38;5;28;01mif\u001b[39;00m x\u001b[38;5;241m.\u001b[39mcolour \u001b[38;5;241m==\u001b[39m y\u001b[38;5;241m.\u001b[39mcolour:\n\u001b[0;32m----> 4\u001b[0m         \u001b[38;5;28;01mreturn\u001b[39;00m \u001b[43mx\u001b[49m\u001b[43m \u001b[49m\u001b[38;5;241;43m+\u001b[39;49m\u001b[43m \u001b[49m\u001b[43my\u001b[49m\n\u001b[1;32m      5\u001b[0m     \u001b[38;5;28mprint\u001b[39m(\u001b[38;5;124m\"\u001b[39m\u001b[38;5;124mSorry, can\u001b[39m\u001b[38;5;124m'\u001b[39m\u001b[38;5;124mt add ints of diffeent colours\u001b[39m\u001b[38;5;124m\"\u001b[39m)\n",
      "\u001b[0;31mRecursionError\u001b[0m: maximum recursion depth exceeded"
     ]
    }
   ],
   "source": [
    "b + c"
   ]
  },
  {
   "cell_type": "code",
   "execution_count": 47,
   "id": "d479d960-9067-4f19-82c6-6782ced8d4bc",
   "metadata": {},
   "outputs": [
    {
     "data": {
      "text/plain": [
       "2"
      ]
     },
     "execution_count": 47,
     "metadata": {},
     "output_type": "execute_result"
    }
   ],
   "source": [
    "int(2)"
   ]
  },
  {
   "cell_type": "code",
   "execution_count": 48,
   "id": "664d3392-0816-4fbd-9663-583b5d024dc7",
   "metadata": {},
   "outputs": [
    {
     "data": {
      "text/plain": [
       "'hi'"
      ]
     },
     "execution_count": 48,
     "metadata": {},
     "output_type": "execute_result"
    }
   ],
   "source": [
    "'hi'"
   ]
  },
  {
   "cell_type": "code",
   "execution_count": 49,
   "id": "496393b0-eb1b-41c6-acd9-6b2839b67d35",
   "metadata": {},
   "outputs": [
    {
     "data": {
      "text/plain": [
       "'hi'"
      ]
     },
     "execution_count": 49,
     "metadata": {},
     "output_type": "execute_result"
    }
   ],
   "source": [
    "str('hi')"
   ]
  },
  {
   "cell_type": "code",
   "execution_count": 50,
   "id": "fcf62096-505b-4b57-943f-1a0026f4ac9b",
   "metadata": {},
   "outputs": [
    {
     "data": {
      "text/plain": [
       "object"
      ]
     },
     "execution_count": 50,
     "metadata": {},
     "output_type": "execute_result"
    }
   ],
   "source": [
    "int.__base__"
   ]
  },
  {
   "cell_type": "code",
   "execution_count": 51,
   "id": "9964b6eb-e8ee-4a9c-8b45-6b344d44d352",
   "metadata": {},
   "outputs": [
    {
     "data": {
      "text/plain": [
       "object"
      ]
     },
     "execution_count": 51,
     "metadata": {},
     "output_type": "execute_result"
    }
   ],
   "source": [
    "str.__base__"
   ]
  },
  {
   "cell_type": "code",
   "execution_count": 52,
   "id": "bcd32920-2796-4181-9204-99573bb6c4e9",
   "metadata": {},
   "outputs": [
    {
     "data": {
      "text/plain": [
       "type"
      ]
     },
     "execution_count": 52,
     "metadata": {},
     "output_type": "execute_result"
    }
   ],
   "source": [
    "type(int)"
   ]
  },
  {
   "cell_type": "code",
   "execution_count": 53,
   "id": "97aebf95-60c4-4118-9d24-7af6b6e540ef",
   "metadata": {},
   "outputs": [
    {
     "data": {
      "text/plain": [
       "type"
      ]
     },
     "execution_count": 53,
     "metadata": {},
     "output_type": "execute_result"
    }
   ],
   "source": [
    "type(str)"
   ]
  },
  {
   "cell_type": "code",
   "execution_count": 54,
   "id": "ce923b6f-0944-4049-8056-e895ac485f69",
   "metadata": {},
   "outputs": [],
   "source": [
    "object.__base__"
   ]
  },
  {
   "cell_type": "code",
   "execution_count": 55,
   "id": "7388df78-651b-4254-baa9-baacaca9c56b",
   "metadata": {},
   "outputs": [
    {
     "name": "stdout",
     "output_type": "stream",
     "text": [
      "None\n"
     ]
    }
   ],
   "source": [
    "print(object.__base__)"
   ]
  },
  {
   "cell_type": "code",
   "execution_count": 56,
   "id": "8f994b73-0d22-4f25-a2bf-6fc219500814",
   "metadata": {},
   "outputs": [
    {
     "data": {
      "text/plain": [
       "type"
      ]
     },
     "execution_count": 56,
     "metadata": {},
     "output_type": "execute_result"
    }
   ],
   "source": [
    "type(object)"
   ]
  },
  {
   "cell_type": "code",
   "execution_count": 57,
   "id": "777f2215-e52c-4fd5-a95c-af7023e9b132",
   "metadata": {},
   "outputs": [
    {
     "data": {
      "text/plain": [
       "object"
      ]
     },
     "execution_count": 57,
     "metadata": {},
     "output_type": "execute_result"
    }
   ],
   "source": [
    "type.__base__"
   ]
  },
  {
   "cell_type": "code",
   "execution_count": 58,
   "id": "acf15514-1e60-43f1-ad62-ec415508072f",
   "metadata": {},
   "outputs": [
    {
     "data": {
      "text/plain": [
       "int"
      ]
     },
     "execution_count": 58,
     "metadata": {},
     "output_type": "execute_result"
    }
   ],
   "source": [
    "coloured_int.__base__"
   ]
  },
  {
   "cell_type": "code",
   "execution_count": 59,
   "id": "ec0222f6-da9e-4f35-92bc-8e78a78c323d",
   "metadata": {},
   "outputs": [
    {
     "data": {
      "text/plain": [
       "type"
      ]
     },
     "execution_count": 59,
     "metadata": {},
     "output_type": "execute_result"
    }
   ],
   "source": [
    "type(coloured_int)"
   ]
  },
  {
   "cell_type": "code",
   "execution_count": 60,
   "id": "a62df444-eeac-4f71-ada5-51223f603767",
   "metadata": {},
   "outputs": [],
   "source": [
    "from fractions import Fraction"
   ]
  },
  {
   "cell_type": "code",
   "execution_count": 61,
   "id": "00ad12a3-89bf-4bb6-8da8-baa43a2d18cf",
   "metadata": {},
   "outputs": [
    {
     "data": {
      "text/plain": [
       "Fraction(2, 3)"
      ]
     },
     "execution_count": 61,
     "metadata": {},
     "output_type": "execute_result"
    }
   ],
   "source": [
    "Fraction(2, 3)"
   ]
  },
  {
   "cell_type": "code",
   "execution_count": 62,
   "id": "3634c70c-e4b1-495b-a836-a878a495e45b",
   "metadata": {},
   "outputs": [
    {
     "data": {
      "text/plain": [
       "Fraction(2, 3)"
      ]
     },
     "execution_count": 62,
     "metadata": {},
     "output_type": "execute_result"
    }
   ],
   "source": [
    "Fraction('2 / 3')"
   ]
  },
  {
   "cell_type": "code",
   "execution_count": 63,
   "id": "14df6b53-bd94-4152-b8b6-e05642b5ea90",
   "metadata": {},
   "outputs": [
    {
     "data": {
      "text/plain": [
       "Fraction(6004799503160661, 9007199254740992)"
      ]
     },
     "execution_count": 63,
     "metadata": {},
     "output_type": "execute_result"
    }
   ],
   "source": [
    "Fraction(2 / 3)"
   ]
  },
  {
   "cell_type": "code",
   "execution_count": 64,
   "id": "82860675-fca5-4b84-bb7e-5e75583a46bf",
   "metadata": {},
   "outputs": [
    {
     "data": {
      "text/plain": [
       "0.6666666666666666"
      ]
     },
     "execution_count": 64,
     "metadata": {},
     "output_type": "execute_result"
    }
   ],
   "source": [
    "2/3"
   ]
  },
  {
   "cell_type": "code",
   "execution_count": 69,
   "id": "c9172578-9536-4458-ad5e-15f9066d7dc9",
   "metadata": {},
   "outputs": [
    {
     "data": {
      "text/plain": [
       "numbers.Rational"
      ]
     },
     "execution_count": 69,
     "metadata": {},
     "output_type": "execute_result"
    },
    {
     "data": {
      "text/plain": [
       "numbers.Real"
      ]
     },
     "execution_count": 69,
     "metadata": {},
     "output_type": "execute_result"
    },
    {
     "data": {
      "text/plain": [
       "numbers.Complex"
      ]
     },
     "execution_count": 69,
     "metadata": {},
     "output_type": "execute_result"
    },
    {
     "data": {
      "text/plain": [
       "numbers.Number"
      ]
     },
     "execution_count": 69,
     "metadata": {},
     "output_type": "execute_result"
    },
    {
     "data": {
      "text/plain": [
       "object"
      ]
     },
     "execution_count": 69,
     "metadata": {},
     "output_type": "execute_result"
    }
   ],
   "source": [
    "Fraction.__base__\n",
    "Fraction.__base__.__base__\n",
    "Fraction.__base__.__base__.__base__\n",
    "Fraction.__base__.__base__.__base__.__base__\n",
    "Fraction.__base__.__base__.__base__.__base__.__base__"
   ]
  },
  {
   "cell_type": "code",
   "execution_count": 70,
   "id": "eec8c47e-5e2b-4f28-bebe-50f7d4ab509e",
   "metadata": {},
   "outputs": [
    {
     "data": {
      "text/plain": [
       "abc.ABCMeta"
      ]
     },
     "execution_count": 70,
     "metadata": {},
     "output_type": "execute_result"
    }
   ],
   "source": [
    "type(Fraction)"
   ]
  },
  {
   "cell_type": "code",
   "execution_count": 71,
   "id": "07930e88-1f1e-46bd-918c-1aa1e2785921",
   "metadata": {},
   "outputs": [],
   "source": [
    "from abc import ABCMeta"
   ]
  },
  {
   "cell_type": "code",
   "execution_count": 72,
   "id": "40446c80-83e6-4da3-8260-b823baf3c7de",
   "metadata": {},
   "outputs": [
    {
     "data": {
      "text/plain": [
       "type"
      ]
     },
     "execution_count": 72,
     "metadata": {},
     "output_type": "execute_result"
    }
   ],
   "source": [
    "ABCMeta.__base__"
   ]
  },
  {
   "cell_type": "code",
   "execution_count": 73,
   "id": "5157ef2d-1a38-4d4c-9301-475e3571c682",
   "metadata": {},
   "outputs": [
    {
     "data": {
      "text/plain": [
       "type"
      ]
     },
     "execution_count": 73,
     "metadata": {},
     "output_type": "execute_result"
    }
   ],
   "source": [
    "type(ABCMeta)"
   ]
  },
  {
   "cell_type": "code",
   "execution_count": 74,
   "id": "bd9d818e-ad95-460c-9d6c-478e08e8614f",
   "metadata": {},
   "outputs": [],
   "source": [
    "class coloured_int:\n",
    "    nb_of_coloured_int = 0\n",
    "\n",
    "    def __init__(self, value, colour):\n",
    "        self.value = value\n",
    "        self.colour = colour\n",
    "        nb_of_coloured_int += 1\n",
    "    def __add__(self, y):\n",
    "        if x.colour == y.colour:\n",
    "            return x.value + y.value\n",
    "        print(\"Sorry, can't add ints of diffeent colours\")"
   ]
  },
  {
   "cell_type": "code",
   "execution_count": 75,
   "id": "22a356b7-25ef-4de6-8b47-55d749eba5be",
   "metadata": {},
   "outputs": [
    {
     "ename": "TypeError",
     "evalue": "coloured_int.__init__() missing 2 required positional arguments: 'value' and 'colour'",
     "output_type": "error",
     "traceback": [
      "\u001b[0;31m---------------------------------------------------------------------------\u001b[0m",
      "\u001b[0;31mTypeError\u001b[0m                                 Traceback (most recent call last)",
      "Cell \u001b[0;32mIn[75], line 1\u001b[0m\n\u001b[0;32m----> 1\u001b[0m \u001b[43mcoloured_int\u001b[49m\u001b[43m(\u001b[49m\u001b[43m)\u001b[49m\n",
      "\u001b[0;31mTypeError\u001b[0m: coloured_int.__init__() missing 2 required positional arguments: 'value' and 'colour'"
     ]
    }
   ],
   "source": [
    "coloured_int()"
   ]
  },
  {
   "cell_type": "code",
   "execution_count": 76,
   "id": "820fa6b0-f0c4-4cf8-b941-f6d9786d628b",
   "metadata": {},
   "outputs": [
    {
     "ename": "UnboundLocalError",
     "evalue": "cannot access local variable 'nb_of_coloured_int' where it is not associated with a value",
     "output_type": "error",
     "traceback": [
      "\u001b[0;31m---------------------------------------------------------------------------\u001b[0m",
      "\u001b[0;31mUnboundLocalError\u001b[0m                         Traceback (most recent call last)",
      "Cell \u001b[0;32mIn[76], line 1\u001b[0m\n\u001b[0;32m----> 1\u001b[0m \u001b[43mcoloured_int\u001b[49m\u001b[43m(\u001b[49m\u001b[38;5;241;43m2\u001b[39;49m\u001b[43m,\u001b[49m\u001b[43m \u001b[49m\u001b[38;5;124;43m'\u001b[39;49m\u001b[38;5;124;43mgreen\u001b[39;49m\u001b[38;5;124;43m'\u001b[39;49m\u001b[43m)\u001b[49m\n",
      "Cell \u001b[0;32mIn[74], line 7\u001b[0m, in \u001b[0;36mcoloured_int.__init__\u001b[0;34m(self, value, colour)\u001b[0m\n\u001b[1;32m      5\u001b[0m \u001b[38;5;28mself\u001b[39m\u001b[38;5;241m.\u001b[39mvalue \u001b[38;5;241m=\u001b[39m value\n\u001b[1;32m      6\u001b[0m \u001b[38;5;28mself\u001b[39m\u001b[38;5;241m.\u001b[39mcolour \u001b[38;5;241m=\u001b[39m colour\n\u001b[0;32m----> 7\u001b[0m \u001b[43mnb_of_coloured_int\u001b[49m \u001b[38;5;241m+\u001b[39m\u001b[38;5;241m=\u001b[39m \u001b[38;5;241m1\u001b[39m\n",
      "\u001b[0;31mUnboundLocalError\u001b[0m: cannot access local variable 'nb_of_coloured_int' where it is not associated with a value"
     ]
    }
   ],
   "source": [
    "coloured_int(2, 'green')"
   ]
  },
  {
   "cell_type": "code",
   "execution_count": 86,
   "id": "095b28a7-3fba-4e3b-994b-06b605666034",
   "metadata": {},
   "outputs": [],
   "source": [
    "class coloured_int:\n",
    "    nb_of_coloured_int = 0\n",
    "\n",
    "    def __init__(self, value, colour):\n",
    "        self.value = value\n",
    "        self.colour = colour\n",
    "        coloured_int.nb_of_coloured_int += 1\n",
    "\n",
    "    def __add__(self, y):\n",
    "        if self.colour == y.colour:\n",
    "            return self.value + y.value\n",
    "        print(\"Sorry, can't add ints of diffeent colours\")"
   ]
  },
  {
   "cell_type": "code",
   "execution_count": 78,
   "id": "0c7e28a8-ad83-44cd-b53e-00c6064960a0",
   "metadata": {},
   "outputs": [
    {
     "data": {
      "text/plain": [
       "<__main__.coloured_int at 0x106495160>"
      ]
     },
     "execution_count": 78,
     "metadata": {},
     "output_type": "execute_result"
    }
   ],
   "source": [
    "coloured_int(2, 'green')"
   ]
  },
  {
   "cell_type": "code",
   "execution_count": 79,
   "id": "d24325fb-3763-4084-a97a-9b0ddcd93675",
   "metadata": {},
   "outputs": [],
   "source": [
    "A = coloured_int(34, 'red')"
   ]
  },
  {
   "cell_type": "code",
   "execution_count": 80,
   "id": "f40b6721-218b-4b7b-8c2a-f6bd46f617cf",
   "metadata": {},
   "outputs": [
    {
     "data": {
      "text/plain": [
       "34"
      ]
     },
     "execution_count": 80,
     "metadata": {},
     "output_type": "execute_result"
    }
   ],
   "source": [
    "A.value"
   ]
  },
  {
   "cell_type": "code",
   "execution_count": 81,
   "id": "43455fba-9dbd-4e7a-9c3e-9f0d777b9177",
   "metadata": {},
   "outputs": [
    {
     "data": {
      "text/plain": [
       "'red'"
      ]
     },
     "execution_count": 81,
     "metadata": {},
     "output_type": "execute_result"
    }
   ],
   "source": [
    "A.colour"
   ]
  },
  {
   "cell_type": "code",
   "execution_count": 82,
   "id": "04f17dbb-d1fa-4a8d-a36f-c067e9f70f20",
   "metadata": {},
   "outputs": [
    {
     "data": {
      "text/plain": [
       "2"
      ]
     },
     "execution_count": 82,
     "metadata": {},
     "output_type": "execute_result"
    }
   ],
   "source": [
    "coloured_int.nb_of_coloured_int"
   ]
  },
  {
   "cell_type": "code",
   "execution_count": 83,
   "id": "7e79dece-6cac-45d7-984b-0444b0197e4a",
   "metadata": {},
   "outputs": [
    {
     "data": {
      "text/plain": [
       "2"
      ]
     },
     "execution_count": 83,
     "metadata": {},
     "output_type": "execute_result"
    }
   ],
   "source": [
    "A.nb_of_coloured_int"
   ]
  },
  {
   "cell_type": "code",
   "execution_count": 87,
   "id": "ed4ba594-541c-48ea-8deb-88d24bda2051",
   "metadata": {},
   "outputs": [],
   "source": [
    "I = coloured_int(12, 'red')\n",
    "J = coloured_int(24, 'green')"
   ]
  },
  {
   "cell_type": "code",
   "execution_count": 88,
   "id": "ff54f3e1-8b20-4eea-8290-64fdfe88ccd5",
   "metadata": {},
   "outputs": [
    {
     "name": "stdout",
     "output_type": "stream",
     "text": [
      "Sorry, can't add ints of diffeent colours\n"
     ]
    }
   ],
   "source": [
    "I + J"
   ]
  },
  {
   "cell_type": "code",
   "execution_count": 89,
   "id": "fb13ec36-350b-46a1-b8c8-c98bcb68767e",
   "metadata": {},
   "outputs": [],
   "source": [
    "J.colour = 'red'"
   ]
  },
  {
   "cell_type": "code",
   "execution_count": 90,
   "id": "16779658-665c-47fb-874c-a377b44ac63c",
   "metadata": {},
   "outputs": [
    {
     "data": {
      "text/plain": [
       "36"
      ]
     },
     "execution_count": 90,
     "metadata": {},
     "output_type": "execute_result"
    }
   ],
   "source": [
    "I + J"
   ]
  },
  {
   "cell_type": "code",
   "execution_count": 91,
   "id": "50c4152e-bc59-4373-8eea-aa5fe3773b0e",
   "metadata": {},
   "outputs": [
    {
     "data": {
      "text/plain": [
       "2"
      ]
     },
     "execution_count": 91,
     "metadata": {},
     "output_type": "execute_result"
    }
   ],
   "source": [
    "J.nb_of_coloured_int"
   ]
  },
  {
   "cell_type": "code",
   "execution_count": 92,
   "id": "0183a35f-fd13-4504-872f-4429078ad0de",
   "metadata": {},
   "outputs": [
    {
     "data": {
      "text/plain": [
       "['__class__',\n",
       " '__delattr__',\n",
       " '__dir__',\n",
       " '__doc__',\n",
       " '__eq__',\n",
       " '__format__',\n",
       " '__ge__',\n",
       " '__getattribute__',\n",
       " '__getstate__',\n",
       " '__gt__',\n",
       " '__hash__',\n",
       " '__init__',\n",
       " '__init_subclass__',\n",
       " '__le__',\n",
       " '__lt__',\n",
       " '__ne__',\n",
       " '__new__',\n",
       " '__reduce__',\n",
       " '__reduce_ex__',\n",
       " '__repr__',\n",
       " '__setattr__',\n",
       " '__sizeof__',\n",
       " '__str__',\n",
       " '__subclasshook__']"
      ]
     },
     "execution_count": 92,
     "metadata": {},
     "output_type": "execute_result"
    }
   ],
   "source": [
    "dir(object)"
   ]
  },
  {
   "cell_type": "code",
   "execution_count": 93,
   "id": "eb9196fb-9fab-4f92-a7d3-12720901ecf7",
   "metadata": {},
   "outputs": [
    {
     "data": {
      "text/plain": [
       "mappingproxy({'__new__': <function object.__new__(*args, **kwargs)>,\n",
       "              '__repr__': <slot wrapper '__repr__' of 'object' objects>,\n",
       "              '__hash__': <slot wrapper '__hash__' of 'object' objects>,\n",
       "              '__str__': <slot wrapper '__str__' of 'object' objects>,\n",
       "              '__getattribute__': <slot wrapper '__getattribute__' of 'object' objects>,\n",
       "              '__setattr__': <slot wrapper '__setattr__' of 'object' objects>,\n",
       "              '__delattr__': <slot wrapper '__delattr__' of 'object' objects>,\n",
       "              '__lt__': <slot wrapper '__lt__' of 'object' objects>,\n",
       "              '__le__': <slot wrapper '__le__' of 'object' objects>,\n",
       "              '__eq__': <slot wrapper '__eq__' of 'object' objects>,\n",
       "              '__ne__': <slot wrapper '__ne__' of 'object' objects>,\n",
       "              '__gt__': <slot wrapper '__gt__' of 'object' objects>,\n",
       "              '__ge__': <slot wrapper '__ge__' of 'object' objects>,\n",
       "              '__init__': <slot wrapper '__init__' of 'object' objects>,\n",
       "              '__reduce_ex__': <method '__reduce_ex__' of 'object' objects>,\n",
       "              '__reduce__': <method '__reduce__' of 'object' objects>,\n",
       "              '__getstate__': <method '__getstate__' of 'object' objects>,\n",
       "              '__subclasshook__': <method '__subclasshook__' of 'object' objects>,\n",
       "              '__init_subclass__': <method '__init_subclass__' of 'object' objects>,\n",
       "              '__format__': <method '__format__' of 'object' objects>,\n",
       "              '__sizeof__': <method '__sizeof__' of 'object' objects>,\n",
       "              '__dir__': <method '__dir__' of 'object' objects>,\n",
       "              '__class__': <attribute '__class__' of 'object' objects>,\n",
       "              '__doc__': 'The base class of the class hierarchy.\\n\\nWhen called, it accepts no arguments and returns a new featureless\\ninstance that has no instance attributes and cannot be given any.\\n'})"
      ]
     },
     "execution_count": 93,
     "metadata": {},
     "output_type": "execute_result"
    }
   ],
   "source": [
    "object.__dict__"
   ]
  },
  {
   "cell_type": "code",
   "execution_count": 94,
   "id": "74275f79-8f07-4409-b61a-48fd48b6abbe",
   "metadata": {},
   "outputs": [
    {
     "data": {
      "text/plain": [
       "True"
      ]
     },
     "execution_count": 94,
     "metadata": {},
     "output_type": "execute_result"
    }
   ],
   "source": [
    "set(object.__dict__) == set(dir(object))"
   ]
  },
  {
   "cell_type": "code",
   "execution_count": 95,
   "id": "bf99458e-0cc0-45e2-95b8-f727535fba85",
   "metadata": {},
   "outputs": [
    {
     "data": {
      "text/plain": [
       "False"
      ]
     },
     "execution_count": 95,
     "metadata": {},
     "output_type": "execute_result"
    }
   ],
   "source": [
    "set(str.__dict__) == set(dir(str))"
   ]
  },
  {
   "cell_type": "code",
   "execution_count": 96,
   "id": "456635ac-5969-4ae7-b267-be26f3b1b24d",
   "metadata": {
    "scrolled": true
   },
   "outputs": [
    {
     "data": {
      "text/plain": [
       "['__add__',\n",
       " '__class__',\n",
       " '__contains__',\n",
       " '__delattr__',\n",
       " '__dir__',\n",
       " '__doc__',\n",
       " '__eq__',\n",
       " '__format__',\n",
       " '__ge__',\n",
       " '__getattribute__',\n",
       " '__getitem__',\n",
       " '__getnewargs__',\n",
       " '__getstate__',\n",
       " '__gt__',\n",
       " '__hash__',\n",
       " '__init__',\n",
       " '__init_subclass__',\n",
       " '__iter__',\n",
       " '__le__',\n",
       " '__len__',\n",
       " '__lt__',\n",
       " '__mod__',\n",
       " '__mul__',\n",
       " '__ne__',\n",
       " '__new__',\n",
       " '__reduce__',\n",
       " '__reduce_ex__',\n",
       " '__repr__',\n",
       " '__rmod__',\n",
       " '__rmul__',\n",
       " '__setattr__',\n",
       " '__sizeof__',\n",
       " '__str__',\n",
       " '__subclasshook__',\n",
       " 'capitalize',\n",
       " 'casefold',\n",
       " 'center',\n",
       " 'count',\n",
       " 'encode',\n",
       " 'endswith',\n",
       " 'expandtabs',\n",
       " 'find',\n",
       " 'format',\n",
       " 'format_map',\n",
       " 'index',\n",
       " 'isalnum',\n",
       " 'isalpha',\n",
       " 'isascii',\n",
       " 'isdecimal',\n",
       " 'isdigit',\n",
       " 'isidentifier',\n",
       " 'islower',\n",
       " 'isnumeric',\n",
       " 'isprintable',\n",
       " 'isspace',\n",
       " 'istitle',\n",
       " 'isupper',\n",
       " 'join',\n",
       " 'ljust',\n",
       " 'lower',\n",
       " 'lstrip',\n",
       " 'maketrans',\n",
       " 'partition',\n",
       " 'removeprefix',\n",
       " 'removesuffix',\n",
       " 'replace',\n",
       " 'rfind',\n",
       " 'rindex',\n",
       " 'rjust',\n",
       " 'rpartition',\n",
       " 'rsplit',\n",
       " 'rstrip',\n",
       " 'split',\n",
       " 'splitlines',\n",
       " 'startswith',\n",
       " 'strip',\n",
       " 'swapcase',\n",
       " 'title',\n",
       " 'translate',\n",
       " 'upper',\n",
       " 'zfill']"
      ]
     },
     "execution_count": 96,
     "metadata": {},
     "output_type": "execute_result"
    }
   ],
   "source": [
    "dir(str)"
   ]
  },
  {
   "cell_type": "code",
   "execution_count": 97,
   "id": "ef240a51-a316-4dd8-8a8d-990247cf3034",
   "metadata": {},
   "outputs": [
    {
     "data": {
      "text/plain": [
       "True"
      ]
     },
     "execution_count": 97,
     "metadata": {},
     "output_type": "execute_result"
    }
   ],
   "source": [
    "set(dir(str)) == set(str.__dict__) | set(object.__dict__)"
   ]
  },
  {
   "cell_type": "code",
   "execution_count": 98,
   "id": "05b95e98-f5c2-426d-8667-5ae15611d3d8",
   "metadata": {},
   "outputs": [
    {
     "data": {
      "text/plain": [
       "{'__add__',\n",
       " '__contains__',\n",
       " '__getitem__',\n",
       " '__getnewargs__',\n",
       " '__iter__',\n",
       " '__len__',\n",
       " '__mod__',\n",
       " '__mul__',\n",
       " '__rmod__',\n",
       " '__rmul__',\n",
       " 'capitalize',\n",
       " 'casefold',\n",
       " 'center',\n",
       " 'count',\n",
       " 'encode',\n",
       " 'endswith',\n",
       " 'expandtabs',\n",
       " 'find',\n",
       " 'format',\n",
       " 'format_map',\n",
       " 'index',\n",
       " 'isalnum',\n",
       " 'isalpha',\n",
       " 'isascii',\n",
       " 'isdecimal',\n",
       " 'isdigit',\n",
       " 'isidentifier',\n",
       " 'islower',\n",
       " 'isnumeric',\n",
       " 'isprintable',\n",
       " 'isspace',\n",
       " 'istitle',\n",
       " 'isupper',\n",
       " 'join',\n",
       " 'ljust',\n",
       " 'lower',\n",
       " 'lstrip',\n",
       " 'maketrans',\n",
       " 'partition',\n",
       " 'removeprefix',\n",
       " 'removesuffix',\n",
       " 'replace',\n",
       " 'rfind',\n",
       " 'rindex',\n",
       " 'rjust',\n",
       " 'rpartition',\n",
       " 'rsplit',\n",
       " 'rstrip',\n",
       " 'split',\n",
       " 'splitlines',\n",
       " 'startswith',\n",
       " 'strip',\n",
       " 'swapcase',\n",
       " 'title',\n",
       " 'translate',\n",
       " 'upper',\n",
       " 'zfill'}"
      ]
     },
     "execution_count": 98,
     "metadata": {},
     "output_type": "execute_result"
    }
   ],
   "source": [
    "set(str.__dict__) - set(object.__dict__)"
   ]
  },
  {
   "cell_type": "code",
   "execution_count": 99,
   "id": "42bbf774-cf68-42d9-beb2-d65a561a5add",
   "metadata": {},
   "outputs": [
    {
     "data": {
      "text/plain": [
       "{'__class__',\n",
       " '__delattr__',\n",
       " '__dir__',\n",
       " '__getattribute__',\n",
       " '__getstate__',\n",
       " '__init__',\n",
       " '__init_subclass__',\n",
       " '__reduce__',\n",
       " '__reduce_ex__',\n",
       " '__setattr__',\n",
       " '__subclasshook__'}"
      ]
     },
     "execution_count": 99,
     "metadata": {},
     "output_type": "execute_result"
    }
   ],
   "source": [
    "set(object.__dict__) - set(str.__dict__)"
   ]
  },
  {
   "cell_type": "code",
   "execution_count": 100,
   "id": "830fac3a-8cd1-4414-abeb-475073a6f8bd",
   "metadata": {},
   "outputs": [
    {
     "data": {
      "text/plain": [
       "{'__doc__',\n",
       " '__eq__',\n",
       " '__format__',\n",
       " '__ge__',\n",
       " '__gt__',\n",
       " '__hash__',\n",
       " '__le__',\n",
       " '__lt__',\n",
       " '__ne__',\n",
       " '__new__',\n",
       " '__repr__',\n",
       " '__sizeof__',\n",
       " '__str__'}"
      ]
     },
     "execution_count": 100,
     "metadata": {},
     "output_type": "execute_result"
    }
   ],
   "source": [
    "set(object.__dict__) & set(str.__dict__)"
   ]
  },
  {
   "cell_type": "code",
   "execution_count": 101,
   "id": "c567ae48-0593-4479-b0f2-0c989e45ffb4",
   "metadata": {},
   "outputs": [
    {
     "data": {
      "text/plain": [
       "'The base class of the class hierarchy.\\n\\nWhen called, it accepts no arguments and returns a new featureless\\ninstance that has no instance attributes and cannot be given any.\\n'"
      ]
     },
     "execution_count": 101,
     "metadata": {},
     "output_type": "execute_result"
    }
   ],
   "source": [
    "object.__dict__['__doc__']"
   ]
  },
  {
   "cell_type": "code",
   "execution_count": 102,
   "id": "3c97288a-9fe0-4d48-8ebb-0c1900e00afb",
   "metadata": {},
   "outputs": [
    {
     "data": {
      "text/plain": [
       "'The base class of the class hierarchy.\\n\\nWhen called, it accepts no arguments and returns a new featureless\\ninstance that has no instance attributes and cannot be given any.\\n'"
      ]
     },
     "execution_count": 102,
     "metadata": {},
     "output_type": "execute_result"
    }
   ],
   "source": [
    "object.__doc__"
   ]
  },
  {
   "cell_type": "code",
   "execution_count": 103,
   "id": "45a5b196-818e-4327-ac7a-29a0f580ffff",
   "metadata": {},
   "outputs": [
    {
     "data": {
      "text/plain": [
       "\"str(object='') -> str\\nstr(bytes_or_buffer[, encoding[, errors]]) -> str\\n\\nCreate a new string object from the given object. If encoding or\\nerrors is specified, then the object must expose a data buffer\\nthat will be decoded using the given encoding and error handler.\\nOtherwise, returns the result of object.__str__() (if defined)\\nor repr(object).\\nencoding defaults to 'utf-8'.\\nerrors defaults to 'strict'.\""
      ]
     },
     "execution_count": 103,
     "metadata": {},
     "output_type": "execute_result"
    }
   ],
   "source": [
    "str.__dict__['__doc__']"
   ]
  },
  {
   "cell_type": "code",
   "execution_count": 104,
   "id": "dca7515a-100d-40e2-ae9b-44958e03c3bc",
   "metadata": {},
   "outputs": [
    {
     "data": {
      "text/plain": [
       "\"str(object='') -> str\\nstr(bytes_or_buffer[, encoding[, errors]]) -> str\\n\\nCreate a new string object from the given object. If encoding or\\nerrors is specified, then the object must expose a data buffer\\nthat will be decoded using the given encoding and error handler.\\nOtherwise, returns the result of object.__str__() (if defined)\\nor repr(object).\\nencoding defaults to 'utf-8'.\\nerrors defaults to 'strict'.\""
      ]
     },
     "execution_count": 104,
     "metadata": {},
     "output_type": "execute_result"
    }
   ],
   "source": [
    "str.__doc__"
   ]
  },
  {
   "cell_type": "code",
   "execution_count": 105,
   "id": "1a026eec-af6f-46f0-a5b9-135d3672fcde",
   "metadata": {
    "scrolled": true
   },
   "outputs": [
    {
     "name": "stdout",
     "output_type": "stream",
     "text": [
      "Help on class str in module builtins:\n",
      "\n",
      "class str(object)\n",
      " |  str(object='') -> str\n",
      " |  str(bytes_or_buffer[, encoding[, errors]]) -> str\n",
      " |\n",
      " |  Create a new string object from the given object. If encoding or\n",
      " |  errors is specified, then the object must expose a data buffer\n",
      " |  that will be decoded using the given encoding and error handler.\n",
      " |  Otherwise, returns the result of object.__str__() (if defined)\n",
      " |  or repr(object).\n",
      " |  encoding defaults to 'utf-8'.\n",
      " |  errors defaults to 'strict'.\n",
      " |\n",
      " |  Methods defined here:\n",
      " |\n",
      " |  __add__(self, value, /)\n",
      " |      Return self+value.\n",
      " |\n",
      " |  __contains__(self, key, /)\n",
      " |      Return bool(key in self).\n",
      " |\n",
      " |  __eq__(self, value, /)\n",
      " |      Return self==value.\n",
      " |\n",
      " |  __format__(self, format_spec, /)\n",
      " |      Return a formatted version of the string as described by format_spec.\n",
      " |\n",
      " |  __ge__(self, value, /)\n",
      " |      Return self>=value.\n",
      " |\n",
      " |  __getitem__(self, key, /)\n",
      " |      Return self[key].\n",
      " |\n",
      " |  __getnewargs__(self, /)\n",
      " |\n",
      " |  __gt__(self, value, /)\n",
      " |      Return self>value.\n",
      " |\n",
      " |  __hash__(self, /)\n",
      " |      Return hash(self).\n",
      " |\n",
      " |  __iter__(self, /)\n",
      " |      Implement iter(self).\n",
      " |\n",
      " |  __le__(self, value, /)\n",
      " |      Return self<=value.\n",
      " |\n",
      " |  __len__(self, /)\n",
      " |      Return len(self).\n",
      " |\n",
      " |  __lt__(self, value, /)\n",
      " |      Return self<value.\n",
      " |\n",
      " |  __mod__(self, value, /)\n",
      " |      Return self%value.\n",
      " |\n",
      " |  __mul__(self, value, /)\n",
      " |      Return self*value.\n",
      " |\n",
      " |  __ne__(self, value, /)\n",
      " |      Return self!=value.\n",
      " |\n",
      " |  __repr__(self, /)\n",
      " |      Return repr(self).\n",
      " |\n",
      " |  __rmod__(self, value, /)\n",
      " |      Return value%self.\n",
      " |\n",
      " |  __rmul__(self, value, /)\n",
      " |      Return value*self.\n",
      " |\n",
      " |  __sizeof__(self, /)\n",
      " |      Return the size of the string in memory, in bytes.\n",
      " |\n",
      " |  __str__(self, /)\n",
      " |      Return str(self).\n",
      " |\n",
      " |  capitalize(self, /)\n",
      " |      Return a capitalized version of the string.\n",
      " |\n",
      " |      More specifically, make the first character have upper case and the rest lower\n",
      " |      case.\n",
      " |\n",
      " |  casefold(self, /)\n",
      " |      Return a version of the string suitable for caseless comparisons.\n",
      " |\n",
      " |  center(self, width, fillchar=' ', /)\n",
      " |      Return a centered string of length width.\n",
      " |\n",
      " |      Padding is done using the specified fill character (default is a space).\n",
      " |\n",
      " |  count(self, sub[, start[, end]], /)\n",
      " |      Return the number of non-overlapping occurrences of substring sub in string S[start:end].\n",
      " |\n",
      " |      Optional arguments start and end are interpreted as in slice notation.\n",
      " |\n",
      " |  encode(self, /, encoding='utf-8', errors='strict')\n",
      " |      Encode the string using the codec registered for encoding.\n",
      " |\n",
      " |      encoding\n",
      " |        The encoding in which to encode the string.\n",
      " |      errors\n",
      " |        The error handling scheme to use for encoding errors.\n",
      " |        The default is 'strict' meaning that encoding errors raise a\n",
      " |        UnicodeEncodeError.  Other possible values are 'ignore', 'replace' and\n",
      " |        'xmlcharrefreplace' as well as any other name registered with\n",
      " |        codecs.register_error that can handle UnicodeEncodeErrors.\n",
      " |\n",
      " |  endswith(self, suffix[, start[, end]], /)\n",
      " |      Return True if the string ends with the specified suffix, False otherwise.\n",
      " |\n",
      " |      suffix\n",
      " |        A string or a tuple of strings to try.\n",
      " |      start\n",
      " |        Optional start position. Default: start of the string.\n",
      " |      end\n",
      " |        Optional stop position. Default: end of the string.\n",
      " |\n",
      " |  expandtabs(self, /, tabsize=8)\n",
      " |      Return a copy where all tab characters are expanded using spaces.\n",
      " |\n",
      " |      If tabsize is not given, a tab size of 8 characters is assumed.\n",
      " |\n",
      " |  find(self, sub[, start[, end]], /)\n",
      " |      Return the lowest index in S where substring sub is found, such that sub is contained within S[start:end].\n",
      " |\n",
      " |      Optional arguments start and end are interpreted as in slice notation.\n",
      " |      Return -1 on failure.\n",
      " |\n",
      " |  format(self, /, *args, **kwargs)\n",
      " |      Return a formatted version of the string, using substitutions from args and kwargs.\n",
      " |      The substitutions are identified by braces ('{' and '}').\n",
      " |\n",
      " |  format_map(self, mapping, /)\n",
      " |      Return a formatted version of the string, using substitutions from mapping.\n",
      " |      The substitutions are identified by braces ('{' and '}').\n",
      " |\n",
      " |  index(self, sub[, start[, end]], /)\n",
      " |      Return the lowest index in S where substring sub is found, such that sub is contained within S[start:end].\n",
      " |\n",
      " |      Optional arguments start and end are interpreted as in slice notation.\n",
      " |      Raises ValueError when the substring is not found.\n",
      " |\n",
      " |  isalnum(self, /)\n",
      " |      Return True if the string is an alpha-numeric string, False otherwise.\n",
      " |\n",
      " |      A string is alpha-numeric if all characters in the string are alpha-numeric and\n",
      " |      there is at least one character in the string.\n",
      " |\n",
      " |  isalpha(self, /)\n",
      " |      Return True if the string is an alphabetic string, False otherwise.\n",
      " |\n",
      " |      A string is alphabetic if all characters in the string are alphabetic and there\n",
      " |      is at least one character in the string.\n",
      " |\n",
      " |  isascii(self, /)\n",
      " |      Return True if all characters in the string are ASCII, False otherwise.\n",
      " |\n",
      " |      ASCII characters have code points in the range U+0000-U+007F.\n",
      " |      Empty string is ASCII too.\n",
      " |\n",
      " |  isdecimal(self, /)\n",
      " |      Return True if the string is a decimal string, False otherwise.\n",
      " |\n",
      " |      A string is a decimal string if all characters in the string are decimal and\n",
      " |      there is at least one character in the string.\n",
      " |\n",
      " |  isdigit(self, /)\n",
      " |      Return True if the string is a digit string, False otherwise.\n",
      " |\n",
      " |      A string is a digit string if all characters in the string are digits and there\n",
      " |      is at least one character in the string.\n",
      " |\n",
      " |  isidentifier(self, /)\n",
      " |      Return True if the string is a valid Python identifier, False otherwise.\n",
      " |\n",
      " |      Call keyword.iskeyword(s) to test whether string s is a reserved identifier,\n",
      " |      such as \"def\" or \"class\".\n",
      " |\n",
      " |  islower(self, /)\n",
      " |      Return True if the string is a lowercase string, False otherwise.\n",
      " |\n",
      " |      A string is lowercase if all cased characters in the string are lowercase and\n",
      " |      there is at least one cased character in the string.\n",
      " |\n",
      " |  isnumeric(self, /)\n",
      " |      Return True if the string is a numeric string, False otherwise.\n",
      " |\n",
      " |      A string is numeric if all characters in the string are numeric and there is at\n",
      " |      least one character in the string.\n",
      " |\n",
      " |  isprintable(self, /)\n",
      " |      Return True if the string is printable, False otherwise.\n",
      " |\n",
      " |      A string is printable if all of its characters are considered printable in\n",
      " |      repr() or if it is empty.\n",
      " |\n",
      " |  isspace(self, /)\n",
      " |      Return True if the string is a whitespace string, False otherwise.\n",
      " |\n",
      " |      A string is whitespace if all characters in the string are whitespace and there\n",
      " |      is at least one character in the string.\n",
      " |\n",
      " |  istitle(self, /)\n",
      " |      Return True if the string is a title-cased string, False otherwise.\n",
      " |\n",
      " |      In a title-cased string, upper- and title-case characters may only\n",
      " |      follow uncased characters and lowercase characters only cased ones.\n",
      " |\n",
      " |  isupper(self, /)\n",
      " |      Return True if the string is an uppercase string, False otherwise.\n",
      " |\n",
      " |      A string is uppercase if all cased characters in the string are uppercase and\n",
      " |      there is at least one cased character in the string.\n",
      " |\n",
      " |  join(self, iterable, /)\n",
      " |      Concatenate any number of strings.\n",
      " |\n",
      " |      The string whose method is called is inserted in between each given string.\n",
      " |      The result is returned as a new string.\n",
      " |\n",
      " |      Example: '.'.join(['ab', 'pq', 'rs']) -> 'ab.pq.rs'\n",
      " |\n",
      " |  ljust(self, width, fillchar=' ', /)\n",
      " |      Return a left-justified string of length width.\n",
      " |\n",
      " |      Padding is done using the specified fill character (default is a space).\n",
      " |\n",
      " |  lower(self, /)\n",
      " |      Return a copy of the string converted to lowercase.\n",
      " |\n",
      " |  lstrip(self, chars=None, /)\n",
      " |      Return a copy of the string with leading whitespace removed.\n",
      " |\n",
      " |      If chars is given and not None, remove characters in chars instead.\n",
      " |\n",
      " |  partition(self, sep, /)\n",
      " |      Partition the string into three parts using the given separator.\n",
      " |\n",
      " |      This will search for the separator in the string.  If the separator is found,\n",
      " |      returns a 3-tuple containing the part before the separator, the separator\n",
      " |      itself, and the part after it.\n",
      " |\n",
      " |      If the separator is not found, returns a 3-tuple containing the original string\n",
      " |      and two empty strings.\n",
      " |\n",
      " |  removeprefix(self, prefix, /)\n",
      " |      Return a str with the given prefix string removed if present.\n",
      " |\n",
      " |      If the string starts with the prefix string, return string[len(prefix):].\n",
      " |      Otherwise, return a copy of the original string.\n",
      " |\n",
      " |  removesuffix(self, suffix, /)\n",
      " |      Return a str with the given suffix string removed if present.\n",
      " |\n",
      " |      If the string ends with the suffix string and that suffix is not empty,\n",
      " |      return string[:-len(suffix)]. Otherwise, return a copy of the original\n",
      " |      string.\n",
      " |\n",
      " |  replace(self, old, new, /, count=-1)\n",
      " |      Return a copy with all occurrences of substring old replaced by new.\n",
      " |\n",
      " |        count\n",
      " |          Maximum number of occurrences to replace.\n",
      " |          -1 (the default value) means replace all occurrences.\n",
      " |\n",
      " |      If the optional argument count is given, only the first count occurrences are\n",
      " |      replaced.\n",
      " |\n",
      " |  rfind(self, sub[, start[, end]], /)\n",
      " |      Return the highest index in S where substring sub is found, such that sub is contained within S[start:end].\n",
      " |\n",
      " |      Optional arguments start and end are interpreted as in slice notation.\n",
      " |      Return -1 on failure.\n",
      " |\n",
      " |  rindex(self, sub[, start[, end]], /)\n",
      " |      Return the highest index in S where substring sub is found, such that sub is contained within S[start:end].\n",
      " |\n",
      " |      Optional arguments start and end are interpreted as in slice notation.\n",
      " |      Raises ValueError when the substring is not found.\n",
      " |\n",
      " |  rjust(self, width, fillchar=' ', /)\n",
      " |      Return a right-justified string of length width.\n",
      " |\n",
      " |      Padding is done using the specified fill character (default is a space).\n",
      " |\n",
      " |  rpartition(self, sep, /)\n",
      " |      Partition the string into three parts using the given separator.\n",
      " |\n",
      " |      This will search for the separator in the string, starting at the end. If\n",
      " |      the separator is found, returns a 3-tuple containing the part before the\n",
      " |      separator, the separator itself, and the part after it.\n",
      " |\n",
      " |      If the separator is not found, returns a 3-tuple containing two empty strings\n",
      " |      and the original string.\n",
      " |\n",
      " |  rsplit(self, /, sep=None, maxsplit=-1)\n",
      " |      Return a list of the substrings in the string, using sep as the separator string.\n",
      " |\n",
      " |        sep\n",
      " |          The separator used to split the string.\n",
      " |\n",
      " |          When set to None (the default value), will split on any whitespace\n",
      " |          character (including \\n \\r \\t \\f and spaces) and will discard\n",
      " |          empty strings from the result.\n",
      " |        maxsplit\n",
      " |          Maximum number of splits.\n",
      " |          -1 (the default value) means no limit.\n",
      " |\n",
      " |      Splitting starts at the end of the string and works to the front.\n",
      " |\n",
      " |  rstrip(self, chars=None, /)\n",
      " |      Return a copy of the string with trailing whitespace removed.\n",
      " |\n",
      " |      If chars is given and not None, remove characters in chars instead.\n",
      " |\n",
      " |  split(self, /, sep=None, maxsplit=-1)\n",
      " |      Return a list of the substrings in the string, using sep as the separator string.\n",
      " |\n",
      " |        sep\n",
      " |          The separator used to split the string.\n",
      " |\n",
      " |          When set to None (the default value), will split on any whitespace\n",
      " |          character (including \\n \\r \\t \\f and spaces) and will discard\n",
      " |          empty strings from the result.\n",
      " |        maxsplit\n",
      " |          Maximum number of splits.\n",
      " |          -1 (the default value) means no limit.\n",
      " |\n",
      " |      Splitting starts at the front of the string and works to the end.\n",
      " |\n",
      " |      Note, str.split() is mainly useful for data that has been intentionally\n",
      " |      delimited.  With natural text that includes punctuation, consider using\n",
      " |      the regular expression module.\n",
      " |\n",
      " |  splitlines(self, /, keepends=False)\n",
      " |      Return a list of the lines in the string, breaking at line boundaries.\n",
      " |\n",
      " |      Line breaks are not included in the resulting list unless keepends is given and\n",
      " |      true.\n",
      " |\n",
      " |  startswith(self, prefix[, start[, end]], /)\n",
      " |      Return True if the string starts with the specified prefix, False otherwise.\n",
      " |\n",
      " |      prefix\n",
      " |        A string or a tuple of strings to try.\n",
      " |      start\n",
      " |        Optional start position. Default: start of the string.\n",
      " |      end\n",
      " |        Optional stop position. Default: end of the string.\n",
      " |\n",
      " |  strip(self, chars=None, /)\n",
      " |      Return a copy of the string with leading and trailing whitespace removed.\n",
      " |\n",
      " |      If chars is given and not None, remove characters in chars instead.\n",
      " |\n",
      " |  swapcase(self, /)\n",
      " |      Convert uppercase characters to lowercase and lowercase characters to uppercase.\n",
      " |\n",
      " |  title(self, /)\n",
      " |      Return a version of the string where each word is titlecased.\n",
      " |\n",
      " |      More specifically, words start with uppercased characters and all remaining\n",
      " |      cased characters have lower case.\n",
      " |\n",
      " |  translate(self, table, /)\n",
      " |      Replace each character in the string using the given translation table.\n",
      " |\n",
      " |        table\n",
      " |          Translation table, which must be a mapping of Unicode ordinals to\n",
      " |          Unicode ordinals, strings, or None.\n",
      " |\n",
      " |      The table must implement lookup/indexing via __getitem__, for instance a\n",
      " |      dictionary or list.  If this operation raises LookupError, the character is\n",
      " |      left untouched.  Characters mapped to None are deleted.\n",
      " |\n",
      " |  upper(self, /)\n",
      " |      Return a copy of the string converted to uppercase.\n",
      " |\n",
      " |  zfill(self, width, /)\n",
      " |      Pad a numeric string with zeros on the left, to fill a field of the given width.\n",
      " |\n",
      " |      The string is never truncated.\n",
      " |\n",
      " |  ----------------------------------------------------------------------\n",
      " |  Static methods defined here:\n",
      " |\n",
      " |  __new__(*args, **kwargs)\n",
      " |      Create and return a new object.  See help(type) for accurate signature.\n",
      " |\n",
      " |  maketrans(x, y=<unrepresentable>, z=<unrepresentable>, /)\n",
      " |      Return a translation table usable for str.translate().\n",
      " |\n",
      " |      If there is only one argument, it must be a dictionary mapping Unicode\n",
      " |      ordinals (integers) or characters to Unicode ordinals, strings or None.\n",
      " |      Character keys will be then converted to ordinals.\n",
      " |      If there are two arguments, they must be strings of equal length, and\n",
      " |      in the resulting dictionary, each character in x will be mapped to the\n",
      " |      character at the same position in y. If there is a third argument, it\n",
      " |      must be a string, whose characters will be mapped to None in the result.\n",
      "\n"
     ]
    }
   ],
   "source": [
    "help(str)"
   ]
  },
  {
   "cell_type": "code",
   "execution_count": 107,
   "id": "56c4416b-0400-45e3-89e1-9f81e16ea7f9",
   "metadata": {},
   "outputs": [
    {
     "data": {
      "text/plain": [
       "mappingproxy({'__module__': '__main__',\n",
       "              '__firstlineno__': 1,\n",
       "              'nb_of_coloured_int': 2,\n",
       "              '__init__': <function __main__.coloured_int.__init__(self, value, colour)>,\n",
       "              '__add__': <function __main__.coloured_int.__add__(self, y)>,\n",
       "              '__static_attributes__': ('colour', 'value'),\n",
       "              '__dict__': <attribute '__dict__' of 'coloured_int' objects>,\n",
       "              '__weakref__': <attribute '__weakref__' of 'coloured_int' objects>,\n",
       "              '__doc__': None})"
      ]
     },
     "execution_count": 107,
     "metadata": {},
     "output_type": "execute_result"
    }
   ],
   "source": [
    "coloured_int.__dict__"
   ]
  },
  {
   "cell_type": "code",
   "execution_count": 108,
   "id": "e0af440d-4f07-48ca-924b-1207782a73d4",
   "metadata": {},
   "outputs": [
    {
     "data": {
      "text/plain": [
       "2"
      ]
     },
     "execution_count": 108,
     "metadata": {},
     "output_type": "execute_result"
    }
   ],
   "source": [
    "coloured_int.nb_of_coloured_int"
   ]
  },
  {
   "cell_type": "code",
   "execution_count": 109,
   "id": "22616c60-b778-4af1-a939-2287361bb2d4",
   "metadata": {},
   "outputs": [
    {
     "data": {
      "text/plain": [
       "2"
      ]
     },
     "execution_count": 109,
     "metadata": {},
     "output_type": "execute_result"
    }
   ],
   "source": [
    "coloured_int.__dict__['nb_of_coloured_int']"
   ]
  },
  {
   "cell_type": "code",
   "execution_count": 110,
   "id": "e93b63d3-dc0d-4742-8ed3-1ddd365e8a38",
   "metadata": {},
   "outputs": [
    {
     "data": {
      "text/plain": [
       "['__class__',\n",
       " '__delattr__',\n",
       " '__dir__',\n",
       " '__doc__',\n",
       " '__eq__',\n",
       " '__format__',\n",
       " '__ge__',\n",
       " '__getattribute__',\n",
       " '__getstate__',\n",
       " '__gt__',\n",
       " '__hash__',\n",
       " '__init__',\n",
       " '__init_subclass__',\n",
       " '__le__',\n",
       " '__lt__',\n",
       " '__ne__',\n",
       " '__new__',\n",
       " '__reduce__',\n",
       " '__reduce_ex__',\n",
       " '__repr__',\n",
       " '__setattr__',\n",
       " '__sizeof__',\n",
       " '__str__',\n",
       " '__subclasshook__']"
      ]
     },
     "execution_count": 110,
     "metadata": {},
     "output_type": "execute_result"
    }
   ],
   "source": [
    "dir(object)"
   ]
  },
  {
   "cell_type": "code",
   "execution_count": 111,
   "id": "c6fa4338-ed4e-4a77-9dcc-91477326ac2c",
   "metadata": {},
   "outputs": [
    {
     "data": {
      "text/plain": [
       "<function object.__new__(*args, **kwargs)>"
      ]
     },
     "execution_count": 111,
     "metadata": {},
     "output_type": "execute_result"
    }
   ],
   "source": [
    "object.__dict__['__new__']"
   ]
  },
  {
   "cell_type": "code",
   "execution_count": 112,
   "id": "7305eb4b-0387-4fab-ade1-a9fc8d52fba3",
   "metadata": {},
   "outputs": [
    {
     "data": {
      "text/plain": [
       "<__main__.coloured_int at 0x106a6ca50>"
      ]
     },
     "execution_count": 112,
     "metadata": {},
     "output_type": "execute_result"
    }
   ],
   "source": [
    "object.__dict__['__new__'](coloured_int)"
   ]
  },
  {
   "cell_type": "code",
   "execution_count": 113,
   "id": "e8aa5fba-8342-49b5-8ab0-fb670fd7476c",
   "metadata": {},
   "outputs": [],
   "source": [
    "U = object.__new__(coloured_int)"
   ]
  },
  {
   "cell_type": "code",
   "execution_count": 114,
   "id": "f5aa13df-3103-45c2-8550-0ab154b8ae05",
   "metadata": {},
   "outputs": [
    {
     "data": {
      "text/plain": [
       "2"
      ]
     },
     "execution_count": 114,
     "metadata": {},
     "output_type": "execute_result"
    }
   ],
   "source": [
    "coloured_int.nb_of_coloured_int"
   ]
  },
  {
   "cell_type": "code",
   "execution_count": 115,
   "id": "6af864e0-6e31-4990-b95d-d7bab9e693fe",
   "metadata": {},
   "outputs": [
    {
     "data": {
      "text/plain": [
       "__main__.coloured_int"
      ]
     },
     "execution_count": 115,
     "metadata": {},
     "output_type": "execute_result"
    }
   ],
   "source": [
    "type(U)"
   ]
  },
  {
   "cell_type": "code",
   "execution_count": 116,
   "id": "01c1bebc-cf1e-4d20-996c-232d7271b6db",
   "metadata": {},
   "outputs": [],
   "source": [
    "V = coloured_int.__new__(coloured_int)"
   ]
  },
  {
   "cell_type": "code",
   "execution_count": 117,
   "id": "d0f1b92e-a1c0-473b-bba6-80b8d42a2321",
   "metadata": {},
   "outputs": [
    {
     "data": {
      "text/plain": [
       "__main__.coloured_int"
      ]
     },
     "execution_count": 117,
     "metadata": {},
     "output_type": "execute_result"
    }
   ],
   "source": [
    "type(V)"
   ]
  },
  {
   "cell_type": "code",
   "execution_count": null,
   "id": "ee13b450-7b5b-49cc-be92-2826a6448ba5",
   "metadata": {},
   "outputs": [],
   "source": [
    "class coloured_int:\n",
    "    nb_of_coloured_int = 0\n",
    "\n",
    "    def __init__(self, value, colour):\n",
    "        self.value = value\n",
    "        self.colour = colour\n",
    "        coloured_int.nb_of_coloured_int += 1\n",
    "\n",
    "    def __add__(self, y):\n",
    "        if self.colour == y.colour:\n",
    "            return self.value + y.value\n",
    "        print(\"Sorry, can't add ints of diffeent colours\")"
   ]
  },
  {
   "cell_type": "code",
   "execution_count": 118,
   "id": "3c74e4c3-ff4d-4d56-8363-1c0d35a8b468",
   "metadata": {},
   "outputs": [
    {
     "data": {
      "text/plain": [
       "<function __main__.coloured_int.__init__(self, value, colour)>"
      ]
     },
     "execution_count": 118,
     "metadata": {},
     "output_type": "execute_result"
    }
   ],
   "source": [
    "coloured_int.__dict__['__init__']"
   ]
  },
  {
   "cell_type": "code",
   "execution_count": 119,
   "id": "0d391869-cd69-4052-9192-a519c3f0c407",
   "metadata": {},
   "outputs": [
    {
     "data": {
      "text/plain": [
       "{}"
      ]
     },
     "execution_count": 119,
     "metadata": {},
     "output_type": "execute_result"
    }
   ],
   "source": [
    "U.__dict__"
   ]
  },
  {
   "cell_type": "code",
   "execution_count": 120,
   "id": "bb4d056d-280d-4b39-89a9-525fee24590b",
   "metadata": {},
   "outputs": [],
   "source": [
    "coloured_int.__dict__['__init__'](U, 29, 'grey')"
   ]
  },
  {
   "cell_type": "code",
   "execution_count": 121,
   "id": "0c758f9d-8304-4f17-a22b-a0a23ec46684",
   "metadata": {},
   "outputs": [
    {
     "data": {
      "text/plain": [
       "{'value': 29, 'colour': 'grey'}"
      ]
     },
     "execution_count": 121,
     "metadata": {},
     "output_type": "execute_result"
    }
   ],
   "source": [
    "U.__dict__"
   ]
  },
  {
   "cell_type": "code",
   "execution_count": 122,
   "id": "9b09a2d7-80da-4fa9-81e1-a27c9c3ac990",
   "metadata": {},
   "outputs": [
    {
     "data": {
      "text/plain": [
       "3"
      ]
     },
     "execution_count": 122,
     "metadata": {},
     "output_type": "execute_result"
    }
   ],
   "source": [
    "coloured_int.nb_of_coloured_int"
   ]
  },
  {
   "cell_type": "code",
   "execution_count": 123,
   "id": "9ec90beb-dd29-41cc-abde-bfa96a26438c",
   "metadata": {},
   "outputs": [],
   "source": [
    "coloured_int.__init__(V, 299, 'blue')"
   ]
  },
  {
   "cell_type": "code",
   "execution_count": 124,
   "id": "909cab52-f1f9-478f-9e92-d92c2671ce0c",
   "metadata": {},
   "outputs": [
    {
     "data": {
      "text/plain": [
       "4"
      ]
     },
     "execution_count": 124,
     "metadata": {},
     "output_type": "execute_result"
    }
   ],
   "source": [
    "coloured_int.nb_of_coloured_int"
   ]
  },
  {
   "cell_type": "code",
   "execution_count": 125,
   "id": "ff005efd-4552-4fe2-92f7-d80e4e8b1bf6",
   "metadata": {},
   "outputs": [],
   "source": [
    "P = coloured_int(100, 'red')"
   ]
  },
  {
   "cell_type": "code",
   "execution_count": 128,
   "id": "06b0db5e-9f0f-4f33-ac60-ef829e6701bb",
   "metadata": {},
   "outputs": [
    {
     "data": {
      "text/plain": [
       "'red'"
      ]
     },
     "execution_count": 128,
     "metadata": {},
     "output_type": "execute_result"
    },
    {
     "data": {
      "text/plain": [
       "100"
      ]
     },
     "execution_count": 128,
     "metadata": {},
     "output_type": "execute_result"
    }
   ],
   "source": [
    "P.colour\n",
    "P.value"
   ]
  },
  {
   "cell_type": "code",
   "execution_count": 130,
   "id": "f4404a1b-2738-40fc-a478-722b5d5c404f",
   "metadata": {},
   "outputs": [
    {
     "data": {
      "text/plain": [
       "5"
      ]
     },
     "execution_count": 130,
     "metadata": {},
     "output_type": "execute_result"
    }
   ],
   "source": [
    "coloured_int.nb_of_coloured_int"
   ]
  },
  {
   "cell_type": "code",
   "execution_count": 131,
   "id": "46c73017-930f-4485-8ab8-79ad1b73dc8d",
   "metadata": {},
   "outputs": [],
   "source": [
    "class A:\n",
    "    def f(self):\n",
    "        print('Hi')"
   ]
  },
  {
   "cell_type": "code",
   "execution_count": 132,
   "id": "70aa8852-4ecb-4bf2-b0c6-dc526fd2198e",
   "metadata": {},
   "outputs": [],
   "source": [
    "I = A()"
   ]
  },
  {
   "cell_type": "code",
   "execution_count": 133,
   "id": "148fda21-86e8-4626-9464-c2ddbf58fd41",
   "metadata": {},
   "outputs": [
    {
     "data": {
      "text/plain": [
       "__main__.A"
      ]
     },
     "execution_count": 133,
     "metadata": {},
     "output_type": "execute_result"
    }
   ],
   "source": [
    "type(I)"
   ]
  },
  {
   "cell_type": "code",
   "execution_count": 134,
   "id": "cdbafe78-5886-466b-929b-8fd1d44fb60e",
   "metadata": {},
   "outputs": [
    {
     "data": {
      "text/plain": [
       "{}"
      ]
     },
     "execution_count": 134,
     "metadata": {},
     "output_type": "execute_result"
    }
   ],
   "source": [
    "I.__dict__"
   ]
  },
  {
   "cell_type": "code",
   "execution_count": 135,
   "id": "f623e9e5-b0f3-45ea-8cf1-a2b53a3440a2",
   "metadata": {},
   "outputs": [
    {
     "data": {
      "text/plain": [
       "mappingproxy({'__module__': '__main__',\n",
       "              '__firstlineno__': 1,\n",
       "              'f': <function __main__.A.f(self)>,\n",
       "              '__static_attributes__': (),\n",
       "              '__dict__': <attribute '__dict__' of 'A' objects>,\n",
       "              '__weakref__': <attribute '__weakref__' of 'A' objects>,\n",
       "              '__doc__': None})"
      ]
     },
     "execution_count": 135,
     "metadata": {},
     "output_type": "execute_result"
    }
   ],
   "source": [
    "A.__dict__"
   ]
  },
  {
   "cell_type": "code",
   "execution_count": 136,
   "id": "2d7bfefe-3950-4ba7-8b24-de549fbbf05f",
   "metadata": {},
   "outputs": [
    {
     "name": "stdout",
     "output_type": "stream",
     "text": [
      "Hi\n"
     ]
    }
   ],
   "source": [
    "A.__dict__['f'](I)"
   ]
  },
  {
   "cell_type": "code",
   "execution_count": 137,
   "id": "f67bff04-c24a-4538-9b1d-58e4c0e34935",
   "metadata": {},
   "outputs": [
    {
     "name": "stdout",
     "output_type": "stream",
     "text": [
      "Hi\n"
     ]
    }
   ],
   "source": [
    "A.f(I)"
   ]
  },
  {
   "cell_type": "code",
   "execution_count": 138,
   "id": "f4728dbe-fc0f-4227-aca5-8e0d09dee272",
   "metadata": {},
   "outputs": [
    {
     "ename": "TypeError",
     "evalue": "A.f() takes 1 positional argument but 2 were given",
     "output_type": "error",
     "traceback": [
      "\u001b[0;31m---------------------------------------------------------------------------\u001b[0m",
      "\u001b[0;31mTypeError\u001b[0m                                 Traceback (most recent call last)",
      "Cell \u001b[0;32mIn[138], line 1\u001b[0m\n\u001b[0;32m----> 1\u001b[0m \u001b[43mI\u001b[49m\u001b[38;5;241;43m.\u001b[39;49m\u001b[43mf\u001b[49m\u001b[43m(\u001b[49m\u001b[43mI\u001b[49m\u001b[43m)\u001b[49m\n",
      "\u001b[0;31mTypeError\u001b[0m: A.f() takes 1 positional argument but 2 were given"
     ]
    }
   ],
   "source": [
    "I.f(I)"
   ]
  },
  {
   "cell_type": "code",
   "execution_count": 139,
   "id": "36028b0b-1858-46f9-bde5-d6f57e00741d",
   "metadata": {},
   "outputs": [
    {
     "name": "stdout",
     "output_type": "stream",
     "text": [
      "Hi\n"
     ]
    }
   ],
   "source": [
    "I.f()"
   ]
  },
  {
   "cell_type": "code",
   "execution_count": 140,
   "id": "5263c300-9bd5-4951-89de-2ef1bda287fb",
   "metadata": {},
   "outputs": [
    {
     "data": {
      "text/plain": [
       "<function __main__.A.f(self)>"
      ]
     },
     "execution_count": 140,
     "metadata": {},
     "output_type": "execute_result"
    }
   ],
   "source": [
    "A.__dict__['f']"
   ]
  },
  {
   "cell_type": "code",
   "execution_count": 141,
   "id": "79c7e334-8715-48e1-890e-bf343d8fad12",
   "metadata": {},
   "outputs": [
    {
     "data": {
      "text/plain": [
       "<bound method A.f of <__main__.A object at 0x106497cb0>>"
      ]
     },
     "execution_count": 141,
     "metadata": {},
     "output_type": "execute_result"
    }
   ],
   "source": [
    "I.f"
   ]
  },
  {
   "cell_type": "code",
   "execution_count": null,
   "id": "c23c7856-295d-462d-90bc-1410bdf82292",
   "metadata": {},
   "outputs": [],
   "source": [
    "class A:\n",
    "    def f(self):\n",
    "        print('Hi')\n",
    "\n",
    "    def __"
   ]
  }
 ],
 "metadata": {
  "kernelspec": {
   "display_name": "Python 3 (ipykernel)",
   "language": "python",
   "name": "python3"
  },
  "language_info": {
   "codemirror_mode": {
    "name": "ipython",
    "version": 3
   },
   "file_extension": ".py",
   "mimetype": "text/x-python",
   "name": "python",
   "nbconvert_exporter": "python",
   "pygments_lexer": "ipython3",
   "version": "3.13.0"
  }
 },
 "nbformat": 4,
 "nbformat_minor": 5
}
